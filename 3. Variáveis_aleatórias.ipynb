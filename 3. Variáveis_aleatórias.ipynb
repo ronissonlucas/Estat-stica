{
 "cells": [
  {
   "cell_type": "markdown",
   "metadata": {},
   "source": [
    "# <b>Variáveis Aleatórias</b>"
   ]
  },
  {
   "cell_type": "markdown",
   "metadata": {},
   "source": [
    "Nesta seção aprenderemos acerca da esperança, variância e covariância,para variáveis aleatórias contínuas e discretas."
   ]
  },
  {
   "cell_type": "markdown",
   "metadata": {},
   "source": [
    "# Breve revisão de Cálculo "
   ]
  },
  {
   "cell_type": "markdown",
   "metadata": {},
   "source": [
    "Derivadas"
   ]
  },
  {
   "cell_type": "markdown",
   "metadata": {},
   "source": [
    "A derivada é a variação instantânea."
   ]
  },
  {
   "cell_type": "markdown",
   "metadata": {},
   "source": [
    "$\\dfrac{dy}{dx} = \\lim_{\\Delta x \\rightarrow 0} \\dfrac{\\Delta y}{\\Delta x}$"
   ]
  },
  {
   "cell_type": "markdown",
   "metadata": {},
   "source": [
    "Os termos $dy$ e $dx$ (diferenciais de $y$ e $x$) indicam que se trata de uma variação (diferença) infinitamente pequena dessas variáveis, em constraste com os símbolos $\\Delta y$ e $\\Delta x$, que denotam a diferença (variação) finita."
   ]
  },
  {
   "cell_type": "markdown",
   "metadata": {},
   "source": [
    "Se uma função $f$ é definida em um intervalo aberto contendo $x_0$, então a derivada de $f$ em $x_0$, denotada por $f’(x_0)$, é dada por: "
   ]
  },
  {
   "cell_type": "markdown",
   "metadata": {},
   "source": [
    "$f'(x_0) = \\lim_{\\Delta x \\rightarrow 0} \\dfrac{f(x_0+\\Delta x) - f(x_0)}{\\Delta x}$"
   ]
  },
  {
   "cell_type": "markdown",
   "metadata": {},
   "source": [
    "Integral"
   ]
  },
  {
   "cell_type": "markdown",
   "metadata": {},
   "source": [
    "A integral de uma função é o limite de uma soma."
   ]
  },
  {
   "cell_type": "markdown",
   "metadata": {},
   "source": [
    "${\\displaystyle \\int_{a}^{b}}f(x)dx = \\lim_{n \\rightarrow \\infty} \\sum_{i=1}^{n}f(x_i) \\Delta x_i$"
   ]
  },
  {
   "cell_type": "markdown",
   "metadata": {},
   "source": [
    "Então, podemos usar integrais para calcular áreas."
   ]
  },
  {
   "cell_type": "markdown",
   "metadata": {},
   "source": [
    "* Aproximamos a curva em questão por meio de um conjunto de retângulos e calculamos a área desses retângulos. Quanto maior o número de retângulos (menor o seu tamanho), mais próximos estaremos da área correta da figura."
   ]
  },
  {
   "cell_type": "markdown",
   "metadata": {},
   "source": [
    "Por meio do Teorema do Valor Médio temos:"
   ]
  },
  {
   "cell_type": "markdown",
   "metadata": {},
   "source": [
    "${\\displaystyle \\int_{a}^{b}}f(x)dx = F(b)-F(a)$"
   ]
  },
  {
   "cell_type": "markdown",
   "metadata": {},
   "source": [
    "F(x) é a primitiva de $f(x)$, ou seja, função cuja derivada é $f(x)$:"
   ]
  },
  {
   "cell_type": "markdown",
   "metadata": {},
   "source": [
    "$F'(x) = f(x)$"
   ]
  },
  {
   "cell_type": "markdown",
   "metadata": {},
   "source": [
    "Para mais informações ver: Guidorizzi v.1 capítulo 12 (Técnicas de Primitivação)."
   ]
  },
  {
   "cell_type": "markdown",
   "metadata": {},
   "source": [
    "* Tabela de Derivadas, Integrais e Identidades Trigonométricas : http://www.ime.unicamp.br/~msantos/tab-integrais.pdf"
   ]
  },
  {
   "cell_type": "markdown",
   "metadata": {},
   "source": [
    "Exemplos:"
   ]
  },
  {
   "cell_type": "markdown",
   "metadata": {},
   "source": [
    "a)"
   ]
  },
  {
   "cell_type": "markdown",
   "metadata": {},
   "source": [
    "$\\int x^n dx = \\dfrac{x^{n+1}}{n+1}, (n \\neq 1)$"
   ]
  },
  {
   "cell_type": "markdown",
   "metadata": {},
   "source": [
    "$\\int{x^2dx} = \\dfrac{x^{2+1}}{2+1}+k = \\dfrac{x^3}{3}+k$"
   ]
  },
  {
   "cell_type": "markdown",
   "metadata": {},
   "source": [
    "b)"
   ]
  },
  {
   "cell_type": "markdown",
   "metadata": {},
   "source": [
    "$\\int dx = x+k$"
   ]
  },
  {
   "cell_type": "markdown",
   "metadata": {},
   "source": [
    "c)"
   ]
  },
  {
   "cell_type": "markdown",
   "metadata": {},
   "source": [
    "$\\int \\cos({x}) dx = \\sin ({x})+k$"
   ]
  },
  {
   "cell_type": "markdown",
   "metadata": {},
   "source": [
    "d)"
   ]
  },
  {
   "cell_type": "markdown",
   "metadata": {},
   "source": [
    "$\\int x \\sqrt{x} dx = \\int x^{\\frac{3}{2}}dx = \\dfrac{x^{\\frac{3}{2}+1}}{\\frac{3}{2}+1}+k = \\dfrac{2}{5}x^{\\frac{5}{2}}+k$"
   ]
  },
  {
   "cell_type": "markdown",
   "metadata": {},
   "source": [
    "e)"
   ]
  },
  {
   "cell_type": "markdown",
   "metadata": {},
   "source": [
    "$\\int \\dfrac{x^3+1}{x}dx = \\int \\left(x^2+\\dfrac{1}{x}\\right)dx = \\dfrac{x^3}{3}+\\ln|x|+k$"
   ]
  },
  {
   "cell_type": "markdown",
   "metadata": {},
   "source": [
    "f)"
   ]
  },
  {
   "cell_type": "markdown",
   "metadata": {},
   "source": [
    "$\\int \\left(4x^4+16x^3-2x^2+10\\right)dx = \\dfrac{4}{5}x^5+4x^4-\\dfrac{2}{3}x^3+10x+k$"
   ]
  },
  {
   "cell_type": "markdown",
   "metadata": {},
   "source": [
    "g)"
   ]
  },
  {
   "cell_type": "markdown",
   "metadata": {},
   "source": [
    "$\\int \\left( 2x^6+3x^5-10x^4-3x^3+x^2-x+3\\right)dx $"
   ]
  },
  {
   "cell_type": "markdown",
   "metadata": {},
   "source": [
    "$\\int f(x) dx = \\dfrac{2}{7}x^7+\\dfrac{1}{2}x^6-2x^5-\\dfrac{3}{4}x^4+\\dfrac{1}{3}x^3-\\dfrac{1}{2}x^2+3x+k$"
   ]
  },
  {
   "cell_type": "markdown",
   "metadata": {},
   "source": [
    "Propriedades:"
   ]
  },
  {
   "cell_type": "markdown",
   "metadata": {},
   "source": [
    "* $\\int_{a}^{b} f(x) dx = - \\int_{b}^{a}f(x)dx$\n",
    "* $\\int_{a}^{a} f(x)dx = 0$\n",
    "* $\\int_{a}^{c}f(x)dx = \\int_{a}^{b}f(x)dx+\\int_{b}^{c}f(x)dx, b\\in [a,c]$\n",
    "* $\\int_{a}^{b}cdx = c\\left(b-a\\right), \\text{c constante}$\n",
    "* $\\int_{a}^{b} \\left[f(x) \\pm g(x)\\right] = \\int_{a}^{b}f(x)dx \\pm \\int_{a}^{b}g(x)dx $\n",
    "* $\\int_{a}^{b}cf(x)dx = c \\int_{a}^{b}f(x)dx$"
   ]
  },
  {
   "cell_type": "markdown",
   "metadata": {},
   "source": [
    "# Esperança matemática"
   ]
  },
  {
   "cell_type": "markdown",
   "metadata": {},
   "source": [
    "Variável aleatória discreta:"
   ]
  },
  {
   "cell_type": "markdown",
   "metadata": {},
   "source": [
    "* X é uma variável aleatória discreta se para cada um de seus possíveis valores podemos associar uma probabilidade $P(X)$.\n",
    "* O conjunto de valores $X_i$ e $P\\left(X_i\\right)$, com $i=1,\\dots , n$ é a distribuição de $X$, com $\\sum_{i=1}^{n}\\mathrm{P(X_i)}=1$.\n",
    "* O lançamento de um dado é uma variável aleatória com distribuição conhecida.\n",
    "* A função de distribuição de X (variável aleatória discreta) é, por definição: $F(X_i) = \\sum_{h=1}^{i}\\mathrm{P(X_h)}$."
   ]
  },
  {
   "cell_type": "markdown",
   "metadata": {},
   "source": [
    "Definição: Seja $X$ uma v.a. discreta que assume valores $X_1,X_2,\\dots,X_n$, com respectivas probabilidades $\\mathrm{P\\left(X_1\\right)},\\mathrm{P\\left(X_2\\right)}, \\dots, \\mathrm{P\\left(X_n\\right)}$, definimos a esperança de $X$ (ou valor médio):"
   ]
  },
  {
   "cell_type": "markdown",
   "metadata": {},
   "source": [
    "$\\mathrm{E(X)} = \\mathrm{X_1P(X_1)}+\\mathrm{X_2P(X_2)}+ \\ldots + \\mathrm{X_nP(X_n)} = \\sum\\limits_{i=1}^{n}\\mathrm{X_nP(X_n)} $"
   ]
  },
  {
   "cell_type": "markdown",
   "metadata": {},
   "source": [
    "Exemplo: X é uma v.a. que ilustra o lançamento de um dado. Se tivermos $E(X)=3,5$ significa que, para um determinado número de jogadas,esperamos uma média de pontos igual a $3,5$."
   ]
  },
  {
   "cell_type": "markdown",
   "metadata": {},
   "source": [
    "Variável aleatória contínua:"
   ]
  },
  {
   "cell_type": "markdown",
   "metadata": {},
   "source": [
    "Uma variável aleatória é contínua se existir uma função $f(x)$ (denominada função densidade de probabilidade) tal que as condições seguintes são satisfeitas:"
   ]
  },
  {
   "cell_type": "markdown",
   "metadata": {},
   "source": [
    "1. $f(x) \\geq 0$ (condição de não negatividade)\n",
    "2. $\\int_{-\\infty}^{\\infty} f(x)dx = 1$"
   ]
  },
  {
   "cell_type": "markdown",
   "metadata": {},
   "source": [
    "Definimos ainda a função de distribuição acumulada (ou função de distribuição) $F(X)$, sendo uma soma de todos os valores possíveis até um valor determinado:<br>\n",
    "$F(X) = \\int_{-\\infty}^{x}f(t)dt$"
   ]
  },
  {
   "cell_type": "markdown",
   "metadata": {},
   "source": [
    "No caso da função de distribuição os seguintes requisitos devem ser satisfeitos:\n",
    "* $ 0 \\leq F(x) \\leq 1$ (soma de probabilidades)\n",
    "* $\\lim_{x \\rightarrow \\infty}F(x) = 1 $"
   ]
  },
  {
   "cell_type": "markdown",
   "metadata": {},
   "source": [
    "Se a v.a. é contínua, a probabilidade de obtermos exatamente um determinando valor, ao acaso, é zero: $P(X=X_0) = 0$."
   ]
  },
  {
   "cell_type": "markdown",
   "metadata": {},
   "source": [
    "Se $X$ é uma variável aleatória contínua:\n",
    "$P(a \\leq X \\leq b) = \\int_{a}^{b} f(x)dx$. E sua função de distribuição acumulada é dada por: $\\mathrm{P( X\\leq x)} = \\int_{-\\infty}^{x}f(t)dt$. Note que: $\\dfrac{dF(X)}{dx} = F'(x) = f(x)$ (como visto anteriormente). "
   ]
  },
  {
   "cell_type": "markdown",
   "metadata": {},
   "source": [
    "Definição: Se $X$ é uma v.a. contínua com função densidade $f(x)$, sua esperança será:"
   ]
  },
  {
   "cell_type": "markdown",
   "metadata": {},
   "source": [
    "$\\mathrm{E(X)} =\\int_{-\\infty}^{\\infty} xf(x)dx $"
   ]
  },
  {
   "cell_type": "markdown",
   "metadata": {},
   "source": [
    "Uma definição importante, que usaremos para calcular a variância é:"
   ]
  },
  {
   "cell_type": "markdown",
   "metadata": {},
   "source": [
    "$\\mathrm{E(X^2)} = \\int_{-\\infty}^{+\\infty}x^2f(x)dx$"
   ]
  },
  {
   "cell_type": "markdown",
   "metadata": {},
   "source": [
    "Podemos definir ainda a mediana de uma variável aleatória contínua (valor que divide a distribuição em duas) como, sendo $m$ a mediana: $P(x>m) = \\int_{m}^{+\\infty}f(x)dx=0.5$ ou $P(x<m) = \\int_{-\\infty}^{m}f(x)dx = 0.5$."
   ]
  },
  {
   "cell_type": "markdown",
   "metadata": {},
   "source": [
    "Propriedades"
   ]
  },
  {
   "cell_type": "markdown",
   "metadata": {},
   "source": [
    "Seja $\\mathrm{E(X)},\\mathrm{E(Y)} \\mbox{ e }   \\forall \\alpha,\\beta \\in \\mathbb{R}$:\n",
    "* $\\mathrm{E(\\alpha X)} = \\alpha\\mathrm{E(X)}$ \n",
    "* $\\mathrm{E(X+\\alpha)} = \\mathrm{E(X)}+\\alpha$\n",
    "* $\\mathrm{E(X+Y)} = \\mathrm{E(X)}+\\mathrm{E(Y)}$\n",
    "* $\\mathrm{E(\\alpha X \\pm \\beta Y)} = \\alpha\\mathrm{E(X)} \\pm \\beta\\mathrm{E(Y)} $\n",
    "* $\\mathrm{E(XY)} = \\mathrm{E(X)} \\cdot \\mathrm{E(Y)}$, se X,Y são independentes\n",
    "* $\\mathrm{E(XY)} = \\mathrm{E(X)} \\cdot \\mathrm{E(Y)}+\\mathrm{cov(X,Y)}$"
   ]
  },
  {
   "cell_type": "markdown",
   "metadata": {},
   "source": [
    "# Variância"
   ]
  },
  {
   "cell_type": "markdown",
   "metadata": {},
   "source": [
    "Lembremos que a variância é definida em termos da média dos quadrados dos desvios em relação a média. Podemos obter ainda uma outra relação para a variância: média dos quadrados menos o quadrado da média. "
   ]
  },
  {
   "cell_type": "markdown",
   "metadata": {},
   "source": [
    "\\begin{eqnarray}\n",
    "\\mathrm{Var(X)} & = &  \\mathrm{E}\\left(\\mathrm{X-\\mathrm{E(X)}} \\right)^2\\\\\n",
    "& = &  \\mathrm{E}\\left(X^2-2X\\mathrm{E(X)}+\\left(\\mathrm{E(X)}\\right)^2 \\right) \\\\\n",
    "& = &  \\mathrm{E(X^2)}-2\\left(\\mathrm{E(X)}\\right)^2+\\left(\\mathrm{E(X)}\\right)^2 \\\\\n",
    "& = & \\mathrm{E(X^2)}-\\left(\\mathrm{E(X)}\\right)^2\n",
    "\\end{eqnarray}"
   ]
  },
  {
   "cell_type": "markdown",
   "metadata": {},
   "source": [
    "\n",
    "$\\therefore \\sigma^2  = Var(X) = E(X- \\mu)^2$ <br>\n",
    "$ Var(X) = E(X²)-(E(X))²$"
   ]
  },
  {
   "cell_type": "markdown",
   "metadata": {},
   "source": [
    "Propriedades:"
   ]
  },
  {
   "cell_type": "markdown",
   "metadata": {},
   "source": [
    "$\\forall \\alpha,\\beta \\in \\mathbb{R}$:\n",
    "* $\\mathrm{Var(\\alpha)} = 0$\n",
    "* $\\mathrm{Var(X+\\alpha)} = \\mathrm{Var(X)}$\n",
    "* $\\mathrm{Var(\\alpha X)} = \\alpha^{2}\\mathrm{Var(X)}$\n",
    "* $\\mathrm{Var(\\alpha X+\\beta)} = \\alpha^{2}\\mathrm{Var(X)}$\n",
    "* $\\mathrm{Var(X+Y)} =\\mathrm{Var(X)}+\\mathrm{Var(Y)}+2\\mathrm{Cov(X,Y)}  $\n",
    "* $\\mathrm{Var(X-Y)} =\\mathrm{Var(X)}+\\mathrm{Var(Y)}-2\\mathrm{Cov(X,Y)}  $\n",
    "* $\\mathrm{Var(\\alpha X \\pm \\beta Y)} = \\alpha^{2}\\mathrm{Var(X)}+\\beta^{2}\\mathrm{Var(Y)}$, se $X$ e $Y$ forem independetes\n",
    "* $\\mathrm{Var(\\alpha X \\pm \\beta Y)} = \\alpha^{2}\\mathrm{Var(X)}+\\beta^{2}\\mathrm{Var(Y)} \\pm 2\\alpha\\beta\\mathrm{Cov(X,Y)}$ \n",
    "* $\\mathrm{Var(XY)} = \\mathrm{E}\\left(X^2 Y^2 \\right) - \\left(\\mathrm{E(XY)}\\right)^2$"
   ]
  },
  {
   "cell_type": "markdown",
   "metadata": {},
   "source": [
    "$\\mathrm{Var(aX)} =  a^2 \\mathrm{Var(X)}$"
   ]
  },
  {
   "cell_type": "markdown",
   "metadata": {},
   "source": [
    "\\begin{eqnarray}\n",
    "\\mathrm{Var(aX)} & = &  \\dfrac{1}{n}\\sum\\limits_{i=1}^{n}\\left(a X_i - a \\overline{X}\\right)^2 \\\\\n",
    "& = & \\dfrac{1}{n}\\sum\\limits_{i=1}^{n} \\left[a \\left( X_i -  \\overline{X} \\right) \\right]^2 \\\\\n",
    "& = & \\dfrac{1}{n}\\sum\\limits_{i=1}^{n}a^2 \\left(X_i-\\overline{X}\\right)^2\\\\\n",
    "& = & a^2 \\dfrac{1}{n}\\sum\\limits_{i=1}^{n}\\left(X_i-\\overline{X}\\right)^2\\\\\n",
    "& = & a^2 \\mathrm{Var(X)}\\\\\n",
    "\\end{eqnarray}"
   ]
  },
  {
   "cell_type": "markdown",
   "metadata": {},
   "source": [
    "$\\mathrm{Var(X+a)}= \\mathrm{Var(X)}$"
   ]
  },
  {
   "cell_type": "markdown",
   "metadata": {},
   "source": [
    "\\begin{eqnarray}\n",
    "\\mathrm{Var(X+a)} & = &  \\dfrac{1}{n}\\sum\\limits_{i=1}^{n}\\left[X_i+a-\\left(\\overline{X}+a\\right) \\right]^2\\\\\n",
    "& = & \\dfrac{1}{n}\\sum\\limits_{i=1}^{n}\\left[X_i+a-a+\\overline{X}\\right]^2\\\\\n",
    "& = & \\dfrac{1}{n}\\sum\\limits_{i=1}^{n}\\left(X_i-\\overline{X}\\right)^2\\\\\n",
    "\\end{eqnarray}"
   ]
  },
  {
   "cell_type": "markdown",
   "metadata": {},
   "source": [
    "$\\mathrm{Var(X+Y)} = \\mathrm{Var(X)}+\\mathrm{Var(Y)}+2\\mathrm{Cov(X,Y)}$"
   ]
  },
  {
   "cell_type": "markdown",
   "metadata": {},
   "source": [
    "\\begin{eqnarray}\n",
    "\\mathrm{Var(X+Y)} & = &  \\dfrac{1}{n}\\sum\\limits_{i=1}^{n}\\left(X_i+Y_i\\right)^2-\\left(\\overline{X}+\\overline{Y}\\right)^2 \\\\\n",
    "& = & \\dfrac{1}{n}\\sum\\limits_{i=1}^{n}\\left(X_i^{2}+2X_iY_i+Y_{i}^{2}\\right)+\\left(\\overline{X}^2+2\\overline{X}\\overline{Y}+\\overline{X}^2\\right)\\\\\n",
    "& = & \\dfrac{1}{n}\\sum\\limits_{i=1}^{n}\\left(X_i^{2}+Y_i^{2}+2X_iY_i\\right)-\\left(\\overline{X}^2+\\overline{Y}^2+2\\overline{X}\\overline{Y}\\right)\\\\\n",
    "& = & \\left(\\dfrac{1}{n}\\sum\\limits_{i=1}^{n}X_i^{2}-\\overline{X}^2\\right)+\\left(\\dfrac{1}{n}\\sum\\limits_{i=1}^{n}Y_i^{2}-\\overline{Y}^2\\right)+2\\left(\\dfrac{1}{n}\\sum\\limits_{i=1}^{n}X_iY_i-\\overline{X}\\overline{Y}\\right)\\\\\n",
    "& = & \\mathrm{Var(X)}+\\mathrm{Var(Y)}+2\\mathrm{Cov(X,Y)}\\\\\n",
    "\\end{eqnarray}"
   ]
  },
  {
   "cell_type": "markdown",
   "metadata": {},
   "source": [
    "$\\mathrm{Var(X-Y)} =\\mathrm{Var(X)}+\\mathrm{Var(Y)}-2\\mathrm{Cov(X,Y)}$"
   ]
  },
  {
   "cell_type": "markdown",
   "metadata": {},
   "source": [
    "\\begin{eqnarray}\n",
    "\\mathrm{Var(X-Y)} & = &  \\mathrm{Var\\left[X+(-Y) \\right]} \\\\\n",
    "& = & \\mathrm{Var(X)}+\\mathrm{Var(-Y)}+2\\mathrm{Cov(X,-Y)}\\\\\n",
    "& = & \\mathrm{Var(X)}+\\mathrm{Var(Y)}-2\\mathrm{Cov(X,Y)}\\\\\n",
    "\\end{eqnarray}"
   ]
  },
  {
   "cell_type": "markdown",
   "metadata": {},
   "source": [
    "$\\mathrm{Var(aX+bY)} = a^2\\mathrm{Var(X)}+b^2\\mathrm{Var(Y)}-2ab\\mathrm{Cov(X,Y)}$"
   ]
  },
  {
   "cell_type": "markdown",
   "metadata": {},
   "source": [
    "\\begin{eqnarray}\n",
    "\\mathrm{Var(aX+bY)}& = &  \\mathrm{E}\\left[(aX+bY)^2\\right]-\\left[\\mathrm{E}(aX+bY) \\right]^2 \\\\\n",
    "& = & \\mathrm{E}\\left[a^2 X^2+2abXY+b^2Y^2\\right]-\\left[\\mathrm{E}(aX)+\\mathrm{E}(bY)\\right]^2\\\\\n",
    "& = & a^2\\mathrm{E}(X^2)+2ab\\mathrm{E}(XY)+b^2\\mathrm{E}(Y^2)-\\left[a\\mathrm{E}(X)+b\\mathrm{E}(Y)\\right]^2 \\\\\n",
    "& = & a^2\\mathrm{E}(X^2)+2ab\\mathrm{E}(XY)+b^2\\mathrm{E}(Y^2)-\\left[a^2[\\mathrm{E}(X)]^2+2ab\\mathrm{E}(X)\\mathrm{E}(Y)+b^2[\\mathrm{E}(Y)]^2 \\right]\\\\\n",
    "& = & a^2\\mathrm{E}(X^2)+2ab\\mathrm{E}(XY)+b^2\\mathrm{E}(Y^2) -a^2[\\mathrm{E}(X)]^2-2ab\\mathrm{E}(X)\\mathrm{E}(Y)-b^2[\\mathrm{E}(Y)]^2\\\\\n",
    "& = & a^2 \\left\\{\\mathrm{E}(X^2)-\\left[\\mathrm{E}(X)\\right]^2 \\right\\}+b^2 \\left\\{\\mathrm{E}(Y^2)-\\left[\\mathrm{E}(Y)\\right]^2 \\right\\}+2ab \\left\\{\\mathrm{E}(XY)-\\mathrm{E}(X)\\mathrm{E}(Y)\\right\\} \\\\\n",
    "& = & a^2\\mathrm{Var(X)}+b^2\\mathrm{Var(Y)}-2ab\\mathrm{Cov(X,Y)}\n",
    "\\end{eqnarray}"
   ]
  },
  {
   "cell_type": "markdown",
   "metadata": {},
   "source": [
    "# Covariância"
   ]
  },
  {
   "cell_type": "markdown",
   "metadata": {},
   "source": [
    "Por definição, a covariância das variáveis $X$ e $Y$ é:"
   ]
  },
  {
   "cell_type": "markdown",
   "metadata": {},
   "source": [
    "$\\mathrm{Cov(X,Y)} = \\dfrac{1}{n}\\sum\\limits_{i=1}^{n}\\left(X_i-\\overline{X}\\right)\\left(Y_i-\\overline{Y}\\right)$"
   ]
  },
  {
   "cell_type": "markdown",
   "metadata": {},
   "source": [
    "Outra forma de definir a covariância é expressando-a como a diferença entre a média dos produtos e o produto da média:"
   ]
  },
  {
   "cell_type": "markdown",
   "metadata": {},
   "source": [
    "$\\mathrm{Cov(X,Y)} = \\dfrac{1}{n}\\sum\\limits_{i=1}^{n}X_iY_i-\\overline{X}\\overline{Y}$"
   ]
  },
  {
   "cell_type": "markdown",
   "metadata": {},
   "source": [
    "Podemos expressar a covariância em termos do valor esperado das variáveis."
   ]
  },
  {
   "cell_type": "markdown",
   "metadata": {},
   "source": [
    "$\\mathrm{Cov(X,Y)} = E\\left[\\left(X-\\mathrm{E(X)}\\right)\\left(Y-\\mathrm{E(Y)}\\right)\\right]$"
   ]
  },
  {
   "cell_type": "markdown",
   "metadata": {},
   "source": [
    "\\begin{eqnarray}\n",
    "\\mathrm{Cov(X,Y)} & = & \\mathrm{E}\\left[\\left(X-\\mathrm{E(X)}\\right)\\left(Y-\\mathrm{E(Y)}\\right) \\right] \\\\\n",
    "& = & \\mathrm{E(X,Y)}-2\\mathrm{E(X)}\\mathrm{E(Y)}+\\mathrm{E(X)}\\mathrm{E(Y)} \\\\\n",
    "& = & \\mathrm{E(XY)}-\\mathrm{E(X)}\\mathrm{E(Y)}\n",
    "\\end{eqnarray}"
   ]
  },
  {
   "cell_type": "markdown",
   "metadata": {},
   "source": [
    "$\\therefore \\mathrm{Cov(X,Y)} = \\mathrm{E(XY)}-\\mathrm{E(X)}\\mathrm{E(Y)}$"
   ]
  },
  {
   "cell_type": "markdown",
   "metadata": {},
   "source": [
    "Propriedades:"
   ]
  },
  {
   "cell_type": "markdown",
   "metadata": {},
   "source": [
    "$\\forall \\alpha,\\beta,a,b,c,d \\in \\mathbb{R}$ \n",
    "* $\\mathrm{Cov(X,X)} = \\mathrm{Var(X)}$\n",
    "* $\\mathrm{Cov(X+Y,Z)} = \\mathrm{Cov(X,Z)}+\\mathrm{Cov(Y,Z)}$\n",
    "* $\\mathrm{Cov(\\alpha X,Y)} = \\mathrm{Cov(X,\\alpha Y)} =\\alpha \\mathrm{Cov(X,Y)}$\n",
    "* $\\mathrm{Cov(\\alpha,X)} = \\mathrm{Cov(X,\\alpha)} = 0$\n",
    "* $\\mathrm{Cov(X+\\alpha,Y)} = \\mathrm{Cov(X,Y)}$\n",
    "* $\\mathrm{Cov(aX+b,cY+d)} = ac\\mathrm{Cov(X,Y)}$"
   ]
  },
  {
   "cell_type": "markdown",
   "metadata": {},
   "source": [
    "$\\mathrm{Cov(X,Y)} = \\dfrac{1}{n}\\sum\\limits_{i=1}^{n}(X_i-\\overline{X})(Y_i-\\overline{Y})$"
   ]
  },
  {
   "cell_type": "markdown",
   "metadata": {},
   "source": [
    "\\begin{eqnarray}\n",
    "\\mathrm{Cov(X,Y)} & = &  \\dfrac{1}{n}\\sum\\limits_{i=1}^{n}\\left(X_iY_i-X_i\\overline{Y}-\\overline{X}Y_i+\\overline{X}\\overline{Y}\\right)\\\\\n",
    "& = & \\dfrac{1}{n}\\sum\\limits_{i=1}^{n}X_iY_i-\\dfrac{1}{n}\\sum\\limits_{i=1}^{n}X_i\\overline{Y}-\\dfrac{1}{n}\\sum\\limits_{i=1}^{n}\\overline{X}Y_i+\\dfrac{1}{n}\\sum\\limits_{i=1}^{n}\\overline{X}\\overline{Y}\\\\\n",
    "& = & \\dfrac{1}{n}\\sum\\limits_{i=1}^{n}X_iY_i-\\overline{Y}\\dfrac{1}{n}\\sum\\limits_{i=1}^{n}X_i-\\overline{X}\\dfrac{1}{n}\\sum\\limits_{i=1}^{n}Y_i+\\dfrac{1}{n}n\\overline{X}\\overline{Y}\\\\\n",
    "& = & \\dfrac{1}{n}\\sum\\limits_{i=1}^{n}X_iY_i-\\overline{X}\\overline{Y}-\\overline{X}\\overline{Y}+\\overline{X}\\overline{Y}\\\\\n",
    "& = & \\dfrac{1}{n}\\sum\\limits_{i=1}^{n}X_iY_i-\\overline{X}\\overline{Y}\\\\\n",
    "\\end{eqnarray}"
   ]
  },
  {
   "cell_type": "markdown",
   "metadata": {},
   "source": [
    "$\\mathrm{Cov(aX,bY)} = ab\\mathrm{Cov(X,Y)}$"
   ]
  },
  {
   "cell_type": "markdown",
   "metadata": {},
   "source": [
    "\\begin{eqnarray}\n",
    "\\mathrm{Cov(aX,bY)} & = &  \\dfrac{1}{n}\\sum\\limits_{i=1}^{n}\\left(aX_i-a\\overline{X}\\right)\\left(bY_i-b\\overline{Y}\\right) \\\\\n",
    "& = & \\dfrac{1}{n}\\sum\\limits_{i=1}^{n}a\\left(X_i-\\overline{X}\\right)b\\left(Y_i-\\overline{Y}\\right) \\\\\n",
    "& = & ab\\dfrac{1}{n}\\sum\\limits_{i=1}^{n}\\left(X_i-\\overline{X}\\right)\\left(Y_i-\\overline{Y}\\right)\\\\\n",
    "& = & ab \\mathrm{Cov(X,Y)}\n",
    "\\end{eqnarray}"
   ]
  },
  {
   "cell_type": "markdown",
   "metadata": {},
   "source": [
    "# Correlação"
   ]
  },
  {
   "cell_type": "markdown",
   "metadata": {},
   "source": [
    "A correlação entre duas variáveis aleatórias $X$ e $Y$ é definida como:"
   ]
  },
  {
   "cell_type": "markdown",
   "metadata": {},
   "source": [
    "$\\mathrm{Corr(X,Y)} = \\dfrac{\\mathrm{Cov(X,Y)}}{\\sqrt{\\mathrm{Var(X)}}\\sqrt{\\mathrm{Var(Y)}}} = \\dfrac{\\sigma_{XY}}{\\sigma_{X}\\sigma_{Y}}$"
   ]
  },
  {
   "cell_type": "markdown",
   "metadata": {},
   "source": [
    "Propriedades"
   ]
  },
  {
   "cell_type": "markdown",
   "metadata": {},
   "source": [
    "* $-1 \\leq \\mathrm{Corr}\\left(X,Y\\right) \\leq 1$"
   ]
  },
  {
   "cell_type": "markdown",
   "metadata": {},
   "source": [
    "# Exemplos"
   ]
  },
  {
   "cell_type": "markdown",
   "metadata": {},
   "source": [
    "1. Seja a f.d.p. definida a seguir,obtenha:<br> \n",
    "a) Determine a constante $A$.<br>\n",
    "b) $P(X = 4)$ <br>\n",
    "c) $P(4,6 \\leq x \\leq 5,5)$ <br>\n",
    "d) $P(2 \\leq x \\leq 4)$"
   ]
  },
  {
   "cell_type": "markdown",
   "metadata": {},
   "source": [
    "$f(x) = \n",
    "\\begin{cases}\n",
    "A, \\;\\textrm{ se } 3 \\leq x \\leq 6 \\\\\n",
    "0, \\;\\textrm{ caso contrário} \\\\\n",
    "\\end{cases}\n",
    "$"
   ]
  },
  {
   "cell_type": "markdown",
   "metadata": {},
   "source": [
    "a)"
   ]
  },
  {
   "cell_type": "markdown",
   "metadata": {},
   "source": [
    "Devemos aplicar a condição: $\\int_{-\\infty}^{+\\infty}f(x)dx =1$, isto é, a área delimitada pelo gráfico da f.d.p. deve ser igual a 1."
   ]
  },
  {
   "cell_type": "markdown",
   "metadata": {},
   "source": [
    "$\\int_{3}^{6}Adx = 1 \\Rightarrow  \\left.\\ Ax\\right|_{3}^{6} = 1 \\Rightarrow A(6-3) = 1 \\Rightarrow \\therefore A = 1/3$ "
   ]
  },
  {
   "cell_type": "markdown",
   "metadata": {},
   "source": [
    "Então temos que:"
   ]
  },
  {
   "cell_type": "markdown",
   "metadata": {},
   "source": [
    "$f(x) = \n",
    "\\begin{cases}\n",
    "1/3, \\;\\textrm{ se } 3 \\leq x \\leq 6 \\\\\n",
    "0, \\;\\textrm{ caso contrário} \\\\\n",
    "\\end{cases}\n",
    "$"
   ]
  },
  {
   "cell_type": "markdown",
   "metadata": {},
   "source": [
    "b)"
   ]
  },
  {
   "cell_type": "markdown",
   "metadata": {},
   "source": [
    "$P(X=4) = 0$, já que se trata de uma distribuição contínua."
   ]
  },
  {
   "cell_type": "markdown",
   "metadata": {},
   "source": [
    "c)"
   ]
  },
  {
   "cell_type": "markdown",
   "metadata": {},
   "source": [
    "$P(4,6 \\leq x \\leq 5,5) = \\int_{4,6}^{5,5}\\dfrac{1}{3}dx = \\left.\\ \\dfrac{1}{3}x\\right|_{4,6}^{5,5} = 0,3$"
   ]
  },
  {
   "cell_type": "markdown",
   "metadata": {},
   "source": [
    "d)"
   ]
  },
  {
   "cell_type": "markdown",
   "metadata": {},
   "source": [
    "$P(2 \\leq x \\leq 4) = P(2 \\leq x \\leq 3)+P(3 \\leq x \\leq 4) = 0 +1/3 = 1/3$"
   ]
  },
  {
   "cell_type": "markdown",
   "metadata": {},
   "source": [
    "2. Seja a f.d.p. definida a seguir,obtenha:<br> \n",
    "a) Determinar o valor de $A$. <br>\n",
    "b) $P(2 \\leq x \\leq 3)$\n"
   ]
  },
  {
   "cell_type": "markdown",
   "metadata": {},
   "source": [
    "$f(x) = \n",
    "\\begin{cases}\n",
    "Ax, \\;\\textrm{ se } 0 \\leq x \\leq 3 \\\\\n",
    "0, \\;x<0 \\textrm{ ou } x>3 \\\\\n",
    "\\end{cases}\n",
    "$"
   ]
  },
  {
   "cell_type": "markdown",
   "metadata": {},
   "source": [
    "a)"
   ]
  },
  {
   "cell_type": "markdown",
   "metadata": {},
   "source": [
    "$\\int_{0}^{3}Axdx = 1 \\Rightarrow \\left.\\ A\\dfrac{x^2}{2}\\right|_{0}^{3} = 1 \\Rightarrow  \\dfrac{A}{2}(9-0)=1 \\therefore A=2/9$"
   ]
  },
  {
   "cell_type": "markdown",
   "metadata": {},
   "source": [
    "b)"
   ]
  },
  {
   "cell_type": "markdown",
   "metadata": {},
   "source": [
    "$P(2 \\leq x \\leq 3) = \\int_{2}^{3}\\dfrac{2}{9}xdx = \\dfrac{2}{9} \\left.\\ \\dfrac{x^2}{2} \\right|_{2}^{3} = \\dfrac{5}{9}$"
   ]
  },
  {
   "cell_type": "markdown",
   "metadata": {},
   "source": [
    "3. Seja a f.d.p. definida a seguir,obtenha:<br> \n",
    "a) Determinar o valor de $A$. <br>\n",
    "b) $P(0.5 \\leq x \\leq 1)$ <br>\n",
    "c) $E(X)$ <br>\n",
    "d) $\\mathrm{Var(X)}$ "
   ]
  },
  {
   "cell_type": "markdown",
   "metadata": {},
   "source": [
    "$f(x) = \n",
    "\\begin{cases}\n",
    "Ax^2, \\;\\textrm{ se } 0 \\leq x \\leq 1 \\\\\n",
    "0, \\;x<0 \\textrm{ ou } x>1 \\\\\n",
    "\\end{cases}\n",
    "$"
   ]
  },
  {
   "cell_type": "markdown",
   "metadata": {},
   "source": [
    "a)"
   ]
  },
  {
   "cell_type": "markdown",
   "metadata": {},
   "source": [
    "$\\int_{0}^{1}Ax^2 dx = 1 \\Rightarrow A\\int_{0}^{1}x^2dx = 1 \\Rightarrow A \\left.\\ \\dfrac{x^3}{3} \\right|_{0}^{1} = 1 \\therefore A = 3$"
   ]
  },
  {
   "cell_type": "markdown",
   "metadata": {},
   "source": [
    "b)"
   ]
  },
  {
   "cell_type": "markdown",
   "metadata": {},
   "source": [
    "$P(0,5 \\leq x \\leq 1) = \\int_{0,5}^{1}3x^2dx = 0,875 = 87,5%$"
   ]
  },
  {
   "cell_type": "markdown",
   "metadata": {},
   "source": [
    "c)"
   ]
  },
  {
   "cell_type": "markdown",
   "metadata": {},
   "source": [
    "$\\mathrm{E(X)} = \\int_0^1 x \\left(3x^2\\right) dx = \\dfrac{3}{4}$"
   ]
  },
  {
   "cell_type": "markdown",
   "metadata": {},
   "source": [
    "d)"
   ]
  },
  {
   "cell_type": "markdown",
   "metadata": {},
   "source": [
    "$\\mathrm{E(X^2)} = 3/5$"
   ]
  },
  {
   "cell_type": "markdown",
   "metadata": {},
   "source": [
    "$\\mathrm{Var(X)} = 0,0375$"
   ]
  },
  {
   "cell_type": "markdown",
   "metadata": {},
   "source": [
    "# Questões Anpec"
   ]
  },
  {
   "cell_type": "markdown",
   "metadata": {},
   "source": [
    "(Q3-2003) O custo $X$ de produção de certo bem é uma variável aleatória com função densidade de probabilidade:"
   ]
  },
  {
   "cell_type": "markdown",
   "metadata": {},
   "source": [
    "$f(x) = \n",
    "\\begin{cases}\n",
    "kx^2, \\; 1 \\leq x \\leq 4 \\\\\n",
    "0, \\;\\textrm{ caso contrário} \\\\\n",
    "\\end{cases}\n",
    "$"
   ]
  },
  {
   "cell_type": "markdown",
   "metadata": {},
   "source": [
    "É correto afirmar que:<br>\n",
    "0 - O valor de $k$ é 63; <br>\n",
    "1 - O custo médio do produto é de aproximadamente 1,04;<br>\n",
    "2 - O custo é menor do que 2 com probabilidade $\\frac{1}{9}$;<br>\n",
    "3 - A variância do custo do produto é aproximadamente 3,04; <br>\n",
    "4 -O custo é maior do que 3 com probabilidade $\\frac{8}{9}$."
   ]
  },
  {
   "cell_type": "markdown",
   "metadata": {},
   "source": [
    "0 - (F)<br>"
   ]
  },
  {
   "cell_type": "markdown",
   "metadata": {},
   "source": [
    "Lembre-se que: ${\\displaystyle \\int_{-\\infty}^{+\\infty}}f(x)dx = 1$"
   ]
  },
  {
   "cell_type": "markdown",
   "metadata": {},
   "source": [
    "$\\int_{1}^{4}kx^2 dx = 1 \\Rightarrow k\\int_{1}^{4}x^2dx = 1$<br>\n",
    "$k\\dfrac{x^3}{3}|_1^{4}=1 \\Rightarrow \\dfrac{k}{3}(64-1)=1$<br>\n",
    "$k=\\dfrac{3}{63} = \\dfrac{1}{21}$ <br>\n",
    "$\\therefore k = \\dfrac{1}{21}$"
   ]
  },
  {
   "cell_type": "markdown",
   "metadata": {},
   "source": [
    "1 - (F)"
   ]
  },
  {
   "cell_type": "markdown",
   "metadata": {},
   "source": [
    "$\\mathrm{E(X)} = {\\displaystyle \\int_{-\\infty}^{+\\infty}}xf(x)dx$ <br>\n",
    "$\\mathrm{E(X)} = \\int_{1}^{4}x\\dfrac{1}{21}x^2dx \\Rightarrow \\mathrm{E(X)} = \\dfrac{1}{21}\\int_{1}^{4}x^3dx = \\dfrac{1}{21}\\dfrac{x^4}{4}|_{1}^{4} = \\dfrac{1}{21}\\dfrac{256-1}{4} = 3,03$"
   ]
  },
  {
   "cell_type": "markdown",
   "metadata": {},
   "source": [
    "2 - (V)"
   ]
  },
  {
   "cell_type": "markdown",
   "metadata": {},
   "source": [
    "$P(X<2) = \\int_{1}^{2}\\dfrac{1}{21}x^2dx = \\dfrac{1}{21}\\dfrac{x^3}{3}|_1^{2} = \\dfrac{1}{21}\\dfrac{8-1}{3} = \\dfrac{1}{9}$"
   ]
  },
  {
   "cell_type": "markdown",
   "metadata": {},
   "source": [
    "3 - (F)"
   ]
  },
  {
   "cell_type": "markdown",
   "metadata": {},
   "source": [
    "$\\mathrm{Var(X)} = \\mathrm{E(X^2)}-\\left[\\mathrm{E(X)}\\right]^2$"
   ]
  },
  {
   "cell_type": "markdown",
   "metadata": {},
   "source": [
    "$\\mathrm{E(X^2)} = \\int_{1}^{4}x^2\\left(\\dfrac{1}{21}x^2\\right)dx = \\dfrac{1}{21}\\int_{1}^{4}x^4dx = \\dfrac{1}{21}\\dfrac{x^5}{5}|_{1}^{4} = \\dfrac{1}{21}\\dfrac{(1024-1)}{5} = \\dfrac{1023}{105} = 9,74$"
   ]
  },
  {
   "cell_type": "markdown",
   "metadata": {},
   "source": [
    "$\\mathrm{Var(X)} = 9,74-\\left(3,03\\right)^2 = 0,56$"
   ]
  },
  {
   "cell_type": "markdown",
   "metadata": {},
   "source": [
    "4 - (F)"
   ]
  },
  {
   "cell_type": "markdown",
   "metadata": {},
   "source": [
    "$P(X>3) = \\int_{3}^{4}\\dfrac{1}{21}x^2dx = \\dfrac{1}{21}\\int_{3}{4}x^2dx = \\dfrac{1}{21}\\dfrac{x^3}{3}|_{3}^{4} = \\dfrac{1}{63}(64-27) = \\dfrac{37}{63}$"
   ]
  },
  {
   "cell_type": "markdown",
   "metadata": {},
   "source": [
    "(Q9 - 2003) Sendo $Y$ e $X$ duas variáveis aleatórias, é corretor afirmar que:\n",
    "\n",
    "0. $\\mathrm{Var(Y+X)} = \\mathrm{Var(Y)}+\\mathrm{Var(X)}-2\\mathrm{Cov(Y,X)}$.\n",
    "1. $\\mathrm{Var(Y-X)} = \\mathrm{Var(Y)}-\\mathrm{Var(X)}-2\\mathrm{Cov(Y,X)}$.\n",
    "2. $\\mathrm{Var(Y+X)} = \\mathrm{Var(Y)}+\\mathrm{Var(X)}$, se $Y$ e $X$ forem independentes.\n",
    "3. $\\mathrm{Cov(Y,X)} = 0$, então $Y$ e $X$ são independentes."
   ]
  },
  {
   "cell_type": "markdown",
   "metadata": {},
   "source": [
    "0 - (F)"
   ]
  },
  {
   "cell_type": "markdown",
   "metadata": {},
   "source": [
    "$\\mathrm{Var(Y+X)} = \\mathrm{Var(Y)}+\\mathrm{Var(X)}+2\\mathrm{Cov(Y,X)}$"
   ]
  },
  {
   "cell_type": "markdown",
   "metadata": {},
   "source": [
    "1 - (F)"
   ]
  },
  {
   "cell_type": "markdown",
   "metadata": {},
   "source": [
    "$\\mathrm{Var(Y-X)} = \\mathrm{Var(Y)}+\\mathrm{Var(X)}-2\\mathrm{Cov(Y,X)}$"
   ]
  },
  {
   "cell_type": "markdown",
   "metadata": {},
   "source": [
    "2 - (V)"
   ]
  },
  {
   "cell_type": "markdown",
   "metadata": {},
   "source": [
    "$\\mathrm{Var(Y+X)} = \\mathrm{Var(Y)}+\\mathrm{Var(X)}$, se X e Y são independentes."
   ]
  },
  {
   "cell_type": "markdown",
   "metadata": {},
   "source": [
    "3 - (F)"
   ]
  },
  {
   "cell_type": "markdown",
   "metadata": {},
   "source": [
    "$\\mathrm{Cov(Y,X)} = 0$ não implica necessariamente em independência,mas podemos afirmar que X e Y não possuem associação linear."
   ]
  },
  {
   "cell_type": "markdown",
   "metadata": {},
   "source": [
    "Q3 - 2004"
   ]
  },
  {
   "cell_type": "markdown",
   "metadata": {},
   "source": [
    "Sobre coeficiente de correlação, covariância e independência de variáveis aleatórias, são\n",
    "corretas as afirmativas:"
   ]
  },
  {
   "cell_type": "markdown",
   "metadata": {},
   "source": [
    "0 - Seja $\\rho (x,y)$ o coeficiente de correlação entre as variáveis $x$ e $y$. Se $ab>0$, então $\\rho(ax,by)= \\rho(x,y)$; e se $ab<0$, $\\rho(ax,by) = -\\rho(x,y)$."
   ]
  },
  {
   "cell_type": "markdown",
   "metadata": {},
   "source": [
    "1 - Se uma função densidade conjunta de $x$ e $y$ for $f(x,y)= e^{-x-y},x>0,y>0$ e $f(x,y)=0$ para outros valores de $x$ e $y$, então $\\rho(x,y) = 0$."
   ]
  },
  {
   "cell_type": "markdown",
   "metadata": {},
   "source": [
    "2 - Sejam A e B dois eventos independentes, com probabilidades positivas, associados a um\n",
    "experimento aleatório ε. Se as variáveis aleatórias $x$ e $y$ são definidas como: $x = 1$, se\n",
    "ocorrer $A$ e $x = 0$, em caso contrário; e $y = 1$, se ocorrer $B$ e $y = 0$, em caso contrário,então $\\rho (x, y) \\neq 0$."
   ]
  },
  {
   "cell_type": "markdown",
   "metadata": {},
   "source": [
    "3 - Em relação ao quesito anterior, pode-se afirmar ainda que a covariância entre $x$ e $y$ é\n",
    "diferente de zero."
   ]
  },
  {
   "cell_type": "markdown",
   "metadata": {},
   "source": [
    "4- Se o coeficiente de correlação $\\rho (x, y) = 0$, a covariância entre $x$ e $y$ também é zero.Assim sendo, pode-se afirmar que $x$ e $y$ são variáveis aleatórias independentes."
   ]
  },
  {
   "cell_type": "markdown",
   "metadata": {},
   "source": [
    "0 - (V)"
   ]
  },
  {
   "cell_type": "markdown",
   "metadata": {},
   "source": [
    "Lembrete: <br>\n",
    "$\\rho(X,Y) = \\dfrac{\\mathrm{Cov(X,Y)}}{\\sigma_x\\sigma_y} = \\dfrac{\\mathrm{Cov(X,Y)}}{\\sqrt{\\mathrm{Var(X)}\\mathrm{Var(Y)}}}$"
   ]
  },
  {
   "cell_type": "markdown",
   "metadata": {},
   "source": [
    "$\\rho\\left(aX,bY\\right) = \\dfrac{\\mathrm{Cov(aX,bY)}}{\\sqrt{\\mathrm{Var(aX)}\\mathrm{Var(bY)}}} = \\dfrac{ab\\mathrm{Cov(X,Y)}}{\\sqrt{a^2\\mathrm{Var(X)}b^2\\mathrm{Var(Y)}}}$"
   ]
  },
  {
   "cell_type": "markdown",
   "metadata": {},
   "source": [
    "$\\rho(aX,bY) = \\dfrac{ab\\mathrm{Cov(X,Y)}}{|a|\\sqrt{\\mathrm{Var(X)}}|b|\\sqrt{\\mathrm{Var(Y)}}} = \\dfrac{ab\\mathrm{Cov(X,Y)}}{|ab|\\sigma_x\\sigma_y}$"
   ]
  },
  {
   "cell_type": "markdown",
   "metadata": {},
   "source": [
    "* Se $ab > 0 \\Rightarrow \\rho(aX,bY) = \\rho(X,Y)>0$\n",
    "* Se $ab < 0 \\Rightarrow \\rho(aX,bY) = -\\rho(X,Y)<0$"
   ]
  },
  {
   "cell_type": "markdown",
   "metadata": {},
   "source": [
    "1 - (V)"
   ]
  },
  {
   "cell_type": "markdown",
   "metadata": {},
   "source": [
    "$f_(x,y) = \n",
    "\\begin{cases}\n",
    "e^{-x-y}, \\; x>0,y>0 \\\\\n",
    "0, \\;\\textrm{ caso contrário} \\\\\n",
    "\\end{cases}\n",
    "$"
   ]
  },
  {
   "cell_type": "markdown",
   "metadata": {},
   "source": [
    "Podemos escrever : $f(x,y) = e^{-x}e^{-y}$. "
   ]
  },
  {
   "cell_type": "markdown",
   "metadata": {},
   "source": [
    "Então X e Y são independentes e $\\mathrm{Cov(X,Y)} = 0$ e $\\rho{(X,Y)} = 0$"
   ]
  },
  {
   "cell_type": "markdown",
   "metadata": {},
   "source": [
    "2 - (F)"
   ]
  },
  {
   "cell_type": "markdown",
   "metadata": {},
   "source": [
    "A e B são independentes, logo temos $\\mathrm{Cov(X,Y)} = \\rho(X,Y) = 0$."
   ]
  },
  {
   "cell_type": "markdown",
   "metadata": {},
   "source": [
    "3 - (F)"
   ]
  },
  {
   "cell_type": "markdown",
   "metadata": {},
   "source": [
    "$\\mathrm{Cov(X,Y)} = 0$"
   ]
  },
  {
   "cell_type": "markdown",
   "metadata": {},
   "source": [
    "4 - (F)"
   ]
  },
  {
   "cell_type": "markdown",
   "metadata": {},
   "source": [
    "$\\mathrm{Cov(X,Y)} = 0$ implicará em independência se a distribuição de $X$ e $Y$ for uma normal bivariada."
   ]
  },
  {
   "cell_type": "markdown",
   "metadata": {},
   "source": [
    "(Q13 - 2006) Seja $X$ uma variável aleatória contínua com a função densidade:"
   ]
  },
  {
   "cell_type": "markdown",
   "metadata": {},
   "source": [
    "$f(x) = \n",
    "\\begin{cases}\n",
    "1/6x+k, \\;\\textrm{ se } 0 \\leq x \\leq 3 \\\\\n",
    "0, \\;\\textrm{ caso contrário} \\\\\n",
    "\\end{cases}\n",
    "$"
   ]
  },
  {
   "cell_type": "markdown",
   "metadata": {},
   "source": [
    "Calcule $\\textrm{Prob}(1 \\leq X \\leq 2)$. Multiplique o resultado por 100 e desconsidere os valores após a vírgula."
   ]
  },
  {
   "cell_type": "markdown",
   "metadata": {},
   "source": [
    "${\\displaystyle \\int_{-\\infty}^{+\\infty}}f(x)dx = 1$"
   ]
  },
  {
   "cell_type": "markdown",
   "metadata": {},
   "source": [
    "${\\displaystyle \\int_{0}^{3}}\\left(\\dfrac{1}{6}x+k\\right)dx = 1 \\Rightarrow \\dfrac{1}{6}\\dfrac{x^2}{2}|_{0}^{3}+{kx}|_{0}^{3} = 1 \\Rightarrow \\dfrac{9}{12}+3k = 1 \\Rightarrow 3k = 1-\\dfrac{9}{12} \\Rightarrow k = \\dfrac{1}{12}$"
   ]
  },
  {
   "cell_type": "markdown",
   "metadata": {},
   "source": [
    "$P\\left(1 \\leq X \\leq 2 \\right) = \\displaystyle\\int_{2}^{1}\\left(\\frac{1}{6}x+\\frac{1}{12}\\right)dx = \\frac{1}{6}\\frac{x^2}{2}|_{1}^{2}+\\frac{1}{12}x|_{1}^{2} = \\frac{1}{12}(4-1)+\\frac{1}{12}(2-1) = \\frac{3}{12}+\\frac{1}{12} = \\frac{4}{12} $"
   ]
  },
  {
   "cell_type": "markdown",
   "metadata": {},
   "source": [
    "$P(1 \\leq X \\leq 2) = \\frac{1}{3} \\times 100 = 33,3$"
   ]
  },
  {
   "cell_type": "markdown",
   "metadata": {},
   "source": [
    "(Q1 - 2007) Sejam X, Y e Z três variáveis aleatórias. Julgue as proposições:<br>\n",
    "0 - $\\mathrm{E(E(Y|X))} = \\mathrm{E(X)}$ <br>\n",
    "1 - Se $Y = cX$, então $\\mathrm{Var(Y)} = c^2 Var(X)$ <br>\n",
    "2 - $\\mathrm{V(X+Y)} = \\mathrm{Var(X)}+\\mathrm{Var(Y)}+2\\mathrm{Cov(X,Y)}$ <br>\n",
    "3 - Se $Z = X^2+Y$,então $\\mathrm{E(Z|X)} =0$ <br>\n",
    "4 - Se $Z = X^2 + Y$,então $\\mathrm{E(ZX) = 0}$ <br>"
   ]
  },
  {
   "cell_type": "markdown",
   "metadata": {},
   "source": [
    "0 - (F)"
   ]
  },
  {
   "cell_type": "markdown",
   "metadata": {},
   "source": [
    "$\\mathrm{E\\left(E\\left(Y|X\\right)\\right)} = \\mathrm{E\\left(Y\\right)}$"
   ]
  },
  {
   "cell_type": "markdown",
   "metadata": {},
   "source": [
    "1 - (V)"
   ]
  },
  {
   "cell_type": "markdown",
   "metadata": {},
   "source": [
    "$\\mathrm{Var\\left(Y\\right)} = \\mathrm{Var\\left(cX\\right)} = c^2\\mathrm{Var\\left(X\\right)}$"
   ]
  },
  {
   "cell_type": "markdown",
   "metadata": {},
   "source": [
    "2 - (V)"
   ]
  },
  {
   "cell_type": "markdown",
   "metadata": {},
   "source": [
    "$\\mathrm{Var\\left(X+Y\\right)} = \\mathrm{Var\\left(X\\right)}+\\mathrm{Var\\left(Y\\right)}+2\\mathrm{cov\\left(X,Y\\right)}$"
   ]
  },
  {
   "cell_type": "markdown",
   "metadata": {},
   "source": [
    "3 - (F)"
   ]
  },
  {
   "cell_type": "markdown",
   "metadata": {},
   "source": [
    "$Z = X^2+Y$"
   ]
  },
  {
   "cell_type": "markdown",
   "metadata": {},
   "source": [
    "$\\mathrm{E\\left(Z|X\\right)} = \\mathrm{E\\left(X^2+Y|X\\right)} = \\mathrm{E\\left(X^2|X\\right)}+\\mathrm{E\\left(Y|X\\right)}$"
   ]
  },
  {
   "cell_type": "markdown",
   "metadata": {},
   "source": [
    "4 - (F)"
   ]
  },
  {
   "cell_type": "markdown",
   "metadata": {},
   "source": [
    "$\\mathrm{E\\left(ZX\\right)} = \\mathrm{E\\left(X^3+XY\\right)} = \\mathrm{E\\left(X^3\\right)}+\\mathrm{E\\left(XY\\right)}$"
   ]
  },
  {
   "cell_type": "markdown",
   "metadata": {},
   "source": [
    "(Q11-2017) Suponha que $X$ seja uma variável aleatória distribuída de acordo com a seguinte função densidade de probabilidade:"
   ]
  },
  {
   "cell_type": "markdown",
   "metadata": {},
   "source": [
    "$f(x)=2(1-x)$ para $0 \\leq x \\leq 1$ <br>\n",
    "$f(x)=0$ caso contrário."
   ]
  },
  {
   "cell_type": "markdown",
   "metadata": {},
   "source": [
    "Sendo $Y = 6X+10$,obtenha a variância de Y."
   ]
  },
  {
   "cell_type": "markdown",
   "metadata": {},
   "source": [
    "$\\mathrm{Var(Y)} = \\mathrm{Var(6X+10)} = 36\\mathrm{X}$"
   ]
  },
  {
   "cell_type": "markdown",
   "metadata": {},
   "source": [
    "$\\mathrm{Var(X)} = \\mathrm{E(X^2)}-\\left[E(X)\\right]^2$"
   ]
  },
  {
   "cell_type": "markdown",
   "metadata": {},
   "source": [
    "$\\mathrm{E(X)} = \\int_{0}^{1}x(2-2x)dx = \\int_{0}^{1}(2x-2x^2)dx = x^2|_0^1-\\dfrac{2x^3}{3}|_0^1 = 1-\\dfrac{2}{3} = \\dfrac{1}{3}$"
   ]
  },
  {
   "cell_type": "markdown",
   "metadata": {},
   "source": [
    "$\\mathrm{E(X^2)} = \\int_{0}^{1}x^2(2-2x)dx = \\int_{0}^{1}(2x^2-2x^3)dx = \\dfrac{2x^3}{3}|_{0}^{1}-\\dfrac{2x^4}{4}|_{0}^{1} = \\dfrac{2}{3}-\\dfrac{1}{2} = \\dfrac{1}{6}$"
   ]
  },
  {
   "cell_type": "markdown",
   "metadata": {},
   "source": [
    "$\\mathrm{Var(X)} = \\dfrac{1}{6}-\\left(\\dfrac{1}{3}\\right)^2 = \\dfrac{1}{6}-\\dfrac{1}{9} = \\dfrac{1}{18}$"
   ]
  },
  {
   "cell_type": "markdown",
   "metadata": {},
   "source": [
    "$\\mathrm{Var(Y)} = 36 \\dfrac{1}{18} = 2$"
   ]
  },
  {
   "cell_type": "markdown",
   "metadata": {},
   "source": [
    "(Q9-2017) Observe a função de distribuição acumulada $F(X)$ abaixo e calcule a probabilidade para $x \\leq 2$ e multiplique o resultado por 10."
   ]
  },
  {
   "cell_type": "markdown",
   "metadata": {},
   "source": [
    "$F(x) = \n",
    "\\begin{cases}\n",
    "0,\\; \\textrm{ se } x<0 \\\\\n",
    "\\dfrac{x^2}{20},\\; \\textrm{ se } 0 \\leq x \\leq 5 \\\\\n",
    "-\\dfrac{x^2}{20}+\\dfrac{2}{5}x-1,\\; \\textrm{ se } 5 \\leq x \\leq 10 \\\\\n",
    "1, \\;\\textrm{ se } x \\geq 10 \\\\\n",
    "\\end{cases}\n",
    "$"
   ]
  },
  {
   "cell_type": "markdown",
   "metadata": {},
   "source": [
    "$F(2) = \\dfrac{x^2}{20} = \\dfrac{4}{20} = \\dfrac{1}{5} = \\dfrac{1}{5}10= 2$"
   ]
  },
  {
   "cell_type": "markdown",
   "metadata": {},
   "source": [
    "(Q3-2021) Seja $X$ uma variável aleatória com a seguinte função densidade de probabilidade:"
   ]
  },
  {
   "cell_type": "markdown",
   "metadata": {},
   "source": [
    "$f(x) = \n",
    "\\begin{cases}\n",
    "\\dfrac{x^2}{3}, \\; -1 \\leq x \\leq 2 \\\\\n",
    "0, \\;\\textrm{ caso contrário} \\\\\n",
    "\\end{cases}\n",
    "$"
   ]
  },
  {
   "cell_type": "markdown",
   "metadata": {},
   "source": [
    "Encontre o valor esperado de $h(X)=4X+3$."
   ]
  },
  {
   "cell_type": "markdown",
   "metadata": {},
   "source": [
    "$\\mathrm{E(X)} = \\int_{-\\infty}^{+\\infty}xf(x)dx$"
   ]
  },
  {
   "cell_type": "markdown",
   "metadata": {},
   "source": [
    "$\\mathrm{E(X)} = \\int_{-1}^{2}xf(x)dx$ <br>\n",
    "$\\mathrm{E(X)} = \\int_{-1}^{2}\\dfrac{x^3}{3}dx$ <br>\n",
    "$\\mathrm{E(X)} = \\dfrac{1}{3}\\left[\\dfrac{x^4}{4}\\right]_{-1}^{2} = \\dfrac{1}{12}\\left[16-1 \\right] = \\dfrac{5}{4}$"
   ]
  },
  {
   "cell_type": "markdown",
   "metadata": {},
   "source": [
    "Calculando $E[h(X)]$:"
   ]
  },
  {
   "cell_type": "markdown",
   "metadata": {},
   "source": [
    "$\\mathrm{E}[4x+1] = 4\\mathrm{E(X)}+3 = 4 \\times \\dfrac{5}{4} +3 = 8$"
   ]
  }
 ],
 "metadata": {
  "kernelspec": {
   "display_name": "Python 3",
   "language": "python",
   "name": "python3"
  },
  "language_info": {
   "codemirror_mode": {
    "name": "ipython",
    "version": 3
   },
   "file_extension": ".py",
   "mimetype": "text/x-python",
   "name": "python",
   "nbconvert_exporter": "python",
   "pygments_lexer": "ipython3",
   "version": "3.8.5"
  }
 },
 "nbformat": 4,
 "nbformat_minor": 4
}
