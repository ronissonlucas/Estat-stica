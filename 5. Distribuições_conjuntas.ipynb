{
 "cells": [
  {
   "cell_type": "markdown",
   "metadata": {},
   "source": [
    "# <b>Distribuições conjuntas</b>"
   ]
  },
  {
   "cell_type": "markdown",
   "metadata": {},
   "source": [
    "#### 1. Distribuição conjunta de variáveis discretas"
   ]
  },
  {
   "cell_type": "markdown",
   "metadata": {},
   "source": [
    "Sejam duas variáveis aleatórias discretas $X$ e $Y$, com os respectivos valores $X_1,X_2,\\dots,X_n$,$Y_1,Y_2,\\dots,Y_k$. Então $\\mathrm{P(X_i,Y_j)}$ é a probabilidade associada ao par $(X_i,Y_j)$. O conjunto de valores $X_i$,$Y_j$ e das respectivas probabilidades $P(X_i,Y_j)$ constitui a distribuição conjunta de $X,Y$. Temos ainda: $\\sum_i\\sum_j\\mathrm{P(X_i,Y_j)} = 1$."
   ]
  },
  {
   "cell_type": "markdown",
   "metadata": {},
   "source": [
    "<b> Exemplo</b>"
   ]
  },
  {
   "cell_type": "markdown",
   "metadata": {},
   "source": [
    "* Um time de vôlei em um campeonato possui probabilidade de ganhar ou perder igual a 0,5.\n",
    "* X é o número de vitórias obtidas nos três primeiros jogos.\n",
    "* Y assume o valor 1 se a vitória ocorrer no primeiro jogo, e 0 caso contrário.\n",
    "* V = vitória; D = derrota."
   ]
  },
  {
   "cell_type": "markdown",
   "metadata": {},
   "source": [
    "<table style=\"width:20%\">\n",
    "  <tr>\n",
    "    <th>Resultados possíveis</th>\n",
    "    <th>X</th>\n",
    "    <th>Y</th>\n",
    "  </tr>\n",
    "  <tr>\n",
    "    <td>VVV</td>\n",
    "    <td>3</td>\n",
    "    <td>1</td>\n",
    "  </tr>\n",
    "  <tr>\n",
    "    <td>VVD</td>\n",
    "    <td>2</td>\n",
    "    <td>1</td>\n",
    "  </tr>\n",
    "  <tr>\n",
    "    <td>VDV</td>\n",
    "    <td>2</td>\n",
    "    <td>1</td>\n",
    "  </tr>\n",
    "  <tr>\n",
    "    <td>VDD</td>\n",
    "    <td>1</td>\n",
    "    <td>1</td>\n",
    "  </tr>\n",
    "  <tr>\n",
    "    <td>DVV</td>\n",
    "    <td>2</td>\n",
    "    <td>0</td>\n",
    "  </tr>\n",
    "  <tr>\n",
    "    <td>DDV</td>\n",
    "    <td>1</td>\n",
    "    <td>0</td>\n",
    "  </tr>\n",
    "  <tr>\n",
    "    <td>DVD</td>\n",
    "    <td>1</td>\n",
    "    <td>0</td>\n",
    "  </tr>\n",
    "  <tr>\n",
    "    <td>DDD</td>\n",
    "    <td>0</td>\n",
    "    <td>0</td>\n",
    "  </tr>\n",
    "</table>"
   ]
  },
  {
   "cell_type": "markdown",
   "metadata": {},
   "source": [
    "Probabilidades conjuntas de X e Y:"
   ]
  },
  {
   "cell_type": "markdown",
   "metadata": {},
   "source": [
    "<table style=\"width:40%\">\n",
    "  <tr>\n",
    "    <th></th>\n",
    "    <th></th>\n",
    "    <th></th>\n",
    "    <th>X</th>\n",
    "    <th></th>\n",
    "  </tr>\n",
    "  <tr>\n",
    "    <td></td>\n",
    "    <td></td>\n",
    "    <td>0</td>\n",
    "    <td>1</td>\n",
    "    <td>2</td>\n",
    "    <td>3</td>\n",
    "    <td><b>P(Y)<b></td>\n",
    "  </tr>\n",
    "  <tr>\n",
    "    <td><b>Y</b></td>\n",
    "    <td>0</td>\n",
    "    <td>1/8</td>\n",
    "    <td>2/8</td>\n",
    "    <td>1/8</td>\n",
    "    <td>0</td>\n",
    "    <td>1/2</td>\n",
    "  </tr>\n",
    "  <tr>\n",
    "    <td><b></b></td>\n",
    "    <td>1</td>\n",
    "    <td>0</td>\n",
    "    <td>1/8</td>\n",
    "    <td>2/8</td>\n",
    "    <td>1/8</td>\n",
    "    <td>1/2</td>\n",
    "  </tr>\n",
    "  <tr>\n",
    "    <td></td>\n",
    "    <td><b>P(X)</b></td>\n",
    "    <td>1/8</td>\n",
    "    <td>3/8</td>\n",
    "    <td>3/8</td>\n",
    "    <td>1/8</td>\n",
    "    <td><b>1</b></td>\n",
    "  </tr>\n",
    "</table>"
   ]
  },
  {
   "cell_type": "markdown",
   "metadata": {},
   "source": [
    "$P(X = 1) = P[(X=1 \\text{ e } Y=0) \\text{ ou } (X=1 \\text{ e } Y = 1)] = \\dfrac{2}{8}+\\dfrac{1}{8} = \\dfrac{3}{8}$"
   ]
  },
  {
   "cell_type": "markdown",
   "metadata": {},
   "source": [
    "$P(Y = 0) = P(Y = 0 \\text{ e } X = 0)+P(Y = 0 \\text{ e } X = 1)+P(Y = 0 \\text{ e } X = 2)+P(Y = 0 \\text{ e } X = 3)=\\dfrac{1}{8}+\\dfrac{2}{8}+\\dfrac{1}{8}+0 = \\dfrac{1}{2}$"
   ]
  },
  {
   "cell_type": "markdown",
   "metadata": {},
   "source": [
    "$P(X = 1 | Y = 1) = \\dfrac{P(X=1 \\text{ e } Y = 1)}{P(Y = 1)} = \\dfrac{1/8}{1/2} = \\dfrac{1}{4}$"
   ]
  },
  {
   "cell_type": "markdown",
   "metadata": {},
   "source": [
    "$P(Y = 0 | X = 2) = \\dfrac{P(Y = 0 | X = 2)}{P(X = 2)} = \\dfrac{1/8}{3/8} = \\dfrac{1}{3}$"
   ]
  },
  {
   "cell_type": "markdown",
   "metadata": {},
   "source": [
    "* Probabilidade de $X$ (ou seja, sem considerar $Y$) é a soma das probabilidades ao longo da coluna (distribuição marginal de $X$).\n",
    "* A distribuição de $Y$ é obtida da mesma forma somando-se as probabilidades ao longo da linha."
   ]
  },
  {
   "cell_type": "markdown",
   "metadata": {},
   "source": [
    "* X e Y são independentes? (intuição)<br>\n",
    "    * Se Y é 0, então é impossível que X seja 3;\n",
    "    * Se Y é 1, então é impossível que X seja 0;\n",
    "    * Podemos pensar então que X e Y não são independentes.\n",
    "    "
   ]
  },
  {
   "cell_type": "markdown",
   "metadata": {},
   "source": [
    "Vejamos outra forma de verificar se X e Y não são independentes."
   ]
  },
  {
   "cell_type": "markdown",
   "metadata": {},
   "source": [
    "$P(X = 1 | Y = 1) = \\dfrac{1}{4}$<br>\n",
    "$P(X = 1) = \\dfrac{3}{8}$<br>\n",
    "Então, temos que $P(X = 1 | Y = 1) \\neq P(X = 1)$, e X e Y são dependentes, visto que a igualdade não se verificou."
   ]
  },
  {
   "cell_type": "markdown",
   "metadata": {},
   "source": [
    "Vamos calcular agora $\\mathrm{E(X)}$, $\\mathrm{E(Y)}$, $\\mathrm{Var(X)}$, $\\mathrm{Var(Y)}$, $\\mathrm{Cov(X,Y)}$ e $\\mathrm{Corr(X, Y)}$."
   ]
  },
  {
   "cell_type": "markdown",
   "metadata": {},
   "source": [
    "$\\mathrm{E(X)} = \\sum_{i = 1}^{n} X_iP(X_i)$ <br>\n",
    "$\\mathrm{Var(X)} = \\mathrm{E(X^2)}-\\left[\\mathrm{E(X)}\\right]^2$ <br>\n",
    "$\\mathrm{Var(Y)} = \\mathrm{E(Y^2)}-\\left[\\mathrm{E(Y)}\\right]^2$ <br>\n",
    "$\\mathrm{Cov(X,Y)} = \\mathrm{E(XY)} - \\mathrm{E(X)E(Y)}$ <br>\n",
    "$\\mathrm{Corr(X,Y)} = \\dfrac{\\mathrm{Cov(X,Y)}}{\\mathrm{dp(X)dp(Y)}}$ <br>\n",
    "<br>\n",
    "<br>\n",
    "$\\mathrm{E(X)} = 0 \\times \\dfrac{1}{8} + 1 \\times \\dfrac{3}{8} +2 \\times \\dfrac{3}{8} +3 \\times \\dfrac{1}{8} = \\dfrac{10}{8} = 1,25$<br>\n",
    "$\\mathrm{E(Y)} = 0 \\times \\dfrac{1}{2}+1 \\times \\dfrac{1}{2} = 0,5$ <br>\n",
    "\n",
    "$\\mathrm{E(X^2)} = 0^2 \\times \\dfrac{1}{8} + 1^2 \\times \\dfrac{3}{8} +2^2 \\times \\dfrac{3}{8} +3^2 \\times \\dfrac{1}{8}= \\dfrac{24}{8} = 3$ <br>\n",
    "$\\mathrm{E(Y^2)} = 0^2 \\times \\dfrac{1}{2}+1^2 \\times \\dfrac{1}{2} = 0,5 $ <br>\n",
    "$\\mathrm{Var(X)} = 1,4375$ <br>\n",
    "$\\mathrm{Var(Y)} = 0,25$"
   ]
  },
  {
   "cell_type": "markdown",
   "metadata": {},
   "source": [
    "Calculemos agora $\\mathrm{Cov(X,Y)}$."
   ]
  },
  {
   "cell_type": "markdown",
   "metadata": {},
   "source": [
    "<table style=\"width:10%\">\n",
    "  <tr>\n",
    "    <th>X</th>\n",
    "    <th>Y</th>\n",
    "    <th>XY</th>\n",
    "  </tr>\n",
    "  <tr>\n",
    "    <td>3</td>\n",
    "    <td>1</td>\n",
    "    <td>3</td>\n",
    "  </tr>\n",
    "  <tr>\n",
    "    <td>2</td>\n",
    "    <td>1</td>\n",
    "    <td>2</td>\n",
    "  </tr>\n",
    "  <tr>\n",
    "    <td>2</td>\n",
    "    <td>1</td>\n",
    "    <td>2</td>\n",
    "  </tr>\n",
    "  <tr>\n",
    "    <td>1</td>\n",
    "    <td>1</td>\n",
    "    <td>1</td>\n",
    "  </tr>\n",
    "  <tr>\n",
    "    <td>2</td>\n",
    "    <td>0</td>\n",
    "    <td>0</td>\n",
    "  </tr>\n",
    "  <tr>\n",
    "    <td>1</td>\n",
    "    <td>0</td>\n",
    "    <td>0</td>\n",
    "  </tr>\n",
    "  <tr>\n",
    "    <td>1</td>\n",
    "    <td>0</td>\n",
    "    <td>0</td>\n",
    "  </tr>\n",
    "  <tr>\n",
    "    <td>0</td>\n",
    "    <td>0</td>\n",
    "    <td>0</td>\n",
    "  </tr>\n",
    "</table>"
   ]
  },
  {
   "cell_type": "markdown",
   "metadata": {},
   "source": [
    "$\\mathrm{P(XY = 0)} = \\dfrac{4}{8}$<br>\n",
    "$\\mathrm{P(XY = 1)} = \\dfrac{1}{8}$<br>\n",
    "$\\mathrm{P(XY = 2)} = \\dfrac{2}{8}$<br>\n",
    "$\\mathrm{P(XY = 3)} = \\dfrac{1}{8}$<br>"
   ]
  },
  {
   "cell_type": "markdown",
   "metadata": {},
   "source": [
    "$\\mathrm{E(XY)} = 0 \\times \\dfrac{4}{8}+1 \\times \\dfrac{1}{8} +2 \\times \\dfrac{2}{8} +3 \\times \\dfrac{1}{8}  =1 $<br>\n",
    "$\\mathrm{Cov(X,Y)} = \\mathrm{E(XY)}-\\mathrm{E(X)E(Y)} = 0,375$ <br>\n",
    "$\\mathrm{Corr(X,Y)} = \\dfrac{0,375}{\\sqrt{1,4375 \\times 0,25}} = 0,6255 $"
   ]
  },
  {
   "cell_type": "markdown",
   "metadata": {},
   "source": [
    "Vamos calcular $\\mathrm{E(X|Y=0)}$."
   ]
  },
  {
   "cell_type": "markdown",
   "metadata": {},
   "source": [
    "$P(X = 0 | Y = 0) = \\dfrac{1/8}{1/2} = \\dfrac{1}{4}$<br>\n",
    "$P(X = 1 | Y = 0) = \\dfrac{1}{2}$ <br>\n",
    "$P(X = 2 | Y = 0) = \\dfrac{1}{4}$<br>\n",
    "$P(X = 3 | Y = 0) = 0$ <br>\n",
    "$E(X|Y=0) = 0 \\times \\dfrac{1}{4} + 1 \\times \\dfrac{1}{2} + 2 \\times \\dfrac{1}{4}+3 \\times 0 = 1$"
   ]
  },
  {
   "cell_type": "markdown",
   "metadata": {},
   "source": [
    "(Q10-2017) Considere a distribuição de probabilidade conjunta das variáveis aleatórias $X$ e $Y$, de acordo com a tabela abaixo:"
   ]
  },
  {
   "cell_type": "markdown",
   "metadata": {},
   "source": [
    "<table style=\"width:40%\">\n",
    "  <tr>\n",
    "    <th></th>\n",
    "    <th></th>\n",
    "    <th></th>\n",
    "    <th>X</th>\n",
    "    <th></th>\n",
    "  </tr>\n",
    "  <tr>\n",
    "    <td></td>\n",
    "    <td></td>\n",
    "    <td>0</td>\n",
    "    <td>1</td>\n",
    "    <td>2</td>\n",
    "    <td>3</td>\n",
    "  </tr>\n",
    "  <tr>\n",
    "    <td><b>Y</b></td>\n",
    "    <td>1</td>\n",
    "    <td>1/4</td>\n",
    "    <td>1/8</td>\n",
    "    <td>1/8</td>\n",
    "    <td>1/4</td>\n",
    "  </tr>\n",
    "  <tr>\n",
    "    <td><b></b></td>\n",
    "    <td>2</td>\n",
    "    <td>0</td>\n",
    "    <td>1/8</td>\n",
    "    <td>1/8</td>\n",
    "    <td>0</td>\n",
    "  </tr>\n",
    "</table>"
   ]
  },
  {
   "cell_type": "markdown",
   "metadata": {},
   "source": [
    "Pode-se afirmar que:"
   ]
  },
  {
   "cell_type": "markdown",
   "metadata": {},
   "source": [
    "0 - $\\mathrm{E(X)} = \\dfrac{3}{2}$. (V)<br>\n",
    "1 - $\\mathrm{Var(X)} = 1$. (F)<br>\n",
    "2 - $\\mathrm{Cov(X,Y)} = 0$.(V)<br>\n",
    "3 - $\\mathrm{Var(X|Y=2)} = 1$.(F)<br>\n",
    "4 - Se $Z = 2X+4Y$, então $\\mathrm{Var(Z)} = 4$. (F)<br>"
   ]
  },
  {
   "cell_type": "markdown",
   "metadata": {},
   "source": [
    "<table style=\"width:40%\">\n",
    "  <tr>\n",
    "    <th></th>\n",
    "    <th></th>\n",
    "    <th></th>\n",
    "    <th>X</th>\n",
    "    <th></th>\n",
    "    <th></th>\n",
    "  </tr>\n",
    "  <tr>\n",
    "    <td></td>\n",
    "    <td></td>\n",
    "    <td>0</td>\n",
    "    <td>1</td>\n",
    "    <td>2</td>\n",
    "    <td>3</td>\n",
    "    <td><b>P(Y)</b></td>\n",
    "  </tr>\n",
    "  <tr>\n",
    "    <td><b>Y</b></td>\n",
    "    <td>1</td>\n",
    "    <td>1/4</td>\n",
    "    <td>1/8</td>\n",
    "    <td>1/8</td>\n",
    "    <td>1/4</td>\n",
    "    <td>3/4</td>\n",
    "  </tr>\n",
    "  <tr>\n",
    "    <td><b></b></td>\n",
    "    <td>2</td>\n",
    "    <td>0</td>\n",
    "    <td>1/8</td>\n",
    "    <td>1/8</td>\n",
    "    <td>0</td>\n",
    "    <td>1/4</td>\n",
    "  </tr>\n",
    "  <tr>\n",
    "    <td></td>\n",
    "    <td><b>P(X)</b></td>\n",
    "    <td>1/4</td>\n",
    "    <td>1/4</td>\n",
    "    <td>1/4</td>\n",
    "    <td>1/4</td>\n",
    "    <td>1</td>\n",
    "  </tr>\n",
    "</table>"
   ]
  },
  {
   "cell_type": "markdown",
   "metadata": {},
   "source": [
    "0 - $E(X) = 0 \\times \\dfrac{1}{4}+1 \\times \\dfrac{1}{4}+2 \\times \\dfrac{1}{4}+3 \\times \\dfrac{1}{4} = \\dfrac{6}{4} = \\dfrac{3}{2}$ <br>\n",
    "1 - Lembrete: $\\mathrm{Var(X)} = \\mathrm{E(X^2)}-\\left[\\mathrm{E(X)}\\right]^2$. <br>\n",
    "$E(X^2) = 0^2 \\times \\dfrac{1}{4}+1^2 \\times \\dfrac{1}{4}+2^2 \\times \\dfrac{1}{4}+3^2 \\times \\dfrac{1}{4} = \\dfrac{14}{4} = \\dfrac{7}{2} $ <br>\n",
    "$Var(X) = \\dfrac{7}{2}-\\left(\\dfrac{3}{2}\\right)^2 = \\dfrac{5}{4}$ <br>\n",
    "2 - Lembrete: $\\mathrm{Cov(X,Y)} = \\mathrm{E(XY)}-\\mathrm{E(X)E(Y)}$."
   ]
  },
  {
   "cell_type": "markdown",
   "metadata": {},
   "source": [
    "$E(XY) = \\frac{1}{4} \\times 1 \\times 0+\\frac{1}{8} \\times 1 \\times 1 + \\frac{1}{8} \\times 2 \\times 1 + \\frac{1}{4} \\times 1 \\times 3+0 \\times 2 \\times 0 +\\frac{1}{8}\\times 2 \\times 1+\\frac{1}{8}\\times 2 \\times 2 +0 \\times 2 \\times 3 = \\frac{15}{8}$"
   ]
  },
  {
   "cell_type": "markdown",
   "metadata": {},
   "source": [
    "Precisamos agora calcular $E(Y)$."
   ]
  },
  {
   "cell_type": "markdown",
   "metadata": {},
   "source": [
    "$\\mathrm{E(Y)} = \\dfrac{3}{4} \\times 1+ \\dfrac{1}{4}\\times 2 = \\dfrac{5}{4}$ <br>\n",
    "$\\mathrm{Cov(X,Y)} = \\dfrac{15}{8}-\\dfrac{3}{2}\\times\\dfrac{5}{4} = 0$"
   ]
  },
  {
   "cell_type": "markdown",
   "metadata": {},
   "source": [
    "3 - <br>$\\mathrm{E(X|Y=2)} = \\dfrac{1}{8} \\times 1 + \\dfrac{1}{8} \\times 2 = \\dfrac{3}{8}$\n",
    "<br> $\\mathrm{E(X^2|Y=2)} = \\dfrac{1}{8} \\times 1^2 + \\dfrac{1}{8} \\times 2^2 = \\dfrac{5}{8}$<br>\n",
    "$\\mathrm{Var(X|Y = 2)} = \\mathrm{E(X^2|Y=2)}-\\left(\\mathrm{E(X|Y=2)}\\right)^2 = \\dfrac{5}{8}-\\left(\\dfrac{3}{8}\\right)^2 = \\dfrac{31}{64}$ <br>\n",
    "4 - \n",
    "<br> $\\mathrm{Var(Z)} = \\mathrm{Var(2X+4Y)} = \\mathrm{Var(2X)}+\\mathrm{Var(4Y)}+2\\times2\\times\\times4\\mathrm{Cov(X,Y)} =4\\mathrm{Var(X)}+16\\mathrm{Var(Y)}+16\\mathrm{Cov(X,Y)}$"
   ]
  },
  {
   "cell_type": "markdown",
   "metadata": {},
   "source": [
    "Precisamos calcular $\\mathrm{Var(Y)}$."
   ]
  },
  {
   "cell_type": "markdown",
   "metadata": {},
   "source": [
    "$E(Y^2) = 1^2 \\times \\dfrac{3}{4}+2^2\\times\\dfrac{1}{4}=\\dfrac{7}{4}$"
   ]
  },
  {
   "cell_type": "markdown",
   "metadata": {},
   "source": [
    "$Var(Y) = \\dfrac{7}{4}-\\left(\\dfrac{5}{4}\\right)^2 = \\dfrac{3}{16}$"
   ]
  },
  {
   "cell_type": "markdown",
   "metadata": {},
   "source": [
    "$Var(Z) = 4Var(X)+16Var(Y)+16Cov(X,Y) = 4 \\times \\dfrac{5}{4}+16\\times \\dfrac{3}{16}+16 \\times 0 = 8$"
   ]
  },
  {
   "cell_type": "markdown",
   "metadata": {},
   "source": [
    "#### 2. Distribuição conjunta de variáveis contínuas"
   ]
  },
  {
   "cell_type": "markdown",
   "metadata": {},
   "source": [
    "Seja uma função densidade de probabilidade (f.d.p.) conjunta $f(x,y)$, a probabilidade de que $x$ esteja entre $]a,b[$ e $y$ em $]c,d[$ é:\n",
    "$$\\mathrm{P(a<x<b \\textrm{ e } c<y<d)} = \\int_{c}^{d}\\int_{a}^{b}f(x,y)dxdy $$"
   ]
  },
  {
   "cell_type": "markdown",
   "metadata": {},
   "source": [
    "Como $x$ e $y$ são variáveis aleatórias (v.a.) contínuas a probabilidade só pode ser calculada no intervalo, mesmo que os eventos $X = x_0$ e $Y = y_0$ sejam possíveis. Então temos que $\\mathrm{P(X = x_o \\textrm{ , } Y=y_o)} = 0$."
   ]
  },
  {
   "cell_type": "markdown",
   "metadata": {},
   "source": [
    "Igualmente, a definição de probabilidade, devemos impor as seguintes condições para que a função seja uma f.d.p.:\n",
    "1. $f(x,y) \\geq 0$\n",
    "2. $\\int_{-\\infty}^{+\\infty}\\int_{-\\infty}^{+\\infty}f(x,y)dxdy = 1$  (soma de todas as probabilidades deve ser igual a 1)"
   ]
  },
  {
   "cell_type": "markdown",
   "metadata": {},
   "source": [
    "Vamos definir agora o cálculo da esperança e variância neste caso."
   ]
  },
  {
   "cell_type": "markdown",
   "metadata": {},
   "source": [
    "$\\mathrm{E(X)} = \\int_{-\\infty}^{+\\infty}\\int_{-\\infty}^{+\\infty}xf(x,y)dxdy$"
   ]
  },
  {
   "cell_type": "markdown",
   "metadata": {},
   "source": [
    "$\\mathrm{Var(X)} = \\int_{-\\infty}^{+\\infty}\\int_{-\\infty}^{+\\infty}\\left[X-E(X) \\right]^2f(x,y)dxdy = \\int_{-\\infty}^{+\\infty}\\int_{-\\infty}^{+\\infty}x^2f(x,y)dxdy - \\left[ \\int_{-\\infty}^{+\\infty}\\int_{-\\infty}^{+\\infty}xf(x,y)dxdy \\right]^2$"
   ]
  },
  {
   "cell_type": "markdown",
   "metadata": {},
   "source": [
    "As funções marginais x e y, utlizadas para calcular probabilidades marginais são definidas como:<br>\n",
    "$g(x)=\\int_{-\\infty}^{+\\infty}f(x,y)dy$<br>\n",
    "$h(y) = \\int_{-\\infty}^{+\\infty}f(x,y)dx$"
   ]
  },
  {
   "cell_type": "markdown",
   "metadata": {},
   "source": [
    "Podemos definir então a esperança e a variância em termos das funções marginais definidas anteriormente:"
   ]
  },
  {
   "cell_type": "markdown",
   "metadata": {},
   "source": [
    "$\\mathrm{E(X)} =  \\int_{-\\infty}^{+\\infty}xg(x)dx$"
   ]
  },
  {
   "cell_type": "markdown",
   "metadata": {},
   "source": [
    "$\\mathrm{Var(X)} =  \\int_{-\\infty}^{+\\infty}x^2g(x)dx-\\left[ \\int_{-\\infty}^{+\\infty}xg(x)dx \\right]^2$"
   ]
  },
  {
   "cell_type": "markdown",
   "metadata": {},
   "source": [
    "A covariância é definida como:<br>\n",
    "$\\mathrm{Cov(X,Y)} = \\mathrm{E(XY)}-\\mathrm{E(X)}\\mathrm{E(Y)}$ <br>\n",
    "$\\mathrm{Cov(X,Y)} =  \\int_{-\\infty}^{+\\infty}\\left(X-\\mathrm{E(X)}\\right)\\left(Y-\\mathrm{E(Y)}\\right)dx dy =  \\int_{-\\infty}^{+\\infty}\\int_{-\\infty}^{+\\infty}xyf(x,y)dxdy-\\left[ \\int_{-\\infty}^{+\\infty}xf(x,y)dxdy \\right]\\left[ \\int_{-\\infty}^{+\\infty}yf(x,y)dxdy \\right]$<br>\n",
    "Podemos ainda definir a covariância em termos das funções marginais:<br>\n",
    "$\\mathrm{Cov(X,Y)} = \\int_{-\\infty}^{+\\infty}\\int_{-\\infty}^{+\\infty}xyf(x,y)dxdy-\\left[\\int_{-\\infty}^{+\\infty}xg(x)dx \\right] \\left[\\int_{-\\infty}^{+\\infty}yh(y)dy \\right]$"
   ]
  },
  {
   "cell_type": "markdown",
   "metadata": {},
   "source": [
    "A esperança condicional de $X$ será dada por: <br>\n",
    "$\\mathrm{E(x|y=y_{0})} = \\int_{-\\infty}^{+\\infty}xf_{x|y}dx$"
   ]
  },
  {
   "cell_type": "markdown",
   "metadata": {},
   "source": [
    "Lembremos que a probabilidade condicional é definida como $P(A|B)=\\dfrac{P(A \\cap B)}{P(B)}$. Definiremos então a probabilidade condicional de uma v.a. conjunta. Notemos que, $P(A \\cap B)$ é a própria probabilidade conjunta (a probabilidade de $x$ e $y$ é obtida pela f.d.p. conjunta). Então a f.d.p. condicional de $x$ (dado $y$), $f_{x|y}$ é:<br>\n",
    "$f_{x|y} = \\dfrac{f(x,y)}{h(y)}$<br>\n",
    "Igualmente, definimos $f_{y|x}$:<br>\n",
    "$f_{y|x} = \\dfrac{f(x,y)}{g(x)}$"
   ]
  },
  {
   "cell_type": "markdown",
   "metadata": {},
   "source": [
    "Se $f_{x|y} = g(x)$ e $f_{y|x} = h(y)$, ou seja, as probabilidades condicionais são iguais às não-condicionais, dizemos que $X$ e $Y$ são independentes tal que $f(x,y)=g(x)h(y)$."
   ]
  },
  {
   "cell_type": "markdown",
   "metadata": {},
   "source": [
    "Então, no caso contínuo se $X$ e $Y$ são independentes $f(x,y) = g(x)h(y)$."
   ]
  },
  {
   "cell_type": "markdown",
   "metadata": {},
   "source": [
    "Vamos definir agora uma f.d.p conjunta para três variáveis $f:  \\mathbb{R}^3 \\rightarrow \\mathbb{R}$, com as propriedades a seguir:<br>\n",
    "1. $f(x,y,z) \\geq 0 $\n",
    "2. $\\int_{-\\infty}^{+\\infty}\\int_{-\\infty}^{+\\infty}\\int_{-\\infty}^{+\\infty}f(x,y,z)dxdydz = 1$"
   ]
  },
  {
   "cell_type": "markdown",
   "metadata": {},
   "source": [
    "Podemos então definir a probabilidade em intervalo :<br>\n",
    "$P(a<x<b \\textrm{ e } c<y<d \\textrm{ e } e<z<f) = \\int_{e}^{f}\\int_{c}^{d}\\int_{a}^{b}f(x,y,z) dx dy dz$"
   ]
  },
  {
   "cell_type": "markdown",
   "metadata": {},
   "source": [
    "As f.d.p. marginais são:<br>\n",
    "$g(x) = \\int_{-\\infty}^{+\\infty}\\int_{-\\infty}^{+\\infty}f(x,y,z)dydz = \\int_{z}\\int_{y}f(x,y,z)dydz$<br>\n",
    "$h(y) = \\int_{-\\infty}^{+\\infty}\\int_{-\\infty}^{+\\infty}f(x,y,z)dxdz = \\int_{z}\\int_{x}f(x,y,z)dxdz$<br>\n",
    "$k(z) = \\int_{-\\infty}^{+\\infty}\\int_{-\\infty}^{+\\infty}f(x,y,z)dxdy = \\int_{y}\\int_{x}f(x,y,z)dxdy$<br>\n"
   ]
  },
  {
   "cell_type": "markdown",
   "metadata": {},
   "source": [
    "# Questões Anpec"
   ]
  },
  {
   "cell_type": "markdown",
   "metadata": {},
   "source": [
    "Q14-2017"
   ]
  },
  {
   "cell_type": "markdown",
   "metadata": {},
   "source": [
    "Suponha que as vendas $(Q)$ do produto $X$ são aleatoriamente distribuídas na economia e possuem uma distribuição binomial com parâmetro $p$ (preço), sendo $n$ o número de vendas observado, então:<br>\n",
    "(0) - A esperança matemática de $Q$ é $E(Q) = n(1-p)$;<br>\n",
    "(1) - A média das vendas é dada por $E(Q) = np$;<br>\n",
    "(2) - A variância das vendas por $Q$ ou $V(Q) = np(1-p)$;<br>\n",
    "(3) - O preço que maximiza a variância é $p = \\frac{1}{2}$;<br>\n",
    "(4) - O preço está no intervalo $0$ e $1$.<br>"
   ]
  },
  {
   "cell_type": "markdown",
   "metadata": {},
   "source": [
    "(0) (F)Se $(Q)$ segue uma distribuição binomial então: $E(Q) = np$. <br>\n",
    "(1) (V)<br>\n",
    "(2) (V) $V(Q) = np(1-p)$<br>\n",
    "(3) $\\max_{p} Var(Q) = np(1-p) = np-np^2$; $\\dfrac{dVar(Q)}{dp} = n-2np = 0 \\Rightarrow p = \\frac{1}{2}$; CSO: $\\dfrac{dVar(Q)}{d^2p} = -2n < 0 $<br>\n",
    "(4) (V) Parâmetro da v.a. que denota a probabilidade de ocorrência de uma venda tal que $p \\in [0,1]$.<br>"
   ]
  },
  {
   "cell_type": "markdown",
   "metadata": {},
   "source": [
    "(Q7-2011) Considere a seguinte função de densidade conjunta de duas variávis aleatórias contínuas X e Y dada por: "
   ]
  },
  {
   "cell_type": "markdown",
   "metadata": {},
   "source": [
    "$f_{xy}(x,y) = \n",
    "\\begin{cases}\n",
    "kx^2y, \\; 0 \\leq x \\leq 1, 0 \\leq y \\leq 1  \\\\\n",
    "0, \\;\\textrm{ caso contrário} \\\\\n",
    "\\end{cases}\n",
    "$"
   ]
  },
  {
   "cell_type": "markdown",
   "metadata": {},
   "source": [
    "\n",
    "0 -  Para que $f_{xy}(x,y)$ satisfaça as propriedades de uma função densidade conjunta, $k=6$. (V)<br>\n",
    "1 - A densidade marginal de $Y$ é dada por $f_{y}(y) = 3y^2$. (F)<br>\n",
    "2 - A densidade de Y, condicional em $X=2$, é igual a $f_{y|x}(y|x=2) = 2y$. (V)<br>\n",
    "3 - X e Y são variáveis aleatórias não correlacionadas.(V)<br>\n",
    "4 - A variância de $Y$, condicional em $X=2$,é igual a $\\dfrac{1}{9}$.(F)<br>"
   ]
  },
  {
   "cell_type": "markdown",
   "metadata": {},
   "source": [
    "(0) (V)- Lembrete: $\\int_{-\\infty}^{+\\infty}\\int_{-\\infty}^{+\\infty}f(x,y)dxdy = 1$."
   ]
  },
  {
   "cell_type": "markdown",
   "metadata": {},
   "source": [
    "$\\int_{0}^{1}\\int_{0}^{1} kx^2y dxdy = 1 \\Rightarrow k\\int_{0}^{1}\\left[y\\dfrac{x^3}{3}\\right]_{0}^{1}dy = 1 \\Rightarrow \\dfrac{k}{3}\\int_{0}^{1}ydy = 1 \\Rightarrow \\dfrac{k}{3}\\dfrac{y^2}{2}|_{0}^{1} = 1 \\Rightarrow k = 6$"
   ]
  },
  {
   "cell_type": "markdown",
   "metadata": {},
   "source": [
    "(1) (F) - Lembrete: $f(y) = \\int_{-\\infty}^{+\\infty}f(x,y)dx$."
   ]
  },
  {
   "cell_type": "markdown",
   "metadata": {},
   "source": [
    "$f_y(y) = \\int_{0}^{1}6x^2y dx = 6y \\int_{0}^{1} x^2 dx = 6y \\dfrac{x^3}{3}|_0^1 = 2y$"
   ]
  },
  {
   "cell_type": "markdown",
   "metadata": {},
   "source": [
    "(2) (A) $f_{y|x} = \\dfrac{f(x,y)}{f_x(x)}$"
   ]
  },
  {
   "cell_type": "markdown",
   "metadata": {},
   "source": [
    "$f_x(x) = \\int_{0}^{1} 6x^2 y dy = 6x^2 \\int_{0}^{1}ydy = 6x^2 \\dfrac{y^2}{2}|_0^1 = 3x^2$"
   ]
  },
  {
   "cell_type": "markdown",
   "metadata": {},
   "source": [
    "$f_{y|x} = \\dfrac{6x^2y}{3x} = 2y , 0 \\le y \\le 1$ e $f_{y|x} = 0$ caso contrário."
   ]
  },
  {
   "cell_type": "markdown",
   "metadata": {},
   "source": [
    "Logo: $f_{y|x} = f(y)$."
   ]
  },
  {
   "cell_type": "markdown",
   "metadata": {},
   "source": [
    "(3) (V)"
   ]
  },
  {
   "cell_type": "markdown",
   "metadata": {},
   "source": [
    "$X$ e $Y$ são independentes, logo não correlacionadas. Note ainda que : $f(x,y) = f_x(x)f_y(y)$."
   ]
  },
  {
   "cell_type": "markdown",
   "metadata": {},
   "source": [
    "(4) (F)"
   ]
  },
  {
   "cell_type": "markdown",
   "metadata": {},
   "source": [
    "$Var(Y|X) = E(Y^2|X) - \\left[E(Y|X)\\right]^2$"
   ]
  },
  {
   "cell_type": "markdown",
   "metadata": {},
   "source": [
    "$E(Y | X) = \\int_{0}^{1} y f(y|x) dy = \\int_{0}^{1} 2y^2 dy = \\dfrac{2}{3}y^3|_0^1 = \\frac{2}{3}$"
   ]
  },
  {
   "cell_type": "markdown",
   "metadata": {},
   "source": [
    "$E(Y^2|X) = \\int_{0}^{1}y^2 f(y|x)dy = \\int_{0}^{1} 2y^3 dy = \\frac{1}{2}y^4|_0^1 = \\frac{1}{2}$"
   ]
  },
  {
   "cell_type": "markdown",
   "metadata": {},
   "source": [
    "$Var(Y|X) = \\dfrac{1}{2}-\\left(\\dfrac{2}{3}\\right)^2 = \\dfrac{9-8}{18} = \\dfrac{1}{18}$"
   ]
  },
  {
   "cell_type": "markdown",
   "metadata": {},
   "source": [
    "(Q14-2003) Considere o vetor aleatório $X = (X_1,X_2,X_3)$ com distribuição de probabilidade:"
   ]
  },
  {
   "cell_type": "markdown",
   "metadata": {},
   "source": [
    "$f_{X}(X_1,X_2,X_3) = \n",
    "\\begin{cases}\n",
    "6x_1x_2^{2}x_3, \\; 0 \\leq x_1 \\leq 1, 0 \\leq x_2 \\leq 1, 0 \\leq x_3 \\leq \\sqrt{2} \\\\\n",
    "0, \\;\\textrm{ caso contrário} \\\\\n",
    "\\end{cases}\n",
    "$"
   ]
  },
  {
   "cell_type": "markdown",
   "metadata": {},
   "source": [
    "Encontre a probabilidade de $0 \\leq x_1 \\leq 0,5$. (Multiplique o resultado por 100)."
   ]
  },
  {
   "cell_type": "markdown",
   "metadata": {},
   "source": [
    "$ P(0 \\le x_1 \\le \\frac{1}{2}) = \\int_{0}^{\\frac{1}{2}}\\int_{0}^{1}\\int_{0}^{\\sqrt{2}}6x_1x_2^2x_3dx_3dx_2dx_1$"
   ]
  },
  {
   "cell_type": "markdown",
   "metadata": {},
   "source": [
    "$ = \\int_{0}^{\\frac{1}{2}}\\int_{0}^{1} \\left[6x_1x_2^2\\frac{x_3^2}{2}|_{0}^{\\sqrt{2}}\\right]dx_2dx_1$"
   ]
  },
  {
   "cell_type": "markdown",
   "metadata": {},
   "source": [
    "$ = \\int_{0}^{\\frac{1}{2}}\\int_{0}^{1} \\left[6x_1x_2^2\\frac{(\\sqrt{2})^2-0}{2}\\right]dx_2dx_1$"
   ]
  },
  {
   "cell_type": "markdown",
   "metadata": {},
   "source": [
    "$ = \\int_{0}^{\\frac{1}{2}}\\int_{0}^{1} 6x_1x_2^2dx_2dx_1$"
   ]
  },
  {
   "cell_type": "markdown",
   "metadata": {},
   "source": [
    "$ = \\int_{0}^{\\frac{1}{2}}\\left[6x_1\\frac{x_2^3}{3}|_0^1\\right]dx_1$"
   ]
  },
  {
   "cell_type": "markdown",
   "metadata": {},
   "source": [
    "$ = \\int_{0}^{\\frac{1}{2}} 2x_1dx_1$"
   ]
  },
  {
   "cell_type": "markdown",
   "metadata": {},
   "source": [
    "$ = 2\\int_{0}^{\\frac{1}{2}}x_1dx_1$"
   ]
  },
  {
   "cell_type": "markdown",
   "metadata": {},
   "source": [
    "$ =2 \\dfrac{x_1^2}{2}|_{0}^{\\frac{1}{2}} = \\left(\\dfrac{1}{2}\\right)^2-0^2 = \\dfrac{1}{4} \\times 100 = 25$"
   ]
  },
  {
   "cell_type": "markdown",
   "metadata": {},
   "source": [
    "(Q15 - 2005) Suponha que a função de densidade de probabilidade conjunta da variável aleatória bidimensional $(X,Y)$ seja dada por:"
   ]
  },
  {
   "cell_type": "markdown",
   "metadata": {},
   "source": [
    "$f_{(x,y)} = \n",
    "\\begin{cases}\n",
    "x^2+\\dfrac{xy}{3}, \\; 0 \\leq x \\leq 1, 0 \\leq y \\leq 2 \\\\\n",
    "0, \\;\\textrm{ caso contrário} \\\\\n",
    "\\end{cases}\n",
    "$"
   ]
  },
  {
   "cell_type": "markdown",
   "metadata": {},
   "source": [
    "Calcule a $P(Y<X)$. <br>Multiplique o resultado por 48."
   ]
  },
  {
   "cell_type": "markdown",
   "metadata": {},
   "source": [
    "$P(Y<X) = {\\displaystyle \\int_{0}^{1} \\int_{0}^{x}}\\left(x^2+\\dfrac{xy}{3}\\right)dydx$<br>\n",
    "$P(Y<X) = {\\displaystyle \\int_{0}^{1}\\left[yx^2+\\dfrac{y^2}{2}\\dfrac{x}{3}\\right]_0^{x}}dx$<br>\n",
    "$P(Y<X) = {\\displaystyle \\int_{0}^{1}}\\left(x^3+\\dfrac{x^3}{6}\\right)dx$<br>\n",
    "$P(Y<X) = \\dfrac{x^4}{4}|_{0}^{1}+\\dfrac{x^4}{24}|_{0}^{1} = \\dfrac{7x^4}{24}|_{0}^{1} = \\dfrac{7}{24} = \\dfrac{7}{24} \\times 48 = 14$"
   ]
  },
  {
   "cell_type": "markdown",
   "metadata": {},
   "source": [
    "(Q3-2006) Julgue as afirmativas. Em uma função densidade de probabilidade conjunta $f(x,y)$, para as\n",
    "variáveis aleatórias contínuas $X$ e $Y$: <br>\n",
    "0 - A função densidade de probabilidade marginal de $X$ é: $f(x)= \\dfrac{\\partial f(x,y)}{\\partial y}$.<br>\n",
    "1 -  Se $F(y)$ é a função distribuição de probabilidade marginal de $Y$, então $f(y) = dF(Y)/dy$, para $F(Y)$ derivável em todo o $y$.<br>\n",
    "2 - $X$ e $Y$ serão independentes se $f(x) = f(x|y)$.<br>\n",
    "3 - $\\mathrm{E_X\\left[E(Y|x)\\right]} = \\mathrm{E[Y]}$.<br>"
   ]
  },
  {
   "cell_type": "markdown",
   "metadata": {},
   "source": [
    "0 - (F)"
   ]
  },
  {
   "cell_type": "markdown",
   "metadata": {},
   "source": [
    "$f(x) = {\\displaystyle \\int_{-\\infty}^{+\\infty}}f(x,y)dy$"
   ]
  },
  {
   "cell_type": "markdown",
   "metadata": {},
   "source": [
    "1 - (V)"
   ]
  },
  {
   "cell_type": "markdown",
   "metadata": {},
   "source": [
    "$f(y) = \\dfrac{dF(y)}{dy}$, sendo F diferenciável em todo o seu domínio."
   ]
  },
  {
   "cell_type": "markdown",
   "metadata": {},
   "source": [
    "2 - (V)"
   ]
  },
  {
   "cell_type": "markdown",
   "metadata": {},
   "source": [
    "Sabemos que: $f_{x|y} = \\dfrac{f(x,y)}{f(y)}$, mas se X e Y são independentes então: $f(x,y) = f(x)f(y)$ e $f_{x|y} = f(x)$."
   ]
  },
  {
   "cell_type": "markdown",
   "metadata": {},
   "source": [
    "3 - (V)"
   ]
  },
  {
   "cell_type": "markdown",
   "metadata": {},
   "source": [
    "$E_x\\left[\\mathrm{E(Y|X)}\\right] = \\mathrm{E(Y)}$"
   ]
  },
  {
   "cell_type": "markdown",
   "metadata": {},
   "source": [
    "Exercícios de fixação"
   ]
  },
  {
   "cell_type": "markdown",
   "metadata": {},
   "source": [
    "1. Seja a f.d.p. $f(x,y)$ definida a seguir, obtenha:<br>\n",
    "a) Determinar o valor de A para que $f(x,y)$ seja uma f.d.p. <br>\n",
    "b) $P(0,2 < x<0,4 \\textrm{ e } 0,6<y<0,8)$ <br>\n",
    "c) Determinar as f.d.p. marginais de x e y <br>\n",
    "d) Determinar a probabilidade de x estar entre 0,3 e 0,7<br>\n",
    "e) Determinar as f.d.p. condicionais de x e y <br>\n",
    "f) Determinar $\\mathrm{E(X)}$ <br>\n",
    "g) Determinar $\\mathrm{Var(X)}$ <br>\n",
    "h) Determinar $\\mathrm{Cov(X,Y)}$ <br>"
   ]
  },
  {
   "cell_type": "markdown",
   "metadata": {},
   "source": [
    "$f(x,y) = \n",
    "\\begin{cases}\n",
    "Axy, \\;0<x<1 \\textrm{ e } 0<y<1 \\\\\n",
    "0, \\; \\textrm{ caso contrário} \\\\\n",
    "\\end{cases}\n",
    "$"
   ]
  },
  {
   "cell_type": "markdown",
   "metadata": {},
   "source": [
    "a)"
   ]
  },
  {
   "cell_type": "markdown",
   "metadata": {},
   "source": [
    "$\\int_{-\\infty}^{+\\infty}\\int_{-\\infty}^{+\\infty} f(x,y) dxdy = 1 \\Rightarrow \\int_{0}^{1}\\int_{0}^{1} f(x,y)dxdy = 1$ <br>\n",
    "$\\int_{0}^{1}\\int_{0}^{1}A xy dxdy = 1 \\Rightarrow \\int_{0}^{1} A y \\int_{0}^{1} x dxdy =1 \\Rightarrow \\int_{0}^{1} A y \\left[ \\dfrac{x^2}{2} \\right]_0^1 dy = 1 $ <br>\n",
    "$\\int_{0}^{1} A y 1/2 dy = 1 \\Rightarrow A/2 \\int_{0}^{1}ydy =1   \\Rightarrow \\dfrac{A}{2}\\left[\\dfrac{y^2}{2} \\right]_0^1  = 1$ <br>\n",
    "$\\dfrac{A}{4} = 1 \\Rightarrow A = 4 $\n"
   ]
  },
  {
   "cell_type": "markdown",
   "metadata": {},
   "source": [
    "b)"
   ]
  },
  {
   "cell_type": "markdown",
   "metadata": {},
   "source": [
    "$P(0,2 < x <0,4 \\textrm{ e } 0,6<y<0,8) = \\int_{0,6}^{0,8}\\int_{0,2}^{0,4} 4xydxdy = 0,0336$"
   ]
  },
  {
   "cell_type": "markdown",
   "metadata": {},
   "source": [
    "c)"
   ]
  },
  {
   "cell_type": "markdown",
   "metadata": {},
   "source": [
    "$g(x) = \\int_{0}^{1} 4xy dy = 3x$ <br>\n",
    "$h(y) = \\int_{0}^{1} 4xy dx = 2y$"
   ]
  },
  {
   "cell_type": "markdown",
   "metadata": {},
   "source": [
    "d)"
   ]
  },
  {
   "cell_type": "markdown",
   "metadata": {},
   "source": [
    "$P(0,3<x<0,7) = \\int_{0,3}^{0,7} 2x dx = 0,4$"
   ]
  },
  {
   "cell_type": "markdown",
   "metadata": {},
   "source": [
    "e)"
   ]
  },
  {
   "cell_type": "markdown",
   "metadata": {},
   "source": [
    "$f_{x|y} = \\dfrac{4xy}{2y} = 2x$ <br>\n",
    "$f_{y|x} = \\dfrac{4xy}{2x} = 2y$"
   ]
  },
  {
   "cell_type": "markdown",
   "metadata": {},
   "source": [
    "Note que: $f_{x|y} = g(x)$ e $f_{y|x} = h(y)$ e x e y são independentes, tal que $f(x,y) = g(x)h(y) = (2x)(2y) = 4xy$."
   ]
  },
  {
   "cell_type": "markdown",
   "metadata": {},
   "source": [
    "f)"
   ]
  },
  {
   "cell_type": "markdown",
   "metadata": {},
   "source": [
    "$\\mathrm{E(X)} = \\int_{0}^{1}\\int_{0}^{1} x 4xy dxdy = \\dfrac{2}{3}$"
   ]
  },
  {
   "cell_type": "markdown",
   "metadata": {},
   "source": [
    "g)"
   ]
  },
  {
   "cell_type": "markdown",
   "metadata": {},
   "source": [
    "$\\mathrm{Var(X)} = \\int_{0}^{1}\\int_{0}^{1}x^2 4xydxdy-\\left[\\int_{0}^{1}\\int_{0}^{1}x4xydxdy\\right]^2 = \\dfrac{1}{18} $"
   ]
  },
  {
   "cell_type": "markdown",
   "metadata": {},
   "source": [
    "h)"
   ]
  },
  {
   "cell_type": "markdown",
   "metadata": {},
   "source": [
    "$\\mathrm{Cov(X,Y)} = \\int_{0}^{1}\\int_{0}^{1}xy4xydxdy -\\dfrac{2}{3}\\dfrac{2}{3} = 0$"
   ]
  },
  {
   "cell_type": "markdown",
   "metadata": {},
   "source": [
    "2. Seja a f.d.p. $f(x,y)$ definida a seguir, obtenha:<br>\n",
    "a) Determinar o valor de B para que $f(x,y)$ seja uma f.d.p. <br>\n",
    "b) Determinar as f.d.p. marginais de $x$ e $y$ <br>\n",
    "c) Determinar as f.d.p. condicionais de $x$ e $y$ <br>\n",
    "d) Verificar se $x$ e $y$ são v.a. independentes \n",
    "e) $P(X<0,5|y=0,5)$ <br>\n",
    "f) $\\mathrm{E(X|y=0,5)}$ <br>"
   ]
  },
  {
   "cell_type": "markdown",
   "metadata": {},
   "source": [
    "$f(x,y) = \n",
    "\\begin{cases}\n",
    "B(x^2+y^2), \\;0<x<1 \\textrm{ e } 0<y<1 \\\\\n",
    "0, \\; \\textrm{ caso contrário} \\\\\n",
    "\\end{cases}\n",
    "$"
   ]
  },
  {
   "cell_type": "markdown",
   "metadata": {},
   "source": [
    "a)"
   ]
  },
  {
   "cell_type": "markdown",
   "metadata": {},
   "source": [
    "$\\int_{0}^{1}\\int_{0}^{1}B\\left(x^2+y^2\\right) dx dy = 1$<br>\n",
    "$B\\int_{0}^{1}\\int_{0}^{1}\\left(x^2+y^2\\right) dx dy = 1$<br>\n",
    "$B\\int_{0}^{1}\\left[\\dfrac{x^3}{3}+xy^2 \\right]_{0}^{1} dy = 1$<br>\n",
    "$B\\int_{0}^{1}\\left(\\dfrac{1}{3}+y^2 \\right) dy = 1$<br>\n",
    "$B\\left[ \\dfrac{y}{3}+\\dfrac{y^3}{3} \\right]_{0}^{1} dy = 1$ <br>\n",
    "$B\\left[\\dfrac{2}{3} \\right] =1$ <br>\n",
    "$B = \\dfrac{3}{2}$\n"
   ]
  },
  {
   "cell_type": "markdown",
   "metadata": {},
   "source": [
    "b)"
   ]
  },
  {
   "cell_type": "markdown",
   "metadata": {},
   "source": [
    "$g(x) = \\int_{0}^{1}\\dfrac{3}{2} \\left(x^2+y^2 \\right)dy = \\dfrac{3}{2}\\left(x^2+\\dfrac{1}{3} \\right) $<br>\n",
    "$h(y) = \\int_{0}^{1}\\dfrac{3}{2} \\left(x^2+y^2 \\right)dx = \\dfrac{3}{2}\\left(\\dfrac{1}{3}+y^2 \\right)$"
   ]
  },
  {
   "cell_type": "markdown",
   "metadata": {},
   "source": [
    "c)"
   ]
  },
  {
   "cell_type": "markdown",
   "metadata": {},
   "source": [
    "$f_{x|y} = \\dfrac{\\dfrac{3}{2}\\left(x^2+y^2\\right)}{\\dfrac{3}{2}\\left(\\dfrac{1}{3}+y^2 \\right)} = \\dfrac{x^2+y^2}{\\dfrac{1}{3}+y^2}$ <br>\n",
    "$f_{y|x} = \\dfrac{\\dfrac{3}{2}\\left(x^2+y^2\\right)}{\\dfrac{3}{2}\\left(\\dfrac{1}{3}+x^2 \\right)} = \\dfrac{x^2+y^2}{\\dfrac{1}{3}+x^2}$"
   ]
  },
  {
   "cell_type": "markdown",
   "metadata": {},
   "source": [
    "d)"
   ]
  },
  {
   "cell_type": "markdown",
   "metadata": {},
   "source": [
    "$X$ e $Y$ são dependentes, já que $f_{x|y} \\neq g(x)$ e $f_{y|x} \\neq h(y)$."
   ]
  },
  {
   "cell_type": "markdown",
   "metadata": {},
   "source": [
    "e)"
   ]
  },
  {
   "cell_type": "markdown",
   "metadata": {},
   "source": [
    "$f_{x|y = 0.5} \\Rightarrow f_{x|y} = \\dfrac{x^2+\\left(\\dfrac{1}{2}\\right)^2}{\\dfrac{1}{3}+\\left(\\dfrac{1}{2}\\right)^2} = \\dfrac{12}{7}\\left(x^2+\\dfrac{1}{4}\\right)$"
   ]
  },
  {
   "cell_type": "markdown",
   "metadata": {},
   "source": [
    "$P(X<0,5|y=0,5) = \\dfrac{12}{7}\\int_{0}^{0,5}\\left(x^2+\\dfrac{1}{4} \\right)dx \\cong 0,2857$"
   ]
  },
  {
   "cell_type": "markdown",
   "metadata": {},
   "source": [
    "f)"
   ]
  },
  {
   "cell_type": "markdown",
   "metadata": {},
   "source": [
    "$\\mathrm{E(X|y=y_0)} = \\int_{-\\infty}^{+\\infty}xf_{x|y}dx$"
   ]
  },
  {
   "cell_type": "markdown",
   "metadata": {},
   "source": [
    "$E(X|y=0,5) = \\dfrac{12}{7}\\int_0^1 x \\left(x^2+\\dfrac{1}{4} \\right)dx = \\dfrac{9}{14}$"
   ]
  }
 ],
 "metadata": {
  "kernelspec": {
   "display_name": "Python 3",
   "language": "python",
   "name": "python3"
  },
  "language_info": {
   "codemirror_mode": {
    "name": "ipython",
    "version": 3
   },
   "file_extension": ".py",
   "mimetype": "text/x-python",
   "name": "python",
   "nbconvert_exporter": "python",
   "pygments_lexer": "ipython3",
   "version": "3.8.5"
  }
 },
 "nbformat": 4,
 "nbformat_minor": 4
}
