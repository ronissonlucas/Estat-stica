{
 "cells": [
  {
   "cell_type": "markdown",
   "metadata": {},
   "source": [
    "# <b>Probabilidade</b>"
   ]
  },
  {
   "cell_type": "markdown",
   "metadata": {},
   "source": [
    "* Modelo determinístico: admite-se que o resultado efetivo (numérico ou de outra espécie)  seja determinado pelas condições sob as quais o experimento ou o procedimento seja executado;\n",
    "* Modelo não-determinístico (probabilístico ou estocástico): as condições da experimentação determinam somento o comportamento probabilístico (lei probabilística) do resultado observável."
   ]
  },
  {
   "cell_type": "markdown",
   "metadata": {},
   "source": [
    "<b>Experimentos aleatórios</b>"
   ]
  },
  {
   "cell_type": "markdown",
   "metadata": {},
   "source": [
    "Experimentos que ao serem repetidos nas mesmas condições não produzem o mesmo resultado."
   ]
  },
  {
   "cell_type": "markdown",
   "metadata": {},
   "source": [
    "<b>Experimentos determinísticos</b>"
   ]
  },
  {
   "cell_type": "markdown",
   "metadata": {},
   "source": [
    "Experimentos que ao serem repetidos nas mesmas condições conduzem ao mesmo resultado."
   ]
  },
  {
   "cell_type": "markdown",
   "metadata": {},
   "source": [
    "<b>Espaço amostral</b>"
   ]
  },
  {
   "cell_type": "markdown",
   "metadata": {},
   "source": [
    "Definição: para um dado experimento $\\varepsilon$ (estocástico), definimos o espaço amostral $S$ como o conjunto de todos os resultados possíveis deste experimento."
   ]
  },
  {
   "cell_type": "markdown",
   "metadata": {},
   "source": [
    "<b>Evento</b>"
   ]
  },
  {
   "cell_type": "markdown",
   "metadata": {},
   "source": [
    "Definição: Um evento $A$ é um subconjunto do espaço amostral: $A \\subset S$. Se o espaço amostral for finito ou infinito numerável, todo subconjunto poderá ser considerado um evento, tal que se $S$ possui n elementos, então existirão $2^n$ subconjuntos associados (eventos).Contudo, se o espaço amostral for infinito não-numerável, verifica-se que nem todo subconjunto associado poderá ser considerado um evento deste."
   ]
  },
  {
   "cell_type": "markdown",
   "metadata": {},
   "source": [
    "Usando as técnicas da teoria dos conjuntos exposta previamente, se $A$ e $B$ forem eventos, temos que:\n",
    "1. $A\\cup B$ será o evento que ocorrerá se, e somente se, $A$ ou $B$ (ou ambos) ocorrerem;\n",
    "2. $A \\cap B$ será o evento que ocorrerá se, e somente se, $A$ e $B$ ocorrerem;\n",
    "3. $\\overline{A}$ ocorrerá se, e somente se, o evento A não ocorrer;\n",
    "4. Sendo $A_1, \\dots A_n$ uma coleção finita de eventos, então o evento $\\bigcup\\limits_{i=1}^{n}A_i$ ocorrerá se, e somente se, ao menos um dos eventos $A_{i}$ ocorrer;\n",
    "5. Sendo $A_1, \\dots A_n$ uma coleção finita de eventos, então o evento $\\bigcap\\limits_{i=1}^{n}A_i$ ocorrerá se, e somente se, todos os eventos $A_{i}$ ocorrerem;\n",
    "6. Sendo $A_1, \\dots A_n$ uma coleção infinita (numerável) de eventos, então o evento $\\bigcup\\limits_{i=1}^{\\infty}$ ocorrerá se, e somente se, ao menos um dos eventos $A_i$ ocorrer;\n",
    "7. Sendo $A_1, \\dots A_n$ uma coleção infinita (numerável) de eventos, então o evento $\\bigcap\\limits_{i=1}^{\\infty}A_i$ ocorrerá se, e somente se, todos os eventos $A_i$ ocorrerem;\n",
    "8. Seja $n$ a quantidade de repetições de um experimente $\\varepsilon$ de um espaço amostral $S$, então o conjunto de todos os possíveis resultados quando $\\varepsilon$ for executado $n$ vezes será denotado como: $S \\times S \\times S \\times \\dots \\times S = \\{\\left(s_1,s_2, \\dots ,s_n \\right),s_i \\in S, \\forall i=i, \\dots, n \\}$"
   ]
  },
  {
   "cell_type": "markdown",
   "metadata": {},
   "source": [
    "Definição: A e B são denominados eventos mutuamente excludentes (ou disjuntos) se $A \\cap B = \\emptyset$ (não podem ocorrer juntos tal que a interseção entre ambos seja um conjunto vazio)."
   ]
  },
  {
   "cell_type": "markdown",
   "metadata": {},
   "source": [
    "Adicionalmente se o evento é um entendido como impossível de ocorrer temos então que $P \\left( A \\right) = 0$, mas se A ocorre com certeza então, $P \\left( A \\right) = 1$. Além do que, a probabilidade de um evento impossível ocorrer é tal que  $P \\left( \\emptyset \\right) = 0$."
   ]
  },
  {
   "cell_type": "markdown",
   "metadata": {},
   "source": [
    "De forma simplificada podemos definir a probabilidade de ocorrência de um evento A da seguinte forma: <br>\n",
    "$P \\left( A \\right) = \\dfrac{\\text{número de vezes em que A ocorre}}{\\text{número de vezes em que todos os eventos ocorrem}} = \\dfrac{n_A}{n}$"
   ]
  },
  {
   "cell_type": "markdown",
   "metadata": {},
   "source": [
    "Definição frequentista de probabilidade, sendo $n$ o número de vezes em que o experimento é feito:<br>\n",
    "$P\\left(A \\right) = \\lim_{n\\rightarrow \\infty} \\frac{n_A}{n}$"
   ]
  },
  {
   "cell_type": "markdown",
   "metadata": {},
   "source": [
    "<b>Definição:</b> Seja $\\varepsilon$ um experimento. Seja $S$ um espaço amostral associado a $\\varepsilon$ . A cada evento $A$ associaremos um número real representado por $P(A)$ e denominado probabilidade de $A$, que satisfaça as seguintes propriedades:\n",
    "1. $0 \\leq P\\left(A\\right) \\leq 1$\n",
    "2. $P(S)=1$\n",
    "3. Se $A$ e $B$ forem eventos mutuamente excludentes então $P\\left(A \\cup B \\right) = P\\left(A\\right)+P\\left(B\\right)$\n",
    "4. Se $A_1,A_2,\\ldots,A_n,\\ldots$ forem eventos, dois a dois, eventos mutuamente excludentes então: \n",
    " $P\\left(\\bigcup_{i=1}^{\\infty}A_i\\right) = P\\left(A_1\\right)+P\\left(A_2\\right)+\\ldots+P\\left(A_n\\right)+\\ldots$"
   ]
  },
  {
   "cell_type": "markdown",
   "metadata": {},
   "source": [
    "De (3) decorre que, para um $n$ finito:"
   ]
  },
  {
   "cell_type": "markdown",
   "metadata": {},
   "source": [
    "$P\\left(\\bigcup_{i=1}^{n} A_i \\right) = \\sum_{i=1}^{n}P\\left(A_i \\right)$"
   ]
  },
  {
   "cell_type": "markdown",
   "metadata": {},
   "source": [
    "* $\\mathrm{P(\\emptyset)} = 0$\n",
    "* $P( \\overline{A} ) = 1 - P(A)$\n",
    "    * $P(S) = P(A \\cup \\overline{A}) = P(A)+P(\\overline{A}) \\Rightarrow 1 = P(A)+P(\\overline{A})$\n",
    "* Se $A \\subset B$, então $P(A) \\leq P(B)$.\n",
    "    "
   ]
  },
  {
   "cell_type": "markdown",
   "metadata": {},
   "source": [
    "<b>União e interseção de eventos</b>"
   ]
  },
  {
   "cell_type": "markdown",
   "metadata": {},
   "source": [
    "* A união de dois eventos $A$ e $B$, $A \\cup B$, é o evento que ocorre se pelo menos um deles ocorre."
   ]
  },
  {
   "cell_type": "markdown",
   "metadata": {},
   "source": [
    " * A interseção de dois eventos $A$ e $B$, $A \\cap B$, é o evento que ocorre se ambos os eventos ocorrem."
   ]
  },
  {
   "cell_type": "markdown",
   "metadata": {},
   "source": [
    "Sejam $A$ e $B$ dois eventos quaisquer, então:"
   ]
  },
  {
   "cell_type": "markdown",
   "metadata": {},
   "source": [
    "$P \\left( A \\text{ e } B\\right) = P \\left( A \\cap B\\right)$"
   ]
  },
  {
   "cell_type": "markdown",
   "metadata": {},
   "source": [
    "$P \\left( A \\text{ ou } B\\right) = P \\left( A \\cup B\\right) = P(A)+P(B)-P(A \\cap B)$"
   ]
  },
  {
   "cell_type": "markdown",
   "metadata": {},
   "source": [
    "Sejam $A$,$B$ e $C$ eventos quaisquer, entao:<br>\n",
    "$$P\\left(A \\cup B \\cup C \\right) = P(A)+P(B)+P(C)-P(A \\cap B)-P(A \\cap C)-P(B \\cap C)+P(A \\cap B \\cap C) $$"
   ]
  },
  {
   "cell_type": "markdown",
   "metadata": {},
   "source": [
    "Se $A$ e $B$ são eventos mutuamente exclusivos (disjuntos, em que $A \\cap B = \\emptyset$): <br>$P\\left(A \\cup B\\right) = P(A)+P(B)$."
   ]
  },
  {
   "cell_type": "markdown",
   "metadata": {},
   "source": [
    "Se $A$, $B$ e $C$ são eventos mutuamente exclusivos (disjuntos, em que $A \\cap B = \\emptyset$, $A \\cap C = \\emptyset$, $B \\cap C = \\emptyset$ e como implicação $A \\cap B \\cap C = \\emptyset$):\n",
    "<br>$$P\\left(A \\cup B \\cup C\\right) = P(A)+P(B)+P(C)$$"
   ]
  },
  {
   "cell_type": "markdown",
   "metadata": {},
   "source": [
    "Exemplo: Duas crianças gêmeas têm o seguinte comportamento: uma delas, a mais chorona, chora 65% do dia; a outra chora 45% do dia, e ambas choram, ao mesmo tempo, 30% do dia. Qual a probabilidade de que pelo menos uma chore? E qual a probabilidade de que nenhuma chore?"
   ]
  },
  {
   "cell_type": "markdown",
   "metadata": {},
   "source": [
    "* C1: primeira criança chora\n",
    "* C2: segunda criança chora"
   ]
  },
  {
   "cell_type": "markdown",
   "metadata": {},
   "source": [
    "$P(C1 \\text{ ou } C2) = P(C1)+P(C2)-P(C1 \\text{ e } C2) = 0,65+0,45-0,3 = 0,8$"
   ]
  },
  {
   "cell_type": "markdown",
   "metadata": {},
   "source": [
    "$P(\\text{nenhuma chora}) = 1-P(C1 \\text{ ou } C2) = 1-0,8 = 0,2$"
   ]
  },
  {
   "cell_type": "markdown",
   "metadata": {},
   "source": [
    "<b> Probabilidade Condicional e Incondicional</b>"
   ]
  },
  {
   "cell_type": "markdown",
   "metadata": {},
   "source": [
    "Qual a probabilidade de $A$ ocorrer dado que $B$ ocorreu (ou vai ocorrer)?"
   ]
  },
  {
   "cell_type": "markdown",
   "metadata": {},
   "source": [
    "Sejam $A$ e $B$ dois eventos de um espaço amostral e $P(A)>0$, então a probabilidade condicional de $B$ dado $A$ é definida como segue:"
   ]
  },
  {
   "cell_type": "markdown",
   "metadata": {},
   "source": [
    "$$P(B|A) = \\frac{P(A \\cap B)}{P(A)}$$"
   ]
  },
  {
   "cell_type": "markdown",
   "metadata": {},
   "source": [
    "De igual modo definimos a probabilidade de $A$ dado $B$, com $P(B)>0$:"
   ]
  },
  {
   "cell_type": "markdown",
   "metadata": {},
   "source": [
    "$$P(A|B) = \\frac{P(A \\cap B)}{P(B)}$$"
   ]
  },
  {
   "cell_type": "markdown",
   "metadata": {},
   "source": [
    "$$P\\left(A \\cap B \\right) = P\\left(A | B\\right) P\\left(B\\right)$$"
   ]
  },
  {
   "cell_type": "markdown",
   "metadata": {},
   "source": [
    "$$P\\left(A \\cap B \\right) = P\\left(B | A\\right) P\\left(A\\right)$$"
   ]
  },
  {
   "cell_type": "markdown",
   "metadata": {},
   "source": [
    "Então (Regra da Multiplicação):"
   ]
  },
  {
   "cell_type": "markdown",
   "metadata": {},
   "source": [
    "$P(A \\cap B) = P(A|B)P(B) = P(B|A)P(A)$"
   ]
  },
  {
   "cell_type": "markdown",
   "metadata": {},
   "source": [
    "E se B nao tiver efeito sobre $P(A)$ (vice-versa)?"
   ]
  },
  {
   "cell_type": "markdown",
   "metadata": {},
   "source": [
    "Sejam $A$ e $B$ dois eventos, então o evento $B$ é dito independente do evento $A$ se (ou seja, a ocorrência do evento $A$ não afeta a ocorrência de $B$):"
   ]
  },
  {
   "cell_type": "markdown",
   "metadata": {},
   "source": [
    "$$P(B|A) = P(B)$$"
   ]
  },
  {
   "cell_type": "markdown",
   "metadata": {},
   "source": [
    "O evento $A$ é dito independente do evento $B$ se:"
   ]
  },
  {
   "cell_type": "markdown",
   "metadata": {},
   "source": [
    "$$P(A|B) = P(A)$$"
   ]
  },
  {
   "cell_type": "markdown",
   "metadata": {},
   "source": [
    "Logo, se $A$ e $B$ são independentes temos que:"
   ]
  },
  {
   "cell_type": "markdown",
   "metadata": {},
   "source": [
    "$$P(A \\cap B) = P(A).P(B)$$"
   ]
  },
  {
   "cell_type": "markdown",
   "metadata": {},
   "source": [
    "$$P\\left(A \\cup B\\right) = P(A)+P(B)-P(A).P(B)$$"
   ]
  },
  {
   "cell_type": "markdown",
   "metadata": {},
   "source": [
    "Então, os eventos $A$ e $B$ sao ditos independentes (a probabilidade condicional é igual a probabilidade não condicional)."
   ]
  },
  {
   "cell_type": "markdown",
   "metadata": {},
   "source": [
    "Se $A$, $B$ e $C$ são eventos independentes, então: <br>\n",
    "$$\\mathrm{P(A \\cap B \\cap C)} = \\mathrm{P(A)P(B)P(C)}$$\n",
    "<br>Se $A$, $B$ e $C$ são dois a dois independentes, vale: $\\mathrm{P(A \\cap B)} = \\mathrm{P(A)P(B)}$, $\\mathrm{P(A \\cap C)} = \\mathrm{P(A)P(C)}$ e $\\mathrm{P(B \\cap C)} = \\mathrm{P(B)P(C)}$ e $\\mathrm{P(A \\cap B \\cap C)} = \\mathrm{P(A)P(B)P(C)}$, então os eventos $A$, $B$ e $C$ são independentes."
   ]
  },
  {
   "cell_type": "markdown",
   "metadata": {},
   "source": [
    "Exemplo:"
   ]
  },
  {
   "cell_type": "markdown",
   "metadata": {},
   "source": [
    "Foi feita uma pesquisa com 100 pessoas sobre as preferências a respeito de programas na televisão. Os resultados obtidos são mostrados na tabela a seguir."
   ]
  },
  {
   "cell_type": "markdown",
   "metadata": {},
   "source": [
    "<table style=\"width:50%\">\n",
    "  <tr>\n",
    "    <th></th>\n",
    "    <th>Homens</th>\n",
    "    <th>Mulheres</th>\n",
    "    <th>Total</th>\n",
    "  </tr>\n",
    "  <tr>\n",
    "    <td>Futebol</td>\n",
    "    <td>40</td>\n",
    "    <td>20</td>\n",
    "    <td>60</td>\n",
    "  </tr>\n",
    "  <tr>\n",
    "    <td>Novela</td>\n",
    "    <td>5</td>\n",
    "    <td>35</td>\n",
    "    <td>40</td>\n",
    "  </tr>\n",
    "  <tr>\n",
    "    <td>Total</td>\n",
    "    <td>45</td>\n",
    "    <td>55</td>\n",
    "    <td>100</td>\n",
    "  </tr>\n",
    "</table>"
   ]
  },
  {
   "cell_type": "markdown",
   "metadata": {},
   "source": [
    "Entre o grupo de entrevistados, qual a probabilidade de preferir novela? E futebol?"
   ]
  },
  {
   "cell_type": "markdown",
   "metadata": {},
   "source": [
    "$P(\\text{novela}) = \\dfrac{40}{100} = 0,4 = 40$%"
   ]
  },
  {
   "cell_type": "markdown",
   "metadata": {},
   "source": [
    "$P(\\text{futebol}) = \\dfrac{60}{100} = 0,6 = 60$%"
   ]
  },
  {
   "cell_type": "markdown",
   "metadata": {},
   "source": [
    "Qual a probabilidade de ser mulher e preferir futebol?"
   ]
  },
  {
   "cell_type": "markdown",
   "metadata": {},
   "source": [
    "$P(\\text{mulher e futebol}) = \\dfrac{20}{100} = 0,2 = 20$%"
   ]
  },
  {
   "cell_type": "markdown",
   "metadata": {},
   "source": [
    "Qual a probabilidade de,sendo homem, preferir futebol?"
   ]
  },
  {
   "cell_type": "markdown",
   "metadata": {},
   "source": [
    "$P(\\text{futebol|homem}) = \\dfrac{P(\\text{homem e futebol})}{P(\\text{homem})} = \\dfrac{\\frac{40}{100}}{\\frac{45}{100}} = 0,888... = 88,88$%"
   ]
  },
  {
   "cell_type": "markdown",
   "metadata": {},
   "source": [
    "Qual a probabilidade de, se preferir novela, ser mulher?"
   ]
  },
  {
   "cell_type": "markdown",
   "metadata": {},
   "source": [
    "$P(\\text{mulher|novela}) = \\dfrac{P(\\text{mulher e novela})}{P(\\text{novela})} = \\dfrac{\\frac{35}{100}}{\\frac{40}{100}} = 0,875 = 87,5$%"
   ]
  },
  {
   "cell_type": "markdown",
   "metadata": {},
   "source": [
    "<b>Partição do Espaço Amostral</b>"
   ]
  },
  {
   "cell_type": "markdown",
   "metadata": {},
   "source": [
    "Definimos a partição de um espaço amostral como um conjunto de eventos mutuamente exclusivos cuja união forma o espaço amostral."
   ]
  },
  {
   "cell_type": "markdown",
   "metadata": {},
   "source": [
    "* $A_i \\cap A_j = \\emptyset , \\forall i \\neq j$ (eventos mutuamente excludentes)\n",
    "* $\\bigcup_{i = 1}^{n}A_i = S$ (união dos eventos corresponde ao espaço amostral)\n",
    "* $P(A_i)>0 , \\forall i=1, \\dots, n$"
   ]
  },
  {
   "cell_type": "markdown",
   "metadata": {},
   "source": [
    "<b>Teorema da Probabilidade Total</b>"
   ]
  },
  {
   "cell_type": "markdown",
   "metadata": {},
   "source": [
    "Se $B_1, \\dots B_k$ formam uma partição do espaço amostral $S$, então qualquer evento $A$ neste espaço amostral satisfaz:"
   ]
  },
  {
   "cell_type": "markdown",
   "metadata": {},
   "source": [
    "$\\mathrm{P(A)} = \\sum_{i = 1}^{k}\\mathrm{P(B_i)P(A|B_i)} $"
   ]
  },
  {
   "cell_type": "markdown",
   "metadata": {},
   "source": [
    "Podemos escrever $A$ da seguinte forma:"
   ]
  },
  {
   "cell_type": "markdown",
   "metadata": {},
   "source": [
    "$A =(A \\cap B_1) \\cup (A \\cap B_2) \\cup \\dots \\cup (A \\cap B_k)$"
   ]
  },
  {
   "cell_type": "markdown",
   "metadata": {},
   "source": [
    "$\\mathrm{P(A)}= \\mathrm{P\\left[ (A \\cap B_1) \\cup (A \\cap B_2) \\cup \\dots \\cup (A \\cap B_k)\\right]}$"
   ]
  },
  {
   "cell_type": "markdown",
   "metadata": {},
   "source": [
    "$\\mathrm{P(A)}= \\mathrm{P(A \\cap B_1)}+\\mathrm{P(A \\cap B_2)}+\\dots+\\mathrm{P(A \\cap B_k)}$"
   ]
  },
  {
   "cell_type": "markdown",
   "metadata": {},
   "source": [
    "Usando: $\\mathrm{P(A \\cap B_i)} = \\mathrm{P(A|B_i)P(B_i)}$"
   ]
  },
  {
   "cell_type": "markdown",
   "metadata": {},
   "source": [
    "$\\mathrm{P(A)}= \\mathrm{P(A|B_1)P(B_1)}+\\mathrm{P(A|B_2)P(B_2)}+\\dots+\\mathrm{P(A|B_k)P(B_k)}$"
   ]
  },
  {
   "cell_type": "markdown",
   "metadata": {},
   "source": [
    "<b>Regra Bayes</b>"
   ]
  },
  {
   "cell_type": "markdown",
   "metadata": {},
   "source": [
    "Do Teorema da Probabilidade Total derivamos:"
   ]
  },
  {
   "cell_type": "markdown",
   "metadata": {},
   "source": [
    "$\\mathrm{P(B_i|A)} = \\dfrac{\\mathrm{P(A \\cap B_i)}}{\\mathrm{P(A)}} = \\dfrac{\\mathrm{P(B_i)P(A|B_i)}}{\\sum_{i=1}^{k}P(B_i)P(A|B_i)}$"
   ]
  },
  {
   "cell_type": "markdown",
   "metadata": {},
   "source": [
    "Exemplo:"
   ]
  },
  {
   "cell_type": "markdown",
   "metadata": {},
   "source": [
    "Suponha que, numa eleição para governador em um estado norte-americano, temos um candidato democrata e um republicano. Entre os eleitores brancos, 30% votam no democrata, proporção que sobe para 60% entre eleitores negros e é de 50% entre os eleitores de outras etnias. Sabendo-se que há 70% de eleitores brancos, 20% de negros e 10% de outras etnias. Qual a probabilidade de o voto ser de um eleitor negro, dado que o voto é para o candidato democrata?"
   ]
  },
  {
   "cell_type": "markdown",
   "metadata": {},
   "source": [
    "Notação:\n",
    "* B - branco\n",
    "* N - negro\n",
    "* O - outras etnias\n",
    "* D - democrata\n",
    "* R - republicano"
   ]
  },
  {
   "cell_type": "markdown",
   "metadata": {},
   "source": [
    "* $P(B) = 0,7$\n",
    "* $P(N) = 0,2$\n",
    "* $P(O) = 0,1$\n",
    "* $P(D|N) = 0,6$\n",
    "* $P(D|B) = 0,3$\n",
    "* $P(D|O) = 0,5$"
   ]
  },
  {
   "cell_type": "markdown",
   "metadata": {},
   "source": [
    "$P(N|D) = ?$<br>\n",
    "$P(N|D) = \\dfrac{P(\\text{N e D})}{P(D)}$"
   ]
  },
  {
   "cell_type": "markdown",
   "metadata": {},
   "source": [
    "Probabilidade de ser negro e democrata:"
   ]
  },
  {
   "cell_type": "markdown",
   "metadata": {},
   "source": [
    "$P(\\text{N e D}) = P(N) \\times P(D|N) = 0,2 \\times 0,6 = 0,12$"
   ]
  },
  {
   "cell_type": "markdown",
   "metadata": {},
   "source": [
    "Probabilidade de ser democrata:"
   ]
  },
  {
   "cell_type": "markdown",
   "metadata": {},
   "source": [
    "$P(D) = P(\\text{D e B})+P(\\text{D e N})+P(\\text{D e O}) = 0,7 \\times 0,3+0,2 \\times 0,6 +0,1 \\times 0,5 = 0,38$"
   ]
  },
  {
   "cell_type": "markdown",
   "metadata": {},
   "source": [
    "$P(N|D) = \\dfrac{0,12}{0,38} = 0,3158 = 31,58$%"
   ]
  },
  {
   "cell_type": "markdown",
   "metadata": {},
   "source": [
    "31,58% dos votos democratas são de eleitores negros."
   ]
  },
  {
   "cell_type": "markdown",
   "metadata": {},
   "source": [
    "# <b>Questões de fixação</b>"
   ]
  },
  {
   "cell_type": "markdown",
   "metadata": {},
   "source": [
    "Q12- 2006<br> Em uma região, 25% da população são pobres. As mulheres são sobrerrepresentadas neste grupo, pois constituem 75% dos pobres, mas 50% da população. Calcule a proporção de pobres entre as mulheres. Multiplique o resultado por 100 e omita os valores após a vírgula.\n"
   ]
  },
  {
   "cell_type": "markdown",
   "metadata": {},
   "source": [
    "$\\mathrm{P}\\left(\\text{Pobre}\\cap\\text{Mulher}\\right) = \\mathrm{P}\\left(\\text{Mulher|Pobre}\\right) \\times \\mathrm{P} \\left(\\text{Pobre}\\right) $"
   ]
  },
  {
   "cell_type": "markdown",
   "metadata": {},
   "source": [
    "$\\mathrm{P}\\left(\\text{Pobre|Mulher}\\right) = \\dfrac{\\mathrm{P}\\left(\\text{Pobre} \\cap \\text{Mulher}\\right)}{\\mathrm{P} \\left(\\text{Mulher}\\right)} = \\dfrac{0,75 \\times 0,25}{0,5} = 37,5$"
   ]
  },
  {
   "cell_type": "markdown",
   "metadata": {},
   "source": [
    "Q13-2017 <br>Considere dois eventos, $A$ e $B$, os quais são mutuamente excludentes, sendo $P(A)$ a probabilidade de ocorrência de $A$ e $P(B)$ a probabilidade de ocorrência de $B$, então:<br>\n",
    "0 - $\\mathrm{P(A|B)}=0$; <br>\n",
    "1 - $\\mathrm{P(B|A)}=1$;<br>\n",
    "2 - A e B são independentes se, e somente se, $\\mathrm{P(A|B)}=\\mathrm{P(A)}$ e $\\mathrm{P(B|A)} = \\mathrm{P(B)}$; <br>\n",
    "3 - A e B são independentes se $\\mathrm{P(A|B)} = \\mathrm{P(A)}$; <br>\n",
    "4 - A e B são independentes se $\\mathrm{P(B|A)} = \\mathrm{P(B)}$."
   ]
  },
  {
   "cell_type": "markdown",
   "metadata": {},
   "source": [
    "$A \\cap B = \\emptyset \\Rightarrow \\mathrm{P(A\\cap B)} = \\mathrm{P(\\emptyset)} = 0$ "
   ]
  },
  {
   "cell_type": "markdown",
   "metadata": {},
   "source": [
    "0 - (V)"
   ]
  },
  {
   "cell_type": "markdown",
   "metadata": {},
   "source": [
    "$\\mathrm{P(A|B)} = \\dfrac{\\mathrm{P(A \\cap B)}}{\\mathrm{P(B)}} = \\dfrac{0}{\\mathrm{P(B)}} = 0$"
   ]
  },
  {
   "cell_type": "markdown",
   "metadata": {},
   "source": [
    "1 - (F)"
   ]
  },
  {
   "cell_type": "markdown",
   "metadata": {},
   "source": [
    "$\\mathrm{P(B|A)} = \\dfrac{\\mathrm{P(A \\cap B)}}{\\mathrm{P(A)}} = \\dfrac{0}{\\mathrm{P(A)}} = 0$"
   ]
  },
  {
   "cell_type": "markdown",
   "metadata": {},
   "source": [
    "2 - (F)"
   ]
  },
  {
   "cell_type": "markdown",
   "metadata": {},
   "source": [
    "Vimos anteriormente que: $\\mathrm{P(A|B)} = \\mathrm{P(B|A)} = 0$. Para que os eventos $A$ e $B$ sejam independentes devemos ter $\\mathrm{P(A \\cap B)} = \\mathrm{P(A)P(B)}$,o que implicaria  $\\mathrm{P(A)} = 0$ ou $\\mathrm{P(B)} = 0$."
   ]
  },
  {
   "cell_type": "markdown",
   "metadata": {},
   "source": [
    "3 - (F)"
   ]
  },
  {
   "cell_type": "markdown",
   "metadata": {},
   "source": [
    "Conforme item (2)."
   ]
  },
  {
   "cell_type": "markdown",
   "metadata": {},
   "source": [
    "4 - (F)"
   ]
  },
  {
   "cell_type": "markdown",
   "metadata": {},
   "source": [
    "Conforme item (2)."
   ]
  }
 ],
 "metadata": {
  "kernelspec": {
   "display_name": "Python 3",
   "language": "python",
   "name": "python3"
  },
  "language_info": {
   "codemirror_mode": {
    "name": "ipython",
    "version": 3
   },
   "file_extension": ".py",
   "mimetype": "text/x-python",
   "name": "python",
   "nbconvert_exporter": "python",
   "pygments_lexer": "ipython3",
   "version": "3.8.5"
  }
 },
 "nbformat": 4,
 "nbformat_minor": 4
}
