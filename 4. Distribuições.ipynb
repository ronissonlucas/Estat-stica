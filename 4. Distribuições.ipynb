{
 "cells": [
  {
   "cell_type": "markdown",
   "metadata": {},
   "source": [
    "# <b>Distribuições discretas</b>"
   ]
  },
  {
   "cell_type": "markdown",
   "metadata": {},
   "source": [
    "#### 1. Distribuição de Bernouilli"
   ]
  },
  {
   "cell_type": "markdown",
   "metadata": {},
   "source": [
    "Características/uso"
   ]
  },
  {
   "cell_type": "markdown",
   "metadata": {},
   "source": [
    "* Caracteriza-se pela existência de dois eventos, sucesso e fracasso, realizados uma única vez, com probabalidade de sucessso $p$ e probabilidade de fracasso $(1-p)$. \n",
    "* Exemplo: lançamento de uma moeda uma única vez. A probabilidade de sucesso (cara) é $p=1/2$ e a probabilidade de fracasso (coroa) $(1-p) = 1/2$ (Mostre que neste caso, para $p = 1$: $E(X) = 0.5$,$Var(X) = 0.25$).\n",
    "    * $E(X) = 1 \\times p +0\\times (1-p) = p$\n",
    "    * $E(X^2) = 1^2 \\times p+0^2 \\times (1-p) = p$\n",
    "    * $Var(X) = 1/2 - (1/2)^2 = 1/4$\n",
    "* O lançamento de um dado: a aposta em um determinado número implica em uma probabilidade de sucesso $p = 1/6$ e que a probabilidade de fracasso seja $(1-p) = 5/6$\n",
    "* v.a.:obter sucesso em uma única rodada."
   ]
  },
  {
   "cell_type": "markdown",
   "metadata": {},
   "source": [
    "Forma geral $P(X = k)$"
   ]
  },
  {
   "cell_type": "markdown",
   "metadata": {},
   "source": [
    "$P(X = k) = p^{k}\\left(1-p\\right)^{1-k}$,$k=0,1$"
   ]
  },
  {
   "cell_type": "markdown",
   "metadata": {},
   "source": [
    "Esperança"
   ]
  },
  {
   "cell_type": "markdown",
   "metadata": {},
   "source": [
    "$\\mathrm{E(X)} = 1 \\times p+ 0 \\times (1-p) = p$"
   ]
  },
  {
   "cell_type": "markdown",
   "metadata": {},
   "source": [
    "$\\mathrm{E(X)} = p$"
   ]
  },
  {
   "cell_type": "markdown",
   "metadata": {},
   "source": [
    "Variância"
   ]
  },
  {
   "cell_type": "markdown",
   "metadata": {},
   "source": [
    "$\\mathrm{E(X^2)} = X_1^{2}P(X_1)+X_{2}^{2}P(X_2)$<br>\n",
    "$\\mathrm{E{(X^2)}} = 1^2 \\times p + 0^2 \\times (1-p) = p$ <br>\n",
    "$\\mathrm{Var(X)} = \\mathrm{E(X^2)}-\\left[\\mathrm{E(X)}\\right]^2$ <br>\n",
    "$\\mathrm{Var(X)} = p-p^2$"
   ]
  },
  {
   "cell_type": "markdown",
   "metadata": {},
   "source": [
    "$\\mathrm{Var(X)} = p(1-p)$"
   ]
  },
  {
   "cell_type": "markdown",
   "metadata": {},
   "source": [
    "$X \\sim Ber(p)$"
   ]
  },
  {
   "cell_type": "markdown",
   "metadata": {},
   "source": [
    "(Q10-2006) 0 - Se a variável aleatória $Y$ segue uma distribuição Bernoulli com parâmetro $p$, então $E(Y) = p$ (V)."
   ]
  },
  {
   "cell_type": "markdown",
   "metadata": {},
   "source": [
    "#### 2. Distribuição de Binomial"
   ]
  },
  {
   "cell_type": "markdown",
   "metadata": {},
   "source": [
    "Características/uso<br>\n",
    "* Generalização da distribuição de Bernouilli: $p$ é denotada como a probabilidade de sucesso, $(1-p)$ a probabilidade de fracasso, para $n$ experimentos.\n",
    "* Número de tentativas independentes de um experimetno com dois resultados, em que a v.a. é obter um determinando número de sucessos em $n$ tentativas."
   ]
  },
  {
   "cell_type": "markdown",
   "metadata": {},
   "source": [
    "Forma geral $P(X = k)$"
   ]
  },
  {
   "cell_type": "markdown",
   "metadata": {},
   "source": [
    "Então, para um determinado experimento, com $p$ probabilidade de sucesso e $(1-p)$ probabilidade de fracasso, a probabilidade de que, em $n$ repetições, obtenhamos um número $k$ de sucesos é dada por :"
   ]
  },
  {
   "cell_type": "markdown",
   "metadata": {},
   "source": [
    "$P(X=k)=\n",
    "  \\left(\n",
    "  \\begin{array}{ccc}\n",
    "    n\\\\\n",
    "    k\n",
    "   \\end{array}\n",
    "   \\right)\n",
    "   p^k(1-p)^{n-k}$"
   ]
  },
  {
   "cell_type": "markdown",
   "metadata": {},
   "source": [
    "$\\left(\n",
    "  \\begin{array}{ccc}\n",
    "    n\\\\\n",
    "    k\n",
    "   \\end{array}\n",
    "   \\right) = \\dfrac{n!}{k!(n-k)!}$"
   ]
  },
  {
   "cell_type": "markdown",
   "metadata": {},
   "source": [
    "Esperança"
   ]
  },
  {
   "cell_type": "markdown",
   "metadata": {},
   "source": [
    "$E(X) = np$"
   ]
  },
  {
   "cell_type": "markdown",
   "metadata": {},
   "source": [
    "Variância"
   ]
  },
  {
   "cell_type": "markdown",
   "metadata": {},
   "source": [
    "$Var(X) = np(1-p)$"
   ]
  },
  {
   "cell_type": "markdown",
   "metadata": {},
   "source": [
    "$X \\sim b(n,p)$"
   ]
  },
  {
   "cell_type": "markdown",
   "metadata": {},
   "source": [
    "(Q10-2006) <br>\n",
    "0 - Se a variável aleatória Y segue uma distribuição Bernoulli com parâmetro p, então E(Y) = p (V). <br>\n",
    "1 - Uma soma de variáveis aleatórias Binomiais segue uma distribuição Bernoulli. (F)<br>"
   ]
  },
  {
   "cell_type": "markdown",
   "metadata": {},
   "source": [
    "Em (1) o certo seria afirmar que uma soma de variáveis aleatórias independentes com distribuição de Bernoulli e com mesma probabilidade, seguem uma distribuição Binomial."
   ]
  },
  {
   "cell_type": "markdown",
   "metadata": {},
   "source": [
    "#### 3. Distribuição de Geométrica"
   ]
  },
  {
   "cell_type": "markdown",
   "metadata": {},
   "source": [
    "Características/uso"
   ]
  },
  {
   "cell_type": "markdown",
   "metadata": {},
   "source": [
    "* Número de tentativas independentes de um experimento com dois resultados possíveis.\n",
    "* v.a.: número de tentativas até a ocorrência do primeiro sucesso.\n",
    "    * Probabilidade de que o sucesso ocorra na k-ésima jogada.\n",
    "    * Qual a probabilidade de que o dado dê sucesso (número desejado) na quarta jogada?\n",
    "    * Teremos uma sequência de fracassos nas $k-1$ primeiras jogadas e sucesso apenas na k-ésima jogadas."
   ]
  },
  {
   "cell_type": "markdown",
   "metadata": {},
   "source": [
    "Forma geral $P(X = k)$"
   ]
  },
  {
   "cell_type": "markdown",
   "metadata": {},
   "source": [
    "$p+q = 1 \\Rightarrow q = 1-p$"
   ]
  },
  {
   "cell_type": "markdown",
   "metadata": {},
   "source": [
    "$P(X=k)= (q)^{k-1}p = (1-p)^{k-1}p$"
   ]
  },
  {
   "cell_type": "markdown",
   "metadata": {},
   "source": [
    "Esperança"
   ]
  },
  {
   "cell_type": "markdown",
   "metadata": {},
   "source": [
    "$E(X) = \\dfrac{1}{p}$"
   ]
  },
  {
   "cell_type": "markdown",
   "metadata": {},
   "source": [
    "Variância"
   ]
  },
  {
   "cell_type": "markdown",
   "metadata": {},
   "source": [
    "$Var(X) = \\dfrac{1-p}{p^2}$"
   ]
  },
  {
   "cell_type": "markdown",
   "metadata": {},
   "source": [
    "$X \\sim G(p)$"
   ]
  },
  {
   "cell_type": "markdown",
   "metadata": {},
   "source": [
    "#### 4. Distribuição de Hipergeométrica"
   ]
  },
  {
   "cell_type": "markdown",
   "metadata": {},
   "source": [
    "Características/uso"
   ]
  },
  {
   "cell_type": "markdown",
   "metadata": {},
   "source": [
    "* Podemos aplicar tal distribuição se consideramos extrações casuais feitas sem reposição de uma determinada população dividida por dois atributos. Consideremos um população de $N$ objetos, $r$ dos quais têm o atributo $A$ e $N-r$ atributo B. Um grupo de $n$ elementos é escolhido ao acaso, sem reposição. Nosso interesse é calcular a probabilidade de que esse grupo contenha $k$ elementos com o atributo $A$.\n",
    "* v.a.:número de elementos na amostra que têm o atributo $A$."
   ]
  },
  {
   "cell_type": "markdown",
   "metadata": {},
   "source": [
    "Forma geral $P(X = k)$"
   ]
  },
  {
   "cell_type": "markdown",
   "metadata": {},
   "source": [
    " $P(X=k)=\\dfrac{\\left(\\begin{array}{ccc}r\\\\k\\end{array}\\right) \\left(\\begin{array}{ccc}N-r\\\\n-k\\end{array}\\right)}{\\left(\\begin{array}{ccc}N\\\\n\\end{array}\\right)}$"
   ]
  },
  {
   "cell_type": "markdown",
   "metadata": {},
   "source": [
    "Esperança"
   ]
  },
  {
   "cell_type": "markdown",
   "metadata": {},
   "source": [
    "$E(X) = np$"
   ]
  },
  {
   "cell_type": "markdown",
   "metadata": {},
   "source": [
    "Variância"
   ]
  },
  {
   "cell_type": "markdown",
   "metadata": {},
   "source": [
    "$Var(X) = np(1-p)\\dfrac{N-n}{N-1}$"
   ]
  },
  {
   "cell_type": "markdown",
   "metadata": {},
   "source": [
    "Em que: $p = \\dfrac{r}{N}$."
   ]
  },
  {
   "cell_type": "markdown",
   "metadata": {},
   "source": [
    "$X \\sim hip(N,r,n)$"
   ]
  },
  {
   "cell_type": "markdown",
   "metadata": {},
   "source": [
    "#### 5. Distribuição de Poisson"
   ]
  },
  {
   "cell_type": "markdown",
   "metadata": {},
   "source": [
    "Características/uso"
   ]
  },
  {
   "cell_type": "markdown",
   "metadata": {},
   "source": [
    "* Podemos empregar a distribuição de Poisson quando desejamos contar o número de eventos de certo tipo que ocorrem num intervalo de tempo, ou superfície ou volume.\n",
    "    * Número de chamadas recebidas por um telefone durante cinco minutos;\n",
    "    * Número de falhas de um computador em um determinado dia;\n",
    "    * Número de relatórios de acidentes enviados a uma companhia de seguros em uma dada semana.\n",
    "* Partimos de uma distribuição binominal, com o $p$ muito pequeno (tende a zero) e $n$ muito grande (tende a infinito).\n",
    "* v.a.:número de sucessos em um intervalo de tempo."
   ]
  },
  {
   "cell_type": "markdown",
   "metadata": {},
   "source": [
    "Forma geral $P(X = k)$"
   ]
  },
  {
   "cell_type": "markdown",
   "metadata": {},
   "source": [
    "$P(X=k)= \\dfrac{e^{- \\lambda}\\lambda^{k}}{k!}$"
   ]
  },
  {
   "cell_type": "markdown",
   "metadata": {},
   "source": [
    "Esperança"
   ]
  },
  {
   "cell_type": "markdown",
   "metadata": {},
   "source": [
    "$E(X)= \\lambda $"
   ]
  },
  {
   "cell_type": "markdown",
   "metadata": {},
   "source": [
    "Variância"
   ]
  },
  {
   "cell_type": "markdown",
   "metadata": {},
   "source": [
    "$Var(X) = \\lambda  $"
   ]
  },
  {
   "cell_type": "markdown",
   "metadata": {},
   "source": [
    "(Q6-2007) Seja X uma variável aleatória com distribuição de Poisson dada por $p_{x}(X) = \\dfrac{\\lambda^x e^{-\\lambda}}{x!}$ , $x = 0, 1, 2, \\dots$ . É correto afirmar que: <br>\n",
    "0 - $\\mathrm{E(X)} = \\lambda$ e $\\mathrm{Var(X)} = \\lambda^2$. <br>\n",
    "1 - $\\mathrm{E(X^2)} = \\lambda +\\lambda^2$. <br>\n",
    "2 - $\\mathrm{E(X)} = e^{-\\lambda}$. <br>\n",
    "3 - $\\mathrm{E(X)} = \\mathrm{Var(X)} = \\lambda$ .<br>\n",
    "4 - $\\mathrm{E(X)} = \\dfrac{\\lambda}{2}$ e $\\mathrm{Var(X)} = \\lambda$ <br>"
   ]
  },
  {
   "cell_type": "markdown",
   "metadata": {},
   "source": [
    "Sabemos que $\\mathrm{E(X)} =\\mathrm{Var(X)} = \\lambda $ e $E(X^2) = \\mathrm{Var(X)}+(\\mathrm{E(X)})^2 = \\lambda+\\lambda^2$. Então é fácil verificar que: 0-(F), 1-(V),2-(F),3-(V) e 4-(F)."
   ]
  },
  {
   "cell_type": "markdown",
   "metadata": {},
   "source": [
    "Q3-2005<br>\n",
    "(1) Se $X_1, \\dots, X_n$ são variáveis aleatórias identicamente distribuídas com distribuição Bernoulli com parâmetro $p$, então, $Z = \\sum_{i = 1}^{n}X_i$ segue uma distribuição Poisson (F).<br>\n",
    "(3)Se $X$ é uma variável aleatória Poisson com média $\\lambda$, então, a variância de $X$ é $\\lambda^2$ (F)."
   ]
  },
  {
   "cell_type": "markdown",
   "metadata": {},
   "source": [
    "# <b>Distribuições contínuas</b>"
   ]
  },
  {
   "cell_type": "markdown",
   "metadata": {},
   "source": [
    "Uma função densidade de probabilidade $f(x)$ deve atender as seguintes restrições:\n",
    "1. $f(x) \\geq 0$\n",
    "2. $\\int_{-\\infty}^{+\\infty} f(x)dx = 1$"
   ]
  },
  {
   "cell_type": "markdown",
   "metadata": {},
   "source": [
    "#### 1. Distribuição Uniforme"
   ]
  },
  {
   "cell_type": "markdown",
   "metadata": {},
   "source": [
    "Uma variável aleatória contínua é dita uniforme no intervalo $\\left[a,b \\right]$, se sua fdp é definida como, tal que $X \\sim U\\left(\\left[a,b\\right]\\right)$:"
   ]
  },
  {
   "cell_type": "markdown",
   "metadata": {},
   "source": [
    "$f(x) = \n",
    "\\begin{cases}\n",
    "k, \\;\\textrm{ se } a \\leq x \\leq b \\\\\n",
    "0, \\;\\textrm{ caso contrário} \\\\\n",
    "\\end{cases}\n",
    "$"
   ]
  },
  {
   "cell_type": "markdown",
   "metadata": {},
   "source": [
    "Para encontrar o valor de $k$ aplicamos a condição $\\int_{-\\infty}^{\\infty} f(x)dx = 1$ de variável aleatória:"
   ]
  },
  {
   "cell_type": "markdown",
   "metadata": {},
   "source": [
    "$\\int_{a}^{b}kdx = 1 \\Rightarrow k\\int_{a}^{b}dx =1 \\Rightarrow kx |_{a}^{b} =1$"
   ]
  },
  {
   "cell_type": "markdown",
   "metadata": {},
   "source": [
    "Então:<br>\n",
    "$k(b-a)=1  \\Rightarrow$ $k = \\dfrac{1}{b-a}$"
   ]
  },
  {
   "cell_type": "markdown",
   "metadata": {},
   "source": [
    "Logo:"
   ]
  },
  {
   "cell_type": "markdown",
   "metadata": {},
   "source": [
    "$ f(x)=\n",
    "\\begin{cases}\n",
    "\\dfrac{1}{b-a},\\;\\textrm{ se } a \\leq x \\leq b \\\\\n",
    "0, \\;\\textrm{ caso contrário} \\\\\n",
    "\\end{cases}$"
   ]
  },
  {
   "cell_type": "markdown",
   "metadata": {},
   "source": [
    "Forma geral $P(X = k)$"
   ]
  },
  {
   "cell_type": "markdown",
   "metadata": {},
   "source": [
    "$f(x) = \\dfrac{1}{b-a}$, $\\forall x \\in \\left[a,b\\right]$"
   ]
  },
  {
   "cell_type": "markdown",
   "metadata": {},
   "source": [
    "Esperança"
   ]
  },
  {
   "cell_type": "markdown",
   "metadata": {},
   "source": [
    "$E(X) = \\dfrac{a+b}{2}$"
   ]
  },
  {
   "cell_type": "markdown",
   "metadata": {},
   "source": [
    "Variância"
   ]
  },
  {
   "cell_type": "markdown",
   "metadata": {},
   "source": [
    "$Var(X) = \\dfrac{\\left(b-a \\right)^2}{12}$"
   ]
  },
  {
   "cell_type": "markdown",
   "metadata": {},
   "source": [
    "(Q10-2006) 4 - A variância de uma distribuição uniforme entre 0 e 2 é igual a 0,5 (F)."
   ]
  },
  {
   "cell_type": "markdown",
   "metadata": {},
   "source": [
    "$\\mathrm{Var(X)} = \\dfrac{(b-a)^2}{12} = \\dfrac{(2-0)^2}{12} = \\dfrac{1}{3}$"
   ]
  },
  {
   "cell_type": "markdown",
   "metadata": {},
   "source": [
    "(Q2-2008) 2 - Uma distribuição uniforme no intervalo [0,10] tem variância igual a 25/3. (V)"
   ]
  },
  {
   "cell_type": "markdown",
   "metadata": {},
   "source": [
    "$\\mathrm{Var(X)} = \\dfrac{(b-a)^2}{12} = \\dfrac{(10-0)^2}{12} = \\dfrac{100}{12} = \\dfrac{25}{3} $"
   ]
  },
  {
   "cell_type": "markdown",
   "metadata": {},
   "source": [
    "(Q1-2019) <br>\n",
    "0 - Uma dada variável aleatória com distribuição uniforme no intervalo [2,5] tem média\n",
    "igual a 3,50. (V)<br>\n",
    "1 - Uma dada variável aleatória com distribuição uniforme no intervalo [2,5] tem variância\n",
    "igual a 0,75 (V)."
   ]
  },
  {
   "cell_type": "markdown",
   "metadata": {},
   "source": [
    "Resolução:"
   ]
  },
  {
   "cell_type": "markdown",
   "metadata": {},
   "source": [
    "0 - $\\mathrm{E(X)} = \\dfrac{2+5}{2} = 3,5 (V)$ <br>\n",
    "1 - $\\mathrm{Var(X)} = \\dfrac{(5-2)^2}{12} = \\dfrac{3}{4} = 0,75 (V)$"
   ]
  },
  {
   "cell_type": "markdown",
   "metadata": {},
   "source": [
    "(Q14-2019) Seja X uma variável aleatória com distribuição uniforme no intervalo [a,b], em que b > a, e\n",
    "função densidade de probabilidade dada por:"
   ]
  },
  {
   "cell_type": "markdown",
   "metadata": {},
   "source": [
    "$ f(x)=\n",
    "\\begin{cases}\n",
    "\\dfrac{1}{b-a},\\;\\textrm{ para } a \\leq x \\leq b \\\\\n",
    "0, \\;\\textrm{ para qualquer outro valor} \\\\\n",
    "\\end{cases}$"
   ]
  },
  {
   "cell_type": "markdown",
   "metadata": {},
   "source": [
    "Então, considerando que c e d são constantes, podemos afirmar: <br>\n",
    "0 - A função distribuição acumulada de X é dada por: $F(X) = \\dfrac{x-a}{b-a}$ para $a \\leq x \\leq b$ e $F(X)=1$ para $x \\geq b$. <br>\n",
    "1 - $\\textrm{Prob}(c \\leq X \\leq d) = \\dfrac{d-a}{b-a}$, em que $a \\leq c < d \\leq b$. <br>\n",
    "2 - $E(X) = \\dfrac{a+b}{2}$ <br>\n",
    "3 - $Var(X) = \\dfrac{\\left(b-a\\right)^2}{4}$ <br>\n",
    "4 - $\\textrm{Prob}(c \\leq X \\leq b) = \\dfrac{b-c}{b-a}$, em que $a \\leq c < b$ <br>"
   ]
  },
  {
   "cell_type": "markdown",
   "metadata": {},
   "source": [
    "Resolução:"
   ]
  },
  {
   "cell_type": "markdown",
   "metadata": {},
   "source": [
    "0 - $F(X) = \\int_{-\\infty}^{x}f(t)dt = \\int_{a}^{x}\\dfrac{1}{b-a}dt = \\dfrac{1}{b-a}t|_{a}^{x} = \\dfrac{x-a}{b-a}$ (V) <br>\n",
    "1 - $\\textrm{Prob}(c \\leq X \\leq d) = \\int_{c}^{d}\\dfrac{1}{b-a}dx = \\dfrac{d-c}{b-a}$ (F)  <br>\n",
    "2 - $\\mathrm{E(X)} = \\dfrac{a+b}{2}$ (V) <br>\n",
    "3 - $\\mathrm{Var(X)} = \\dfrac{(b-a)^2}{12} (F)$ <br>\n",
    "4 - $\\textrm{Prob}(c \\leq X \\leq b) = \\dfrac{b-c}{b-a} (V)$ <br>"
   ]
  },
  {
   "cell_type": "markdown",
   "metadata": {},
   "source": [
    "Demonstrações:"
   ]
  },
  {
   "cell_type": "markdown",
   "metadata": {},
   "source": [
    "\\begin{eqnarray}\n",
    "\\mathrm{E(X)} & = &  \\int_{a}^{b}\\dfrac{1}{b-a}xdx\\\\\n",
    "& = &  \\dfrac{1}{b-a}\\dfrac{x^2}{2}|_{a}^{b} \\\\\n",
    "& = & \\dfrac{1}{b-a}\\left(\\dfrac{b^2}{2}-\\dfrac{a^2}{2}\\right) \\\\\n",
    "& = & \\dfrac{1}{b-a}\\left(\\dfrac{b^2-a^2}{2}\\right) \\\\\n",
    "& = & \\dfrac{(b-a)(b+a)}{(b-2)2} \\\\\n",
    "& = & \\dfrac{a+b}{2} \\\\\n",
    "\\end{eqnarray}"
   ]
  },
  {
   "cell_type": "markdown",
   "metadata": {},
   "source": [
    "\\begin{eqnarray}\n",
    "\\mathrm{E(X^2)} & = &  \\int_{a}^{b}\\dfrac{1}{b-a}x^2dx\\\\\n",
    "& = & \\dfrac{1}{b-a}\\dfrac{x^3}{3}|_{a}^{b}\\\\\n",
    "& = & \\dfrac{1}{3(b-a)}(b^3-a^3)\n",
    "\\end{eqnarray}"
   ]
  },
  {
   "cell_type": "markdown",
   "metadata": {},
   "source": [
    "\\begin{eqnarray}\n",
    "\\mathrm{Var(X)} & = & \\dfrac{b^3-a^3}{3(b-a)}-\\left(\\dfrac{a+b}{2}\\right)^2 \\\\\n",
    "& = & \\dfrac{(b-a)(b^2+ab+a^2)}{3(b-a)}-\\dfrac{a^2+2ab+b^2}{4}\\\\\n",
    "& = & \\dfrac{b^2+ab+a^2}{3}-\\dfrac{a^2+2ab+b^2}{4} \\\\\n",
    "& = & \\dfrac{(b-a)^2}{12} \\\\\n",
    "\\end{eqnarray}"
   ]
  },
  {
   "cell_type": "markdown",
   "metadata": {},
   "source": [
    "#### 2. Distribuição Exponencial"
   ]
  },
  {
   "cell_type": "markdown",
   "metadata": {},
   "source": [
    "Forma geral $P(X = k)$"
   ]
  },
  {
   "cell_type": "markdown",
   "metadata": {},
   "source": [
    "Uma variável $X$ tem distribuição de probablidade exponencial com $\\beta>0$ se, e somente se, sua f.d.p. é dada por, $X \\sim \\textrm{Exp}\\left(\\beta\\right)$:"
   ]
  },
  {
   "cell_type": "markdown",
   "metadata": {},
   "source": [
    "$f(x) = \n",
    "\\begin{cases}\n",
    "\\dfrac{1}{\\beta}e^{(-\\frac{x}{\\beta})}, \\;\\forall x\\geq 0 \\\\\n",
    "0, \\;\\textrm{ caso contrário} \\\\\n",
    "\\end{cases}\n",
    "$"
   ]
  },
  {
   "cell_type": "markdown",
   "metadata": {},
   "source": [
    "Esperança: $\\mathrm{E(X)} = \\beta$ <br>\n",
    "Variância: $\\mathrm{Var(X)} = \\beta^2$"
   ]
  },
  {
   "cell_type": "markdown",
   "metadata": {},
   "source": [
    "Ou ainda se:"
   ]
  },
  {
   "cell_type": "markdown",
   "metadata": {},
   "source": [
    "$f(x) = \n",
    "\\begin{cases}\n",
    "\\beta e^{-\\beta x}, \\;\\forall x\\geq 0 \\\\\n",
    "0, \\;\\textrm{ caso contrário} \\\\\n",
    "\\end{cases}\n",
    "$"
   ]
  },
  {
   "cell_type": "markdown",
   "metadata": {},
   "source": [
    "Esperança: $\\mathrm{E(X)} = \\dfrac{1}{\\beta}$ <br>\n",
    "Variância: $\\mathrm{Var(X)} = \\dfrac{1}{\\beta^2}$"
   ]
  },
  {
   "cell_type": "markdown",
   "metadata": {},
   "source": [
    "#### 3. Distribuição Normal"
   ]
  },
  {
   "cell_type": "markdown",
   "metadata": {},
   "source": [
    "Uma v.a. tem distribuição normal com parâmetros $\\mu$ e $\\sigma^2$, ${-\\infty}<\\mu<{+\\infty}$ e $0<\\sigma^2<{\\infty}$ se sua densidade é dada por:"
   ]
  },
  {
   "cell_type": "markdown",
   "metadata": {},
   "source": [
    "$$f(X;\\mu,\\sigma^2) = \\dfrac{1}{\\sigma\\sqrt{2\\pi}}e^{-\\left(X-\\mu\\right)^2/2\\sigma^2}, {-\\infty}<X<{+\\infty}$$ "
   ]
  },
  {
   "cell_type": "markdown",
   "metadata": {},
   "source": [
    "Uma distribuição $X \\sim N\\left(\\mu, \\sigma^2 \\right)$ com as seguintes propriedades:"
   ]
  },
  {
   "cell_type": "markdown",
   "metadata": {},
   "source": [
    "* A função densidade de probabilidade $f_x(x)$ tem ponto máximo em $x=\\mu$ e o valor máximo é $\\dfrac{1}{\\sigma\\sqrt{2\\pi}}$.\n",
    "* $\\mu+\\sigma$ e $\\mu -\\sigma$ são pontos de inflexão da curva.\n",
    "* A área total da curva vale 1, ou seja, ${\\displaystyle \\int_{-\\infty}^{+\\infty}}f(X;\\mu,\\sigma^2)dx = 1$.\n",
    "* A área é simétrica em relação a $X = \\mu$, isto é, $f(\\mu+X;\\mu,\\sigma^2) = f(\\mu-X;\\mu,\\sigma^2)$ para todo X real.\n",
    "* $E(X) = \\mu$ e $Var(X) = \\sigma^2$"
   ]
  },
  {
   "cell_type": "markdown",
   "metadata": {},
   "source": [
    "Para $\\mu = 0$ e $\\sigma^2 = 1$ temos uma distribuição normal padrão $Z \\sim N(0,1)$ com função densidade:"
   ]
  },
  {
   "cell_type": "markdown",
   "metadata": {},
   "source": [
    "$\\phi\\left(Z\\right) = \\dfrac{1}{\\sqrt{2\\pi}}e^{-Z^2/2}, {-\\infty}<Z<{+\\infty}$"
   ]
  },
  {
   "cell_type": "markdown",
   "metadata": {},
   "source": [
    "Se $X \\sim N(\\mu,\\sigma^2)$ a v.a. definida por $Z = \\dfrac{X-\\mu}{\\sigma}$ terá média 0 e variância 1."
   ]
  },
  {
   "cell_type": "markdown",
   "metadata": {},
   "source": [
    "#### 4. Distribuição Lognormal"
   ]
  },
  {
   "cell_type": "markdown",
   "metadata": {},
   "source": [
    "Uma variável aleatória contínua possui distribuição lognormal se sua f.d.p. é dada:"
   ]
  },
  {
   "cell_type": "markdown",
   "metadata": {},
   "source": [
    "$f(x) = \\dfrac{1}{\\sqrt{2\\pi\\sigma^2}}\\exp^{\\left[-\\dfrac{\\left(\\ln{(x)}-\\mu\\right)^2}{2\\sigma^2}\\right]} , \\forall x>0$"
   ]
  },
  {
   "cell_type": "markdown",
   "metadata": {},
   "source": [
    "Dizemos que uma variável aleatória $X$ tem distribuição lognormal se, e somente se, o seu logaritmo tem distribuição normal (istoe é, uma outra distribuição igual a $Y = \\log{X}$, normalmente distribuída), com parâmetros  $\\mu$ (valor esperado) e $\\sigma^2$ (variância).Usamos a notação: $X \\sim \\textrm{Lognormal}\\left(\\mu,\\sigma^2\\right), -\\infty< \\mu < +\\infty, \\sigma>0$. "
   ]
  },
  {
   "cell_type": "markdown",
   "metadata": {},
   "source": [
    "$\\mathrm{E(X)} = e^{\\mu+\\sigma^2/2}$"
   ]
  },
  {
   "cell_type": "markdown",
   "metadata": {},
   "source": [
    "$\\mathrm{Var(X)} = e^{2(\\mu+\\sigma^2)}-e^{2\\mu+\\sigma^2}$"
   ]
  },
  {
   "cell_type": "markdown",
   "metadata": {},
   "source": [
    "$Md(X) = e^{\\mu}$ <br>\n",
    "$Mo(X) = e^{\\mu-\\sigma^2}$"
   ]
  },
  {
   "cell_type": "markdown",
   "metadata": {},
   "source": [
    "$E(X)>Md(X)>Mo(X) \\Rightarrow \\textrm{ distribuição assimétrica positiva ou assimétrica à direita}$"
   ]
  },
  {
   "cell_type": "markdown",
   "metadata": {},
   "source": [
    "(Q3-2005) 4 - Se a variável X = lnY segue uma distribuição Normal, então, Y segue uma distribuição Lognormal (V).É exatamente a definição da distribuição."
   ]
  },
  {
   "cell_type": "markdown",
   "metadata": {},
   "source": [
    "(Q10-2006) - Uma distribuição Lognormal é assimétrica à direita. (V)"
   ]
  },
  {
   "cell_type": "markdown",
   "metadata": {},
   "source": [
    "(Q6-2012) \n",
    "3 - Suponha que $X$ seja uma variável aleatória com distribuição log normal com parâmetros $\\mu$ e $\\sigma$. Então, $Y = \\log(X)\\sim N\\left(\\mu,\\sigma^2\\right)$ (V). <br>\n",
    "4 - Suponha que $X$  seja uma variável aleatória com distribuição log normal com parâmetros $\\mu$ e $\\sigma$. Então, a esperança de $X$ é igual a $\\mu$ (F)."
   ]
  },
  {
   "cell_type": "markdown",
   "metadata": {},
   "source": [
    "O item (3) é exatamente a definição da distribuição, então é verdadeiro. Já 4-(F) pois vimos que $\\mathrm{E(X)}= e^{\\left(\\mu+\\dfrac{1}{2}\\sigma^2 \\right)}$."
   ]
  },
  {
   "cell_type": "markdown",
   "metadata": {},
   "source": [
    "#### 5. Distribuição Qui-quadrada"
   ]
  },
  {
   "cell_type": "markdown",
   "metadata": {},
   "source": [
    "Uma distribuição contínua $X$, com valores positivos, terá distribuição qui-quadrado com $v$ graus de liberdade se sua função densidade for:"
   ]
  },
  {
   "cell_type": "markdown",
   "metadata": {},
   "source": [
    "$f(x,v) = \n",
    "\\begin{cases}\n",
    "\\dfrac{1}{\\Gamma\\left(v/2\\right)2^{\\frac{v}{2}}}x^{(v/2)-1} e^{\\left(-\\frac{x}{2}\\right)},\\; x>0, v>0 \\\\\n",
    "0, \\; x<0 \\\\\n",
    "\\end{cases}\n",
    "$"
   ]
  },
  {
   "cell_type": "markdown",
   "metadata": {},
   "source": [
    "$\\mathrm{E(X)}= v$ <br>\n",
    "$\\mathrm{Var(X)} = 2v$"
   ]
  },
  {
   "cell_type": "markdown",
   "metadata": {},
   "source": [
    "* O quadrado de uma v.a. com distribuição normal padrão é uma v.a. com distribuição $\\chi^2(1)$."
   ]
  },
  {
   "cell_type": "markdown",
   "metadata": {},
   "source": [
    "* Se $X_1, \\dots, X_n$ são variáveis aleatórias independentes, com distribuições normais padronizadas, então, $\\sum_{i=1}^{n}X_i^{2}$ possui distribuição Qui-quadrado com n graus de liberdade."
   ]
  },
  {
   "cell_type": "markdown",
   "metadata": {},
   "source": [
    "(Q3-2005) 0 - Se $X$ é uma variável aleatória com distribuição Normal de média $\\mu$ e variância $\\sigma^2$ , então, $Z = \\dfrac{(X-\\mu)^2}{\\sigma^2}$ segue uma distribuição $\\chi^2$ com 1 grau de liberdade (V)."
   ]
  },
  {
   "cell_type": "markdown",
   "metadata": {},
   "source": [
    "(Q2-2006) 3 - Sejam Y e X variáveis aleatórias com distribuições Qui-quadrado com $p$ e $q$ graus de liberdade, respectivamente. Portanto, $Z = (Y/p)/(X/q)$ segue uma distribuição $F$ com $p$ e $q$ graus de liberdade(F)."
   ]
  },
  {
   "cell_type": "markdown",
   "metadata": {},
   "source": [
    "(Q2-2008) 1 - Se X segue uma distribuição Qui-quadrado com n graus de liberdade, então E(X) = n e\n",
    "V(X) = 2n. (V)"
   ]
  },
  {
   "cell_type": "markdown",
   "metadata": {},
   "source": [
    "#### 6. Distribuição $t$ de Student"
   ]
  },
  {
   "cell_type": "markdown",
   "metadata": {},
   "source": [
    "Sejam Z e Y variáveis independentes, tal que $X \\sim N\\left(0,1\\right)$ e $Y \\sim \\chi^2{(v)} $, então a variável aleatória dada pela expressão a seguir tem distribuição $t$ de Student com $k$ graus de liberdade."
   ]
  },
  {
   "cell_type": "markdown",
   "metadata": {},
   "source": [
    "$t = \\dfrac{X}{\\sqrt{\\dfrac{Y}{v}}}$"
   ]
  },
  {
   "cell_type": "markdown",
   "metadata": {},
   "source": [
    "$\\mathrm{E(X)} = 0$ <br>\n",
    "$\\mathrm{Var(X)} = \\dfrac{v}{\\left(v-2\\right)}$, $v>2$"
   ]
  },
  {
   "cell_type": "markdown",
   "metadata": {},
   "source": [
    "#### 7. Distribuição F de Snedecor"
   ]
  },
  {
   "cell_type": "markdown",
   "metadata": {},
   "source": [
    "Sejam $U$ e $V$ duas v.a. independentes, cada uma com distribuição qui-quadrado, com $v_1$ e $v_2$ graus de liberdade, respectivamente. Então, a v.a. $W = \\dfrac{\\frac{U}{v_1}}{\\frac{V}{v_2}}$ tem distribuição $F$ de Snedecor com $v_1$ e $v_2$ graus de liberdade, $W \\sim F(v_1,v_2)$."
   ]
  },
  {
   "cell_type": "markdown",
   "metadata": {},
   "source": [
    "$U \\sim \\chi_{v1}^{2}$ e $V \\sim \\chi_{v2}^{2}$"
   ]
  },
  {
   "cell_type": "markdown",
   "metadata": {},
   "source": [
    "$E(W) = \\dfrac{v_2}{v_2-2}$"
   ]
  },
  {
   "cell_type": "markdown",
   "metadata": {},
   "source": [
    "$\\mathrm{Var(W)} = \\dfrac{2v_2^{2}\\left(v_1+v_2-2\\right)}{v_1\\left(v_2-2\\right)^2\\left(v_2-4\\right)}$"
   ]
  },
  {
   "cell_type": "markdown",
   "metadata": {},
   "source": [
    "(Q2-2008) 4 - Sejam $X_1$ e $X_2$ duas variáveis aleatórias independentes, com distribuição qui-quadrado com $n_1$ e $n_2$ graus de liberdade, respectivamente. Então $z = \\dfrac{\\frac{x_1}{n_1}}{\\frac{x_2}{n_2}}$ segue uma distribuição $F$ com $n_1$ e $n_2$ graus de liberdade. (V) É exatamente a definição."
   ]
  },
  {
   "cell_type": "markdown",
   "metadata": {},
   "source": [
    "#### 8. Relações importantes"
   ]
  },
  {
   "cell_type": "markdown",
   "metadata": {},
   "source": [
    "* Sejam $Z_i$, para $i = 1, \\cdots , n$, são normais independentes, então $\\sum Z_{i}^{2}  \\sim \\chi_{(n)}^{2}$.\n",
    "* Sejam $Z \\sim N(0,1)$ e $X \\sim \\chi_{(v)}^{2}$, independentes. Então : $\\dfrac{Z}{\\sqrt{\\frac{X}{v}}} \\sim t_{(v)}$.\n",
    "* Se $t \\sim t_n$ temos que: $t_n^2 \\sim F(1,n)$.\n",
    "* Se $x_1, \\cdots, x_n$, $n$ variáveis $\\chi_{(1)}^2$ independentes: $\\sum x_i \\sim \\chi_{(n)}^{2}$."
   ]
  },
  {
   "cell_type": "markdown",
   "metadata": {},
   "source": [
    "#### Questões ANPEC"
   ]
  },
  {
   "cell_type": "markdown",
   "metadata": {},
   "source": [
    "Q3-2017.<br>\n",
    "São corretas as afirmativas: <br>\n",
    "(0) - Se $X$ é uma variável aleatória com distribuição Binomial com parâmetros $n$ e $p$, em que $n$ é um número inteiro positivo e $0<p<1$, então $E(X) = np$ e $Var(X) = p(1-p)$.<br>\n",
    "(1) - Seja $X$ uma variável aleatória com distribuição de Poisson. Se $E(X) = \\lambda$, então a variância de $X$ é $\\lambda$.<br>\n",
    "(2) - Se $X$ é uma variável aleatória uniformemente distribuída em $[-c,c]$, em que $c>0$, então $E(X) = 0$.<br>\n",
    "(3) - Seja $X$ uma variável aleatória com distribuição de probabilidade $P(X = k) = (1-p)^{k-1}p$, em que $0<p<1$ e $k = 1, 2, \\cdots$. Então $E(X) = kp$<br>\n",
    "(4) - Seja $X$ uma variável aleatória com distribuição de probabilidade $P(X = k) = (1-p)^{k-1}p$, em que $0<p<1$ e $k = 1, 2, \\cdots$. Então a variância de $X$ é $\\dfrac{(1-p)}{p^2}$.<br>"
   ]
  },
  {
   "cell_type": "markdown",
   "metadata": {},
   "source": [
    "(0) (F) $E(X) = np$ e $Var(X) = np(1-p)$. <br>\n",
    "(1) (V) <br>\n",
    "(2) (V) $E(X) = \\dfrac{-c+c}{2} = 0$<br>\n",
    "(3) Distribuição Geométrica: $E(X) = \\frac{1}{p}$. <br>\n",
    "(4) (V) Distribuição Geométrica: $Var(X) = \\dfrac{(1-p)}{p^2}$."
   ]
  },
  {
   "cell_type": "markdown",
   "metadata": {},
   "source": [
    "Q14-2017"
   ]
  },
  {
   "cell_type": "markdown",
   "metadata": {},
   "source": [
    "Suponha que as vendas $(Q)$ do produto $X$ são aleatoriamente distribuídas na economia e possuem uma distribuição binomial com parâmetro $p$ (preço), sendo $n$ o número de vendas observado, então:\n",
    "(0) - A esperança matemática de $Q$ é $E(Q) = n(1-p)$;<br>\n",
    "(1) - A média das vendas é dada por $E(Q) = np$;<br>\n",
    "(2) - A variância das vendas por $Q$ ou $V(Q) = np(1-p)$;<br>\n",
    "(3) - O preço que maximiza a variância é $p = \\frac{1}{2}$;<br>\n",
    "(4) - O preço está no intervalo $0$ e $1$.<br>"
   ]
  }
 ],
 "metadata": {
  "kernelspec": {
   "display_name": "Python 3",
   "language": "python",
   "name": "python3"
  },
  "language_info": {
   "codemirror_mode": {
    "name": "ipython",
    "version": 3
   },
   "file_extension": ".py",
   "mimetype": "text/x-python",
   "name": "python",
   "nbconvert_exporter": "python",
   "pygments_lexer": "ipython3",
   "version": "3.8.5"
  }
 },
 "nbformat": 4,
 "nbformat_minor": 4
}
