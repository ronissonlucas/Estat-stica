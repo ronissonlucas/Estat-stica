{
 "cells": [
  {
   "cell_type": "markdown",
   "metadata": {},
   "source": [
    "# <b>Fórmulário: Estatística Básica e Números-Índice</b>"
   ]
  },
  {
   "cell_type": "markdown",
   "metadata": {},
   "source": [
    "##### Média Aritimética"
   ]
  },
  {
   "cell_type": "markdown",
   "metadata": {},
   "source": [
    "$ \\overline{X}= \\dfrac{1}{n}\\sum\\limits_{i=1}^{n}X_{i}$"
   ]
  },
  {
   "cell_type": "markdown",
   "metadata": {},
   "source": [
    "##### Média ponderada"
   ]
  },
  {
   "cell_type": "markdown",
   "metadata": {},
   "source": [
    "$W = \\dfrac{\\sum\\limits_{i=1}^{n} X_i q_i}{\\sum\\limits_{i=1}^{n} q_i}$"
   ]
  },
  {
   "cell_type": "markdown",
   "metadata": {},
   "source": [
    "##### Média Geométrica"
   ]
  },
  {
   "cell_type": "markdown",
   "metadata": {},
   "source": [
    "$\\overline{G} = {\\left( \\prod\\limits_{i=1}^{n}X_{i}\\right)}^{\\frac{1}{n}}$"
   ]
  },
  {
   "cell_type": "markdown",
   "metadata": {},
   "source": [
    "##### Média Harmônica"
   ]
  },
  {
   "cell_type": "markdown",
   "metadata": {},
   "source": [
    "$\\overline{H} = \\dfrac{n}{\\dfrac{1}{X_{1}}+\\dfrac{1}{X_{2}} + \\cdots + \\dfrac{1}{X_{n}}}$"
   ]
  },
  {
   "cell_type": "markdown",
   "metadata": {},
   "source": [
    "$\\overline{H} = \\dfrac{n}{\\sum\\limits_{i=1}^{n}\\dfrac{1}{X_{i}}}$"
   ]
  },
  {
   "cell_type": "markdown",
   "metadata": {},
   "source": [
    "$\\overline{X} \\ge \\overline{G} \\ge \\overline{H}$"
   ]
  },
  {
   "cell_type": "markdown",
   "metadata": {},
   "source": [
    "Amplitude"
   ]
  },
  {
   "cell_type": "markdown",
   "metadata": {},
   "source": [
    "$X_{(1)} \\leq  X_{(2)} \\leq \\dots \\leq X_{(n-1)} \\leq X_{(n)}$"
   ]
  },
  {
   "cell_type": "markdown",
   "metadata": {},
   "source": [
    "$ A = X_{(n)}-X_{(1)}$"
   ]
  },
  {
   "cell_type": "markdown",
   "metadata": {},
   "source": [
    "Desvio em relação a média"
   ]
  },
  {
   "cell_type": "markdown",
   "metadata": {},
   "source": [
    "$d_i = X_i-\\overline{X}$"
   ]
  },
  {
   "cell_type": "markdown",
   "metadata": {},
   "source": [
    "$\\mathrm{\\sigma^2}\n",
    "= \\dfrac{\\left(X_{1}-\\mu\\right)^{2}+\n",
    "\\left(X_{2}-\\mu \\right)^2+ \\cdots+\n",
    "\\left(X_{N}-\\mu\\right)^2\n",
    "}{N}$"
   ]
  },
  {
   "cell_type": "markdown",
   "metadata": {},
   "source": [
    "$\\sigma^2 = \\dfrac{\\sum_\\limits{i=1}^{N}\\left(X_i-\\mu \\right)^2}{N}$"
   ]
  },
  {
   "cell_type": "markdown",
   "metadata": {},
   "source": [
    "Variância amostral"
   ]
  },
  {
   "cell_type": "markdown",
   "metadata": {},
   "source": [
    "$S^2 = \\dfrac{\\sum_\\limits{i=1}^{n}\\left(X_i-\\overline{X}\\right)^2}{n-1}$"
   ]
  },
  {
   "cell_type": "markdown",
   "metadata": {},
   "source": [
    "Desvio Médio Absoluto"
   ]
  },
  {
   "cell_type": "markdown",
   "metadata": {},
   "source": [
    "$\\mathrm{dm(X)} = \\dfrac{\\left|X_1-\\overline{X} \\right|+\\left|X_2-\\overline{X} \\right|+\\cdots+\\left|X_n-\\overline{X} \\right|}{n}$"
   ]
  },
  {
   "cell_type": "markdown",
   "metadata": {},
   "source": [
    "$\\mathrm{dm(X)} = \\dfrac{\\sum_\\limits{i=1}^{n}\\left|X_i-\\overline{X} \\right|}{n}$"
   ]
  },
  {
   "cell_type": "markdown",
   "metadata": {},
   "source": [
    "Desvio padrão"
   ]
  },
  {
   "cell_type": "markdown",
   "metadata": {},
   "source": [
    "$\\sigma = \\sqrt{\\sigma^2} = \\sqrt{\\dfrac{\\sum_\\limits{i=1}^{N}\\left(X_i-\\mu\\right)^2}{N}}$"
   ]
  },
  {
   "cell_type": "markdown",
   "metadata": {},
   "source": [
    "$S = \\sqrt{S^2} = \\sqrt{\\dfrac{\\sum_\\limits{i=1}^{n}\\left(X_i-\\overline{X}\\right)^2}{n-1}}$"
   ]
  },
  {
   "cell_type": "markdown",
   "metadata": {},
   "source": [
    "Covariância"
   ]
  },
  {
   "cell_type": "markdown",
   "metadata": {},
   "source": [
    "$\\mathrm{cov(X,Y)} = \\dfrac{1}{n}\\sum\\limits_{i=1}^{n}\\left( X_{i}-\\overline{X} \\right)\\left(Y_{i}-\\overline{Y} \\right)$"
   ]
  },
  {
   "cell_type": "markdown",
   "metadata": {},
   "source": [
    "$\\mathrm{cov(X,Y)} = \\dfrac{1}{n}\\sum\\limits_{i=1}^{n}X_iY_i-\\overline{X}\\overline{Y}$"
   ]
  },
  {
   "cell_type": "markdown",
   "metadata": {},
   "source": [
    "##### Coeficiente de correlação"
   ]
  },
  {
   "cell_type": "markdown",
   "metadata": {},
   "source": [
    "$\\mathrm{corr(X,Y)}  = \\dfrac{\\mathrm{cov(X,Y)}}{\\mathrm{dp(X)}\\mathrm{dp(Y)}}$"
   ]
  },
  {
   "cell_type": "markdown",
   "metadata": {},
   "source": [
    "Índice de Laspeyres de preço: "
   ]
  },
  {
   "cell_type": "markdown",
   "metadata": {},
   "source": [
    "$L_{p}^{t} = \\dfrac{\\sum_{i=1}^{n}p_{i}^{1}q_{i}^{0}}{\\sum_{i=1}^{n}p_{i}^{0}q_{i}^{0}} = \\dfrac{\\mathbf{p^tq^0}}{\\mathbf{p^0q^0}}$"
   ]
  },
  {
   "cell_type": "markdown",
   "metadata": {},
   "source": [
    "Índice de Laspeyres de quantidade: "
   ]
  },
  {
   "cell_type": "markdown",
   "metadata": {},
   "source": [
    "$L_{q}^{t} = \\dfrac{\\sum_{i=1}^{n}p_{i}^{0}q_{i}^{t}}{\\sum_{i=1}^{n}p_{i}^{0}q_{i}^{0}} = \\dfrac{\\mathbf{p^{0}q^{t}}}{\\mathbf{p^{0}q^0}}$"
   ]
  },
  {
   "cell_type": "markdown",
   "metadata": {},
   "source": [
    "$L = \\sum_{i=1}^{n}\\dfrac{p_i^1}{p_i^0}\\times w_i^{0}$"
   ]
  },
  {
   "cell_type": "markdown",
   "metadata": {},
   "source": [
    "$w_i^{0} = \\dfrac{p_i^0q_i^0}{\\sum_{i=1}^{n}p_i^{0}q_i^{0}}$"
   ]
  },
  {
   "cell_type": "markdown",
   "metadata": {},
   "source": [
    "Índice de Paasche de preço:"
   ]
  },
  {
   "cell_type": "markdown",
   "metadata": {},
   "source": [
    "$P_{p}^{t} = \\dfrac{\\sum_{i=1}^{n}p_{i}^{1}q_{i}^{1}}{\\sum_{i=1}^{n}p_{i}^{0}q_{i}^{1}} = \\dfrac{\\mathbf{p^tq^t}}{\\mathbf{p^0q^t}}$"
   ]
  },
  {
   "cell_type": "markdown",
   "metadata": {},
   "source": [
    "Índice de Paasche de quantidade:"
   ]
  },
  {
   "cell_type": "markdown",
   "metadata": {},
   "source": [
    "$P_{q}^{t} = \\dfrac{\\sum_{i=1}^{n}p_{i}^{1}q_{i}^{1}}{\\sum_{i=1}^{n}p_{i}^{1}q_{i}^{0}} = \\dfrac{\\mathbf{p^tq^t}}{\\mathbf{p^tq^0}}$"
   ]
  },
  {
   "cell_type": "markdown",
   "metadata": {},
   "source": [
    "$P_p = \\dfrac{1}{\\sum_\\limits{i =1}^{n}\\dfrac{p_i^0}{p_i^1}\\times w_i^1}$"
   ]
  },
  {
   "cell_type": "markdown",
   "metadata": {},
   "source": [
    "$w_i^1 = \\frac{p_i^1q_i^1}{\\sum_{i=1}^{n}p_i^1q_i^1}$"
   ]
  },
  {
   "cell_type": "markdown",
   "metadata": {},
   "source": [
    "Índice Valor"
   ]
  },
  {
   "cell_type": "markdown",
   "metadata": {},
   "source": [
    "$I_V = \\dfrac{\\mathbf{p_tq_t}}{\\mathbf{p_0q_0}}$"
   ]
  },
  {
   "cell_type": "markdown",
   "metadata": {},
   "source": [
    "Índice de Fisher"
   ]
  },
  {
   "cell_type": "markdown",
   "metadata": {},
   "source": [
    "$F = \\sqrt{L \\times P}$"
   ]
  },
  {
   "cell_type": "markdown",
   "metadata": {},
   "source": [
    "Propriedades ideais para Números-Índices e outras propriedades"
   ]
  },
  {
   "cell_type": "markdown",
   "metadata": {},
   "source": [
    "* Identidade: $I_{00} = 1$ (Todos satisfazem)\n",
    "* Reversibilidade no tempo: $I_{t,0} \\times I_{0,t} = 1$\n",
    "* Encadeamento (ou circulariadade): $I_{0,1} \\times I_{1,2} \\times I_{2, 3} \\times \\dots \\times I_{t-1, t} = I_{0,t}$\n",
    "    * $I_{0,1} \\times I_{1,2} = I_{0,2}$\n",
    "* Decomposição das causas (ou reversão de fatores): $I_p \\times I_q = I_{V}$\n",
    "* $\\rho_{pq} < 0 \\Rightarrow L>P$\n",
    "* $\\rho_{pq} > 0 \\Rightarrow P>L$\n",
    "* $\\rho_{pq} = 0 \\Rightarrow L=P$\n",
    "* $L_{p} \\times P_{q} = I_{V} = P_{p} \\times L_{q}$\n",
    "* $P_{p} \\times P_{q} \\le I_{V} \\le L_{p} \\times L_{q}$ "
   ]
  }
 ],
 "metadata": {
  "kernelspec": {
   "display_name": "Python 3",
   "language": "python",
   "name": "python3"
  },
  "language_info": {
   "codemirror_mode": {
    "name": "ipython",
    "version": 3
   },
   "file_extension": ".py",
   "mimetype": "text/x-python",
   "name": "python",
   "nbconvert_exporter": "python",
   "pygments_lexer": "ipython3",
   "version": "3.8.5"
  }
 },
 "nbformat": 4,
 "nbformat_minor": 4
}
