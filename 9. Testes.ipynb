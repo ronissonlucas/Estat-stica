{
 "cells": [
  {
   "cell_type": "markdown",
   "metadata": {},
   "source": [
    "# Teste de Hipótese"
   ]
  },
  {
   "cell_type": "markdown",
   "metadata": {},
   "source": [
    "#### Teste de hipótese"
   ]
  },
  {
   "cell_type": "markdown",
   "metadata": {},
   "source": [
    "Hipóteses possíveis:"
   ]
  },
  {
   "cell_type": "markdown",
   "metadata": {},
   "source": [
    "Bicaudal"
   ]
  },
  {
   "cell_type": "markdown",
   "metadata": {},
   "source": [
    "$H_0: \\theta = \\theta_0$<br>\n",
    "$H_a : \\theta \\neq \\theta_0 $"
   ]
  },
  {
   "cell_type": "markdown",
   "metadata": {},
   "source": [
    "Monocaudal:"
   ]
  },
  {
   "cell_type": "markdown",
   "metadata": {},
   "source": [
    "$H_0: \\theta = \\theta_0$<br>\n",
    "$H_a : \\theta < \\theta_0 $"
   ]
  },
  {
   "cell_type": "markdown",
   "metadata": {},
   "source": [
    "$H_0: \\theta = \\theta_0$<br>\n",
    "$H_a : \\theta > \\theta_0 $"
   ]
  },
  {
   "cell_type": "markdown",
   "metadata": {},
   "source": [
    "A altura média dos jogadores de basquete que disputam uma determinada liga é 1,95 m. Numa amostra de 36 jogadores, foi encontrada uma média de 1,93 m. Sabe-se que o desvio padrão da altura dos jogadores é 12 cm. Teste, com um nível de significância de 10%, se a afirmação é verdadeira."
   ]
  },
  {
   "cell_type": "markdown",
   "metadata": {},
   "source": [
    "$H_0: \\mu = 1,95$<br>\n",
    "$H_a : \\mu \\neq 1,95 $"
   ]
  },
  {
   "cell_type": "markdown",
   "metadata": {},
   "source": [
    "Conhecida a distribuição de probabilidade, vamos construir o intervalo de confiança supondo que a hipótese nula seja verdadeira e contenha 90% dos possíveis valores amostrais."
   ]
  },
  {
   "cell_type": "markdown",
   "metadata": {},
   "source": [
    "$\\dfrac{|\\overline{X}-\\mu|}{\\sigma_{\\overline{X}}} = 1,645$"
   ]
  },
  {
   "cell_type": "markdown",
   "metadata": {},
   "source": [
    "$\\sigma_{\\overline{X}} = \\dfrac{\\sigma}{\\sqrt{n}} = \\dfrac{0,12}{\\sqrt{36}} = 0,02$"
   ]
  },
  {
   "cell_type": "markdown",
   "metadata": {},
   "source": [
    "$\\dfrac{|\\overline{X}-\\mu|}{0,02} = 1,645$"
   ]
  },
  {
   "cell_type": "markdown",
   "metadata": {},
   "source": [
    "Região de aceitação: os valores que podem ocorrer numa amostra de 36 jogadores, com 90% de probabilidade, estão entre 1,95+0,033 e 1,95-0,033. \n",
    "* Se o valor amostral estiver nesse intervalo, então aceitamos a hipótese nula."
   ]
  },
  {
   "cell_type": "markdown",
   "metadata": {},
   "source": [
    "$RA = [1,917;1,983]$"
   ]
  },
  {
   "cell_type": "markdown",
   "metadata": {},
   "source": [
    "O valor amostral foi 1,93, então aceitamos a hipótese nula."
   ]
  },
  {
   "cell_type": "markdown",
   "metadata": {},
   "source": [
    "Em uma amostra com 100 famílias em uma cidade do interior, foi encontrada uma renda média de 580,00 reais. Segundo o prefeito, esta pesquisa está errada, pois a renda média em sua cidade é de, no mínimo, 650 reais. Teste a afirmação do prefeito com 10% de significância, sabendo-se que o desvio padrão da renda é de 120,00 reais."
   ]
  },
  {
   "cell_type": "markdown",
   "metadata": {},
   "source": [
    "Temos então um teste monocaudal:"
   ]
  },
  {
   "cell_type": "markdown",
   "metadata": {},
   "source": [
    "$H_0: \\mu = 650$<br>\n",
    "$H_a : \\mu < 650 $"
   ]
  },
  {
   "cell_type": "markdown",
   "metadata": {},
   "source": [
    "$\\dfrac{|\\overline{X}-\\mu|}{\\sigma_{\\overline{X}}} = 1,28$<br>\n",
    "$\\sigma_{\\overline{X}} = \\dfrac{\\sigma}{\\sqrt{n}} = \\dfrac{120}{\\sqrt{100}} = 12$<br>\n",
    "$\\dfrac{|\\overline{X}-650|}{12} = 1,28$"
   ]
  },
  {
   "cell_type": "markdown",
   "metadata": {},
   "source": [
    "$RA = [634,36;\\infty]$"
   ]
  },
  {
   "cell_type": "markdown",
   "metadata": {},
   "source": [
    "Portanto, a hipótese nula não aceita."
   ]
  },
  {
   "cell_type": "markdown",
   "metadata": {},
   "source": [
    "Fez-se um estudo sobre aluguéis em dois bairros, A e B. No primeiro, em 12 residências, o aluguel médio encontrado foi de 330,00 reais. No segundo, em 19 residências,  aluguel médio foi de 280,00 reais. Sabe-se que o desvio padrão dos aluguéis no bairro A é 50 reais e no bairro B é 40 reais. Afirma-se que os aluguéis médios são iguais nos dois bairros. Teste a afirmação com 10% de significância."
   ]
  },
  {
   "cell_type": "markdown",
   "metadata": {},
   "source": [
    "Vamos assumir que as variáveis sejam independentes."
   ]
  },
  {
   "cell_type": "markdown",
   "metadata": {},
   "source": [
    "$H_0: \\mu_A = \\mu_B$<br>\n",
    "$H_a: \\mu_A \\neq \\mu_B$    "
   ]
  },
  {
   "cell_type": "markdown",
   "metadata": {},
   "source": [
    "$H_0: \\mu_A - \\mu_B = 0$<br>\n",
    "$H_a: \\mu_A - \\mu_B \\neq 0$    "
   ]
  },
  {
   "cell_type": "markdown",
   "metadata": {},
   "source": [
    "Definimos então $Y = X_A-X_B$."
   ]
  },
  {
   "cell_type": "markdown",
   "metadata": {},
   "source": [
    "$\\mathrm{Var(Y)} = \\mathrm{Var(X_A-X_B)} =\\mathrm{Var(X_A)}+\\mathrm{Var(X_B)}-2\\mathrm{cov(X_A,X_B)}$<br><br>\n",
    "$\\mathrm{Var(Y)} = \\mathrm{Var(X_A-X_B)} = \\mathrm{Var(\\overline{X}_A)}+\\mathrm{Var(\\overline{X}_B)}$<br><br>\n",
    "$\\mathrm{Var(\\overline{Y})} = \\mathrm{Var(\\overline{X}_A)}+\\mathrm{Var(\\overline{X}_B)}$<br><br>\n",
    "$\\mathrm{Var(\\overline{X}_A)} = \\dfrac{50^2}{12} \\cong 208,33$<br><br>\n",
    "$\\mathrm{Var(\\overline{X}_B)} = \\dfrac{40^2}{19} \\cong 84,21$"
   ]
  },
  {
   "cell_type": "markdown",
   "metadata": {},
   "source": [
    "$\\mathrm{Var(\\overline{Y})} \\cong = 292,54$<br><br>\n",
    "$\\sigma_{\\overline{Y}} = \\sqrt{\\mathrm{Var(\\overline{Y})}} \\cong 17,10$<br><br>\n",
    "$\\dfrac{|\\overline{Y}-0 |}{17,1} = 1,645$<br>\n",
    "$|\\overline{Y}-0| = 28,13$"
   ]
  },
  {
   "cell_type": "markdown",
   "metadata": {},
   "source": [
    "Lembrando que $Y = X_A-X_B = 330-280 = 50$"
   ]
  },
  {
   "cell_type": "markdown",
   "metadata": {},
   "source": [
    "$RA = [-28,13;28,13]$"
   ]
  },
  {
   "cell_type": "markdown",
   "metadata": {},
   "source": [
    "O valor não está contido dentro da região de aceitação, portanto a hipótese nula não é aceita."
   ]
  },
  {
   "cell_type": "markdown",
   "metadata": {},
   "source": [
    "#### Testando a variância"
   ]
  },
  {
   "cell_type": "markdown",
   "metadata": {},
   "source": [
    "Antes tínhamos um procedimento de fazer um teste para a média, visto que não conhecíamos seu verdadeiro valor populacional. O desvio-padrão era conhecido."
   ]
  },
  {
   "cell_type": "markdown",
   "metadata": {},
   "source": [
    "Sabemos que a variância amostral é definida como:"
   ]
  },
  {
   "cell_type": "markdown",
   "metadata": {},
   "source": [
    "$S^2 = \\dfrac{\\sum_{i=1}^{n}\\left(X_i-\\overline{X}\\right)^2}{n-1}$"
   ]
  },
  {
   "cell_type": "markdown",
   "metadata": {},
   "source": [
    "$\\left(n-1\\right)S^2 = \\sum_{i=1}^{n}\\left(X_i-\\overline{X}\\right)^2$"
   ]
  },
  {
   "cell_type": "markdown",
   "metadata": {},
   "source": [
    "Vamos dividir por $\\sigma^2$:"
   ]
  },
  {
   "cell_type": "markdown",
   "metadata": {},
   "source": [
    "$\\left(n-1\\right)\\dfrac{S^2 }{\\sigma^2}= \\sum_{i=1}^{n}\\dfrac{\\left(X_i-\\overline{X}\\right)^2}{\\sigma^2}$"
   ]
  },
  {
   "cell_type": "markdown",
   "metadata": {},
   "source": [
    "$\\left(n-1\\right)\\dfrac{S^2 }{\\sigma^2}= \\sum_{i=1}^{n}\\left(\\dfrac{X_i-\\overline{X}}{\\sigma}\\right)^2$"
   ]
  },
  {
   "cell_type": "markdown",
   "metadata": {},
   "source": [
    "A expressão em parênteses será uma normal padronizada se tivermos a média populacional no lugar da média amostral."
   ]
  },
  {
   "cell_type": "markdown",
   "metadata": {},
   "source": [
    "Podemos escrever:"
   ]
  },
  {
   "cell_type": "markdown",
   "metadata": {},
   "source": [
    "$\\sum_{i=1}^{n}\\left(X_i-\\overline{X}\\right)^2 = \\sum_{i=1}^{n}\\left(X_i-\\mu+\\mu-\\overline{X}\\right)^2$<br><br>\n",
    "$\\sum_{i=1}^{n}\\left(X_i-\\overline{X}\\right)^2 = \\sum_{i=1}^{n}\\left(X_i-\\mu\\right)^2-\\sum_{i=1}^{n}\\left(\\overline{X}-\\mu\\right)^2$"
   ]
  },
  {
   "cell_type": "markdown",
   "metadata": {},
   "source": [
    "$\\therefore \\sum_{i=1}^{n}\\left(X_i-\\overline{X}\\right)^2 = \\sum_{i=1}^{n}\\left(X_i-\\mu\\right)^2-n\\left(\\overline{X}-\\mu\\right)^2$"
   ]
  },
  {
   "cell_type": "markdown",
   "metadata": {},
   "source": [
    "Então:"
   ]
  },
  {
   "cell_type": "markdown",
   "metadata": {},
   "source": [
    "$(n-1)\\dfrac{S^2}{\\sigma^2} = \\sum_{i=1}^{n}\\left(\\dfrac{X_i-\\mu}{\\sigma}\\right)^2-n\\left(\\dfrac{\\overline{X}-\\mu}{\\sigma}\\right)^2$"
   ]
  },
  {
   "cell_type": "markdown",
   "metadata": {},
   "source": [
    "No lado direito da expressão anterior temos um somatório de $n$ variáveis normais padronizadas, menos uma outra variável normal padronizada ($\\overline{X}$ que tem média $\\mu$ e desvio-padrão $\\frac{\\sigma}{\\sqrt{n}}$). Desta forma, temos uma soma de $n-1$ variáveis normais padronizadas. Sabemos que a distribuição $\\chi^2$ é a distribuição de uma variável que é a soma de variáveis normais padronizadas."
   ]
  },
  {
   "cell_type": "markdown",
   "metadata": {},
   "source": [
    "$(n-1)\\dfrac{S^2}{\\sigma^2} \\sim \\chi_{(n-1)}^2$"
   ]
  },
  {
   "cell_type": "markdown",
   "metadata": {},
   "source": [
    "Numa determinada empresa, empregados que desempenham a mesma função têm salários diferentes em função do tempo de casa de bonificações por desempenho. Segunda a empresa, o desvio-padrão para o salário de uma certa função é de 150,00 reais. Entrevistando cinco funcionários que desempenham essa função, verificou-se que seus salários eram respectivamente, 1.000,00 , 1.200,00, 1.500,00, 1.300,00 e 900,00. Testemos a afirmação da empresa com significância de 5%, supondo que os salários sejam normalmente distribúidos. A hipótese apresentada pela empresa é de que o desvio-padrão é 150, portanto, a variância é $150^2 = 22.500$."
   ]
  },
  {
   "cell_type": "markdown",
   "metadata": {},
   "source": [
    "$H_0: \\sigma^2 = 22.500$<br>\n",
    "$H_a: \\sigma^2 \\neq 22.500$    "
   ]
  },
  {
   "cell_type": "markdown",
   "metadata": {},
   "source": [
    "$(n-1) = 5-1 = 4$"
   ]
  },
  {
   "cell_type": "markdown",
   "metadata": {},
   "source": [
    "$RA = [0,48,11,14]$"
   ]
  },
  {
   "cell_type": "markdown",
   "metadata": {},
   "source": [
    "$\\overline{X} = 1180$"
   ]
  },
  {
   "cell_type": "markdown",
   "metadata": {},
   "source": [
    "$S^2=\\dfrac{(1000-1180)^2+(1200-1180)^2+(1500-1180)^2+(1300-1180)^2+(900-1180)^2}{4}=57.000$"
   ]
  },
  {
   "cell_type": "markdown",
   "metadata": {},
   "source": [
    "$S^2 = 57.000$"
   ]
  },
  {
   "cell_type": "markdown",
   "metadata": {},
   "source": [
    "$(n-1)\\dfrac{S^2}{\\sigma^2} = 4 \\times \\dfrac{57.000}{22.500} \\cong 10,13$"
   ]
  },
  {
   "cell_type": "markdown",
   "metadata": {},
   "source": [
    "A hipótese nula é aceita,pois o valor está dentro da região de aceitação. Desta forma, aceitamos a hipótese nula para um nível de 5% de significância."
   ]
  },
  {
   "cell_type": "markdown",
   "metadata": {},
   "source": [
    "Uma caixa de fósforos de certa marca vem com a inscrição: 'Contém, em média, 40 palitos'. Segundo a fabricante, o desvio-padrão é de, no máximo, dois palitos. Em uma amostra com 51 caixas, entretando, foi encontrado um desvio-padrão amostral de três palitos. Supondo que o número de palitos por caixa seja uma variável normal, testemos a afirmativa do fabricante utilizando um nível de significância de 1%."
   ]
  },
  {
   "cell_type": "markdown",
   "metadata": {},
   "source": [
    "Temos então um teste de comparação entre variâncias monocaudal."
   ]
  },
  {
   "cell_type": "markdown",
   "metadata": {},
   "source": [
    "$H_0:\\sigma^2 = 4$<br>\n",
    "$H_a:\\sigma^2 > 4$<br>\n"
   ]
  },
  {
   "cell_type": "markdown",
   "metadata": {},
   "source": [
    "$(n-1)\\dfrac{S^2}{\\sigma^2} = (51-1)\\times \\dfrac{3^2}{2^2} = 112,5$"
   ]
  },
  {
   "cell_type": "markdown",
   "metadata": {},
   "source": [
    "$RA = [0;76,15]$"
   ]
  },
  {
   "cell_type": "markdown",
   "metadata": {},
   "source": [
    "Rejeitamos a hipótese nula com nível de significância de 1%."
   ]
  },
  {
   "cell_type": "markdown",
   "metadata": {},
   "source": [
    "Testando a média quando a variância é desconhecida"
   ]
  },
  {
   "cell_type": "markdown",
   "metadata": {},
   "source": [
    "A variância populacional $\\sigma^2$ não é conhecida e, portanto, só é possível obter $S^2$. Neste caso da expressão:"
   ]
  },
  {
   "cell_type": "markdown",
   "metadata": {},
   "source": [
    "$\\dfrac{|\\overline{X}-\\mu|}{\\frac{\\sigma}{\\sqrt{n}}}$"
   ]
  },
  {
   "cell_type": "markdown",
   "metadata": {},
   "source": [
    "Usaremos:"
   ]
  },
  {
   "cell_type": "markdown",
   "metadata": {},
   "source": [
    "$\\dfrac{|\\overline{X}-\\mu|}{\\frac{S}{\\sqrt{n}}}$"
   ]
  },
  {
   "cell_type": "markdown",
   "metadata": {},
   "source": [
    "Vamos dividir esta expressão por $\\sigma$:"
   ]
  },
  {
   "cell_type": "markdown",
   "metadata": {},
   "source": [
    "$\\sqrt{n}\\dfrac{\\dfrac{|\\overline{X}-\\mu|}{\\sigma}}{\\dfrac{S}{\\sigma}}$"
   ]
  },
  {
   "cell_type": "markdown",
   "metadata": {},
   "source": [
    "Sabemos que:"
   ]
  },
  {
   "cell_type": "markdown",
   "metadata": {},
   "source": [
    "$\\dfrac{|\\overline{X}-\\mu|}{\\dfrac{S}{\\sqrt{n}}} \\sim t_{(n-1)} \\text{ Distribuição t de Student}$"
   ]
  },
  {
   "cell_type": "markdown",
   "metadata": {},
   "source": [
    "#### Erro de poder de um teste"
   ]
  },
  {
   "cell_type": "markdown",
   "metadata": {},
   "source": [
    "* Erro tipo I: ocorre quando rejeitamos a hipótese nula quando ela é verdadeira (condenar um inocente).\n",
    "* Erro tipo II: aceitamos a hipótese nula quando ela é falsa (absolver um culpado)."
   ]
  },
  {
   "cell_type": "markdown",
   "metadata": {},
   "source": [
    "$P(\\text{erro do tipo I}) = \\alpha = \\text{significância do teste}$, a significância do teste é definida a priori."
   ]
  },
  {
   "cell_type": "markdown",
   "metadata": {},
   "source": [
    "Poder de um teste é a probabilidade de não cometer o erro do tipo II, ou seja, a probabilidade de rejeitar a hipótese nula quando ela é falsa."
   ]
  },
  {
   "cell_type": "markdown",
   "metadata": {},
   "source": [
    "$\\text{Poder do teste} = 1-\\beta, \\beta = P(\\text{erro do tipo II})$"
   ]
  },
  {
   "cell_type": "markdown",
   "metadata": {},
   "source": [
    "# Questões ANPEC"
   ]
  },
  {
   "cell_type": "markdown",
   "metadata": {},
   "source": [
    "Q5-2003<br>\n",
    "Com relação a testes de hipótese, é correto afirmar que:<br>\n",
    "1 - O nível de significância de um teste é a probabilidade de se cometer o erro tipo I.<br>\n",
    "2 - A potência do teste é a probabilidade de se cometer o erro tipo II.<br>\n",
    "4- O nível de significância de um teste de hipótese cresce com o tamanho da amostra."
   ]
  },
  {
   "cell_type": "markdown",
   "metadata": {},
   "source": [
    "1 - (V) É exatamente a definição que vimos anteriormente.<br>\n",
    "2 - (F) Vimos antes que $\\text{Poder do teste} = 1-\\beta$.<br>\n",
    "4 - (F) É definido a priori."
   ]
  },
  {
   "cell_type": "markdown",
   "metadata": {},
   "source": [
    "Q6-2005<br>\n",
    "Seja $X_1 , X_2 , X_3 ,\\dots, X_n$ uma amostra aleatória de tamanho $n$ de uma população normal com média $\\mu$ e variância $\\sigma^2$ . Julgue as afirmativas:"
   ]
  },
  {
   "cell_type": "markdown",
   "metadata": {},
   "source": [
    "0 - A probabilidade de a média populacional, $\\mu$, estar contida no intervalo de confiança $\\left[\\overline{X}-1,96\\dfrac{\\sigma}{\\sqrt{n}},\\overline{X}+1,96\\dfrac{\\sigma}{\\sqrt{n}}\\right]$ é igual a 95%.<br>\n",
    "1 - Se a variância $\\sigma^2$ é desconhecida, o intervalo de confiança de 95% para a média $\\mu$ será $\\left[\\overline{X}-t_c\\dfrac{s}{\\sqrt{n}},\\overline{X}+t_c\\dfrac{s}{\\sqrt{n}}\\right]$, em que $s$ é o desvio padrão da amostra, $t_c$ é calculado de forma que $P(|t|<t_c) = -0,95$, e $t$ segue uma distribuição de Studente com $n-1$ graus de liberdade.<br>\n",
    "2 - Se construirmos vários intervalos de confiança para a média $\\mu$ com amostras de idêntico tamanho, mesma variância $\\sigma^2$ e mesma margem de confiança, estes terão extremos aleatórios, mas todos terão a mesma amplitude.<br>\n",
    "3 - Num teste de hipótese: $H_0 : \\mu = \\mu_0$  contra $H_a : \\mu \\neq \\mu_0$ , se o intervalo de confiança\n",
    "estimado para a média $\\mu$ não contiver o valor de $\\mu_0$ , então deve-se aceitar a hipótese de que $\\mu = \\mu_0 $.<br>\n",
    "4 - Se a amostra aleatória $X_1 , X_2 , X_3 ,\\dots, X_n$ não provém de uma distribuição normal, não se pode construir um intervalo de confiança para a média $\\mu$, ainda que a amostra seja muito grande.<br>"
   ]
  },
  {
   "cell_type": "markdown",
   "metadata": {},
   "source": [
    "0 - (F) Note que a interpretação do IC não está correta.<br>\n",
    "1 - (V)<br>\n",
    "2 - (V) Ilustra a essência do que fazemos ao construir um IC.<br>\n",
    "3 - (F) Não devemos aceitar $\\mu = \\mu_0$.<br>\n",
    "4 - (F) $\\overline{X} \\sim N(\\mu,\\frac{\\sigma^2}{n})$."
   ]
  },
  {
   "cell_type": "markdown",
   "metadata": {},
   "source": [
    "Q6-2004<br>\n",
    "Com relação a testes de hipóteses, julgue as afirmativas:<br>\n",
    "0 - Em um teste de hipóteses, comete-se um erro do tipo I quando se rejeita uma hipótese nula verdadeira. <br>\n",
    "1 - O poder de um teste de hipóteses é medido pela probabilidade de se cometer o erro tipo II.<br>\n",
    "2 - A soma das probabilidades dos erros tipo I e tipo II é igual a 1.<br>\n",
    "3 - Quanto maior for o nível de significância de um teste de hipóteses maior será o valor-p a ele associado.<br>\n",
    "4 - Se o valor-p de um teste de hipóteses for igual 0,015, a hipótese nula será rejeitada a 5%, mas não a 1%.<br>"
   ]
  },
  {
   "cell_type": "markdown",
   "metadata": {},
   "source": [
    "Q11-2007<br>\n",
    "Julgue as afirmativas:<br>\n",
    "0 - O valor p de um teste de hipótese é a probabilidade de a hipótese nula ser rejeitada.<br>\n",
    "1 - O poder de um teste de hipótese é a probabilidade de se rejeitar corretamente uma hipótese nula falsa. <br>"
   ]
  },
  {
   "cell_type": "markdown",
   "metadata": {},
   "source": [
    "Q4 - 2008<br>\n",
    "A respeito de testes de hipótese, é correto afirmar:<br>\n",
    "0 - Potência de um teste é a probabilidade de se rejeitar a hipótese nula quando esta for falsa.<br>\n",
    "1 - O nível de significância de um teste é a probabilidade de se cometer um erro tipo 1.<br>\n",
    "2 - O teste F de significância conjunta dos parâmetros em um modelo de regressão linear\n",
    "é unilateral.<br>\n",
    "3 - Se uma variável é significativa ao nível de 1%, então ela é significativa ao nível de 5%.\n",
    "4 - $p-\\text{valor } = 1 – P(H_0 \\text{ falsa })$, em que $P(A)$ é a probabilidade do evento $A$ ocorrer."
   ]
  },
  {
   "cell_type": "markdown",
   "metadata": {},
   "source": [
    "Q8-2009<br>\n",
    "2 - Um intervalo de confiança de 99% para a média μ de uma população, calculado para\n",
    "uma amostra aleatória, como [2,75;8,25], pode ser interpretado como: a probabilidade\n",
    "de $\\mu$ estar no intervalo calculado é de 99%."
   ]
  },
  {
   "cell_type": "markdown",
   "metadata": {},
   "source": [
    "Q1 - 2012<br>\n",
    "Julgue as afirmativas:\n",
    "0 - O erro tipo I é definido como a probabilidade de rejeitar a hipótese nula quando a hipótese nula é verdadeira.<br>\n",
    "1 - O erro tipo II é definido como a probabilidade de rejeitar a hipótese nula quando a hipótese nula é verdadeira.<br>\n",
    "2 - O nível de significância de um teste é a probabilidade de rejeitar a hipótese nula quando a hipótese alternativa é verdadeira. <br>\n",
    "3 - Se o p-valor de um teste é maior do que o nível de significância adotado, rejeita-se a hipótese nula."
   ]
  }
 ],
 "metadata": {
  "kernelspec": {
   "display_name": "Python 3",
   "language": "python",
   "name": "python3"
  },
  "language_info": {
   "codemirror_mode": {
    "name": "ipython",
    "version": 3
   },
   "file_extension": ".py",
   "mimetype": "text/x-python",
   "name": "python",
   "nbconvert_exporter": "python",
   "pygments_lexer": "ipython3",
   "version": "3.8.10"
  },
  "varInspector": {
   "cols": {
    "lenName": 16,
    "lenType": 16,
    "lenVar": 40
   },
   "kernels_config": {
    "python": {
     "delete_cmd_postfix": "",
     "delete_cmd_prefix": "del ",
     "library": "var_list.py",
     "varRefreshCmd": "print(var_dic_list())"
    },
    "r": {
     "delete_cmd_postfix": ") ",
     "delete_cmd_prefix": "rm(",
     "library": "var_list.r",
     "varRefreshCmd": "cat(var_dic_list()) "
    }
   },
   "types_to_exclude": [
    "module",
    "function",
    "builtin_function_or_method",
    "instance",
    "_Feature"
   ],
   "window_display": false
  }
 },
 "nbformat": 4,
 "nbformat_minor": 4
}
