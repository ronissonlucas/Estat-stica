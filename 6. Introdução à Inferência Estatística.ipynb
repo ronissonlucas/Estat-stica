{
 "cells": [
  {
   "cell_type": "markdown",
   "metadata": {},
   "source": [
    "# <b>Introdução à Inferência</b>"
   ]
  },
  {
   "cell_type": "markdown",
   "metadata": {},
   "source": [
    "## 1. Estimadores não viesados"
   ]
  },
  {
   "cell_type": "markdown",
   "metadata": {},
   "source": [
    "$\\mathrm{E(\\hat{\\theta})} = \\theta$"
   ]
  },
  {
   "cell_type": "markdown",
   "metadata": {},
   "source": [
    "A esperança do estimador deve ser o parâmetro populacional (estimador não viesado ou não tendencioso)."
   ]
  },
  {
   "cell_type": "markdown",
   "metadata": {},
   "source": [
    "Se o estimador erra, em média, então é viesado:"
   ]
  },
  {
   "cell_type": "markdown",
   "metadata": {},
   "source": [
    "$\\hat{\\theta} \\text{ é viesado} \\Leftrightarrow \\mathrm{E(\\hat{\\theta})} = \\theta+\\text{viés}$"
   ]
  },
  {
   "cell_type": "markdown",
   "metadata": {},
   "source": [
    "Vamos verificar se a média amostral é um estimador viesado da média populacional:"
   ]
  },
  {
   "cell_type": "markdown",
   "metadata": {},
   "source": [
    "Sabemos que: $\\overline{X} = \\dfrac{1}{n}\\sum_{i = 1}^{n}X_i = \\dfrac{X_1+X_2+\\dots+X_n}{n}$"
   ]
  },
  {
   "cell_type": "markdown",
   "metadata": {},
   "source": [
    "$\\mathrm{E(\\overline{X})} = \\mathrm{E}\\left(\\dfrac{X_1+X_2+\\dots+X_n}{n}\\right) $ <br>\n",
    "$\\mathrm{E(\\overline{X})} = \\dfrac{1}{n}\\mathrm{E}\\left(X_1+X_2+\\dots+X_n\\right)$ <br> <br>\n",
    "$\\mathrm{E(\\overline{X})} = \\dfrac{1}{n} \\left[\\mathrm{E(X_1)}+\\mathrm{E(X_2)}+\\dots+\\mathrm{E(X_n)}\\right]$ <br> <br>\n",
    "$\\mathrm{E(\\overline{X})} = \\dfrac{1}{n}\\left[\\mu+\\mu+\\dots+\\mu\\right]$ <br> <br>\n",
    "$\\mathrm{E(\\overline{X})} = \\dfrac{1}{n} \\left[n \\mu\\right] = \\mu$ <br>"
   ]
  },
  {
   "cell_type": "markdown",
   "metadata": {},
   "source": [
    "A esperança da média amostral é sempre igual à média populacional (estimador não viesado da média populacional)."
   ]
  },
  {
   "cell_type": "markdown",
   "metadata": {},
   "source": [
    "<b>Exemplo 1 </b>. (Média Ponderada)"
   ]
  },
  {
   "cell_type": "markdown",
   "metadata": {},
   "source": [
    "$M_1 = \\dfrac{2X_1+3X_2}{5}$"
   ]
  },
  {
   "cell_type": "markdown",
   "metadata": {},
   "source": [
    "$\\mathrm{E(M_1)} = E\\left(\\dfrac{2X_1+3X_2}{5}\\right)$<br><br>\n",
    "$\\mathrm{E(M_1)} = \\dfrac{1}{5}\\left[\\mathrm{E(2X_1)}+\\mathrm{E(3X_1)}\\right]$<br><br>\n",
    "$\\mathrm{E(M_1)} = \\dfrac{1}{5}\\left[2\\mathrm{E(X_1)}+3\\mathrm{E(X_2)}\\right]$<br><br>\n",
    "$\\mathrm{E(M_1)} = \\dfrac{1}{5}\\left[2\\mu+3\\mu\\right]$<br><br>\n",
    "$\\mathrm{E(M_1)} = \\dfrac{1}{5}\\left[5\\mu\\right]$<br><br>\n",
    "$\\mathrm{E(M_1)} = \\mu $"
   ]
  },
  {
   "cell_type": "markdown",
   "metadata": {},
   "source": [
    "<b>Exemplo 2</b>. (Professor muito rigoroso)"
   ]
  },
  {
   "cell_type": "markdown",
   "metadata": {},
   "source": [
    "$\\mathrm{M_2} = \\dfrac{\\sum_{i=1}^{n}X_i}{n+1}$"
   ]
  },
  {
   "cell_type": "markdown",
   "metadata": {},
   "source": [
    "* Uma interpretação: em uma média final de três provas, as notas são somadas e divididas por quatro (procedimento joga a média para baixo)."
   ]
  },
  {
   "cell_type": "markdown",
   "metadata": {},
   "source": [
    "$\\mathrm{E(M_2)} = \\mathrm{E}\\left(\\dfrac{\\sum_{i=1}^{n}X_i}{n+1}\\right)$<br><br>\n",
    "$\\mathrm{E(M_2)} = \\dfrac{1}{n+1}\\mathrm{E}\\left(\\sum_{i=1}^{n}X_i\\right)$<br><br>\n",
    "$\\mathrm{E(M_2)} = \\dfrac{1}{n+1}\\mathrm{E}\\left(X_1+X_2+\\dots+X_n\\right)$<br><br>\n",
    "$\\mathrm{E(M_2)} =\\dfrac{1}{n+1}\\left[\\mathrm{E(X_1)}+\\mathrm{E(X_2)}+\\dots+\\mathrm{E(X_n)}\\right]$<br><br>\n",
    "$\\mathrm{E(M_2)} = \\dfrac{1}{n+1}\\left[\\mu+\\mu+\\dots+\\mu\\right]$<br><br>\n",
    "$\\mathrm{E(M_2)} = \\dfrac{n\\mu}{n+1}\\neq \\mu$<br><br>"
   ]
  },
  {
   "cell_type": "markdown",
   "metadata": {},
   "source": [
    "$M_2$ é um estimador viesado da média populacional $\\mu$. Vamos obter o viés:"
   ]
  },
  {
   "cell_type": "markdown",
   "metadata": {},
   "source": [
    "Lembrando que:\n",
    "$\\hat{\\theta} \\text{ é viesado} \\Leftrightarrow \\mathrm{E(\\hat{\\theta})} = \\theta+\\text{viés}$    "
   ]
  },
  {
   "cell_type": "markdown",
   "metadata": {},
   "source": [
    "$\\text{viés}\\left(\\mathrm{M_2}\\right) = \\mathrm{E(M_2)} - \\mu$ <br><br>\n",
    "$\\text{viés}\\left(\\mathrm{M_2}\\right) = \\dfrac{n\\mu}{n+1} - \\mu$ <br><br>\n",
    "$\\text{viés}\\left(\\mathrm{M_2}\\right) = \\dfrac{n\\mu- \\mu\\left(n+1\\right)}{n+1}  = \\dfrac{-\\mu}{n+1}$ <br><br>\n",
    "\n"
   ]
  },
  {
   "cell_type": "markdown",
   "metadata": {},
   "source": [
    "O viés é negativo pois o estimador $M_2$ joga a média para baixo."
   ]
  },
  {
   "cell_type": "markdown",
   "metadata": {},
   "source": [
    "Um bom estimador deve acertar na média, mas também ter a menor variância possível (não disperse muito)."
   ]
  },
  {
   "cell_type": "markdown",
   "metadata": {},
   "source": [
    "## 2. Estimador eficiente (variância de estimadores)"
   ]
  },
  {
   "cell_type": "markdown",
   "metadata": {},
   "source": [
    "Estimador absolutamente eficiente ou eficiente se:\n",
    "* for não viesado;\n",
    "* entre os estimadores não viesados apresentar a menor variância."
   ]
  },
  {
   "cell_type": "markdown",
   "metadata": {},
   "source": [
    "Devemos então calcular a variância de um estimador. Vamos obter a variância da média amostral."
   ]
  },
  {
   "cell_type": "markdown",
   "metadata": {},
   "source": [
    "Vamos assumir que: $X_i$ são independentemente distribuídos ($\\mathrm{cov\\left(X_i,X_j\\right)} = 0$), então cada $X_i$ são independentes uns dos outros. É razoável? Isto implicaria que, se estivermos calculando média amostral a idade da primeira pessoa não afetará a idade da segunda pessoa, e assim sucessivamente. Poderemos calcular variância da soma como sendo a soma das variâncias. Assumiremos também, que a variância esperada de um elemento sorteado em uma população será a própria variância populacional $\\sigma^2$."
   ]
  },
  {
   "cell_type": "markdown",
   "metadata": {},
   "source": [
    "$\\mathrm{Var(\\overline{X})} = \\mathrm{Var}\\left(\\dfrac{X_1+X_2+\\dots+X_n}{n}\\right)$ <br><br>\n",
    "$\\mathrm{Var(\\overline{X})} = \\dfrac{1}{n^2}\\mathrm{Var}\\left(X_1+X_2+\\dots+X_n\\right)$ <br><br>\n",
    "$\\mathrm{Var(\\overline{X})} = \\dfrac{1}{n^2}\\left[\\mathrm{Var(X_1)}+\\mathrm{Var(X_2)}+\\dots+\\mathrm{Var(X_n)}\\right]$ <br><br>\n",
    "$\\mathrm{Var(\\overline{X})} = \\dfrac{1}{n^2}\\left[\\sigma^2+\\sigma^2+\\dots+\\sigma^2\\right]$ <br><br>\n",
    "$\\mathrm{Var(\\overline{X})} = \\dfrac{1}{n^2}\\times n\\sigma^2$ <br><br>\n",
    "$\\mathrm{Var(\\overline{X})} = \\dfrac{\\sigma^2}{n}$ <br><br>\n"
   ]
  },
  {
   "cell_type": "markdown",
   "metadata": {},
   "source": [
    "Vamos determinar a variância do estimador $M_1$."
   ]
  },
  {
   "cell_type": "markdown",
   "metadata": {},
   "source": [
    "$M_1 = \\dfrac{2X_1+3X_2}{5}$"
   ]
  },
  {
   "cell_type": "markdown",
   "metadata": {},
   "source": [
    "$\\mathrm{Var(M_1)} = \\mathrm{Var}\\left(\\dfrac{2X_1+3X_2}{5}\\right)$ <br><br>\n",
    "$\\mathrm{Var(M_1)} = \\dfrac{1}{25}\\mathrm{Var}\\left(2X_1+3X_2\\right)$ <br><br>"
   ]
  },
  {
   "cell_type": "markdown",
   "metadata": {},
   "source": [
    "$X$ é distribuído independentemente:"
   ]
  },
  {
   "cell_type": "markdown",
   "metadata": {},
   "source": [
    "$\\mathrm{Var(M_1)} = \\dfrac{1}{25}\\left[\\mathrm{Var(2X_1)}+\\mathrm{Var(3X_1)}\\right]$ <br><br>\n",
    "$\\mathrm{Var(M_1)} = \\dfrac{1}{25}\\left[4\\mathrm{Var(X_1)}+9\\mathrm{Var(X_1)}\\right]$ <br><br>\n",
    "$\\mathrm{Var(M_1)} = \\dfrac{1}{25}\\left[4\\sigma^2+9\\sigma^2\\right]$ <br><br>\n",
    "$\\mathrm{Var(M_1)} = \\dfrac{13}{25}\\sigma^2 = 0,52\\sigma^2$ <br><br>\n"
   ]
  },
  {
   "cell_type": "markdown",
   "metadata": {},
   "source": [
    "Para uma amostra com dois elementos a variância amostral será: $\\mathrm{Var(\\overline{X})} = \\dfrac{\\sigma^2}{2} = 0,5\\sigma^2$. Então, embora ambos os estimadores não sejam  viesados, a média amostral é um estimador melhor do que $M_1$, pois possui a menor variância."
   ]
  },
  {
   "cell_type": "markdown",
   "metadata": {},
   "source": [
    "Entre dois estimadores não viesados, o estimador que tiver a menor variância será relativamente mais eficiente."
   ]
  },
  {
   "cell_type": "markdown",
   "metadata": {},
   "source": [
    "## 3. Erro quadrático médio (EQM)"
   ]
  },
  {
   "cell_type": "markdown",
   "metadata": {},
   "source": [
    "$\\mathrm{EQM(\\hat{\\theta})} = \\mathrm{E(\\hat{\\theta}-\\theta)^2}$ <br>\n",
    "$\\mathrm{EQM(\\hat{\\theta})} = \\mathrm{E(\\hat{\\theta}^2-2\\theta\\hat{\\theta}+\\theta^2)}$ <br>\n",
    "$\\mathrm{EQM(\\hat{\\theta})} = \\mathrm{E(\\hat{\\theta}^2)}-2\\mathrm{E(\\theta\\hat{\\theta})}+\\mathrm{E(\\theta^2)}$ <br>\n",
    "$\\mathrm{EQM(\\hat{\\theta})} = \\mathrm{E(\\hat{\\theta}^2)}-2\\theta\\mathrm{E(\\hat{\\theta})}+\\theta^2$ <br>\n",
    "Somando e subtraindo $\\left[\\mathrm{E(\\hat{\\theta})}\\right]^2$:<br>\n",
    "$\\mathrm{EQM(\\hat{\\theta})} = \\mathrm{E(\\hat{\\theta}^2)}-\\left[\\mathrm{E(\\hat{\\theta})}\\right]^2+\\left[\\mathrm{E(\\hat{\\theta})}\\right]^2-2\\theta\\mathrm{E(\\hat{\\theta})}+\\theta^2$<br>\n",
    "$\\mathrm{EQM(\\hat{\\theta})} = \\mathrm{Var(\\hat{\\theta})}+\\left[\\mathrm{E(\\hat{\\theta})}-\\theta\\right]^2$<br>\n",
    "$\\mathrm{EQM(\\hat{\\theta})} = \\mathrm{Var(\\hat{\\theta})}+\\left[\\text{viés}(\\hat{\\theta})\\right]^2$"
   ]
  },
  {
   "cell_type": "markdown",
   "metadata": {},
   "source": [
    "O erro quadrático médio tem dois componentes: o estimador erra o valor do parâmetro em função de quanto varia (variância) e também, quando for o caso, pelo fato de não acertar na média (ser viesado)."
   ]
  },
  {
   "cell_type": "markdown",
   "metadata": {},
   "source": [
    "Para dois estimadores $\\hat{\\theta}_1$ e $\\hat{\\theta}_2$, se $\\hat{\\theta}_1$ tem menor erro quadrático médio do que $\\hat{\\theta}_2$, então diremos que $\\hat{\\theta}_1$ é relativamente mais eficiente que $\\hat{\\theta}_2$."
   ]
  },
  {
   "cell_type": "markdown",
   "metadata": {},
   "source": [
    "Observamos que para dois estimadores não viesados, dizer que o erro quadrático médio é menor, é equivalente a afirmar que a variância é menor."
   ]
  },
  {
   "cell_type": "markdown",
   "metadata": {},
   "source": [
    "<b>Exemplo</b>"
   ]
  },
  {
   "cell_type": "markdown",
   "metadata": {},
   "source": [
    "Determine qual dos estimadores da média a seguir é relativamente mais eficiente."
   ]
  },
  {
   "cell_type": "markdown",
   "metadata": {},
   "source": [
    "$M_1 = \\dfrac{2X_1+3X_2}{5}$<br><br>\n",
    "$M_3 = \\dfrac{X_1+X_2}{3}$"
   ]
  },
  {
   "cell_type": "markdown",
   "metadata": {},
   "source": [
    "$\\mathrm{EQM(M_1)} = \\mathrm{Var(M_1)}+\\left[\\text{viés}\\left(M_1\\right)\\right]^2$ <br><br>\n",
    "$\\mathrm{EQM(M_1)} = \\mathrm{Var(M_1)}+0 $ <br><br>\n",
    "$\\mathrm{EQM(M_1)} = 0,52\\sigma^2 $"
   ]
  },
  {
   "cell_type": "markdown",
   "metadata": {},
   "source": [
    "Estimador $\\mathrm{M_3}$:"
   ]
  },
  {
   "cell_type": "markdown",
   "metadata": {},
   "source": [
    "$\\mathrm{E(M_3)} = \\mathrm{E}\\left(\\dfrac{X_1+X_2}{3}\\right)$ <br><br>\n",
    "$\\mathrm{E(M_3)} = \\dfrac{1}{3}\\mathrm{E}\\left(X_1+X_2\\right)$ <br><br>\n",
    "$\\mathrm{E(M_3)} = \\dfrac{1}{3}\\left(\\mu+\\mu\\right)$ <br><br>\n",
    "$\\mathrm{E(M_3)} = \\dfrac{2}{3}\\mu$ <br><br>\n"
   ]
  },
  {
   "cell_type": "markdown",
   "metadata": {},
   "source": [
    "$\\mathrm{M_3}$ é um estimador viesado. Calculemos seu viés:"
   ]
  },
  {
   "cell_type": "markdown",
   "metadata": {},
   "source": [
    "$\\text{viés}\\left(M_3\\right) = \\mathrm{E}\\left(M_3\\right) - \\mu$ <br><br>\n",
    "$\\text{viés}\\left(M_3\\right) = \\dfrac{2}{3}\\mu - \\mu$ <br><br>\n",
    "$\\text{viés}\\left(M_3\\right) = -\\dfrac{1}{3}\\mu$"
   ]
  },
  {
   "cell_type": "markdown",
   "metadata": {},
   "source": [
    "Variância:"
   ]
  },
  {
   "cell_type": "markdown",
   "metadata": {},
   "source": [
    "$\\mathrm{Var(M_3)} = \\mathrm{Var}\\left(\\dfrac{X_1+X_2}{3}\\right)$ <br><br>\n",
    "$\\mathrm{Var(M_3)} = \\dfrac{1}{9}\\mathrm{Var}\\left(X_1+X_2\\right)$ <br><br>\n",
    "$\\mathrm{Var(M_3)} = \\dfrac{1}{9}\\left(\\sigma^2+\\sigma^2\\right)$ <br><br>\n",
    "$\\mathrm{Var(M_3)} = \\dfrac{2}{9}\\sigma^2$ <br><br>"
   ]
  },
  {
   "cell_type": "markdown",
   "metadata": {},
   "source": [
    "Calculemos então o $EQM$ do estimador $M_3$:"
   ]
  },
  {
   "cell_type": "markdown",
   "metadata": {},
   "source": [
    "$\\mathrm{EQM(M_3)} = \\mathrm{var(M_3)}+\\left[\\text{viés}\\left(M_3\\right)\\right]^2$ <br><br>\n",
    "$\\mathrm{EQM(M_3)} = \\dfrac{2}{9}\\sigma^2+\\left[-\\dfrac{1}{3}\\mu\\right]^2$ <br><br>\n",
    "$\\mathrm{EQM(M_3)} = \\dfrac{2}{9}\\sigma^2+\\dfrac{1}{9}\\mu^2$"
   ]
  },
  {
   "cell_type": "markdown",
   "metadata": {},
   "source": [
    "Não podemos afirmar qual dos estimadores é relativamente mais eficiente, visto que não sabemos os verdadeiros valores de $\\sigma$ e $\\mu$."
   ]
  },
  {
   "cell_type": "markdown",
   "metadata": {},
   "source": [
    "Se assumirmos $\\mu = 0$:"
   ]
  },
  {
   "cell_type": "markdown",
   "metadata": {},
   "source": [
    "$\\mathrm{EQM(M_3)} = \\dfrac{2}{9}\\sigma^2 < \\mathrm{EQM(M_1)}$"
   ]
  },
  {
   "cell_type": "markdown",
   "metadata": {},
   "source": [
    "Neste caso, temos que $M_3$ é relativamente mais eficiente que $M_1$."
   ]
  },
  {
   "cell_type": "markdown",
   "metadata": {},
   "source": [
    "## 4. Estimador para a variância"
   ]
  },
  {
   "cell_type": "markdown",
   "metadata": {},
   "source": [
    "O estimador $\\hat{\\sigma}^2 = \\dfrac{\\sum_{i=1}^{n}\\left(X_i-\\overline{X}\\right)^2}{n}$ é um estimador não viesado da variância populacional ($\\sigma^2$)?"
   ]
  },
  {
   "cell_type": "markdown",
   "metadata": {},
   "source": [
    "$\\mathrm{E(\\hat{\\sigma}^2)} = \\mathrm{E}\\left[ \\dfrac{\\sum_{i=1}^{n}\\left(X_i-\\overline{X}\\right)^2}{n}\\right]$ <br><br>\n",
    "$\\mathrm{E(\\hat{\\sigma}^2)} = \\dfrac{n-1}{n}\\sigma^2 \\neq \\sigma^2$"
   ]
  },
  {
   "cell_type": "markdown",
   "metadata": {},
   "source": [
    "O estimador $\\hat{\\sigma}^2$ é um estimador viesado da variância populacional $\\sigma^2$."
   ]
  },
  {
   "cell_type": "markdown",
   "metadata": {},
   "source": [
    "Vamos considerar outro estimador: $S^2 = \\dfrac{n}{n-1}\\hat{\\sigma}^2$."
   ]
  },
  {
   "cell_type": "markdown",
   "metadata": {},
   "source": [
    "$S^2 = \\dfrac{n}{n-1} \\times \\dfrac{\\sum_{i=1}^{n}\\left(X_i-\\overline{X}\\right)^2}{n}$"
   ]
  },
  {
   "cell_type": "markdown",
   "metadata": {},
   "source": [
    "Vamos mostrar que $S^2$ é um estimador não viesado para a variância populacional $\\sigma^2$."
   ]
  },
  {
   "cell_type": "markdown",
   "metadata": {},
   "source": [
    "$\\mathrm{E(S^2)} = \\dfrac{n}{n-1}\\mathrm{E}(\\hat{\\sigma}^2)$ <br><br>\n",
    "$\\mathrm{E(S^2)} = \\dfrac{n}{n-1} \\times \\dfrac{n-1}{n} \\sigma^2 = \\sigma^2$"
   ]
  },
  {
   "cell_type": "markdown",
   "metadata": {},
   "source": [
    "## 5. Melhor estimador linear não viesado"
   ]
  },
  {
   "cell_type": "markdown",
   "metadata": {},
   "source": [
    "Ou <i>Best Linear Unbiased estimator</i> (BLUE)"
   ]
  },
  {
   "cell_type": "markdown",
   "metadata": {},
   "source": [
    "Um estimador que seja Melhor Estimador Linear não Viesado (MELiNV) tem:\n",
    "* ser não viesado;\n",
    "* ser linear;\n",
    "* entre os estimadores lineares e não viesados, apresentar a menor variância."
   ]
  },
  {
   "cell_type": "markdown",
   "metadata": {},
   "source": [
    "Um estimador será linear se for obtido por meio de uma combinação linear das observações da amostra:"
   ]
  },
  {
   "cell_type": "markdown",
   "metadata": {},
   "source": [
    "$\\tilde{X} = \\sum_{i=1}^{n}a_iX_i = a_1X_1+a_2X_2+\\dots+a_nX_n$"
   ]
  },
  {
   "cell_type": "markdown",
   "metadata": {},
   "source": [
    "Cada $a_i$ é uma constante."
   ]
  },
  {
   "cell_type": "markdown",
   "metadata": {},
   "source": [
    "Resumindo as propriedades temos:"
   ]
  },
  {
   "cell_type": "markdown",
   "metadata": {},
   "source": [
    "1. Estimador não viesado\n",
    "    * Aquele estimador que na média acerta: $\\mathrm{E(\\hat{\\theta}^2)} = \\theta$\n",
    "2. Estimador eficiente\n",
    "    * Aquele que, entre os estimadores não viesados, apresenta menor variância.\n",
    "3. BLUE\n",
    "    * Aquele que, entre os estimadores lineares e não viesados, apresenta menor variância."
   ]
  },
  {
   "cell_type": "markdown",
   "metadata": {},
   "source": [
    "## 6. Propriedades assintóticas: estimadores assintoticamente não viesados"
   ]
  },
  {
   "cell_type": "markdown",
   "metadata": {},
   "source": [
    "As propriedades anteriores se aplicam a qualquer tamanho de amostra e, em particular, a amostras pequenas. Mas quando o tamanho da amostra cresce , ou tende ao infinito,também devemos definir propriedades desejáveis (propriedades assintóticas)."
   ]
  },
  {
   "cell_type": "markdown",
   "metadata": {},
   "source": [
    "1. Estimadores assintoticamente não viesados\n",
    "    * Alguns estimadores, embora viesados, quando a amostra cresce, tem seu viés reduzido (o viés do estimador vai desaparecendo à medida que o tamanho da amostra aumenta.\n",
    "    * Se o estimador for não viesado, será assintoticamente não viesado. Porém, a recíproca não é verdadeira. \n",
    "    * $\\lim_{n \\rightarrow \\infty}\\mathrm{E(\\hat{\\theta})} = \\theta$\n",
    "2. Estimadores consistentes\n",
    "    * Um estimador será consistente se:\n",
    "        * $\\lim_{n \\rightarrow \\infty}\\mathrm{E(\\hat{\\theta})} = \\theta$\n",
    "        * $\\lim_{n \\rightarrow \\infty}\\mathrm{Var(\\hat{\\theta})} = 0$\n",
    "    * Condição suficiente: se $\\lim_{n \\rightarrow \\infty}\\mathrm{EQM(\\hat{\\theta})} = 0$, então $\\hat{\\theta}$ é consistente."
   ]
  },
  {
   "cell_type": "markdown",
   "metadata": {},
   "source": [
    "## 7. Questões Anpec"
   ]
  },
  {
   "cell_type": "markdown",
   "metadata": {},
   "source": [
    "Exercício: Verifique se o estimador $M_4$ é não viesado e consistente."
   ]
  },
  {
   "cell_type": "markdown",
   "metadata": {},
   "source": [
    "$M_4 = \\dfrac{1}{2}X_1+\\dfrac{1}{2\\left(n-1\\right)} \\sum_{i=1}^{n}X_i$"
   ]
  },
  {
   "cell_type": "markdown",
   "metadata": {},
   "source": [
    "Verificando se $M_4$ é viesado:"
   ]
  },
  {
   "cell_type": "markdown",
   "metadata": {},
   "source": [
    "$\\mathrm{E(M_4)} = \\mathrm{E}\\left[\\dfrac{1}{2}X_1+\\dfrac{1}{2(n-1)}\\sum_{i=1}^{n}X_i \\right]$<br><br>\n",
    "$\\mathrm{E(M_4)} = \\mathrm{E}\\left(\\dfrac{1}{2}X_1\\right)+\\mathrm{E}\\left[\\dfrac{1}{2(n-1)}\\sum_{i=1}^{n}X_i \\right]$<br><br>\n",
    "$\\mathrm{E(M_4)} = \\dfrac{1}{2}\\mathrm{E(X_1)}+\\dfrac{1}{2(n-1)}\\mathrm{E(X_2+X_3+\\dots+X_n)}$<br><br>\n",
    "$\\mathrm{E(M_4)} = \\dfrac{1}{2}\\mathrm{E(X_1)}+\\dfrac{1}{2(n-1)}\\left[\\mathrm{E(X_2)}+\\mathrm{E(X_3)}+\\dots+\\mathrm{E(X_n)}\\right]$<br><br>\n",
    "$\\mathrm{E(M_4)} = \\dfrac{1}{2}\\mu+\\dfrac{1}{2(n-1)}\\left[\\mu+\\mu+\\dots+\\mu\\right]$<br><br>\n",
    "$\\mathrm{E(M_4)} = \\dfrac{1}{2}\\mu+\\dfrac{1}{2(n-1)}(n-1)\\mu$<br><br>\n",
    "$\\mathrm{E(M_4)} = \\dfrac{1}{2}\\mu+\\dfrac{1}{2}\\mu = \\mu$\n"
   ]
  },
  {
   "cell_type": "markdown",
   "metadata": {},
   "source": [
    "Vams calcular $\\mathrm{EQM(M_4)}$:"
   ]
  },
  {
   "cell_type": "markdown",
   "metadata": {},
   "source": [
    "$\\mathrm{EQM(M_4)} = \\mathrm{Var(M_4)}+\\left[\\text{viés}(\\mathrm{M_4})\\right]^2$ <br><br>\n",
    "$\\mathrm{EQM(M_4)} = \\mathrm{Var(M_4)}$<br><br>\n",
    "$\\mathrm{EQM(M_4)} =  \\mathrm{Var} \\left(\\dfrac{1}{2}X_1+\\dfrac{1}{2(n-1)}\\sum_{i=1}^{n}X_i\\right)$ <br><br>\n",
    "$\\mathrm{EQM(M_4)} =  \\mathrm{Var} \\left(\\dfrac{1}{2}X_1\\right)+ \\mathrm{Var}\\left(\\dfrac{1}{2(n-1)}\\sum_{i=1}^{n}X_i\\right)$ <br><br>\n",
    "$\\mathrm{EQM(M_4)} = \\dfrac{1}{4}\\mathrm{Var(X_1)}+\\dfrac{1}{4(n-1)^2}\\mathrm{Var(X_2+X_3+\\dots+X_n)}$<br><br>\n",
    "$\\mathrm{EQM(M_4)} = \\dfrac{1}{4}\\sigma^2+\\dfrac{1}{4(n-1)^2}(\\sigma^2+\\sigma^2+\\dots+\\sigma^2)$<br><br>\n",
    "$\\mathrm{EQM(M_4)} = \\dfrac{1}{4}\\sigma^2+\\dfrac{1}{4(n-1)^2}(n-1)\\sigma^2$<br><br>\n",
    "$\\mathrm{EQM(M_4)} = \\dfrac{1}{4}\\sigma^2+\\dfrac{1}{4(n-1)}\\sigma^2$<br><br>"
   ]
  },
  {
   "cell_type": "markdown",
   "metadata": {},
   "source": [
    "$\\lim_{n \\rightarrow \\infty} \\mathrm{EQM(M_4)} = \\lim_{n \\rightarrow \\infty}\\left[\\dfrac{1}{4}\\sigma^2+\\dfrac{1}{4(n-1)}\\sigma^2\\right]$ <br><br>\n",
    "$\\lim_{n \\rightarrow \\infty} \\mathrm{EQM(M_4)} = \\frac{1}{4}\\sigma^2$"
   ]
  },
  {
   "cell_type": "markdown",
   "metadata": {},
   "source": [
    "$M_4$ não é consistente, mas é não viesado."
   ]
  },
  {
   "cell_type": "markdown",
   "metadata": {},
   "source": [
    "Q2-2003"
   ]
  },
  {
   "cell_type": "markdown",
   "metadata": {},
   "source": [
    "Sejam: $X_1,X_2,\\dots,X_n$ variáveis aleatórias independentes e normalmente distribuídas com média $\\mu$ e variância $\\sigma^2$; $\\overline{X} = n^{-1}\\sum_{i=1}^{n}X_i$; e $Z = \\sum_{i=1}^{n}Y_i^{2}$, em que $Y_i = \\sigma^{-1}\\left(X-\\mu\\right)$.É correto afirmar que:"
   ]
  },
  {
   "cell_type": "markdown",
   "metadata": {},
   "source": [
    "0 - $\\overline{X}$ é um estimador tendencioso da média $\\mu$. <br>\n",
    "1 - $Z$ é uma variável aleatória com distribuição $\\chi^2$ com $n$ graus de liberdade.<br>\n",
    "2 - $S^2 = n^{-1}\\sum_{i=1}^{n}\\left(X_i-\\overline{X}\\right)^2$ é um estimador tendencioso da variância $\\sigma^2$.<br>"
   ]
  },
  {
   "cell_type": "markdown",
   "metadata": {},
   "source": [
    "0 - (F) Vimos que $E(\\overline{X}) = \\mu$, então  estimador não é tendencioso. <br>\n",
    "1 - (V) Trata-se de uma soma de normais padronizadas ao quadrado. <br>\n",
    "2 - (V) Vimos anteriormente que $\\hat{\\sigma}^2 = \\dfrac{\\sum_{i=1}^{n}\\left(X_i-\\overline{X}\\right)^2}{n}$ é um estimador viesado da variância populacional $\\sigma^2$. <br>"
   ]
  },
  {
   "cell_type": "markdown",
   "metadata": {},
   "source": [
    "Q6-2004"
   ]
  },
  {
   "cell_type": "markdown",
   "metadata": {},
   "source": [
    "Seja X uma variável aleatória normalmente distribuída com média μ e variância conhe-\n",
    "cida $\\sigma^2  = 1$, da qual se obtém a amostra aleatória $X_1 , X_2 , \\dots, X_n$ (com $n$ observações). É correto afirmar que:"
   ]
  },
  {
   "cell_type": "markdown",
   "metadata": {},
   "source": [
    "0 - A média amostral é uma variável aleatória normalmente distribuída com média $\\mu$ e\n",
    "variância $\\dfrac{1}{n}$."
   ]
  },
  {
   "cell_type": "markdown",
   "metadata": {},
   "source": [
    "0 - (V)<br>\n",
    "$\\mathrm{E(\\overline{X})} = \\mu$ <br>\n",
    "$\\mathrm{Var(\\overline{X})} = \\dfrac{\\sigma^2}{n} = \\dfrac{1}{n}$ <br>\n",
    "A média amostral terá uma distribuição normal (observe que a população segue uma distribuição normal)."
   ]
  },
  {
   "cell_type": "markdown",
   "metadata": {},
   "source": [
    "Q5-2005"
   ]
  },
  {
   "cell_type": "markdown",
   "metadata": {},
   "source": [
    "São corretas as afirmativas:"
   ]
  },
  {
   "cell_type": "markdown",
   "metadata": {},
   "source": [
    "4 - Um estimador é dito não tendencioso se a sua variância for igual à variância do parâ-\n",
    "metro estimado."
   ]
  },
  {
   "cell_type": "markdown",
   "metadata": {},
   "source": [
    "4 - (F)<br>\n",
    "Um estimador será não tendencioso se: $E(\\hat{\\theta}) = \\theta$."
   ]
  },
  {
   "cell_type": "markdown",
   "metadata": {},
   "source": [
    "Q7-2013"
   ]
  },
  {
   "cell_type": "markdown",
   "metadata": {},
   "source": [
    "$X_1, \\dots, X_n$ é uma amostra aleatória de tamanho $N$ de uma população com $\\mathrm{E[X_i]} = \\theta_1$ e $\\mathrm{Var[X_i]} = \\theta_2$. Definimos quatro estatísticas:"
   ]
  },
  {
   "cell_type": "markdown",
   "metadata": {},
   "source": [
    "$T_1 = \\dfrac{\\sum_{i=1}^{N}X_i}{N}$ <br><br>\n",
    "$T_2 = \\dfrac{\\sum_{i=1}^{N}}{N-3}$<br><br>\n",
    "$T_3 = \\dfrac{\\sum_{i=1}^{\\frac{N}{2}}X_i}{N}$<br><br>\n",
    "$T_4 = \\dfrac{\\sum_{i=1}^{N}X_i}{N^2}$"
   ]
  },
  {
   "cell_type": "markdown",
   "metadata": {},
   "source": [
    "Em relação às quatro estatísticas, podemos afirmar que:"
   ]
  },
  {
   "cell_type": "markdown",
   "metadata": {},
   "source": [
    "0 - $T_2$ é um estimador viesado para $\\theta_1$ e o viés é igual a $\\frac{3}{n-3}\\theta_1$.<br>\n",
    "2 - A variância de $T_3$ é menor que a variância de $T_1$.<br>\n",
    "3 - $T_3$ é um estimador consistente para $\\frac{\\theta_1}{2}$."
   ]
  },
  {
   "cell_type": "markdown",
   "metadata": {},
   "source": [
    "0 - (V)"
   ]
  },
  {
   "cell_type": "markdown",
   "metadata": {},
   "source": [
    "$\\mathrm{E(T_2)} = \\mathrm{E}\\left(\\dfrac{\\sum_{i=1}^{N}X_i}{N-3}\\right)$ <br><br>\n",
    "$\\mathrm{E(T_2)} = \\dfrac{1}{N-3}\\mathrm{E}\\left(\\sum_{i=1}^{N}X_i\\right)$ <br><br>\n",
    "$ \\mathrm{E(T_2)} = \\dfrac{1}{N-3}\\left[\\mathrm{E(X_1)}+\\dots+\\mathrm{E(X_N)}\\right] $ <br><br>\n",
    "$ \\mathrm{E(T_2)} = \\dfrac{1}{N-3}\\left[\\theta_1+\\dots+\\theta_1\\right] $ <br><br>\n",
    "$ \\mathrm{E(T_2)} = \\dfrac{N\\theta_1}{N-3} $"
   ]
  },
  {
   "cell_type": "markdown",
   "metadata": {},
   "source": [
    "$T_2$ é um estimador viesado. Calculemos seu viés:"
   ]
  },
  {
   "cell_type": "markdown",
   "metadata": {},
   "source": [
    "$\\text{viés}\\mathrm{(T_2)} = \\mathrm{E(T_2)}-\\theta_1$ <br><br>\n",
    "$\\text{viés}\\mathrm{(T_2)} = \\dfrac{N\\theta_1}{N-3}-\\theta_1 =\\dfrac{N\\theta_1-\\theta_1(N-3)}{N-3} = \\dfrac{3\\theta_1}{N-3}$"
   ]
  },
  {
   "cell_type": "markdown",
   "metadata": {},
   "source": [
    "2 - (V)"
   ]
  },
  {
   "cell_type": "markdown",
   "metadata": {},
   "source": [
    "$\\mathrm{Var(T_3)} = \\mathrm{Var}\\left(\\dfrac{\\sum_{i=1}^{\\frac{N}{2}}X_i}{N}\\right)$ <br><br>\n",
    "$\\mathrm{Var(T_3)} = \\dfrac{1}{N^2}\\mathrm{Var}\\left(\\sum_{i=1}^{\\frac{N}{2}}X_i\\right)$ <br><br>\n",
    "$\\mathrm{Var(T_3)} = \\dfrac{1}{N^2}\\sum_{i=1}^{\\frac{N}{2}}\\theta_2$ <br><br>\n",
    "$\\mathrm{Var(T_3)} = \\dfrac{(\\frac{N}{2})\\theta_2}{N^2} = \\dfrac{N\\theta_2}{2}\\times\\dfrac{1}{N^2} = \\dfrac{\\theta_2}{2N}$"
   ]
  },
  {
   "cell_type": "markdown",
   "metadata": {},
   "source": [
    "$\\mathrm{Var(T_1)} = \\mathrm{Var}\\left(\\dfrac{\\sum_{i=1}^{N}X_i}{N}\\right)$ <br><br>\n",
    "$\\mathrm{Var(T_1)} = \\dfrac{1}{N^2}\\times N \\theta_2 = \\dfrac{\\theta_2}{N} $"
   ]
  },
  {
   "cell_type": "markdown",
   "metadata": {},
   "source": [
    "Então: $\\mathrm{Var(T_3)} < \\mathrm{Var(T_1)}$."
   ]
  },
  {
   "cell_type": "markdown",
   "metadata": {},
   "source": [
    "3 - (V)"
   ]
  },
  {
   "cell_type": "markdown",
   "metadata": {},
   "source": [
    "Vamos verificar primeiro se : $\\lim_{n \\rightarrow \\infty} \\mathrm{E(T_3)} = \\frac{\\theta_1}{2}$:"
   ]
  },
  {
   "cell_type": "markdown",
   "metadata": {},
   "source": [
    "$\\lim_{n \\rightarrow \\infty} \\mathrm{E(T_3)} = \\lim_{n \\rightarrow \\infty} \\mathrm{E}\\left(\\dfrac{\\sum_{i=1}^{\\frac{N}{2}}}{N}\\right)$ <br><br>\n",
    "$\\lim_{n \\rightarrow \\infty} \\mathrm{E(T_3)} = \\lim_{n \\rightarrow \\infty} \\dfrac{1}{N}\\mathrm{E(\\sum_{i=1}^{\\frac{N}{2}})}$ <br><br>\n",
    "$\\lim_{n \\rightarrow \\infty} \\mathrm{E(T_3)} = \\lim_{n \\rightarrow \\infty} \\dfrac{1}{N}\\left[\\mathrm{E(X_1)}+\\dots+\\mathrm{E(X_{\\frac{N}{2}})}\\right]$<br><br>\n",
    "$\\lim_{n \\rightarrow \\infty} \\mathrm{E(T_3)} = \\lim_{n \\rightarrow \\infty} \\dfrac{1}{N}\\left(\\frac{N}{2}\\right)\\theta_1$ <br><br>\n",
    "$\\lim_{n \\rightarrow \\infty} \\mathrm{E(T_3)} = \\lim_{n \\rightarrow \\infty} \\dfrac{\\theta_1}{2} = \\frac{\\theta_1}{2}$"
   ]
  },
  {
   "cell_type": "markdown",
   "metadata": {},
   "source": [
    "Vamos verificar: $\\lim_{n \\rightarrow \\infty}\\mathrm{Var(T_3)} = 0$."
   ]
  },
  {
   "cell_type": "markdown",
   "metadata": {},
   "source": [
    "$\\lim_{n \\rightarrow \\infty}\\mathrm{Var(T_3)} = \\lim_{n \\rightarrow \\infty}\\mathrm{Var} \\left(\\dfrac{\\sum_{i=1}^{\\frac{N}{2}}X_i}{N}\\right) = \\lim_{n \\rightarrow \\infty}\\dfrac{\\theta_2}{2N} = 0$"
   ]
  },
  {
   "cell_type": "markdown",
   "metadata": {},
   "source": [
    "$T_3$ é um estimador consistente para $\\frac{\\theta_1}{2}$."
   ]
  },
  {
   "cell_type": "markdown",
   "metadata": {},
   "source": [
    "Q9-2014"
   ]
  },
  {
   "cell_type": "markdown",
   "metadata": {},
   "source": [
    "Seja $X$ uma variável aleatória com distribuição normal, com média $\\mu$ e variância $\\sigma^2$. Considere duas amostras aleatórias independentes de $X$. Cada uma das amostras tem tamanho $n_1$ e $n_2$, e possuem médias $\\overline{X}_1$ e $\\overline{X}_2$. Podemos usar dois estimadores para a média populacional, $\\tilde{\\mu} = \\frac{1}{2}(\\overline{X}_1+\\overline{X}_2)$ e $\\hat{\\mu} = \\dfrac{n_1\\overline{X}_1+n_2\\overline{X}_2}{n_1+n_2}$. Julgue as seguintes afirmativas a respeito dos estimadores:"
   ]
  },
  {
   "cell_type": "markdown",
   "metadata": {},
   "source": [
    "0 - $\\tilde{\\mu}$ é um estimador não-viesado para a média populacional.<br>\n",
    "1 - $\\hat{\\mu}$ é um estimador não-viesado para a média populacional.<br>\n",
    "2 - $\\tilde{\\mu}$ possui menor variância que $\\hat{\\mu}$.<br>\n",
    "3 - $\\tilde{\\mu}$ é um estimador mais eficiente, isto é, possui menor erro quadrático médio que $\\hat{\\mu}$<br>\n",
    "4 - $\\tilde{\\mu}$ é um estimador consistente para a média populacional.<br>"
   ]
  },
  {
   "cell_type": "markdown",
   "metadata": {},
   "source": [
    "0 - (V)"
   ]
  },
  {
   "cell_type": "markdown",
   "metadata": {},
   "source": [
    "$\\mathrm{E(\\tilde{\\mu})} = \\mathrm{E}\\left[\\dfrac{1}{2}\\left(\\overline{X}_1+\\overline{X}_2\\right)\\right] = \\dfrac{1}{2}\\mathrm{E}\\left(\\overline{X}_1+\\overline{X}_2\\right) = \\dfrac{1}{2}\\left[\\mathrm{E(\\overline{X}_1)}+\\mathrm{E(\\overline{X}_2)}\\right] = \\frac{1}{2}[\\mu+\\mu] = \\mu$  <br><br>"
   ]
  },
  {
   "cell_type": "markdown",
   "metadata": {},
   "source": [
    "1 - (V)"
   ]
  },
  {
   "cell_type": "markdown",
   "metadata": {},
   "source": [
    "$\\mathrm{E(\\hat{\\mu})} = \\mathrm{E}\\left[\\dfrac{n_1\\overline{X}_1+n_2\\overline{X}_2}{n_1+n_2}\\right]$<br><br>\n",
    "$\\mathrm{E(\\hat{\\mu})} = \\dfrac{1}{n_1+n_2}\\mathrm{E}\\left[n_1\\overline{X}_1+n_2\\overline{X}_2\\right]$ <br><br>\n",
    "$\\mathrm{E(\\hat{\\mu})} = \\dfrac{1}{n_1+n_2}\\left[\\mathrm{E(n_1\\overline{X}_1)}+\\mathrm{E(n_2\\overline{X}_2)}\\right]$ <br><br>\n",
    "$\\mathrm{E(\\hat{\\mu})} = \\dfrac{1}{n_1+n_2}\\left[\\mathrm{n_1E(\\overline{X}_1)}+n_2\\mathrm{E(\\overline{X}_2)}\\right]$ <br><br>\n",
    "$\\mathrm{E(\\hat{\\mu})} = \\dfrac{n_1\\mu+n_2\\mu}{n_1+n_2} =\\dfrac{\\mu(n_1+n_2)}{n_1+n_2} = \\mu $"
   ]
  },
  {
   "cell_type": "markdown",
   "metadata": {},
   "source": [
    "2 - (F)"
   ]
  },
  {
   "cell_type": "markdown",
   "metadata": {},
   "source": [
    "Calculando $\\mathrm{Var(\\tilde{\\mu})}$:"
   ]
  },
  {
   "cell_type": "markdown",
   "metadata": {},
   "source": [
    "$\\mathrm{Var(\\tilde{\\mu})} = \\mathrm{Var}\\left[\\frac{1}{2}(\\overline{X}_1+\\overline{X}_2)\\right] = \\frac{1}{4}\\mathrm{Var(\\overline{X}_1+\\overline{X}_2)} = \\frac{1}{4}\\left[\\mathrm{Var(\\overline{X}_1)}+\\mathrm{Var(\\overline{X}_2)}\\right] = \\frac{1}{4}\\left[\\dfrac{\\sigma^2}{n_1}+\\dfrac{\\sigma^2}{n_2}\\right]$"
   ]
  },
  {
   "cell_type": "markdown",
   "metadata": {},
   "source": [
    "Calculando $\\mathrm{Var(\\hat{\\mu})}$:"
   ]
  },
  {
   "cell_type": "markdown",
   "metadata": {},
   "source": [
    "$\\mathrm{Var(\\hat{\\mu})} =\\mathrm{Var}\\left[\\dfrac{n_1\\overline{X}_1+n_2\\overline{X}_2}{n_1+n_2}\\right]$ <br><br>\n",
    "$\\mathrm{Var(\\hat{\\mu})} = \\dfrac{1}{\\left(n_1+n_2\\right)^2}\\mathrm{Var(n_1\\overline{X}_1+n_2\\overline{X}_2)} $ <br><br>\n",
    "$\\mathrm{Var(\\hat{\\mu})} = \\dfrac{1}{\\left(n_1+n_2\\right)^2} \\left[n_1^2\\mathrm{Var(\\overline{X}_1)}+n_2^2\\mathrm{Var(\\overline{X}_2)}\\right]$<br><br>\n",
    "$\\mathrm{Var(\\hat{\\mu})} = \\dfrac{1}{\\left(n_1+n_2\\right)^2} \\left[\\dfrac{n_1^2\\sigma^2}{n_1}+\\dfrac{n_2^2\\sigma^2}{n_2}\\right] $ <br><br>\n",
    "$\\mathrm{Var(\\hat{\\mu})} = \\dfrac{1}{\\left(n_1+n_2\\right)^2}\\left[n_1\\sigma^2+n_2\\sigma^2\\right]$<br><br>\n",
    "$\\mathrm{Var(\\hat{\\mu})} = \\dfrac{\\sigma^2(n_1+n_2)}{\\left(n_1+n_2\\right)^2}$ <br><br>\n",
    "$\\mathrm{Var(\\hat{\\mu})} = \\dfrac{\\sigma^2}{\\left(n_1+n_2\\right)}$ <br><br>"
   ]
  },
  {
   "cell_type": "markdown",
   "metadata": {},
   "source": [
    "Vamos verificar $\\mathrm{Var(\\tilde{\\mu})} \\leq \\mathrm{Var(\\hat{\\mu})}$:"
   ]
  },
  {
   "cell_type": "markdown",
   "metadata": {},
   "source": [
    "$\\dfrac{\\sigma^2(n_1+n_2)}{4n_1n_2} \\leq \\dfrac{\\sigma^2}{(n_1+n_2)}$ <br><br>\n",
    "$\\dfrac{(n_1+n_2)}{4n_1n_2} \\leq \\dfrac{1}{(n_1+n_2)}$ <br><br>\n",
    "$(n_1+n_2)^2 \\leq 4n_1n_2$<br><br>\n",
    "$n_1^2+2n_1n_2+n_2^2 \\leq 4n_1n_2$ <br><br>\n",
    "$n_1^2-2n_1n_2+n_2^2 \\leq 0$<br><br>\n",
    "$\\left(n_1-n_2\\right)^2 \\leq 0 $"
   ]
  },
  {
   "cell_type": "markdown",
   "metadata": {},
   "source": [
    "A condição é válida com igualdade."
   ]
  },
  {
   "cell_type": "markdown",
   "metadata": {},
   "source": [
    "3 - (F)"
   ]
  },
  {
   "cell_type": "markdown",
   "metadata": {},
   "source": [
    "$\\mathrm{EQM(\\tilde{\\mu})} = \\mathrm{Var(\\tilde{\\mu})}$ <br>\n",
    "$\\mathrm{EQM(\\hat{\\mu})} = \\mathrm{Var(\\hat{\\mu})}$ <br>\n",
    "Vimos ainda que: $\\mathrm{Var(\\tilde{\\mu})} \\leq \\mathrm{Var(\\hat{\\mu})}$. Então não podemos afirmar que o estimador $\\tilde{\\mu}$ é mais eficiente que $\\hat{\\mu}$."
   ]
  },
  {
   "cell_type": "markdown",
   "metadata": {},
   "source": [
    "4 - (V)"
   ]
  },
  {
   "cell_type": "markdown",
   "metadata": {},
   "source": [
    "Precisamos verificar: $\\lim_{(n_1,n_2) \\rightarrow (\\infty,\\infty)} \\mathrm{EQM(\\tilde{\\mu})} = 0$."
   ]
  },
  {
   "cell_type": "markdown",
   "metadata": {},
   "source": [
    "$\\lim_{(n_1,n_2) \\rightarrow (\\infty,\\infty)} \\mathrm{EQM(\\tilde{\\mu})} = \\lim_{(n_1,n_2) \\rightarrow (\\infty,\\infty)} \\mathrm{Var(\\tilde{\\mu})} = \\lim_{(n_1,n_2) \\rightarrow (\\infty,\\infty)} \\dfrac{1}{4}\\left[\\dfrac{\\sigma^2}{n_1}+\\dfrac{\\sigma^2}{n_2}\\right] =0$"
   ]
  },
  {
   "cell_type": "markdown",
   "metadata": {},
   "source": [
    "Q15-2015"
   ]
  },
  {
   "cell_type": "markdown",
   "metadata": {},
   "source": [
    "Sejam $X_1, X_2, X_3$ e $X_4$ variáveis aleatórias independentes e identicamente distribuídas de uma população com média $\\mu$ e variância $\\sigma^2$. Considere os seguintes estimadores para $\\mu$:"
   ]
  },
  {
   "cell_type": "markdown",
   "metadata": {},
   "source": [
    "$m_1 = \\dfrac{(X_1+2X_2+2X_3+X_4)}{6}$ <br><br>\n",
    "$m_2 = \\dfrac{(X_1+4X_2+4X_3+X_4)}{10}$ <br><br>\n",
    "$m_3 = \\dfrac{(X_1+X_2+X_3+X_4)}{4}$ <br><br>"
   ]
  },
  {
   "cell_type": "markdown",
   "metadata": {},
   "source": [
    "Com base nesses três estimadores, são corretas as afirmativas:<br>\n",
    "0 - Os três estimadores são não tendenciosos; <br>\n",
    "1 - $m_1$ é o estimador com maior variância;<br>\n",
    "2 - Os três estimadores são igualmente eficientes;<br>\n",
    "3 - $m_3$ é o estimador com menor variância;<br>\n",
    "4 - O estimador $m_2$ é não tendencioso e tem menor variância do que o estimador $m_1$."
   ]
  },
  {
   "cell_type": "markdown",
   "metadata": {},
   "source": [
    "0 - (V)"
   ]
  },
  {
   "cell_type": "markdown",
   "metadata": {},
   "source": [
    "Vamos verificar: (i) $\\mathrm{E(m_1)} = \\mu$; (ii) $\\mathrm{E(m_2)} = \\mu$; (iii) $\\mathrm{E(m_3)} = \\mu$."
   ]
  },
  {
   "cell_type": "markdown",
   "metadata": {},
   "source": [
    "$\\mathrm{E(m_1)} = \\mathrm{E}\\left[\\dfrac{(X_1+2X_2+2X_3+X_4)}{6}\\right]$ <br><br>\n",
    "$\\mathrm{E(m_1)} = \\dfrac{1}{6}\\mathrm{E}\\left(X_1+2X_2+2X_3+X_4\\right)$<br><br>\n",
    "$\\mathrm{E(m_1)} = \\dfrac{1}{6} \\left[\\mathrm{E(X_1)}+\\mathrm{E(2X_2)}+\\mathrm{E(2X_3)}+\\mathrm{E(X_4)}\\right]$<br><br>\n",
    "$\\mathrm{E(m_1)} = \\dfrac{1}{6} \\left[\\mathrm{E(X_1)}+2\\mathrm{E(X_2)}+2\\mathrm{E(X_3)}+\\mathrm{E(X_4)}\\right] = \\dfrac{1}{6}\\left[\\mu+2\\mu+2\\mu+\\mu\\right] = \\mu$<br><br>"
   ]
  },
  {
   "cell_type": "markdown",
   "metadata": {},
   "source": [
    "$\\mathrm{E(m_2)} = \\mathrm{E}\\left[\\dfrac{(X_1+4X_2+4X_3+X_4)}{10}\\right]$ <br><br>\n",
    "$\\mathrm{E(m_2)} = \\dfrac{1}{10}\\left[\\mathrm{E(X_1)}+4\\mathrm{E(X_2)+4\\mathrm{E(X_3)}+\\mathrm{E(X_4)}}\\right] = \\dfrac{1}{10}\\left[\\mu+4\\mu+4\\mu+\\mu\\right] = \\mu$<br><br>"
   ]
  },
  {
   "cell_type": "markdown",
   "metadata": {},
   "source": [
    "$\\mathrm{E(m_3)} = \\mathrm{E}\\left[\\dfrac{(X_1+X_2+X_3+X_4)}{4}\\right]$ <br><br>\n",
    "$\\mathrm{E(m_3)} = \\dfrac{1}{4}\\left[\\mathrm{E(X_1)}+\\mathrm{E(X_2)}+\\mathrm{E(X_3)}+\\mathrm{E(X_4)}\\right] = \\dfrac{\\left[\\mu+\\mu+\\mu+\\mu\\right]}{4} = \\mu $"
   ]
  },
  {
   "cell_type": "markdown",
   "metadata": {},
   "source": [
    "Assim, os estimadores $m_1$, $m_2$ e $m_3$ são não viesados."
   ]
  },
  {
   "cell_type": "markdown",
   "metadata": {},
   "source": [
    "1 - (F)"
   ]
  },
  {
   "cell_type": "markdown",
   "metadata": {},
   "source": [
    "$\\mathrm{Var(m_1)} = \\mathrm{Var}\\left[\\dfrac{\\left(X_1+2X_2+2X_3+X_4\\right)}{6}\\right]$<br><br>\n",
    "$\\mathrm{Var(m_1)} = \\dfrac{1}{36}\\mathrm{Var}\\left(X_1+2X_2+2X_3+X_4\\right) $ <br><br>\n",
    "$\\mathrm{Var(m_1)} = \\dfrac{1}{36}\\left[\\mathrm{Var(X_1)}+\\mathrm{Var(2X_2)}+\\mathrm{Var(2X_3)}+\\mathrm{Var(X_4)}\\right]$<br><br>\n",
    "$\\mathrm{Var(m_1)} = \\dfrac{1}{36}\\left[\\mathrm{Var(X_1)}+4\\mathrm{Var(X_2)}+4\\mathrm{Var(X_3)}+\\mathrm{Var(X_4)}\\right]$<br><br>\n",
    "$\\mathrm{Var(m_1)} = \\dfrac{1}{36}\\left[\\sigma^2+4\\sigma^2+4\\sigma^2+\\sigma^2\\right] = \\dfrac{10}{36}\\sigma^2$<br><br>"
   ]
  },
  {
   "cell_type": "markdown",
   "metadata": {},
   "source": [
    "$\\mathrm{Var(m_2)} = \\mathrm{Var}\\left[\\frac{\\left(X_1+4X_2+4X_3+X_4\\right)}{10}\\right] = \\frac{1}{100}\\left[\\mathrm{Var(X_1)}+16\\mathrm{Var(X_2)}+16\\mathrm{Var(X_3)}+\\mathrm{Var(X_4)}\\right] = \\frac{[\\sigma^2+16\\sigma^2+16\\sigma^2+\\sigma^2]}{100} = \\frac{34}{100}\\sigma^2$"
   ]
  },
  {
   "cell_type": "markdown",
   "metadata": {},
   "source": [
    "$\\mathrm{Var(m_3)} = \\mathrm{Var}\\left[\\frac{(X_1+X_2+X_3+X_4)}{4}\\right] = \\frac{1}{16}\\left[\\sigma^2+\\sigma^2+\\sigma^2+\\sigma^2\\right] = \\frac{4}{16}\\sigma^2 = \\frac{1}{4}\\sigma^2$"
   ]
  },
  {
   "cell_type": "markdown",
   "metadata": {},
   "source": [
    "Temos então: $\\mathrm{Var(m_3)}<\\mathrm{Var(m_1)} < \\mathrm{Var(m_2)}$. Logo, $m_2$ é o estimador com maior variância."
   ]
  },
  {
   "cell_type": "markdown",
   "metadata": {},
   "source": [
    "2 - (F) Todos os estimadores são não viesados, logo o $EQM$ possui apenas o componente de variância, que, como vimos são distintas. Então se $\\mathrm{Var(m_3)}<\\mathrm{Var(m_1)}<\\mathrm{Var(m_2)}$, temos que o estimador $m_3$ é o mais eficiente (menor variância)."
   ]
  },
  {
   "cell_type": "markdown",
   "metadata": {},
   "source": [
    "3 - (V) $\\mathrm{Var(m_3)}<\\mathrm{Var(m_1)}<\\mathrm{Var(m_2)}$"
   ]
  },
  {
   "cell_type": "markdown",
   "metadata": {},
   "source": [
    "4 - (F) $\\mathrm{Var(m_2)}>\\mathrm{Var(m_1)}$"
   ]
  },
  {
   "cell_type": "markdown",
   "metadata": {},
   "source": [
    "Referência: SARTORIS, A. Estatística e Introdução à Econometria. São Paulo: Saraiva, 2003."
   ]
  }
 ],
 "metadata": {
  "kernelspec": {
   "display_name": "Python 3",
   "language": "python",
   "name": "python3"
  },
  "language_info": {
   "codemirror_mode": {
    "name": "ipython",
    "version": 3
   },
   "file_extension": ".py",
   "mimetype": "text/x-python",
   "name": "python",
   "nbconvert_exporter": "python",
   "pygments_lexer": "ipython3",
   "version": "3.8.5"
  }
 },
 "nbformat": 4,
 "nbformat_minor": 4
}
