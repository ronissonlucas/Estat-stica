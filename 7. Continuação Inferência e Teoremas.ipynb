{
 "cells": [
  {
   "cell_type": "markdown",
   "metadata": {},
   "source": [
    "# <b>Continuação Inferência estatística e principais Teoremas de probabilidade</b>"
   ]
  },
  {
   "cell_type": "markdown",
   "metadata": {},
   "source": [
    "## 1. Estimadores de máxima verossimilhança"
   ]
  },
  {
   "cell_type": "markdown",
   "metadata": {},
   "source": [
    "Esta seção baseia-se integralmente no Bussab."
   ]
  },
  {
   "cell_type": "markdown",
   "metadata": {},
   "source": [
    "O que seria uma amostra verossímil?\n",
    "* Seria uma amostra que fornecesse a melhor informação possível sobre um parâmetro de interesse da população, desconhecido, e que desejamos estimar.\n",
    "* O princípio da verossimilhança afirma que devemos escolher aquele valor do parâmetro desconhecido que maximiza a probabilidade de obter a amostra particular observada, ou seja, o valor que torna aquela amostra a “mais provável”.\n",
    "* Obtemos então estimadores de máxima verossimilhança que, em geral, têm propriedades muito boas."
   ]
  },
  {
   "cell_type": "markdown",
   "metadata": {},
   "source": [
    "<b>Definição (Bussab)</b>: "
   ]
  },
  {
   "cell_type": "markdown",
   "metadata": {},
   "source": [
    "A função de verossimilhança é definida por:"
   ]
  },
  {
   "cell_type": "markdown",
   "metadata": {},
   "source": [
    "$L\\left(\\theta;x_1, \\dots, x_n\\right) = f(x_1; \\theta) \\dots f(x_n;\\theta)$"
   ]
  },
  {
   "cell_type": "markdown",
   "metadata": {},
   "source": [
    "que deve ser encarada como uma função de $\\theta$. O estimador de máxima verossimilhança de $\\theta$ é o valor $\\hat{\\theta}_{MV}$ que maximiza a função $L(\\theta; x_i)$."
   ]
  },
  {
   "cell_type": "markdown",
   "metadata": {},
   "source": [
    "Outra notação:"
   ]
  },
  {
   "cell_type": "markdown",
   "metadata": {},
   "source": [
    "Seja $\\mathbf{x} = \\left(x_1, \\dots , x_n\\right)'$ é o vetor contendo a amostra, podemos então denotar: $L(\\theta|\\mathbf{x})$ e a log-verossimilhança por $l(\\theta|\\mathbf{x})$.\n",
    "O parâmetro $\\theta$ pode ser um vetor: com uma média $\\mu$ e variância $\\sigma^2$ de uma distribuição normal temos então $\\theta = (\\mu,\\sigma^2)$."
   ]
  },
  {
   "cell_type": "markdown",
   "metadata": {},
   "source": [
    "Exemplo: Seja $X$ uma variável aleatória com distribuição normal (i.i.d.) com média e variância desconhecidas. Para a amostra $\\{x_1, x_2, \\dots, x_n\\}$ determinemos os estimadores de máxima verossimilhança para a média e a variância."
   ]
  },
  {
   "cell_type": "markdown",
   "metadata": {},
   "source": [
    "A função de máxima verossimilhança terá a forma funcional de uma distribuição normal multivariada:"
   ]
  },
  {
   "cell_type": "markdown",
   "metadata": {},
   "source": [
    "$L(\\mu,\\sigma^2;x_i) = \\dfrac{1}{(2\\pi\\sigma^2)^{\\frac{n}{2}}}\\exp\\left[-\\dfrac{1}{2\\sigma^2}\\sum_{i=1}^{n}(x_i-\\mu)^2\\right] $"
   ]
  },
  {
   "cell_type": "markdown",
   "metadata": {},
   "source": [
    "$l(\\mu,\\sigma^2;x_i) \\equiv \\ln\\left[L(\\mu,\\sigma^2;x_i)\\right]$ <br>\n",
    "$ = \\ln\\left\\{\\dfrac{1}{(2\\pi\\sigma^2)^{\\frac{n}{2}}}\\exp\\left[-\\dfrac{1}{2\\sigma^2}\\sum_{i=1}^{n}(x_i-\\mu)^2\\right] \\right\\}$<br><br>\n",
    "$ = \\ln\\left[\\dfrac{1}{(2\\pi\\sigma^2)^{\\frac{n}{2}}}\\right]-\\dfrac{1}{2\\sigma^2}\\sum_{i=1}^{n}\\left(x_i-\\mu\\right)^2$<br><br>\n",
    "$ = -\\ln\\left(2\\pi\\sigma^2\\right)^{\\frac{n}{2}}-\\dfrac{1}{2\\sigma^2}\\sum_{i=1}^{n}\\left(x_i-\\mu\\right)^2$<br><br>\n",
    "$ = -\\frac{n}{2}\\ln\\left(2\\pi\\sigma^2\\right)-\\dfrac{1}{2\\sigma^2}\\sum_{i=1}^{n}\\left(x_i-\\mu\\right)^2$<br><br>"
   ]
  },
  {
   "cell_type": "markdown",
   "metadata": {},
   "source": [
    "$\\therefore l(\\mu,\\sigma^2;x_i) = -\\frac{n}{2}\\ln\\left(2\\pi\\sigma^2\\right)-\\dfrac{1}{2\\sigma^2}\\sum_{i=1}^{n}\\left(x_i-\\mu\\right)^2$<br><br>\n",
    "Vamos aplicar a condição de primeira ordem: <br>$\\dfrac{\\partial l (\\mu,\\sigma^2;x_i)}{\\partial \\mu} = 0$ <br><br>$\\dfrac{\\partial l (\\mu,\\sigma^2;x_i)}{\\partial \\sigma^2} = 0$"
   ]
  },
  {
   "cell_type": "markdown",
   "metadata": {},
   "source": [
    "$\\dfrac{\\partial l}{\\partial \\mu} = -\\dfrac{1}{2\\sigma^2} \\times 2 \\sum_{i=1}^{n}\\left(x_i-\\hat{\\mu}\\right) = 0$<br><br>\n",
    "$\\sum_{i=1}^{n}(x_i-\\hat{\\mu}) = 0 $ <br><br>\n",
    "$\\sum_{i=1}^{n}x_i-\\sum_{i=1}^{n}\\hat{\\mu} = 0$ <br><br>\n",
    "$\\sum_{i=1}^{n}x_i-n\\hat{\\mu} = 0$ <br><br>\n",
    "$\\therefore \\hat{\\mu} = \\dfrac{\\sum_{i=1}^{n}x_i}{n}$"
   ]
  },
  {
   "cell_type": "markdown",
   "metadata": {},
   "source": [
    "$\\dfrac{\\partial l }{\\partial \\sigma^2} = -\\dfrac{n}{2}\\dfrac{1}{\\hat{\\sigma}^2}+\\dfrac{1}{4\\hat{\\sigma}^2}\\sum_{i=1}^{n}\\left(x_i-\\overline{x}\\right)^2 = 0$ <br><br>\n",
    "$-n\\hat{\\sigma}^2+\\sum_{i=1}^{n}\\left(x_i-\\overline{x}\\right)^2 = 0$<br><br>\n",
    "$\\hat{\\sigma}^2 = \\dfrac{\\sum_{i=1}^{n}\\left(x_i-\\overline{x}\\right)^2}{n}$"
   ]
  },
  {
   "cell_type": "markdown",
   "metadata": {},
   "source": [
    "O estimador de máxima verossimilhança da média de uma distribuição normal é a própria média amostral $\\overline{X}$.O estimador de máxima verossimilhança da variância de uma distribuição normal é a própria variância amostral $S^2$, sendo um estimador viesado."
   ]
  },
  {
   "cell_type": "markdown",
   "metadata": {},
   "source": [
    "Propriedades úteis dos estimadores de máxima verossimilhança:\n",
    "* podem ser viesados, embora não sejam assintoticamente viesados;\n",
    "* são consistentes;\n",
    "* têm distribuição assintótica normal;\n",
    "* são assintoticamente eficientes."
   ]
  },
  {
   "cell_type": "markdown",
   "metadata": {},
   "source": [
    "## 2. Principais teoremas de probabilidade"
   ]
  },
  {
   "cell_type": "markdown",
   "metadata": {},
   "source": [
    "* Lei dos Grandes Números: quando o tamanho da amostra (ou tende a infinito) cresce a média amostral converge para a média populacional. Isso implica que na medida que a amostra cresce, a média amostral estará mais próxima do valor populacional."
   ]
  },
  {
   "cell_type": "markdown",
   "metadata": {},
   "source": [
    "* Teorema do Limite Central: Seja $X$ uma variável i.i.d. com médias $\\mu$ e variância $\\sigma^2$, a média amostral $\\overline{X}$ segue (desde que a amostra seja suficientemente grande) uma distribuição normal, com médias $\\mu$ e variância $\\dfrac{\\sigma^2}{n}$, qualquer que seja a distribuição de $X$."
   ]
  },
  {
   "cell_type": "markdown",
   "metadata": {},
   "source": [
    "* Se $\\overline{X}$ for padronizada ($\\frac{\\overline{X}-\\mu}{\\sigma}$) obtemos: <br>\n",
    "$\\dfrac{\\overline{X}-\\mu}{\\sqrt{\\frac{\\sigma^2}{n}}} = \\dfrac{\\overline{X}-\\mu}{\\frac{\\sigma}{\\sqrt{n}}} = \\sqrt{n}\\dfrac{\\left(\\overline{X}-\\mu\\right)}{\\sigma}$"
   ]
  },
  {
   "cell_type": "markdown",
   "metadata": {},
   "source": [
    "$\\sqrt{n}\\dfrac{\\left(\\overline{X}-\\mu\\right)}{\\sigma} \\rightarrow^{^D} N(0,1)$"
   ]
  },
  {
   "cell_type": "markdown",
   "metadata": {},
   "source": [
    "$\\sqrt{n}\\dfrac{\\left(\\overline{X}-\\mu\\right)}{\\sigma}$ converge em distribuição (D) para uma normal padrão."
   ]
  },
  {
   "cell_type": "markdown",
   "metadata": {},
   "source": [
    "* Teorema de Chebyshev: com uma f.d.p. de uma variável podemos conhecer sua média e variância. Mas o inverso não é verdade. $x$ é uma variável aleatória $x$ com média $\\mu$ e desvio padrão $\\sigma$. Então, a probabiidade de essa variável estar acima ou abaixo da média, no máximo, $k$ desvios padrão ($k$ é uma constante positiva) é, no mínimo, igual $1-\\frac{1}{k^2}$. Isto é:<br>\n",
    "$P(|x-\\mu| < k\\sigma) \\geq 1-\\frac{1}{k^2} $\n"
   ]
  },
  {
   "cell_type": "markdown",
   "metadata": {},
   "source": [
    "A probabilidade de ultrapassar esse valor é, no máximo, $\\frac{1}{k^2}$:"
   ]
  },
  {
   "cell_type": "markdown",
   "metadata": {},
   "source": [
    "$P(|x-\\mu|\\geq k\\sigma) \\geq \\dfrac{1}{k^2}$"
   ]
  },
  {
   "cell_type": "markdown",
   "metadata": {},
   "source": [
    "## Questões Anpec"
   ]
  },
  {
   "cell_type": "markdown",
   "metadata": {},
   "source": [
    "Q5-2006"
   ]
  },
  {
   "cell_type": "markdown",
   "metadata": {},
   "source": [
    "São corretas as afirmativas:"
   ]
  },
  {
   "cell_type": "markdown",
   "metadata": {},
   "source": [
    "1 - Um estimador não tendencioso pode não ser consistente.<br>\n",
    "2 - Um estimador consistente pode não ser eficiente."
   ]
  },
  {
   "cell_type": "markdown",
   "metadata": {},
   "source": [
    "1 - (V) Para ser consistente o estimador deve atender aos seguintes critérios: (<i>i</i>) $\\lim_{n \\to \\infty}\\mathrm{E(\\hat{\\theta})} = \\theta$ ; (<i>ii</i>)$\\lim_{n \\to \\infty}\\mathrm{Var(\\hat{\\theta})} = 0$. O estimador não viesado satisfaz a condição (<i>i</i>), mas pode nã satisfazer a segunda condição."
   ]
  },
  {
   "cell_type": "markdown",
   "metadata": {},
   "source": [
    "2 - (V) O estimador pode ser consistente mas não apresentar a menor variância."
   ]
  },
  {
   "cell_type": "markdown",
   "metadata": {},
   "source": [
    "Q2-2007"
   ]
  },
  {
   "cell_type": "markdown",
   "metadata": {},
   "source": [
    "Considere uma amostra aleatória de $n$ variáveis $x_1, x_2, \\dots, x_n$, normalmente distribuídas com média $\\mu$ e variância $\\sigma^2$. Sejam $\\overline{x} = \\frac{1}{n} \\sum_{i=1}^{n}x_i$ e $s^2 = \\frac{1}{n}\\sum_{i=1}^{n}\\left(x_i-\\overline{x}\\right)^2$. É corretor afirmar que:"
   ]
  },
  {
   "cell_type": "markdown",
   "metadata": {},
   "source": [
    "1 - $\\overline{x}$ e $s^2$ são não viesados. <br>\n",
    "2 - $\\overline{x}$ e $s^2$ são consistentes<br>\n",
    "3 - Apenas $\\overline{x}$ é consistente.<br>\n",
    "4 - Apenas $\\overline{x}$ é não viesado.<br>"
   ]
  },
  {
   "cell_type": "markdown",
   "metadata": {},
   "source": [
    "1 - (F) O estimador $s^2$ é viesado. <br>\n",
    "2 - (V) O estimador $s^2$ é viesado, mas consistente, assim como $\\overline{X}$, pois : $\\lim_{n \\to \\infty}\\mathrm{E(\\overline{X})} = \\lim_{n \\to \\infty} \\mu = \\mu$ e $\\lim_{n \\to \\infty}\\mathrm{Var(\\overline{X})} = \\lim_{n \\to \\infty}\\dfrac{\\sigma^2}{n} = 0$. <br>\n",
    "3 - (F) $s^2$ também é consistente.<br>\n",
    "4 - (V) Vimos que $\\overline{x}$ é não viesado.<br>"
   ]
  },
  {
   "cell_type": "markdown",
   "metadata": {},
   "source": [
    "Q4-2010"
   ]
  },
  {
   "cell_type": "markdown",
   "metadata": {},
   "source": [
    "4 - Se um estimador convergir em média quadrática para o parâmetro, ele será consistente\n",
    "(convergirá em probabilidade para o parâmetro)."
   ]
  },
  {
   "cell_type": "markdown",
   "metadata": {},
   "source": [
    "4 - (V) $\\lim_{n \\to \\infty}\\mathrm{EQM(\\hat{\\theta})} = 0$"
   ]
  },
  {
   "cell_type": "markdown",
   "metadata": {},
   "source": [
    "Q5-2010"
   ]
  },
  {
   "cell_type": "markdown",
   "metadata": {},
   "source": [
    "0 - Considere dois estimadores não tendenciosos, $\\hat{\\theta}_1$ e $\\hat{\\theta}_2$, de um parâmetro $\\theta$. $\\hat{\\theta}_1$ é eficiente relativamente a $\\hat{\\theta}_2$ se $\\mathrm{Var(\\hat{\\theta}_1)} < \\mathrm{Var(\\hat{\\theta_2})}$.<br>\n",
    "1 - Um estimador $\\hat{\\theta}$ de um parâmetro $\\theta$ é consistente se $\\hat{\\theta}$ converge em probabilidade para $\\theta$.<br>\n",
    "2 - Um estimador $\\hat{\\theta}$ de um parâmetro $\\theta$ é consistente se, e somente se, $\\hat{\\theta}$ é não viesado e a variância de $\\hat{\\theta}$ converge para 0 à medida que o tamanho da amostra tende ao infinito.<br>"
   ]
  },
  {
   "cell_type": "markdown",
   "metadata": {},
   "source": [
    "0 - (V) Como não há viés basta comparar a variância.<br>\n",
    "1 - (V) Consistência: $\\hat{\\theta} \\rightarrow^{^P} \\theta$<br>\n",
    "2 - (F) Vimos as condições para $\\hat{\\theta}$ anteriormente. Além da segunda parte do item, temos que ter: $\\lim_{n \\to \\infty} E(\\hat{\\theta}) = \\theta$."
   ]
  },
  {
   "cell_type": "markdown",
   "metadata": {},
   "source": [
    "Q4-2017"
   ]
  },
  {
   "cell_type": "markdown",
   "metadata": {},
   "source": [
    "Sejam $X_1, X_2, \\dots, X_n$, variáveis aleatórias independentes com distribuição Normal $(\\mu,\\sigma^2)$, em que $\\mu$ e $\\sigma^2$ são desconhecidos e $\\sigma^2>0$. Podemos definir também \n",
    "$\\overline{X} = \\frac{1}{n} \\sum_{i=1}^{n}X_i$ e $S^2 = \\frac{1}{n-1}\\sum_{i=1}^{n}\\left(X_i-\\overline{X}\\right)^2$. Podemos afirmar que:"
   ]
  },
  {
   "cell_type": "markdown",
   "metadata": {},
   "source": [
    "0 - $S^2$ é um estimador não tendencioso de $\\sigma^2$. <br>\n",
    "1 - A variância de $\\overline{X}$ é igual a $\\dfrac{\\sigma^2}{n}$. <br>\n",
    "2 - $S^2$ é um estimador não tendencioso para a variância de $\\overline{X}$.<br>\n",
    "3 - $S^2$ é um estimador consistente de $\\sigma^2$. <br>\n",
    "4 - $\\overline{X}$ é um estimador consistente de $\\mu$.<br>"
   ]
  },
  {
   "cell_type": "markdown",
   "metadata": {},
   "source": [
    "0 - (V)<br>\n",
    "1 - (V) De fato: $\\mathrm{Var(\\overline{X})} = \\frac{\\sigma^2}{n}$. <br>\n",
    "2 - (F) $S^2$ é um estimador não tendencioso da variância populacional.<br>\n",
    "3 - (V) Temos que: $\\lim_{n \\to \\infty}\\mathrm{E(S^2)} = \\sigma^2$ e $\\lim_{n \\to \\infty} \\mathrm{Var(S^2)} = 0$.<br>\n",
    "4 - (V)<br>"
   ]
  },
  {
   "cell_type": "markdown",
   "metadata": {},
   "source": [
    "Referências:"
   ]
  },
  {
   "cell_type": "markdown",
   "metadata": {},
   "source": [
    "SARTORIS, A. Estatística e introdução à econometria. São Paulo: Saraiva, 2013."
   ]
  },
  {
   "cell_type": "markdown",
   "metadata": {},
   "source": [
    "MORETTIN, P. A.; BUSSAB, W. O. Estatística Básica. São Paulo: Saraiva, 2010."
   ]
  }
 ],
 "metadata": {
  "kernelspec": {
   "display_name": "Python 3",
   "language": "python",
   "name": "python3"
  },
  "language_info": {
   "codemirror_mode": {
    "name": "ipython",
    "version": 3
   },
   "file_extension": ".py",
   "mimetype": "text/x-python",
   "name": "python",
   "nbconvert_exporter": "python",
   "pygments_lexer": "ipython3",
   "version": "3.8.5"
  }
 },
 "nbformat": 4,
 "nbformat_minor": 4
}
