{
 "cells": [
  {
   "cell_type": "markdown",
   "metadata": {},
   "source": [
    "# <b>Teoria dos Conjuntos</b>"
   ]
  },
  {
   "cell_type": "markdown",
   "metadata": {},
   "source": [
    "Autor: Ronisson Lucas Calmon da Conceição"
   ]
  },
  {
   "cell_type": "markdown",
   "metadata": {},
   "source": [
    "<b>Definição:</b> conjunto é uma coleção de elementos de U (denominado conjunto fundamental ou conjunto universal)."
   ]
  },
  {
   "cell_type": "markdown",
   "metadata": {},
   "source": [
    "<b>Definição:</b> um conjunto nulo ou vazio é definido como o conjunto que não contém qualquer elemento. Denota-se: $\\emptyset$ ou $\\{\\}$. O conjunto $\\{x \\in \\mathbb{R}|x>0 \\mbox{ e } x<0 \\}$ é vazio, pois não existe um número real que satisfaça tal restrição."
   ]
  },
  {
   "cell_type": "markdown",
   "metadata": {},
   "source": [
    "Se $x$ for um elemento de $A$ denotamos $x \\in A$, caso contrário $x \\not\\in A$."
   ]
  },
  {
   "cell_type": "markdown",
   "metadata": {},
   "source": [
    "<b>Subconjunto:</b> $A \\subset B$ tal que se $x\\in A$ então, $x \\in B$. Inversamento, se $B \\subset A$ e $x \\in B$, então $x \\in A$."
   ]
  },
  {
   "cell_type": "markdown",
   "metadata": {},
   "source": [
    "<b>Igualdade:</b> $A=B$ se, e somente se, $A \\subset B$ e $B \\subset A$. Ou seja, dois conjuntos serã iguais se, e somente se, eles contiverem os mesmo elementos."
   ]
  },
  {
   "cell_type": "markdown",
   "metadata": {},
   "source": [
    "Consequências imediatas:\n",
    "1. $\\forall A$, temos que $\\emptyset \\subset A$.\n",
    "2. Para um dado conjunto fundamental definido, para todo conjunto $A$, considerado da composição de $U$ , temos que $A \\subset U$."
   ]
  },
  {
   "cell_type": "markdown",
   "metadata": {},
   "source": [
    "* Exemplo: Seja $ U = \\mathbb{R}$, e os subconjuntos $A, B, C$, tais que $A = \\{x|x^{2}+2x-3=0 \\}$,$B=\\{x|\\left(x-2\\right)\\left(x^{2}+2x-3\\right)=0\\} $ e $C = \\{x|x=-3,1,2 \\}$. Logo, $A\\subset B$ e $B=C$"
   ]
  },
  {
   "cell_type": "markdown",
   "metadata": {},
   "source": [
    "Operações com conjuntos"
   ]
  },
  {
   "cell_type": "markdown",
   "metadata": {},
   "source": [
    "União (ou soma)<br>\n",
    "$A\\cup B=\\{x\\,|\\, x\\in A \\mbox{ ou }x\\in B\\}$ (ou ambos). Então $A \\cup B$ é composto por todos os elementos que estejam no conjunto $A$, ou em $B$, ou então em ambos."
   ]
  },
  {
   "cell_type": "markdown",
   "metadata": {},
   "source": [
    "Interseção<br>\n",
    "$A\\cap B=\\{x\\,|\\, x\\in A \\mbox{ e }x\\in B\\}$. O conjunto $A \\cap B$ é formado por todos os elementos que estão em A e B."
   ]
  },
  {
   "cell_type": "markdown",
   "metadata": {},
   "source": [
    "Diferença<br>\n",
    "$A-B = \\{x \\in U |x \\in A \\mbox{ e } x \\not\\in B\\}$"
   ]
  },
  {
   "cell_type": "markdown",
   "metadata": {},
   "source": [
    "Definiremos agora o complementar de um conjunto $A$ : $A^{c} = \\overline{A}$ é um conjunto formado por todos os elementos que não estejam em A (mas estejam no conjunto fundamental). Assim: $\\overline{A} = U-A = \\{x|x\\not\\in A \\}$.Temos que: $A \\cup \\overline{A} = U$ e $A \\cap A = \\emptyset$."
   ]
  },
  {
   "cell_type": "markdown",
   "metadata": {},
   "source": [
    "* Exemplo: Seja $ U = \\{1,2,3,4,5,6,7,8,9,10\\}$, $A = \\{1,2,3,4\\}$, $B = \\{3,4,5,6\\}$. Então: $\\overline{A} = {5,6,7,8,9,10}$, $A \\cup B = \\{1,2,3,4,5,6\\}$ e $A \\cap B = \\{3,4\\}$."
   ]
  },
  {
   "cell_type": "markdown",
   "metadata": {},
   "source": [
    "Conjunto das partes: O conjunto das partes de um dado A, denotado $P(A) = $, como o conjunto dos subconjuntos de A:\n",
    "<br> $P(A) = \\{B\\subset U | B \\subset A \\}$."
   ]
  },
  {
   "cell_type": "markdown",
   "metadata": {},
   "source": [
    "Famílias de conjuntos"
   ]
  },
  {
   "cell_type": "markdown",
   "metadata": {},
   "source": [
    "Seja $K$ um conjunto, denominado conjunto índice. Então, se $\\forall i \\in K$ existe um conjunto $A_{i}$ associado a $i$, tal que $\\{A_{i}\\}_{i \\in K}$ é uma família de conjuntos. \n",
    "Para $K = 1,2,3,\\cdots,n$ denotamos $\\{A_{i}\\}_{i \\in K}$ como uma família finita de conjuntos. \n",
    "Já uma família infinita enumerável de conjuntos, para $K = 1,2,3, \\cdots, n$ denotamos $\\{A_{i}\\}_{i=1}^{\\infty}$."
   ]
  },
  {
   "cell_type": "markdown",
   "metadata": {},
   "source": [
    "União finita de conjuntos:\n",
    "<br> $A_{1}\\cup A_{2} \\cup A_{3} \\cup \\cdots \\cup A_{n} =  \\bigcup_{i=1}^{N} A_n$"
   ]
  },
  {
   "cell_type": "markdown",
   "metadata": {},
   "source": [
    "Interseções finitas de conjuntos:"
   ]
  },
  {
   "cell_type": "markdown",
   "metadata": {},
   "source": [
    "$A_{1} \\cap A_{2} \\cap A_{3} \\cap \\cdots \\cap A_{n} = \\bigcap_{n=1}^{N} A_{n}$"
   ]
  },
  {
   "cell_type": "markdown",
   "metadata": {},
   "source": [
    "Para um conjunto enumerável(ou contável no infinito) temos $\\bigcup_{n=1}^{\\infty}A_{n}$ e $\\bigcap_{n=1}^{\\infty}A_{n}$."
   ]
  },
  {
   "cell_type": "markdown",
   "metadata": {},
   "source": [
    "Propriedades:\n",
    "1. $A \\cup B = B \\cup A$\n",
    "2. $A \\cap B = B \\cap A$\n",
    "3. $A \\cup \\left(B \\cup C \\right) = \\left(A \\cup B\\right) \\cup C$\n",
    "4. $A \\cap \\left(B \\cap C\\right) = \\left(A \\cap B\\right) \\cap C$\n",
    "5. $A \\cup \\left(B\\cap C\\right) = \\left(A \\cup B\\right) \\cap \\left(A \\cup C\\right)$\n",
    "6. $A \\cap \\left(B \\cup C \\right) = \\left(A \\cap B \\right) \\cup \\left(A \\cap C\\right) $\n",
    "7. $A \\cap \\emptyset = \\emptyset$\n",
    "8. $A \\cup \\emptyset = A$\n",
    "9. $\\overline{\\left(A \\cap B\\right)} = \\overline{A} \\cup \\overline{B}$\n",
    "10. $\\overline{\\left(A \\cup B\\right)} = \\overline{A} \\cap \\overline{B}$\n",
    "11. $\\overline{\\overline{A}} = A$"
   ]
  },
  {
   "cell_type": "markdown",
   "metadata": {},
   "source": [
    "(1) e (2) são leis comutativas e (3) e (4) são leis associativas. Já (5) e (6) são leis distributivas."
   ]
  },
  {
   "cell_type": "markdown",
   "metadata": {},
   "source": [
    "Leis de Morgan:"
   ]
  },
  {
   "cell_type": "markdown",
   "metadata": {},
   "source": [
    "1. $\\left(A \\cup B\\right)^{c} = A^{c} \\cap B^{c}$\n",
    "2. $\\left(A \\cap B\\right)^{c} = A^{c} \\cup B^{c}$"
   ]
  },
  {
   "cell_type": "markdown",
   "metadata": {},
   "source": [
    "Conjuntos disjuntos: A e B são dito disjuntos se $A \\cap B = \\emptyset$."
   ]
  },
  {
   "cell_type": "markdown",
   "metadata": {},
   "source": [
    "Produto cartesiano<br>\n",
    "<b>Definição:</b> Sejam dois conjuntos $A$ e $B$. O produto cartesiano de $A$ e $B$, denotado $A \\times B$ é o conjunto $\\{\\left(a,b\\right):a \\in A, b \\in B \\}$, é o conjunto de todos os pares ordenados nos quais o primeiro elemento é tirado de $A$ e o segundo de $B$. Em geral, $A \\times B \\neq B \\times A$. Sejam os conjuntos $A_{1},\\cdots, A_{n}$, então o produto cartesiano $A_{1} \\times A_{2} \\times A_{3} \\times \\cdots \\times A_{n}$ $n$ vezes, $A^{n}$ é dado por $A^{n} = \\{\\left(a_{1},a_{2},a_{3},\\cdots,a_{n}\\right),a_{i} \\in A_{i}\\}$, isto é, o conjunto de todas as ênuplas ordenadas."
   ]
  },
  {
   "cell_type": "markdown",
   "metadata": {},
   "source": [
    "Notação:\n",
    "<br> $\\prod\\limits_{i=1}^{n}A_{i} = A_{1}\\times A_{2} \\times A_{3} \\times \\cdots \\times A_{n}$"
   ]
  },
  {
   "cell_type": "markdown",
   "metadata": {},
   "source": [
    "* Exemplo: Sejam $A = \\{1,2,3\\}$ e $B = \\{1,2,3,4\\}$. Então: $A \\times B = \\{\\left(1,1\\right),\\left(1,2\\right),\\left(1,2\\right),\\left(1,3\\right),\\left(1,4\\right),\\left(2,1\\right) \\cdots \\left(3,4\\right)\\}$."
   ]
  },
  {
   "cell_type": "markdown",
   "metadata": {},
   "source": [
    "Número de elementos de um conjunto"
   ]
  },
  {
   "cell_type": "markdown",
   "metadata": {},
   "source": [
    "* Se existir um número finito de elementos no conjunto $A$, $a_{1},a_{2},a_{3}, \\dots a_{n}$, diremos que $A$ é finito.\n",
    "* Se existir um número infinito de elementos em $A$, os quais possam ser postos em correspondência biunívoca com os inteiros positivos, então diremos que $A$ é numerável ou infinito numerável.\n",
    "* Um conjunto que possui um número infinito de elementos que não podem ser enumerados, é dito conjunto infinito não-numerável."
   ]
  }
 ],
 "metadata": {
  "kernelspec": {
   "display_name": "Python 3",
   "language": "python",
   "name": "python3"
  },
  "language_info": {
   "codemirror_mode": {
    "name": "ipython",
    "version": 3
   },
   "file_extension": ".py",
   "mimetype": "text/x-python",
   "name": "python",
   "nbconvert_exporter": "python",
   "pygments_lexer": "ipython3",
   "version": "3.8.10"
  }
 },
 "nbformat": 4,
 "nbformat_minor": 4
}
