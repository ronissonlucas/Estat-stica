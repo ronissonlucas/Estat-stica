{
 "cells": [
  {
   "cell_type": "markdown",
   "metadata": {},
   "source": [
    "# <b>Números-índices</b>"
   ]
  },
  {
   "cell_type": "markdown",
   "metadata": {},
   "source": [
    "* Autor: Ronisson Lucas Calmon da Conceição"
   ]
  },
  {
   "cell_type": "markdown",
   "metadata": {},
   "source": [
    "#### Lembretes"
   ]
  },
  {
   "cell_type": "markdown",
   "metadata": {},
   "source": [
    "##### Medidas de tendência central"
   ]
  },
  {
   "cell_type": "markdown",
   "metadata": {},
   "source": [
    "##### Média Aritimética"
   ]
  },
  {
   "cell_type": "markdown",
   "metadata": {},
   "source": [
    "A média aritimética de um conjunto de $n$ dados,ou seja, um vetor tal que $\\left( X_1, X_2, X_3, \\dots X_n \\right)$, é por definição:"
   ]
  },
  {
   "cell_type": "markdown",
   "metadata": {},
   "source": [
    "$ \\overline{X}= \\dfrac{1}{n}\\sum\\limits_{i=1}^{n}X_{i}$"
   ]
  },
  {
   "cell_type": "markdown",
   "metadata": {},
   "source": [
    "##### Média ponderada"
   ]
  },
  {
   "cell_type": "markdown",
   "metadata": {},
   "source": [
    "Considerando um conjunto de dados análogo e conhecidos os respectivos fatores de ponderação $\\left(q_1,q_2,q_3 \\dots q_n \\right)$, definimos a média ponderada como:"
   ]
  },
  {
   "cell_type": "markdown",
   "metadata": {},
   "source": [
    "$W = \\dfrac{\\sum\\limits_{i=1}^{n} X_i q_i}{\\sum\\limits_{i=1}^{n} q_i}$"
   ]
  },
  {
   "cell_type": "markdown",
   "metadata": {},
   "source": [
    "##### Média Geométrica"
   ]
  },
  {
   "cell_type": "markdown",
   "metadata": {},
   "source": [
    "A média geométrica de n valores não-negativos $(X_1, X_2, X_3 \\dots X_n)$ é, por definição:"
   ]
  },
  {
   "cell_type": "markdown",
   "metadata": {},
   "source": [
    "$\\overline{G} = \\sqrt[n]{X_{1} \\times X_{2} \\times X_{3} \\ldots X_{n}} $"
   ]
  },
  {
   "cell_type": "markdown",
   "metadata": {},
   "source": [
    "$\\overline{G} = {\\left( \\prod\\limits_{i=1}^{n}X_{i}\\right)}^{\\frac{1}{n}}$"
   ]
  },
  {
   "cell_type": "markdown",
   "metadata": {},
   "source": [
    "##### Média Harmônica"
   ]
  },
  {
   "cell_type": "markdown",
   "metadata": {},
   "source": [
    "A média harmônica de $n$ valores não-nulos $(X_1, X_2, X_3 \\dots X_n)$ é, por definição:"
   ]
  },
  {
   "cell_type": "markdown",
   "metadata": {},
   "source": [
    "$\\overline{H} = \\dfrac{n}{\\dfrac{1}{X_{1}}+\\dfrac{1}{X_{2}} + \\cdots + \\dfrac{1}{X_{n}}}$"
   ]
  },
  {
   "cell_type": "markdown",
   "metadata": {},
   "source": [
    "$\\overline{H} = \\dfrac{n}{\\sum\\limits_{i=1}^{n}\\dfrac{1}{X_{i}}}$"
   ]
  },
  {
   "cell_type": "markdown",
   "metadata": {},
   "source": [
    "Temos que:"
   ]
  },
  {
   "cell_type": "markdown",
   "metadata": {},
   "source": [
    "$\\overline{X} \\ge \\overline{G} \\ge \\overline{H}$"
   ]
  },
  {
   "cell_type": "markdown",
   "metadata": {},
   "source": [
    "##### Medidas de dispersão"
   ]
  },
  {
   "cell_type": "markdown",
   "metadata": {},
   "source": [
    "As medidas de dispersão buscam mensurar o grau de dispersão de um conjunto de valores em torno da média."
   ]
  },
  {
   "cell_type": "markdown",
   "metadata": {},
   "source": [
    "Amplitude"
   ]
  },
  {
   "cell_type": "markdown",
   "metadata": {},
   "source": [
    "A amplitude corresponde a diferença entre o maior e o menor valor de um conjunto de dados. Então para um conjunto genérico ordenado de dados:"
   ]
  },
  {
   "cell_type": "markdown",
   "metadata": {},
   "source": [
    "$$X_{(1)} \\leq  X_{(2)} \\leq \\dots \\leq X_{(n-1)} \\leq X_{(n)}$$"
   ]
  },
  {
   "cell_type": "markdown",
   "metadata": {},
   "source": [
    "Calculamos então a amplitude:$ A = X_{(n)}-X_{(1)}$"
   ]
  },
  {
   "cell_type": "markdown",
   "metadata": {},
   "source": [
    "Uma forma inicial de compreender a dispersão dos dados (ou seja, distância em torno da média) é definir uma métrica de desvio de uma determinada observação em relação ao valor médio. Então o desvio $d_i$ é tal que:"
   ]
  },
  {
   "cell_type": "markdown",
   "metadata": {},
   "source": [
    "$d_i = X_i-\\overline{X}$"
   ]
  },
  {
   "cell_type": "markdown",
   "metadata": {},
   "source": [
    "Precisamos então definir uma outra medida de dispersão, qual seja: variância."
   ]
  },
  {
   "cell_type": "markdown",
   "metadata": {},
   "source": [
    "Variância populacional"
   ]
  },
  {
   "cell_type": "markdown",
   "metadata": {},
   "source": [
    "A variância mostra o grau de dispersão de um conjunto de valores em torno do valor central."
   ]
  },
  {
   "cell_type": "markdown",
   "metadata": {},
   "source": [
    "A variância populacional de um conjunto de $N$ elementos é o somatório do quadrado dos desvios em relação a média divido pelo tamanho da população."
   ]
  },
  {
   "cell_type": "markdown",
   "metadata": {},
   "source": [
    "$\\mathrm{\\sigma^2}\n",
    "= \\dfrac{\\left(X_{1}-\\mu\\right)^{2}+\n",
    "\\left(X_{2}-\\mu \\right)^2+ \\cdots+\n",
    "\\left(X_{N}-\\mu\\right)^2\n",
    "}{N}$"
   ]
  },
  {
   "cell_type": "markdown",
   "metadata": {},
   "source": [
    "Logo, de forma compacta temos:"
   ]
  },
  {
   "cell_type": "markdown",
   "metadata": {},
   "source": [
    "$\\sigma^2 = \\dfrac{\\sum_\\limits{i=1}^{N}\\left(X_i-\\mu \\right)^2}{N}$"
   ]
  },
  {
   "cell_type": "markdown",
   "metadata": {},
   "source": [
    "Variância amostral"
   ]
  },
  {
   "cell_type": "markdown",
   "metadata": {},
   "source": [
    "Sejam $X_1,X_2, \\dots X_n$ valores amostrais, podemos definir a variância deste conjunto como segue:"
   ]
  },
  {
   "cell_type": "markdown",
   "metadata": {},
   "source": [
    "$S^2 = \\dfrac{\\sum_\\limits{i=1}^{n}\\left(X_i-\\overline{X}\\right)^2}{n-1}$"
   ]
  },
  {
   "cell_type": "markdown",
   "metadata": {},
   "source": [
    "Podemos então definir a soma dos quadrados dos desvios:$\\sum\\limits_{i=1}^{n}e_{i}^{2} = \\sum\\limits_{i=1}^{n}\\left(X_{i}-\\overline{X} \\right)^{2}$."
   ]
  },
  {
   "cell_type": "markdown",
   "metadata": {},
   "source": [
    "Desvio Médio Absoluto"
   ]
  },
  {
   "cell_type": "markdown",
   "metadata": {},
   "source": [
    "Outra forma de calcular o grau de dispersão é tomando o módulo dos desvios em relação à média:"
   ]
  },
  {
   "cell_type": "markdown",
   "metadata": {},
   "source": [
    "$\\mathrm{dm(X)} = \\dfrac{\\left|X_1-\\overline{X} \\right|+\\left|X_2-\\overline{X} \\right|+\\cdots+\\left|X_n-\\overline{X} \\right|}{n}$"
   ]
  },
  {
   "cell_type": "markdown",
   "metadata": {},
   "source": [
    "$\\therefore \\mathrm{dm(X)} = \\dfrac{\\sum_\\limits{i=1}^{n}\\left|X_i-\\overline{X} \\right|}{n}$"
   ]
  },
  {
   "cell_type": "markdown",
   "metadata": {},
   "source": [
    "Desvio padrão"
   ]
  },
  {
   "cell_type": "markdown",
   "metadata": {},
   "source": [
    "O desvio padrão populacional é simplesmente a raiz quadrada da variância populacional:"
   ]
  },
  {
   "cell_type": "markdown",
   "metadata": {},
   "source": [
    "$\\sigma = \\sqrt{\\sigma^2} = \\sqrt{\\dfrac{\\sum_\\limits{i=1}^{N}\\left(X_i-\\mu\\right)^2}{N}}$"
   ]
  },
  {
   "cell_type": "markdown",
   "metadata": {},
   "source": [
    "O desvio amostral é definido de forma análoga, como a raiz quadrada da variância amostral:"
   ]
  },
  {
   "cell_type": "markdown",
   "metadata": {},
   "source": [
    "$S = \\sqrt{S^2} = \\sqrt{\\dfrac{\\sum_\\limits{i=1}^{n}\\left(X_i-\\overline{X}\\right)^2}{n-1}}$"
   ]
  },
  {
   "cell_type": "markdown",
   "metadata": {},
   "source": [
    "Vejamos outra maneira de computar a variância:"
   ]
  },
  {
   "cell_type": "markdown",
   "metadata": {},
   "source": [
    "\\begin{eqnarray}\n",
    "\\mathrm{Var(X)} & = & \\dfrac{1}{n}\\sum\\limits_{i=1}^{n}\\left(X_{i} - \\overline{X} \\right)^2 \\\\\n",
    "& = & \\dfrac{1}{n}\\sum\\limits_{i=1}^{n}\\left(X_{i}^{2} - 2X_{i}\\overline{X}+\\overline{X}^{2} \\right) \\\\\n",
    "& = & \\dfrac{1}{n}\\sum\\limits_{i=1}^{n}X_{i}^{2}-\\dfrac{1}{n}\\sum\\limits_{i=1}^{n}2X_{i}\\overline{X}+\\dfrac{1}{n}\\sum\\limits_{i=1}^{n}\\overline{X}^2 \\\\\n",
    "& = & \\dfrac{1}{n}\\sum\\limits_{i=1}^{n}X_{i}^{2}-2\\overline{X}\\dfrac{1}{n}\\sum\\limits_{i=1}^{n}X_{i}+\\dfrac{1}{n}n\\overline{X}^2 \\\\\n",
    "& = & \\dfrac{1}{n}\\sum\\limits_{i=1}^{n}X_{i}^{2}-2\\overline{X}^2+\\overline{X}^2 \\\\\n",
    "& = & \\dfrac{1}{n}\\sum\\limits_{i=1}^{n}X_{i}^{2}-\\overline{X}^2\n",
    "\\end{eqnarray}"
   ]
  },
  {
   "cell_type": "markdown",
   "metadata": {},
   "source": [
    "$\\therefore \\mathrm{Var(X)} $ = média dos quadrados - quadrado da média"
   ]
  },
  {
   "cell_type": "markdown",
   "metadata": {},
   "source": [
    "Covariância"
   ]
  },
  {
   "cell_type": "markdown",
   "metadata": {},
   "source": [
    "A variância conjunta (ou covariância) mensura o grau de interdependência entre duas variáveis aleatórias, como segue."
   ]
  },
  {
   "cell_type": "markdown",
   "metadata": {},
   "source": [
    "$\\mathrm{cov(X,Y)} = \\dfrac{1}{n}\\sum\\limits_{i=1}^{n}\\left( X_{i}-\\overline{X} \\right)\\left(Y_{i}-\\overline{Y} \\right)$"
   ]
  },
  {
   "cell_type": "markdown",
   "metadata": {},
   "source": [
    "Outra forma de definir a covariância é expressando-a como a diferença entre a média dos produtos e o produto das médias:"
   ]
  },
  {
   "cell_type": "markdown",
   "metadata": {},
   "source": [
    "$\\mathrm{cov(X,Y)} = \\dfrac{1}{n}\\sum\\limits_{i=1}^{n}X_iY_i-\\overline{X}\\overline{Y}$"
   ]
  },
  {
   "cell_type": "markdown",
   "metadata": {},
   "source": [
    "##### Coeficiente de correlação"
   ]
  },
  {
   "cell_type": "markdown",
   "metadata": {},
   "source": [
    "A partir das definições anteriores, podemos mensurar o grau de correlação entre duas variáveis $X$ e $Y$."
   ]
  },
  {
   "cell_type": "markdown",
   "metadata": {},
   "source": [
    "$\\mathrm{corr(X,Y)}  = \\dfrac{\\mathrm{cov(X,Y)}}{\\mathrm{dp(X)}\\mathrm{dp(Y)}}$"
   ]
  },
  {
   "cell_type": "markdown",
   "metadata": {},
   "source": [
    "* alta correlação não se traduz necessariamente em uma relação de causalidade entre as variáveis;\n",
    "* os valores podem variar em uma escala de -1 a 1, sendo que valores positivos (negativos) denotam correlação positiva (negativa)."
   ]
  },
  {
   "cell_type": "markdown",
   "metadata": {},
   "source": [
    "#### 1. Índices de Laspeyres e Paashe"
   ]
  },
  {
   "cell_type": "markdown",
   "metadata": {},
   "source": [
    "1.1 Índice de Laspeyres"
   ]
  },
  {
   "cell_type": "markdown",
   "metadata": {},
   "source": [
    "* Utiliza o período base $0$ como peso.\n",
    "* É considerado um índice de base fixa, pois qualquer que seja o período corrente a ponderação sempre será a mesma, período base.\n",
    "* O Índice de Laspeyres pode ser interpretado como uma média aritimética (ponderada) dos relativos, em que os pesos são o percentual que cada bem representa no orçamento, considerando-se o período base."
   ]
  },
  {
   "cell_type": "markdown",
   "metadata": {},
   "source": [
    "Índice de Laspeyres de preço: "
   ]
  },
  {
   "cell_type": "markdown",
   "metadata": {},
   "source": [
    "* Ponderação: quantidade no período base."
   ]
  },
  {
   "cell_type": "markdown",
   "metadata": {},
   "source": [
    "$L_{p}^{t} = \\dfrac{\\sum_{i=1}^{n}p_{i}^{1}q_{i}^{0}}{\\sum_{i=1}^{n}p_{i}^{0}q_{i}^{0}} = \\dfrac{\\mathbf{p^tq^0}}{\\mathbf{p^0q^0}}$"
   ]
  },
  {
   "cell_type": "markdown",
   "metadata": {},
   "source": [
    "Índice de Laspeyres de quantidade: "
   ]
  },
  {
   "cell_type": "markdown",
   "metadata": {},
   "source": [
    "* Ponderação: preço no período base."
   ]
  },
  {
   "cell_type": "markdown",
   "metadata": {},
   "source": [
    "$L_{q}^{t} = \\dfrac{\\sum_{i=1}^{n}p_{i}^{0}q_{i}^{t}}{\\sum_{i=1}^{n}p_{i}^{0}q_{i}^{0}} = \\dfrac{\\mathbf{p^{0}q^{t}}}{\\mathbf{p^{0}q^0}}$"
   ]
  },
  {
   "cell_type": "markdown",
   "metadata": {},
   "source": [
    "Vamos aprender a escrever o Índice de Laspeyres de Preço de outra forma a partir de manipulações algébricas do índice original."
   ]
  },
  {
   "cell_type": "markdown",
   "metadata": {},
   "source": [
    "$L = \\dfrac{\\sum_{i = 1}^{n}p_i^{1}q_i^{0}}{\\sum_{i=1}^{n}p_i^{0}q_i^{0}} = \\dfrac{p_1^{1}q_1^{0}+p_2^{1}q_2^{0}+\\dots+p_n^{1}q_n^{0}}{\\sum_{i=1}^{n}p_i^{0}q_i^{0}}$"
   ]
  },
  {
   "cell_type": "markdown",
   "metadata": {},
   "source": [
    "$L = \\dfrac{p_1^{1}q_1^{0}}{\\sum_{i=1}^{n}p_i^{0}q_i^{0}}+\\dfrac{p_2^{1}q_2^{0}}{\\sum_{i=1}^{n}p_i^{0}q_i^{0}}+\\dots+\\dfrac{p_n^{1}q_n^{0}}{\\sum_{i=1}^{n}p_i^{0}q_i^{0}}$"
   ]
  },
  {
   "cell_type": "markdown",
   "metadata": {},
   "source": [
    "Multiplicando cada termo por $\\frac{p_i^1}{p_i^0}$:"
   ]
  },
  {
   "cell_type": "markdown",
   "metadata": {},
   "source": [
    "$L =\\dfrac{p_1^1}{p_1^0} \\times \\dfrac{p_1^{1}q_1^{0}}{\\sum_{i=1}^{n}p_i^{0}q_i^{0}}+\\dfrac{p_2^1}{p_2^0}\\times\\dfrac{p_2^{1}q_2^{0}}{\\sum_{i=1}^{n}p_i^{0}q_i^{0}}+\\dots+\\dfrac{p_n^1}{p_n^0}\\times\\dfrac{p_n^{1}q_n^{0}}{\\sum_{i=1}^{n}p_i^{0}q_i^{0}}$"
   ]
  },
  {
   "cell_type": "markdown",
   "metadata": {},
   "source": [
    "Definimos então a média aritimética ponderada:"
   ]
  },
  {
   "cell_type": "markdown",
   "metadata": {},
   "source": [
    "$w_i^{0} = \\dfrac{p_i^0q_i^0}{\\sum_{i=1}^{n}p_i^{0}q_i^{0}}$"
   ]
  },
  {
   "cell_type": "markdown",
   "metadata": {},
   "source": [
    "Sendo que:"
   ]
  },
  {
   "cell_type": "markdown",
   "metadata": {},
   "source": [
    "* $p_i^0q_i^0$ denota o gasto do bem $i$ no período 0;\n",
    "* $\\sum_{i=1}^{n}p_i^{0}q_i^{0}$ expressa o gasto total (para uma cesta de bens) no período 0."
   ]
  },
  {
   "cell_type": "markdown",
   "metadata": {},
   "source": [
    "Então podemos entender $w_i^0$ como a participação relativa do gasto do bem $i$ no período 0."
   ]
  },
  {
   "cell_type": "markdown",
   "metadata": {},
   "source": [
    "$L = \\dfrac{p_1^1}{p_1^0}\\times w_1^0+\\dfrac{p_2^1}{p_2^0}\\times w_2^0+\\dots+\\dfrac{p_n^1}{p_n^0}\\times w_n^0$"
   ]
  },
  {
   "cell_type": "markdown",
   "metadata": {},
   "source": [
    "$L = \\sum_{i=1}^{n}\\dfrac{p_i^1}{p_i^0}\\times w_i^{0}$"
   ]
  },
  {
   "cell_type": "markdown",
   "metadata": {},
   "source": [
    "Desta forma, podemos expressar o Índice de Laspeyres como uma média aritmética (ponderada) dos preços relativos, em que os pesos são definidos como o percentual que cada bem representa no gasto total,para o período $0$."
   ]
  },
  {
   "cell_type": "markdown",
   "metadata": {},
   "source": [
    "1.2 Índice de Paasche"
   ]
  },
  {
   "cell_type": "markdown",
   "metadata": {},
   "source": [
    "* Utiliza o período corrente $t$ como peso.\n",
    "* É considerado um índice de base móvel,pois se mudarmos o período corrente, a ponderação também será modificada.\n",
    "* Podemos calcular este índice pela média harmônica ponderada dos relativos, no período corrente $t$."
   ]
  },
  {
   "cell_type": "markdown",
   "metadata": {},
   "source": [
    "Índice de Paasche de preço:"
   ]
  },
  {
   "cell_type": "markdown",
   "metadata": {},
   "source": [
    "* Ponderação: quantidade no período corrente $t$."
   ]
  },
  {
   "cell_type": "markdown",
   "metadata": {},
   "source": [
    "$P_{p}^{t} = \\dfrac{\\sum_{i=1}^{n}p_{i}^{1}q_{i}^{1}}{\\sum_{i=1}^{n}p_{i}^{0}q_{i}^{1}} = \\dfrac{\\mathbf{p^tq^t}}{\\mathbf{p^0q^t}}$"
   ]
  },
  {
   "cell_type": "markdown",
   "metadata": {},
   "source": [
    "Índice de Paasche de quantidade:"
   ]
  },
  {
   "cell_type": "markdown",
   "metadata": {},
   "source": [
    "* Ponderação: preço no período corrente $t$."
   ]
  },
  {
   "cell_type": "markdown",
   "metadata": {},
   "source": [
    "$P_{q}^{t} = \\dfrac{\\sum_{i=1}^{n}p_{i}^{1}q_{i}^{1}}{\\sum_{i=1}^{n}p_{i}^{1}q_{i}^{0}} = \\dfrac{\\mathbf{p^tq^t}}{\\mathbf{p^tq^0}}$"
   ]
  },
  {
   "cell_type": "markdown",
   "metadata": {},
   "source": [
    "Derivaremos uma forma alternativa de calcular o Índice de Paashe de Preço."
   ]
  },
  {
   "cell_type": "markdown",
   "metadata": {},
   "source": [
    "$P = \\dfrac{\\sum_{i=1}^{n}p_i^1q_i^1}{\\sum_{i=1}^{n}p_i^0q_i^1} = \\dfrac{1}{\\dfrac{\\sum_{i=1}^{n}p_i^0q_i^1}{\\sum_{i=1}^{n}p_i^1q_i^1}}$"
   ]
  },
  {
   "cell_type": "markdown",
   "metadata": {},
   "source": [
    "$P = \\dfrac{1}{\\dfrac{p_1^0q_1^1}{\\sum_{i=1}^{n}p_i^1q_i^1}+\\dfrac{p_2^0q_2^1}{\\sum_{i=1}^{n}p_i^1q_i^1}+\\dots+\\dfrac{p_n^0q_n^1}{\\sum_{i=1}^{n}p_i^1q_i^1}}$"
   ]
  },
  {
   "cell_type": "markdown",
   "metadata": {},
   "source": [
    "Multiplicando cada termo por $p_i^1$:"
   ]
  },
  {
   "cell_type": "markdown",
   "metadata": {},
   "source": [
    "$P = \\dfrac{1}{\\dfrac{p_1^0}{p_1^1}\\times\\dfrac{p_1^1q_1^1}{\\sum_{i=1}^{n}p_i^1q_i^1}+\\dfrac{p_2^0}{p_2^1}\\times\\dfrac{p_2^1q_2^1}{\\sum_{i=1}^{n}p_i^1q_i^1}+\\dots+\\dfrac{p_n^0}{p_n^1}\\times\\dfrac{p_n^1q_n^1}{\\sum_{i=1}^{n}p_i^1q_i^1}}$"
   ]
  },
  {
   "cell_type": "markdown",
   "metadata": {},
   "source": [
    "$w_i^1 = \\frac{p_i^1q_i^1}{\\sum_{i=1}^{n}p_i^1q_i^1}$"
   ]
  },
  {
   "cell_type": "markdown",
   "metadata": {},
   "source": [
    "$P = \\dfrac{1}{\\dfrac{p_1^0}{p_1^1}\\times w_1^1+\\dfrac{p_2^0}{p_2^1}\\times w_2^1+\\dots+\\dfrac{p_1^0}{p_1^1}\\times w_n^1}$"
   ]
  },
  {
   "cell_type": "markdown",
   "metadata": {},
   "source": [
    "$P = \\dfrac{1}{\\sum_\\limits{i =1}^{n}\\dfrac{p_i^0}{p_i^1}\\times w_i^1}$"
   ]
  },
  {
   "cell_type": "markdown",
   "metadata": {},
   "source": [
    "O Índice de Paashe pode ser interpreteado como uma média harmônica dos preços relativos ponderada pela participação do produto no gasto total no período 1."
   ]
  },
  {
   "cell_type": "markdown",
   "metadata": {},
   "source": [
    "Índice valor:"
   ]
  },
  {
   "cell_type": "markdown",
   "metadata": {},
   "source": [
    "$I_V = \\dfrac{\\mathbf{p_tq_t}}{\\mathbf{p_0q_0}}$"
   ]
  },
  {
   "cell_type": "markdown",
   "metadata": {},
   "source": [
    "Denota a variação da cesta no período $t$ relativamente a uma cesta no período $0$."
   ]
  },
  {
   "cell_type": "markdown",
   "metadata": {},
   "source": [
    "1.3 Exemplos"
   ]
  },
  {
   "cell_type": "markdown",
   "metadata": {},
   "source": [
    "Tabela 1. Preços dos bens A, B e C (Parte I)."
   ]
  },
  {
   "cell_type": "markdown",
   "metadata": {},
   "source": [
    "<table style=\"width:50%\">\n",
    "  <tr>\n",
    "    <th></th>\n",
    "    <th>1999</th>\n",
    "    <th></th>\n",
    "    <th>2000</th>\n",
    "    <th></th>\n",
    "  </tr>\n",
    "  <tr>\n",
    "    <td>Produto</td>\n",
    "    <td>Preços</td>\n",
    "    <td>Quantidades</td>\n",
    "    <td>Preços </td>\n",
    "    <td>Quantidades</td>\n",
    "  </tr>\n",
    "  <tr>\n",
    "    <td>Bem A</td>\n",
    "    <td>1</td>\n",
    "    <td>1.000 </td>\n",
    "    <td>2</td>\n",
    "    <td>500</td>\n",
    "  </tr>\n",
    "  <tr>\n",
    "    <td>Bem B</td>\n",
    "    <td>3</td>\n",
    "    <td>1.500</td>\n",
    "    <td>4</td>\n",
    "    <td>1.200</td>\n",
    "  </tr>\n",
    "  <tr>\n",
    "    <td>Bem C</td>\n",
    "    <td> 4</td>\n",
    "    <td>1.000</td>\n",
    "    <td>3</td>\n",
    "    <td>1.200</td>\n",
    "  </tr>\n",
    "</table>"
   ]
  },
  {
   "cell_type": "markdown",
   "metadata": {},
   "source": [
    "Determinemos a variação de preços no período."
   ]
  },
  {
   "cell_type": "markdown",
   "metadata": {},
   "source": [
    "$L_p^{t} = \\dfrac{\\mathbf{p_tq_0}}{\\mathbf{p_0q_0}}= \\dfrac{1.000\\times 2+ 1.500 \\times 4 +1.000 \\times 3}{1.000 \\times 1+ 1.500 \\times 3 +1.000 \\times 4} = \\dfrac{11.000}{9.500} \t\\cong 1,1579$"
   ]
  },
  {
   "cell_type": "markdown",
   "metadata": {},
   "source": [
    "$P_p^{t} = \\dfrac{\\mathbf{p_tq_0}}{\\mathbf{p_0q_0}}= \\dfrac{500 \\times 2+ 1.200 \\times 4 +1.200 \\times 3}{500 \\times 1 + 1.200 \\times 3 +1.200 \\times 4} = \\dfrac{9.400}{8.900}\t\\cong 1,0562$"
   ]
  },
  {
   "cell_type": "markdown",
   "metadata": {},
   "source": [
    "* A variação de preços capturada pelo Índice de Laspeyres é 15,79%.\n",
    "* A variaçaõ de preços pelo Índice de Paashe foi de 5,62%."
   ]
  },
  {
   "cell_type": "markdown",
   "metadata": {},
   "source": [
    "Tabela 2. Preços dos bens A, B e C (Parte II)."
   ]
  },
  {
   "cell_type": "markdown",
   "metadata": {},
   "source": [
    "<table style=\"width:50%\">\n",
    "  <tr>\n",
    "    <th></th>\n",
    "    <th>1999</th>\n",
    "    <th></th>\n",
    "    <th>2000</th>\n",
    "    <th></th>\n",
    "  </tr>\n",
    "  <tr>\n",
    "    <td>Produto</td>\n",
    "    <td>Preços</td>\n",
    "    <td>Quantidades</td>\n",
    "    <td>Preços </td>\n",
    "    <td>Quantidades</td>\n",
    "  </tr>\n",
    "  <tr>\n",
    "    <td>Bem A</td>\n",
    "    <td>2</td>\n",
    "    <td>1.000 </td>\n",
    "    <td>4</td>\n",
    "    <td>800</td>\n",
    "  </tr>\n",
    "  <tr>\n",
    "    <td>Bem B</td>\n",
    "    <td>6</td>\n",
    "    <td>1.000</td>\n",
    "    <td>6</td>\n",
    "    <td>900</td>\n",
    "  </tr>\n",
    "  <tr>\n",
    "    <td>Bem C</td>\n",
    "    <td>4</td>\n",
    "    <td>1.800</td>\n",
    "    <td>3</td>\n",
    "    <td>2.200</td>\n",
    "  </tr>\n",
    "</table>"
   ]
  },
  {
   "cell_type": "markdown",
   "metadata": {},
   "source": [
    "$L_p^{t} = \\dfrac{\\mathbf{p_tq_0}}{\\mathbf{p_0q_0}} = \\dfrac{1000 \\times 4 + 1000 \\times 6 +1800 \\times 3}{1000 \\times 2 + 1000 \\times 6+1.800 \\times 4} = \\dfrac{15.400}{15.200}  \t\\cong 1,0132$"
   ]
  },
  {
   "cell_type": "markdown",
   "metadata": {},
   "source": [
    "$P_p^{t} = \\dfrac{\\mathbf{p_tq_t}}{\\mathbf{p_0q_t}}\t=\\dfrac{800 \\times 4+900 \\times 6 + 2.200 \\times 3}{800 \\times 2 +900 \\times 6+2.200 \\times 4} = \\dfrac{15.200}{15.800} \\cong 0,962$"
   ]
  },
  {
   "cell_type": "markdown",
   "metadata": {},
   "source": [
    "* Pelo Índice de Laspeyres encontramos um aumento de 1,32% no nível de preços.\n",
    "* Pelo Índice de Paashe encontramos uma queda de 3,8%."
   ]
  },
  {
   "cell_type": "markdown",
   "metadata": {},
   "source": [
    "Notemos que em ambos os casos encontramos um valor maior para o Índice de Laspeyres em relação ao Índice de Paashe. Isso vale sempre?"
   ]
  },
  {
   "cell_type": "markdown",
   "metadata": {},
   "source": [
    "Tabela 3. Preço dos bens A, B e C (Parte III)."
   ]
  },
  {
   "cell_type": "markdown",
   "metadata": {},
   "source": [
    "<table style=\"width:50%\">\n",
    "  <tr>\n",
    "    <th></th>\n",
    "    <th>1999</th>\n",
    "    <th></th>\n",
    "    <th>2000</th>\n",
    "    <th></th>\n",
    "  </tr>\n",
    "  <tr>\n",
    "    <td>Produto</td>\n",
    "    <td>Preços</td>\n",
    "    <td>Quantidades</td>\n",
    "    <td>Preços </td>\n",
    "    <td>Quantidades</td>\n",
    "  </tr>\n",
    "  <tr>\n",
    "    <td>Bem A</td>\n",
    "    <td>1</td>\n",
    "    <td>1.000 </td>\n",
    "    <td>2</td>\n",
    "    <td>1.400</td>\n",
    "  </tr>\n",
    "  <tr>\n",
    "    <td>Bem B</td>\n",
    "    <td>2</td>\n",
    "    <td>1.000</td>\n",
    "    <td>3</td>\n",
    "    <td>1.200</td>\n",
    "  </tr>\n",
    "  <tr>\n",
    "    <td>Bem C</td>\n",
    "    <td>3</td>\n",
    "    <td>1.000</td>\n",
    "    <td>2</td>\n",
    "    <td>900</td>\n",
    "  </tr>\n",
    "</table>"
   ]
  },
  {
   "cell_type": "markdown",
   "metadata": {},
   "source": [
    "$L_p^{t} = \\dfrac{\\mathbf{p_tq_0}}{\\mathbf{p_0q_0}} = \\dfrac{1.000 \\times 2+1000 \\times 3+1.000 \\times 2}{1.000 \\times 1 +1.000 \\times 2+1.000 \\times 3} = \\dfrac{7.000}{6.000}  \t\\cong 1,1667$"
   ]
  },
  {
   "cell_type": "markdown",
   "metadata": {},
   "source": [
    "$P_p^{t} = \\dfrac{\\mathbf{p_tq_t}}{\\mathbf{p_0q_t}}\t=\\dfrac{1.400 \\times 2+1.200 \\times 3 +900 \\times 2}{1.400 \\times 1+1.200 \\times 2+900 \\times 3} = \\dfrac{8.200}{6.500} \\cong 1,2615$"
   ]
  },
  {
   "cell_type": "markdown",
   "metadata": {},
   "source": [
    "* Pelo Índice de Laspeyres capturamos um aumento de 16,67%.\n",
    "* Pelo Índice de Paashe o aumento foi de 26,15%.\n",
    "* Neste caso temos que: $P>L$. Neste exemplo observamos que as quedas nos preços foram acompanhada por quedas nas quantidades, e aumentos nos preços foram acompanhados por aumentos nas quantidade.\n",
    "* Ou seja, preços e quantidades se moveram na mesma direção, ao passo que nos exemplos anteriores observamos que o movimento se deu em direções opostas.\n",
    "    * Coeficiente de correlação positivo entre preços e quantidades (preços e quantidades se movem na mesma direção): $\\rho_{pq} > 0 \\Rightarrow L<P $\n",
    "    * Coeficiente de correlação negativo entre preços e quantidades (preços e quantidades se movem em direções opostas): $\\rho_{pq}<0 \\Rightarrow L>P$\n",
    "    * Coeficiente de correlação nulo entre preços e quantidade (resultado pouco provável): $L = P$"
   ]
  },
  {
   "cell_type": "markdown",
   "metadata": {},
   "source": [
    "#### 2. Índice de Fisher"
   ]
  },
  {
   "cell_type": "markdown",
   "metadata": {},
   "source": [
    "* É uma média geométrica dos índices de Laspeyres e Paasche."
   ]
  },
  {
   "cell_type": "markdown",
   "metadata": {},
   "source": [
    "$F = \\sqrt{L \\times P}$"
   ]
  },
  {
   "cell_type": "markdown",
   "metadata": {},
   "source": [
    "#### 3. Propriedades e resultados "
   ]
  },
  {
   "cell_type": "markdown",
   "metadata": {},
   "source": [
    "3.1 Propriedades"
   ]
  },
  {
   "cell_type": "markdown",
   "metadata": {},
   "source": [
    "* Identidade: $I_{00} = 1$ (Todos satisfazem)\n",
    "* Reversibilidade no tempo: $I_{t,0} \\times I_{0,t} = 1$\n",
    "* Encadeamento (ou circulariadade): $I_{0,1} \\times I_{1,2} \\times I_{2, 3} \\times \\dots \\times I_{t-1, t} = I_{0,t}$\n",
    "    * $I_{0,1} \\times I_{1,2} = I_{0,2}$\n",
    "* Decomposição das causas (ou reversão de fatores): $I_p \\times I_q = I_{V}$"
   ]
  },
  {
   "cell_type": "markdown",
   "metadata": {},
   "source": [
    "* O índice de Fisher satisfaz reversibilidade no tempo e decomposição das causas, mas não satisfaz o critério de encadeamento.\n",
    "* Os índices de Laspeyres e Paasche não satisfazem reversibilidade no tempo, encadeamento e decomposição das causas."
   ]
  },
  {
   "cell_type": "markdown",
   "metadata": {},
   "source": [
    "3.2 Outros resultados"
   ]
  },
  {
   "cell_type": "markdown",
   "metadata": {},
   "source": [
    "* Coeficiente de correlação negativo entre preços e quantidades: $\\rho_{pq} < 0 \\Rightarrow L>P$\n",
    "* Coeficiente de correlação positivo entre preços e quantidades: $\\rho_{pq} > 0 \\Rightarrow P>L$\n",
    "* Coeficiente de correlação nulo entre preços e quantidades: $\\rho_{pq} = 0 \\Rightarrow L=P$\n",
    "* $L_{p} \\times P_{q} = I_{V} = P_{p} \\times L_{q}$\n",
    "* $P_{p} \\times P_{q} \\le I_{V} \\le L_{p} \\times L_{q}$ "
   ]
  },
  {
   "cell_type": "markdown",
   "metadata": {},
   "source": [
    "#### 4. Questões ANPEC"
   ]
  },
  {
   "cell_type": "markdown",
   "metadata": {},
   "source": [
    "Q1-2004"
   ]
  },
  {
   "cell_type": "markdown",
   "metadata": {},
   "source": [
    "Dadas as informações:<br>\n",
    "$\\sum{p_1q_0} = 32$<br>\n",
    "$\\sum{p_0q_0} = 25$<br>\n",
    "$\\sum{p_1q_1} = 48$<br>\n",
    "$\\sum{p_0q_1} = 41$<br>"
   ]
  },
  {
   "cell_type": "markdown",
   "metadata": {},
   "source": [
    "É correto afirmar que o valor dos índices especificados abaixo, para o período t = 1 (use\n",
    "duas decimais), é:"
   ]
  },
  {
   "cell_type": "markdown",
   "metadata": {},
   "source": [
    "O - Laspeyres de preço: 1,64. <br>\n",
    "1 - Paasche de preço: 1,17. <br>\n",
    "2 - Laspeyres de quantidade: 1,28. <br>\n",
    "3 - Paasche de quantidade: 1,20.<br>\n",
    "4 - Um índice de valor que satisfaça ao critério de decomposição de causas: 1,50."
   ]
  },
  {
   "cell_type": "markdown",
   "metadata": {},
   "source": [
    "0 - (F)<br>\n",
    "$L_p^{1} = \\dfrac{\\mathbf{p_1q_0}}{\\mathbf{p_0q_0}} = \\dfrac{32}{25} = 1,28$"
   ]
  },
  {
   "cell_type": "markdown",
   "metadata": {},
   "source": [
    "1 - (V) <br>\n",
    "$P_{p}^{1} = \\dfrac{\\mathbf{p_1q_1}}{\\mathbf{p_0q_1}} = \\dfrac{48}{41} = 1,17$"
   ]
  },
  {
   "cell_type": "markdown",
   "metadata": {},
   "source": [
    "2 - (F)"
   ]
  },
  {
   "cell_type": "markdown",
   "metadata": {},
   "source": [
    "$L_{q}^{1} = \\dfrac{\\mathbf{p_0q_1}}{\\mathbf{p_0q_0}} = \\dfrac{41}{25} = 1,64$"
   ]
  },
  {
   "cell_type": "markdown",
   "metadata": {},
   "source": [
    "3 - (F)<br>\n",
    "$P_{q}^{1} = \\dfrac{\\mathbf{p_1q_1}}{\\mathbf{p_1q_0}} = \\dfrac{48}{32} = 1,5$"
   ]
  },
  {
   "cell_type": "markdown",
   "metadata": {},
   "source": [
    "4 - (F)<br>\n",
    "$I_v = \\dfrac{\\mathbf{p_1q_1}}{\\mathbf{p_0q_0}} = \\dfrac{48}{25} = 1,92$"
   ]
  },
  {
   "cell_type": "markdown",
   "metadata": {},
   "source": [
    "Q1-2005"
   ]
  },
  {
   "cell_type": "markdown",
   "metadata": {},
   "source": [
    "A respeito de números-índices, é correto afirmar:"
   ]
  },
  {
   "cell_type": "markdown",
   "metadata": {},
   "source": [
    "O - O índice de quantidade de Fisher é a raiz quadrada do produto dos índices de quantidade\n",
    "de Laspeyres e de Paasche. <br>\n",
    "1 - O índice de preço de Laspeyres é a média aritmética de relativos de preços ponderados\n",
    "pela participação do dispêndio com cada bem na época atual.<br>\n",
    "2 - O índice de preço de Paasche é a média aritmética de relativos de preços ponderados\n",
    "pelo valor de cada bem na época-base.<br>\n",
    "3 - Os índices de Laspeyres e Paasche atendem ao critério de reversão do tempo. <br>\n",
    "4 - A diferença entre os índices de Laspeyres e Paasche está na forma como os relativos\n",
    "são ponderados."
   ]
  },
  {
   "cell_type": "markdown",
   "metadata": {},
   "source": [
    "0 - (V) O índice de Fisher é a média geométrica dos índices de Laspeyres e Paasche, no caso do índice de quantidade temos que: $F_{q}^{t} = \\sqrt{L_{q}^{t} \\times P_{q}^{t}}$. <br>\n",
    "1 - (F) A ponderação é pelo período base. <br>\n",
    "2 - (F) A ponderação é o período corrente, ademais o índice é uma média harmônica dos preços relativos ponderada pela participação de cada bem no orçamento total. <br>\n",
    "3 - (F) Vimos que estes índices não atendem a este critério.<br>\n",
    "4 - (V) Vimos que o índice de Laspeyres utiliza o período base como fator de ponderação, ao passo que o índice Paasche utiliza o período corrente."
   ]
  },
  {
   "cell_type": "markdown",
   "metadata": {},
   "source": [
    "Q1 - 2017"
   ]
  },
  {
   "cell_type": "markdown",
   "metadata": {},
   "source": [
    "Com relação aos números-índices,podemos afirmar:"
   ]
  },
  {
   "cell_type": "markdown",
   "metadata": {},
   "source": [
    "0 - O cálculo do Índice de Preços de Laspeyres requer que as quantidades sejam apuradas em todos os períodos;<br> \n",
    "1 - O Índice de Preços de Paasche do período $t$ é uma ponderação dos preços e quantidades atuais pelas quantidades atuais, mas mantendo o preço do ano base; <br>\n",
    "2 - O Índice de Quantidades de Laspeyres do período $t$ é calculado ponderando-se os preços e quantidades do período $t$ pelos preços e quantidades do período base; <br>\n",
    "3 - Se a correlação entre preços relativos e quantidades relativas é negativa, o Índice de Preços de Paasche é maior que o Índice de Preços de Laspeyres;<br>\n",
    "4 - O Índice de Preços de Paasche do período $h$, com base no período $t$, é o inverso do Índice de Preços do período $t$, com base no período $h$."
   ]
  },
  {
   "cell_type": "markdown",
   "metadata": {},
   "source": [
    "0 - (F) O Índice de Laspeyres é de base fixa, as quantidades são apuradas apenas no período base.<br>\n",
    "1 - (V) É exatamente a definição do Índice de Preços de Paasche: $P_{p}^{t} = \\dfrac{\\mathbf{p_{t}q_{t}}}{\\mathbf{p_{0}q_{t}}}$ <br>\n",
    "2 - (F) Pelo enunciado teríamos: $L_{q}^{t} = \\dfrac{\\mathbf{p^{t}q^{t}}}{\\mathbf{p^{0}q^{0}}} \\neq \\dfrac{\\mathbf{p_{0}q_{t}}}{\\mathbf{p_{0}q_{0}}}$ <br>\n",
    "3 - (F) $\\rho_{pq} < 0 \\Rightarrow L>P$ <br>\n",
    "4 - (F) O Índice de Paasche não atende ao critério de reversão no tempo, bem como o Índice de Laspeyres. Logo temos que: $P_{p}^{h,t} \\neq \\dfrac{1}{P_{p}^{t,h}}$."
   ]
  },
  {
   "cell_type": "markdown",
   "metadata": {},
   "source": [
    "Q3-2017"
   ]
  },
  {
   "cell_type": "markdown",
   "metadata": {},
   "source": [
    "A tabela abaixo mostra os preços e quantidades vendidas de dois produtos (A e B) em dois períodos de tempo diferentes (0 e 1)."
   ]
  },
  {
   "cell_type": "markdown",
   "metadata": {},
   "source": [
    "<table style=\"width:50%\">\n",
    "  <tr>\n",
    "    <th></th>\n",
    "    <th>Perído 0</th>\n",
    "    <th></th>\n",
    "    <th>Período 1</th>\n",
    "    <th></th>\n",
    "  </tr>\n",
    "  <tr>\n",
    "    <td>Produto</td>\n",
    "    <td>Preço</td>\n",
    "    <td>Quantidade (Kg)</td>\n",
    "    <td>Preço</td>\n",
    "    <td>Quantidade (Kg)</td>\n",
    "  </tr>\n",
    "  <tr>\n",
    "    <td>A</td>\n",
    "    <td>2,0</td>\n",
    "    <td>200,0</td>\n",
    "    <td>3,0</td>\n",
    "    <td>100,0</td>\n",
    "  </tr>\n",
    "  <tr>\n",
    "    <td>B</td>\n",
    "    <td>1,0</td>\n",
    "    <td>100,0</td>\n",
    "    <td>1,0</td>\n",
    "    <td>200,0</td>\n",
    "  </tr>\n",
    "</table>"
   ]
  },
  {
   "cell_type": "markdown",
   "metadata": {},
   "source": [
    "Dadas essas informações é correto afirmar:"
   ]
  },
  {
   "cell_type": "markdown",
   "metadata": {},
   "source": [
    "0 - O Índice de Laspeyres de preço do período 1 com base no período 0 é $\\frac{7}{5}$;<br>\n",
    "1 - O Índice de Paasche de preço do período 1 em relação ao período 0 é $\\frac{5}{4}$;<br>\n",
    "2 - O Índice de Laspeyres de quantidade do período 1 com base no período 0 é $\\frac{5}{3}$;<br>\n",
    "3 - O Índice de Paasche de quantidade do período 1 em relação ao período 0 é $\\frac{5}{7}$;<br>\n",
    "4 - O Índice de Fisher de quantidade do período 1 com base no período 0 é igual a 1."
   ]
  },
  {
   "cell_type": "markdown",
   "metadata": {},
   "source": [
    "0 - (V) $L_{p}^{t} = \\dfrac{\\mathbf{p_{t}q_{0}}}{\\mathbf{p_{0}q_{0}}} = \\dfrac{3 \\times 200 +1 \\times 100}{2 \\times 200 + 1 \\times 100} = \\dfrac{700}{500} = \\dfrac{7}{5}$"
   ]
  },
  {
   "cell_type": "markdown",
   "metadata": {},
   "source": [
    "1 - (V) $P_{p}^{t} = \\dfrac{\\mathbf{p^{t}q^{t}}}{\\mathbf{p^{0}q^{t}}} = \\dfrac{3 \\times 100 + 1 \\times 200}{2 \\times 100+1 \\times 200} = \\dfrac{500}{400} = \\dfrac{5}{4}$"
   ]
  },
  {
   "cell_type": "markdown",
   "metadata": {},
   "source": [
    "2 - (F) $L_{q}^{t} = \\dfrac{\\mathbf{p^{0}q^{t}}}{\\mathbf{p^{0}q^{0}}} = \\dfrac{2 \\times 100+1 \\times 200}{2 \\times 200+1\\times 100} = \\dfrac{400}{500} = \\dfrac{4}{5}$"
   ]
  },
  {
   "cell_type": "markdown",
   "metadata": {},
   "source": [
    "3 - (V) $P_{q}^{t} = \\dfrac{\\mathbf{p^{t}q^{t}}}{\\mathbf{p^{t}q^{0}}} = \\dfrac{3 \\times 100+1 \\times 200}{3 \\times 200+1\\times100} = \\dfrac{500}{700} = \\dfrac{5}{7}$"
   ]
  },
  {
   "cell_type": "markdown",
   "metadata": {},
   "source": [
    "4 - (F) $F_{q} = \\sqrt{L_{q} \\times P_{q}} = \\sqrt{\\dfrac{4}{5}\\times\\dfrac{5}{7}} = \\sqrt{\\dfrac{4}{7}} \\neq 1$"
   ]
  },
  {
   "cell_type": "markdown",
   "metadata": {},
   "source": [
    "Q5-2019"
   ]
  },
  {
   "cell_type": "markdown",
   "metadata": {},
   "source": [
    "Na tabela abaixo são mostrados os preços e as quantidades vendidas de 4 produtos em 2 períodos de tempo diferentes:"
   ]
  },
  {
   "cell_type": "markdown",
   "metadata": {},
   "source": [
    "<table style=\"width:50%\">\n",
    "  <tr>\n",
    "    <th></th>\n",
    "    <th>Perído 1</th>\n",
    "    <th></th>\n",
    "    <th>Período 2</th>\n",
    "    <th></th>\n",
    "  </tr>\n",
    "  <tr>\n",
    "    <td>Produto</td>\n",
    "    <td>Preço</td>\n",
    "    <td>Quantidade (Kg)</td>\n",
    "    <td>Preço</td>\n",
    "    <td>Quantidade (Kg)</td>\n",
    "  </tr>\n",
    "  <tr>\n",
    "    <td>A</td>\n",
    "    <td>3,0</td>\n",
    "    <td>1,0</td>\n",
    "    <td>1,0</td>\n",
    "    <td>2,0</td>\n",
    "  </tr>\n",
    "  <tr>\n",
    "    <td>B</td>\n",
    "    <td>1,0</td>\n",
    "    <td>3,0</td>\n",
    "    <td>1,0</td>\n",
    "    <td>2,0</td>\n",
    "  </tr>\n",
    "  <tr>\n",
    "    <td>C</td>\n",
    "    <td>2,0</td>\n",
    "    <td>5,0</td>\n",
    "    <td>3,0</td>\n",
    "    <td>4,0</td>\n",
    "  </tr>\n",
    "  <tr>\n",
    "    <td>D</td>\n",
    "    <td>2,0</td>\n",
    "    <td>4,0</td>\n",
    "    <td>1,0</td>\n",
    "    <td>8,0</td>\n",
    "  </tr>\n",
    "</table>"
   ]
  },
  {
   "cell_type": "markdown",
   "metadata": {},
   "source": [
    "Usando essas informações,calcule o Índice de Preços de Paasche para o período 2 com base no período 1, e multiplique o resultado por 100."
   ]
  },
  {
   "cell_type": "markdown",
   "metadata": {},
   "source": [
    "$P_p^{t} = \\dfrac{\\mathbf{p^tq^t}}{\\mathbf{p^0q^t}} = \\dfrac{1 \\times 2+1 \\times 2+ 3 \\times 4+ 1 \\times 8}{3 \\times 2+ 1 \\times 2+2 \\times 4+2 \\times 8} = \\dfrac{3}{4} \\times 100 = 75$"
   ]
  },
  {
   "cell_type": "markdown",
   "metadata": {},
   "source": [
    "Q1-2020<br>\n",
    "A tabela abaixo mostra os preços (em R$/Kg) e as quantidades (em Kg) vendidas de 2\n",
    "produtos em 3 períodos de tempo diferentes:"
   ]
  },
  {
   "cell_type": "markdown",
   "metadata": {},
   "source": [
    "<table style=\"width:50%\">\n",
    "  <tr>\n",
    "    <th></th>\n",
    "    <th>Perído 1</th>\n",
    "    <th></th>\n",
    "    <th>Período 2</th>\n",
    "    <th></th>\n",
    "    <th>Período 3</th>\n",
    "    <th></th>\n",
    "  </tr>\n",
    "  <tr>\n",
    "    <td>Produto</td>\n",
    "    <td>Preço</td>\n",
    "    <td>Quantidade</td>\n",
    "    <td>Preço</td>\n",
    "    <td>Quantidade</td>\n",
    "    <td>Preço</td>\n",
    "    <td>Quantidade</td>\n",
    "  </tr>\n",
    "  <tr>\n",
    "    <td>A</td>\n",
    "    <td>2</td>\n",
    "    <td>2</td>\n",
    "    <td>2</td>\n",
    "    <td>2</td>\n",
    "    <td>4</td>\n",
    "    <td>1</td>\n",
    "  </tr>\n",
    "  <tr>\n",
    "    <td>B</td>\n",
    "    <td>2</td>\n",
    "    <td>3</td>\n",
    "    <td>3</td>\n",
    "    <td>2</td>\n",
    "    <td>4</td>\n",
    "    <td>2</td>\n",
    "  </tr>\n",
    "</table>"
   ]
  },
  {
   "cell_type": "markdown",
   "metadata": {},
   "source": [
    "Usando essas informações, é correto afirmar:<br>\n",
    "0 - O Índice de Preços de Laspeyres para o período 3 com base no período 1 é 2,0.<br>\n",
    "1 - O Índice de Preços de Laspeyres para o período 2 com base no período 1 é 1,0.<br>\n",
    "2 - O Índice de Preços de Laspeyres para o período 3 com base no período 2 é 1,2.<br>\n",
    "3 - O Índice de Preços de Paasche para o período 3 com base no período 1 é 2,0.<br>\n",
    "4 - O Índice de Quantidades de Laspeyres para o período 2 com base no período 1 é 0,8.<br>"
   ]
  },
  {
   "cell_type": "markdown",
   "metadata": {},
   "source": [
    "0 - (V)"
   ]
  },
  {
   "cell_type": "markdown",
   "metadata": {},
   "source": [
    "$L_p^{3,1} = \\dfrac{4 \\times 2 +4 \\times 3}{2 \\times 2+ 2 \\times 3} = \\dfrac{20}{10} = 2,0$"
   ]
  },
  {
   "cell_type": "markdown",
   "metadata": {},
   "source": [
    "1 - (F)"
   ]
  },
  {
   "cell_type": "markdown",
   "metadata": {},
   "source": [
    "$L_p^{2,1} = \\dfrac{2 \\times 2+3 \\times 3}{2 \\times 2+2 \\times 3} = \\dfrac{13}{10} = 1,3 $"
   ]
  },
  {
   "cell_type": "markdown",
   "metadata": {},
   "source": [
    "2 - (F)"
   ]
  },
  {
   "cell_type": "markdown",
   "metadata": {},
   "source": [
    "$L_p^{3,2} = \\dfrac{4 \\times 2+4 \\times 2}{2 \\times 2+3 \\times 2} = \\dfrac{16}{10} = 1,6 $"
   ]
  },
  {
   "cell_type": "markdown",
   "metadata": {},
   "source": [
    "3 - (V)"
   ]
  },
  {
   "cell_type": "markdown",
   "metadata": {},
   "source": [
    "$P_p^{3,1} = \\dfrac{4 \\times 1+4 \\times 2}{2 \\times 1+2 \\times 2} = \\dfrac{12}{6} = 2,0 $"
   ]
  },
  {
   "cell_type": "markdown",
   "metadata": {},
   "source": [
    "4 - (V)"
   ]
  },
  {
   "cell_type": "markdown",
   "metadata": {},
   "source": [
    "$L_q^{2,1} = \\dfrac{2 \\times 2+2 \\times 2}{2 \\times 2+2 \\times 3} = \\dfrac{8}{10} = 0,8 $"
   ]
  }
 ],
 "metadata": {
  "kernelspec": {
   "display_name": "Python 3",
   "language": "python",
   "name": "python3"
  },
  "language_info": {
   "codemirror_mode": {
    "name": "ipython",
    "version": 3
   },
   "file_extension": ".py",
   "mimetype": "text/x-python",
   "name": "python",
   "nbconvert_exporter": "python",
   "pygments_lexer": "ipython3",
   "version": "3.8.10"
  },
  "varInspector": {
   "cols": {
    "lenName": 16,
    "lenType": 16,
    "lenVar": 40
   },
   "kernels_config": {
    "python": {
     "delete_cmd_postfix": "",
     "delete_cmd_prefix": "del ",
     "library": "var_list.py",
     "varRefreshCmd": "print(var_dic_list())"
    },
    "r": {
     "delete_cmd_postfix": ") ",
     "delete_cmd_prefix": "rm(",
     "library": "var_list.r",
     "varRefreshCmd": "cat(var_dic_list()) "
    }
   },
   "types_to_exclude": [
    "module",
    "function",
    "builtin_function_or_method",
    "instance",
    "_Feature"
   ],
   "window_display": false
  }
 },
 "nbformat": 4,
 "nbformat_minor": 4
}
