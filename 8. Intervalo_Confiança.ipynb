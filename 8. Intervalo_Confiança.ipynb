{
 "cells": [
  {
   "cell_type": "markdown",
   "metadata": {},
   "source": [
    "# <b>Intervalo de Confiança</b>"
   ]
  },
  {
   "cell_type": "markdown",
   "metadata": {},
   "source": [
    "Lembretes:"
   ]
  },
  {
   "cell_type": "markdown",
   "metadata": {},
   "source": [
    "Considere $X_i \\sim N(\\mu, \\sigma^2)$ e um $\\sigma^2$ conhecido. Assim teremos:"
   ]
  },
  {
   "cell_type": "markdown",
   "metadata": {},
   "source": [
    "$\\overline{X} \\sim \\left(\\mu,\\dfrac{\\sigma^2}{n}\\right)$"
   ]
  },
  {
   "cell_type": "markdown",
   "metadata": {},
   "source": [
    "$Z = \\dfrac{\\overline{X}-\\mu}{\\sigma} = \\dfrac{\\overline{X}-\\mu}{\\sqrt{\\dfrac{\\sigma^2}{n}}}= \\dfrac{\\overline{X}-\\mu}{\\dfrac{\\sigma}{\\sqrt{n}}} \\sim N(0,1)$"
   ]
  },
  {
   "cell_type": "markdown",
   "metadata": {},
   "source": [
    "#### Distribuição Normal"
   ]
  },
  {
   "cell_type": "markdown",
   "metadata": {},
   "source": [
    "Uma v.a. tem distribuição normal com parâmetros $\\mu$ e $\\sigma^2$, ${-\\infty}<\\mu<{+\\infty}$ e $0<\\sigma^2<{\\infty}$ se sua densidade é dada por:"
   ]
  },
  {
   "cell_type": "markdown",
   "metadata": {},
   "source": [
    "$$f(X;\\mu,\\sigma^2) = \\dfrac{1}{\\sigma\\sqrt{2\\pi}}e^{-\\left(X-\\mu\\right)^2/2\\sigma^2}, {-\\infty}<X<{+\\infty}$$ "
   ]
  },
  {
   "cell_type": "markdown",
   "metadata": {},
   "source": [
    "Uma distribuição $X \\sim N\\left(\\mu, \\sigma^2 \\right)$ com as seguintes propriedades:"
   ]
  },
  {
   "cell_type": "markdown",
   "metadata": {},
   "source": [
    "* A função densidade de probabilidade $f_x(x)$ tem ponto máximo em $x=\\mu$ e o valor máximo é $\\dfrac{1}{\\sigma\\sqrt{2\\pi}}$.\n",
    "* $\\mu+\\sigma$ e $\\mu -\\sigma$ são pontos de inflexão da curva.\n",
    "* A área total da curva vale 1, ou seja, ${\\displaystyle \\int_{-\\infty}^{+\\infty}}f(X;\\mu,\\sigma^2)dx = 1$.\n",
    "* A área é simétrica em relação a $X = \\mu$, isto é, $f(\\mu+X;\\mu,\\sigma^2) = f(\\mu-X;\\mu,\\sigma^2)$ para todo X real.\n",
    "* $E(X) = \\mu$ e $Var(X) = \\sigma^2$"
   ]
  },
  {
   "cell_type": "markdown",
   "metadata": {},
   "source": [
    "Para $\\mu = 0$ e $\\sigma^2 = 1$ temos uma distribuição normal padrão $Z \\sim N(0,1)$ com função densidade:"
   ]
  },
  {
   "cell_type": "markdown",
   "metadata": {},
   "source": [
    "$\\phi\\left(Z\\right) = \\dfrac{1}{\\sqrt{2\\pi}}e^{-Z^2/2}, {-\\infty}<Z<{+\\infty}$"
   ]
  },
  {
   "cell_type": "markdown",
   "metadata": {},
   "source": [
    "Se $X \\sim N(\\mu,\\sigma^2)$ a v.a. definida por $Z = \\dfrac{X-\\mu}{\\sigma}$ terá média 0 e variância 1."
   ]
  },
  {
   "cell_type": "markdown",
   "metadata": {},
   "source": [
    "#### Distribuição Qui-quadrada"
   ]
  },
  {
   "cell_type": "markdown",
   "metadata": {},
   "source": [
    "Uma distribuição contínua $X$, com valores positivos, terá distribuição qui-quadrado com $v$ graus de liberdade se sua função densidade for:"
   ]
  },
  {
   "cell_type": "markdown",
   "metadata": {},
   "source": [
    "$f(x,v) = \n",
    "\\begin{cases}\n",
    "\\dfrac{1}{\\Gamma\\left(v/2\\right)2^{\\frac{v}{2}}}x^{(v/2)-1} e^{\\left(-\\frac{x}{2}\\right)},\\; x>0, v>0 \\\\\n",
    "0, \\; x<0 \\\\\n",
    "\\end{cases}\n",
    "$"
   ]
  },
  {
   "cell_type": "markdown",
   "metadata": {},
   "source": [
    "$\\mathrm{E(X)}= v$ <br>\n",
    "$\\mathrm{Var(X)} = 2v$"
   ]
  },
  {
   "cell_type": "markdown",
   "metadata": {},
   "source": [
    "* O quadrado de uma v.a. com distribuição normal padrão é uma v.a. com distribuição $\\chi^2(1)$."
   ]
  },
  {
   "cell_type": "markdown",
   "metadata": {},
   "source": [
    "* Se $X_1, \\dots, X_n$ são variáveis aleatórias independentes, com distribuições normais padronizadas, então, $\\sum_{i=1}^{n}X_i^{2}$ possui distribuição Qui-quadrado com n graus de liberdade."
   ]
  },
  {
   "cell_type": "markdown",
   "metadata": {},
   "source": [
    "* Distribuição assimétrica.\n",
    "* Quando aumentamos os graus de liberdade a distribuição se torna menos assimétrica.\n",
    "* Seus valores podem ser positivos ou zero, mas nunca poderão ser negativos.\n",
    "* Quando o número de graus de liberdade da distribuiçã Qui-Quadrado aumenta, nos aproximamos para uma distribuição normal."
   ]
  },
  {
   "cell_type": "code",
   "execution_count": 1,
   "metadata": {},
   "outputs": [],
   "source": [
    "import numpy as np\n",
    "import seaborn as sns"
   ]
  },
  {
   "cell_type": "code",
   "execution_count": 5,
   "metadata": {},
   "outputs": [],
   "source": [
    "n = 10_000\n",
    "array1 = np.random.chisquare(10, size = n)\n",
    "array2 = np.random.chisquare(50, size = n)"
   ]
  },
  {
   "cell_type": "code",
   "execution_count": 3,
   "metadata": {},
   "outputs": [],
   "source": [
    "array3 = np.random.normal(size = n)"
   ]
  },
  {
   "cell_type": "code",
   "execution_count": null,
   "metadata": {},
   "outputs": [],
   "source": [
    "sns.displot(array1)\n",
    "sns.displot(array2)\n",
    "sns.displot(array3)"
   ]
  },
  {
   "cell_type": "markdown",
   "metadata": {},
   "source": [
    "#### Distribuição $t$ de Student"
   ]
  },
  {
   "cell_type": "markdown",
   "metadata": {},
   "source": [
    "Sejam Z e Y variáveis independentes, tal que $X \\sim N\\left(0,1\\right)$ e $Y \\sim \\chi^2{(v)} $, então a variável aleatória dada pela expressão a seguir tem distribuição $t$ de Student com $k$ graus de liberdade."
   ]
  },
  {
   "cell_type": "markdown",
   "metadata": {},
   "source": [
    "$t = \\dfrac{X}{\\sqrt{\\dfrac{Y}{v}}}$"
   ]
  },
  {
   "cell_type": "markdown",
   "metadata": {},
   "source": [
    "$\\mathrm{E(X)} = 0$ <br>\n",
    "$\\mathrm{Var(X)} = \\dfrac{v}{\\left(v-2\\right)}$, $v>2$"
   ]
  },
  {
   "cell_type": "markdown",
   "metadata": {},
   "source": [
    "<b>Intervalo de confiança para a média com variância conhecida</b>"
   ]
  },
  {
   "cell_type": "markdown",
   "metadata": {},
   "source": [
    "Vamos fixar uma probabilidade $1-\\alpha$ tal que: $P(\\overline{x}_{LI}<\\mu<\\overline{x}_{LS}) = 1-\\alpha$,com $ 0<\\alpha<1$."
   ]
  },
  {
   "cell_type": "markdown",
   "metadata": {},
   "source": [
    "$P(|Z|<z_{\\frac{\\alpha}{2}}) = P(-z_{\\frac{\\alpha}{2}}<Z<z_{\\frac{\\alpha}{2}}) = 1-\\alpha$"
   ]
  },
  {
   "cell_type": "markdown",
   "metadata": {},
   "source": [
    "Lembremos que:"
   ]
  },
  {
   "cell_type": "markdown",
   "metadata": {},
   "source": [
    "$-z_{\\frac{\\alpha}{2}}< \\dfrac{\\overline{X}-\\mu}{\\dfrac{\\sigma}{\\sqrt{n}}} < z_{\\frac{\\alpha}{2}}$"
   ]
  },
  {
   "cell_type": "markdown",
   "metadata": {},
   "source": [
    "$-z_{\\frac{\\alpha}{2}}\\dfrac{\\sigma}{\\sqrt{n}}<\\overline{X}-\\mu<z_{\\frac{\\alpha}{2}}\\dfrac{\\sigma}{\\sqrt{n}}$<br><br>\n",
    "$-z_{\\frac{\\alpha}{2}}\\dfrac{\\sigma}{\\sqrt{n}}<\\overline{X}-\\mu<z_{\\frac{\\alpha}{2}}\\dfrac{\\sigma}{\\sqrt{n}}$<br><br>\n",
    "$\\overline{X}-z_{\\frac{\\alpha}{2}}\\dfrac{\\sigma}{\\sqrt{n}}<\\mu<\\overline{X}+z_{\\frac{\\alpha}{2}}\\dfrac{\\sigma}{\\sqrt{n}}$"
   ]
  },
  {
   "cell_type": "markdown",
   "metadata": {},
   "source": [
    "$(1-\\alpha) = \\text{nível de confiança}$"
   ]
  },
  {
   "cell_type": "markdown",
   "metadata": {},
   "source": [
    "$\\text{IC} \\left(\\mu; 1-\\alpha\\right)= \\left[\\overline{X}-z_{\\frac{\\alpha}{2}}\\dfrac{\\sigma}{\\sqrt{n}};\\overline{X}+z_{\\frac{\\alpha}{2}}\\dfrac{\\sigma}{\\sqrt{n}}\\right]$"
   ]
  },
  {
   "cell_type": "markdown",
   "metadata": {},
   "source": [
    "Limites do intervalo de confiança:"
   ]
  },
  {
   "cell_type": "markdown",
   "metadata": {},
   "source": [
    "* Limite Inferior: $\\overline{X}-z_{\\frac{\\alpha}{2}}\\dfrac{\\sigma}{\\sqrt{n}}$\n",
    "* Limite Superior:$\\overline{X}+z_{\\frac{\\alpha}{2}}\\dfrac{\\sigma}{\\sqrt{n}}$"
   ]
  },
  {
   "cell_type": "markdown",
   "metadata": {},
   "source": [
    "Amplitude do intervalo de confiança:"
   ]
  },
  {
   "cell_type": "markdown",
   "metadata": {},
   "source": [
    "$A = LS-LI = \\left(\\overline{X}-z_{\\frac{\\alpha}{2}}\\dfrac{\\sigma}{\\sqrt{n}}\\right)-\\left(\\overline{X}+z_{\\frac{\\alpha}{2}}\\dfrac{\\sigma}{\\sqrt{n}}\\right) = 2 \\left(z_{\\frac{\\alpha}{2}} \\dfrac{\\sigma}{\\sqrt{n}}\\right)$"
   ]
  },
  {
   "cell_type": "markdown",
   "metadata": {},
   "source": [
    "Intepretação:"
   ]
  },
  {
   "cell_type": "markdown",
   "metadata": {},
   "source": [
    "* Obtemos várias amostras de mesmo tamanho;\n",
    "* Para cada uma das amostras calculamos os IC correspondentes $1-\\alpha$;\n",
    "* A proporção de intervalos que deverão conter o valor da média populacional será igual a $1-\\alpha$."
   ]
  },
  {
   "cell_type": "markdown",
   "metadata": {},
   "source": [
    "Exemplo: Suponha que tenhamos obtido um intervalo de 95% de confiança ($\\text{IC}(\\mu) = [\\overline{X}_{LI},\\overline{X}_{LS}]$). A interpretação correta seria: temos 95% de confiança de que o intervalo entre o limite inferior e o limite superior contém a média populacional $\\mu$."
   ]
  },
  {
   "cell_type": "markdown",
   "metadata": {},
   "source": [
    "Note ainda que se aumentarmos o tamanho da amostra $n$ aumentaremos a precisão do intervalo, com efeito teremos uma redução do erro."
   ]
  },
  {
   "cell_type": "markdown",
   "metadata": {},
   "source": [
    "Q6 - 2004"
   ]
  },
  {
   "cell_type": "markdown",
   "metadata": {},
   "source": [
    "Seja $X$ uma variável aleatória normalmente distribuída com média $\\mu$ e variância conhe-\n",
    "cida $\\sigma^2 =1$, da qual se obtém a amostra aleatória $X_1 , X_2 , \\dots, X_n$ (com $n$ observações). É\n",
    "correto afirmar que:"
   ]
  },
  {
   "cell_type": "markdown",
   "metadata": {},
   "source": [
    "0 - A média amostral é uma variável aleatória normalmente distribuída com média μ e\n",
    "variância $1/n$.<br>\n",
    "1 - A probabilidade de o intervalo de confiança $[\\overline{X}- 1,96 \\sqrt{n} , \\overline{X}+ 1,96\\sqrt{n} ]$ conter a média da população, $\\mu$, é de 95%.<br>\n",
    "2 - A probabilidade de o intervalo de confiança $[\\overline{X}- 1,96 \\sqrt{n} , \\overline{X}+ 1,96\\sqrt{n} ]$ conter a média amostral, $\\mu$, é de 95%.<br>\n",
    "3 - O intervalo de 95% para a média populacional independe do tamanho da amostra.<br>\n",
    "4- Em um intervalo de confiança de 95% para a média populacional, μ, espera-se que,\n",
    "extraindo-se todas as amostras de mesmo tamanho dessa população, esse intervalo\n",
    "conterá μ 95% das vezes."
   ]
  },
  {
   "cell_type": "markdown",
   "metadata": {},
   "source": [
    "0 - (V)<br>\n",
    "Lembre que: $\\overline{X} \\sim \\left(\\mu,\\dfrac{\\sigma^2}{n}\\right)$<br><br>\n",
    "$\\mathrm{E}(\\overline{X}) = \\mathrm{E}\\left(\\dfrac{\\sum_{i=1}^{n}X_i}{n}\\right) =  \\dfrac{1}{n}\\mathrm{E}\\left(\\sum_{i=1}^{n}X_i\\right) = \\dfrac{1}{n}\\left[\\sum_{i=1}^{n}\\mathrm{E}(X_i)\\right] = \\dfrac{1}{n}n\\mu = \\mu$"
   ]
  },
  {
   "cell_type": "markdown",
   "metadata": {},
   "source": [
    "$\\mathrm{Var}(\\overline{X}) = \\mathrm{Var}\\left(\\dfrac{\\sum_{i=1}^{n}X_i}{n}\\right) = \\dfrac{1}{n^2}\\mathrm{Var}\\left(\\sum_{i=1}^{n}X_i\\right) = \\dfrac{1}{n^2} \\sum_{i=1}^{n} \\mathrm{Var}(X_i) = \\dfrac{1}{n^2}n\\sigma^2=\\dfrac{\\sigma^2}{n}$"
   ]
  },
  {
   "cell_type": "markdown",
   "metadata": {},
   "source": [
    "Do enunciado temos que $\\sigma^2 = 1$, então: $\\mathrm{Var}(\\overline{X}) = \\dfrac{1}{n}$."
   ]
  },
  {
   "cell_type": "markdown",
   "metadata": {},
   "source": [
    "1 - (F)<br>\n",
    "Do que vimos anteriormente:<br><br>\n",
    "$P(\\overline{X}-1,96\\dfrac{1}{\\sqrt{n}}<\\mu<\\overline{X}+1,96\\dfrac{1}{\\sqrt{n}}) = 0.95$"
   ]
  },
  {
   "cell_type": "markdown",
   "metadata": {},
   "source": [
    "Além do que, a interpretação do item acerca do Intervalo de Confiança é incorreta. Uma interpretação mais adequada seria imaginarmos que, se repetirmos a amostragem de $n$ dessas observações (número infitino), em 95% dessas repetições o intervalo de confiança conteria o valor verdadeiro da média populaiconal."
   ]
  },
  {
   "cell_type": "markdown",
   "metadata": {},
   "source": [
    "2 - (F)<br>\n",
    "Novamente a interpretação é incorreta e o intervalo é construído para a média amostral."
   ]
  },
  {
   "cell_type": "markdown",
   "metadata": {},
   "source": [
    "3 - (F)<br>\n",
    "Note que quanto maior o tamanho da amostra $n$, menor será o intervalo de confiança."
   ]
  },
  {
   "cell_type": "markdown",
   "metadata": {},
   "source": [
    "4 - (V)"
   ]
  },
  {
   "cell_type": "markdown",
   "metadata": {},
   "source": [
    "Fixação"
   ]
  },
  {
   "cell_type": "markdown",
   "metadata": {},
   "source": [
    "Exemplo extraído do Sartoris (2013, p. 195):"
   ]
  },
  {
   "cell_type": "markdown",
   "metadata": {},
   "source": [
    "Após entrevistar 49 membros de uma categoria profissional, um pesquisador encontrou um salário médio de  820,00. O desvio padrão dos salários dessa categoria, conhecido, é 140,00. Construa um intervalo de confiança para a média:\n",
    "a) com 80% de confiança;\n",
    "b) com 90% de confiança."
   ]
  },
  {
   "cell_type": "markdown",
   "metadata": {},
   "source": [
    "<b>Intervalo de confiança para a média com variância desconhecida</b>"
   ]
  },
  {
   "cell_type": "markdown",
   "metadata": {},
   "source": [
    "Teremos duas possibilidades a depender do tamanho da amostra."
   ]
  },
  {
   "cell_type": "markdown",
   "metadata": {},
   "source": [
    "(1) Para $n<30$ teremos:"
   ]
  },
  {
   "cell_type": "markdown",
   "metadata": {},
   "source": [
    "Vamos considerar uma amostra aleatória tal que $X_1, X_2, \\dots , X_n$ obtida de uma população normal com média conhecida, mas variância desconhecida. Então temos que:"
   ]
  },
  {
   "cell_type": "markdown",
   "metadata": {},
   "source": [
    "$\\overline{X}\\sim T = \\dfrac{\\overline{X}-\\mu}{\\dfrac{S}{\\sqrt{n}}} \\sim t$ com $n-1$ graus de liberdade."
   ]
  },
  {
   "cell_type": "markdown",
   "metadata": {},
   "source": [
    "Então temos que:"
   ]
  },
  {
   "cell_type": "markdown",
   "metadata": {},
   "source": [
    "$P\\left(\\overline{X}-t_{\\frac{\\alpha}{2},n-1}\\dfrac{S}{\\sqrt{n}}<\\mu<\\overline{X}+t_{\\frac{\\alpha}{2},n-1}\\dfrac{S}{\\sqrt{n}}\\right) = 1-\\alpha$"
   ]
  },
  {
   "cell_type": "markdown",
   "metadata": {},
   "source": [
    "$\\text{IC}\\left(\\mu,1-\\alpha\\right) = \\left[\\overline{X}-t_{\\frac{\\alpha}{2}}\\dfrac{S}{\\sqrt{n}};\\overline{X}+t_{\\frac{\\alpha}{2}}\\dfrac{S}{\\sqrt{n}}\\right]$"
   ]
  },
  {
   "cell_type": "markdown",
   "metadata": {},
   "source": [
    "(2) Para $n>30$ teremos:"
   ]
  },
  {
   "cell_type": "markdown",
   "metadata": {},
   "source": [
    "$\\overline{X} \\sim Z =\\dfrac{\\overline{X}-\\mu}{\\sqrt{\\dfrac{S^2}{n}}} =\\dfrac{\\overline{X}-\\mu}{\\dfrac{S}{\\sqrt{n}}} \\sim N(0,1)$"
   ]
  },
  {
   "cell_type": "markdown",
   "metadata": {},
   "source": [
    "$P\\left(\\overline{X}-Z_{\\frac{\\alpha}{2}} \\dfrac{S}{\\sqrt{n}}<\\mu<\\overline{X}+Z_{\\frac{\\alpha}{2}}\\dfrac{S}{\\sqrt{n}}\\right) =1-\\alpha$"
   ]
  },
  {
   "cell_type": "markdown",
   "metadata": {},
   "source": [
    "Observações e definições:"
   ]
  },
  {
   "cell_type": "markdown",
   "metadata": {},
   "source": [
    "* Margem de erro: $e = Z_{\\frac{\\alpha}{2}} \\dfrac{\\sigma}{\\sqrt{n}}$. Neste caso estamos assumindo que a população seja infinita ou que a amostragem seja feita com reposição (o que significa que nossa população seja grande).\n",
    "* Se a população for finita e a amostragem feita sem reposição: $e = Z_{\\frac{\\alpha}{2}} \\dfrac{\\sigma}{\\sqrt{n}}\\sqrt{\\dfrac{N-n}{n-1}}$. Em que: $N$ é o tamanho da população (finita) e $n$ é o tamanho da amostra. "
   ]
  },
  {
   "cell_type": "markdown",
   "metadata": {},
   "source": [
    "<b>Intervalo de confiança para a proporção</b>"
   ]
  },
  {
   "cell_type": "markdown",
   "metadata": {},
   "source": [
    "Lembre que: $X \\sim \\text{Bernoulli}(p) \\Rightarrow E(X) = p \\text{ e } Var(X) = p(1-p)$"
   ]
  },
  {
   "cell_type": "markdown",
   "metadata": {},
   "source": [
    "$\\hat{p} \\sim N\\left(p, \\dfrac{p(1-p)}{n}\\right)$"
   ]
  },
  {
   "cell_type": "markdown",
   "metadata": {},
   "source": [
    "$P\\left(\\hat{p}-Z_{\\frac{\\alpha}{2}}\\sqrt{\\dfrac{\\hat{p}\\left(1-\\hat{p}\\right)}{n}}<p<\\hat{p}+Z_{\\frac{\\alpha}{2}}\\sqrt{\\dfrac{\\hat{p}\\left(1-\\hat{p}\\right)}{n}}\\right) = 1-\\alpha$"
   ]
  },
  {
   "cell_type": "markdown",
   "metadata": {},
   "source": [
    "Do que vimos antes temos que:"
   ]
  },
  {
   "cell_type": "markdown",
   "metadata": {},
   "source": [
    "Amostragem com população infinita ou se tivermos uma amostra com reposição:"
   ]
  },
  {
   "cell_type": "markdown",
   "metadata": {},
   "source": [
    "$\\hat{p} \\pm Z_{\\frac{\\alpha}{2}}\\sqrt{\\dfrac{p(1-p)}{n}}$"
   ]
  },
  {
   "cell_type": "markdown",
   "metadata": {},
   "source": [
    "Amostragem com população finita ($N$) ou se tivermos uma amostra sem reposição:"
   ]
  },
  {
   "cell_type": "markdown",
   "metadata": {},
   "source": [
    "$\\hat{p} \\pm Z_{\\frac{\\alpha}{2}}\\sqrt{\\dfrac{p(1-p)}{n}}\\sqrt{\\dfrac{N-n}{n-1}}$"
   ]
  }
 ],
 "metadata": {
  "kernelspec": {
   "display_name": "Python 3",
   "language": "python",
   "name": "python3"
  },
  "language_info": {
   "codemirror_mode": {
    "name": "ipython",
    "version": 3
   },
   "file_extension": ".py",
   "mimetype": "text/x-python",
   "name": "python",
   "nbconvert_exporter": "python",
   "pygments_lexer": "ipython3",
   "version": "3.8.10"
  },
  "varInspector": {
   "cols": {
    "lenName": 16,
    "lenType": 16,
    "lenVar": 40
   },
   "kernels_config": {
    "python": {
     "delete_cmd_postfix": "",
     "delete_cmd_prefix": "del ",
     "library": "var_list.py",
     "varRefreshCmd": "print(var_dic_list())"
    },
    "r": {
     "delete_cmd_postfix": ") ",
     "delete_cmd_prefix": "rm(",
     "library": "var_list.r",
     "varRefreshCmd": "cat(var_dic_list()) "
    }
   },
   "types_to_exclude": [
    "module",
    "function",
    "builtin_function_or_method",
    "instance",
    "_Feature"
   ],
   "window_display": false
  }
 },
 "nbformat": 4,
 "nbformat_minor": 4
}
