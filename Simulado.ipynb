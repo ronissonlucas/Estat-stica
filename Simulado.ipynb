{
 "cells": [
  {
   "cell_type": "markdown",
   "metadata": {},
   "source": [
    "# <b>Simulado de Estatística - Curso CPAnpec</b>"
   ]
  },
  {
   "cell_type": "markdown",
   "metadata": {},
   "source": [
    "<b>QUESTÃO 01</b>"
   ]
  },
  {
   "cell_type": "markdown",
   "metadata": {},
   "source": [
    "<br>Sobre variáveis aleatórias é corretor afirmar:"
   ]
  },
  {
   "cell_type": "markdown",
   "metadata": {},
   "source": [
    "<img src='0.png'/> Sejam $X$ e $Y$ são variáveis aleatórias independentes então $\\mathrm{cov}(X,Y) = 0$.<br>\n",
    "<img src='1.png'/>  A função densidade de probabilidade $f(x,y) = e^{-(x+y)}$, com $x \\geq 0, y \\geq 0$, implica que $x$ e $y$ sejam variáveis aleatórias independentes e $\\rho(x,y) = 0$.<br>\n",
    "<img src='2.png'/> $\\mathrm{Var{(a_1X_1+a_2X_2)}} = a_1^2\\mathrm{Var(X_1)}+a_2^2\\mathrm{Var(X_2)}$, se $X$ e $Y$ são variáveis aleatórias independentes. Generalizando para $X_1, \\dots X_n$, variáveis aleatórias independentes e $a_1, \\dots a_n$ constantes, então $\\mathrm{Var\\left(\\sum_{i=1}^{n}a_iX_i\\right)} = \\sum_{i=1}^{n}a_i^2\\mathrm{Var\\left(X_i\\right)}$.<br>\n",
    "<img src='3.png'/> $\\mathrm{E(E(Y|X))} = \\mathrm{E(X)}$<br><br>\n",
    "<img src='4.png'/> Se $Y = aX+b$, com a e b constantes reais e Y uma função linear, então $|\\rho| \\neq 1$. <br>"
   ]
  },
  {
   "cell_type": "markdown",
   "metadata": {},
   "source": [
    "<b>QUESTÃO 2</b> "
   ]
  },
  {
   "cell_type": "markdown",
   "metadata": {},
   "source": [
    "Considere a seguinte função densidade de probabilidade:"
   ]
  },
  {
   "cell_type": "markdown",
   "metadata": {},
   "source": [
    "$f(x,y) = \n",
    "\\begin{cases}\n",
    "x+y, \\;0 \\leq x \\leq 1 , 0 \\leq y \\leq 1 \\\\\n",
    "0, \\;\\textrm{ caso contrário} \\\\\n",
    "\\end{cases}\n",
    "$"
   ]
  },
  {
   "cell_type": "markdown",
   "metadata": {},
   "source": [
    "Calcule $P(X<\\frac{1}{4}|Y = \\frac{1}{3})$. Multiplique seu resultado final por 80."
   ]
  },
  {
   "cell_type": "markdown",
   "metadata": {},
   "source": [
    "<b>QUESTÃO 3</b>"
   ]
  },
  {
   "cell_type": "markdown",
   "metadata": {},
   "source": [
    "<br>Acerca das distribuições discretas de probabilidade é correto afirmar:"
   ]
  },
  {
   "cell_type": "markdown",
   "metadata": {},
   "source": [
    "<img src='0.png'/> Se $X$ é uma variável aleatória (v.a.) discreta com distribuição hipergeométrica, então $\\mathrm{E(X)} = np$ e $\\mathrm{Var(X)} = np(1-p)\\frac{N-n}{N-1}$, em que $p = \\frac{r}{N}$.<br>\n",
    "<img src='1.png' /> Se $X$ é uma v.a. com distribuição $P(X=k)= \\frac{e^{- \\lambda}\\lambda^{k}}{k!}$ então $\\mathrm{E(X)} \\neq \\mathrm{Var(X)}$.<br>\n",
    "<img src='2.png' /> Seja $X$ uma distribuição geométrica com parâmetro $p=0,8$, logo $\\mathrm{Var(X)} = \\frac{5}{15}$.<br>\n",
    "<img src='3.png'/> Seja $X$ uma v.a. com distribuição $P(X=k)=\n",
    "  \\left(\n",
    "  \\begin{array}{ccc}\n",
    "    n\\\\\n",
    "    k\n",
    "   \\end{array}\n",
    "   \\right)\n",
    "   p^k(1-p)^{n-k}$, o valor esperado de $X$ é $\\mathrm{E(X)} = np$ e sua variância $\\mathrm{Var(X)} = n(1-p)$.<br>\n",
    "<img src='4.png'/> Uma v.a. com distribuição $P(X = k) = p^{k}\\left(1-p\\right)^{1-k}$,$k=0,1$ possui valor esperado $\\mathrm{E(X)} = p$ e variância $\\mathrm{Var(X)} = p(1-p)$.<br>"
   ]
  },
  {
   "cell_type": "markdown",
   "metadata": {},
   "source": [
    "<b>QUESTÃO 4</b><br>"
   ]
  },
  {
   "cell_type": "markdown",
   "metadata": {},
   "source": [
    "<br>Julgue os itens a seguir:"
   ]
  },
  {
   "cell_type": "markdown",
   "metadata": {},
   "source": [
    "<img src='0.png'/> Se $X$ é uma variável aleatória com distribuição uniforme. A função distribuição acumulada desta variável é $F(X) = \\frac{a-x}{b-a}$, para $a \\leq x \\leq b$ e $F(X) = 1, x > b$.<br>\n",
    "<img src='1.png'/> Se $X \\sim N(\\mu,\\sigma^2)$ a v.a. definida por $Z = \\dfrac{X-\\mu}{\\sigma}$ terá média 0 e variância 1.<br>\n",
    "<img src='2.png'/> Caso $X$ seja uma v.a. com distribuição $f(X) = \\dfrac{1}{\\beta}e^{(-\\frac{X}{\\beta})}$, $\\forall X \\geq 0$ e 0 caso contrário, seu valor esperado será $\\mathrm{E(X)} = \\frac{1}{\\beta}$ e sua variância $\\mathrm{Var(X)} = \\frac{1}{\\beta^2}$.<br>\n",
    "<img src='3.png'/> $X$ possui distribuição qui-quadrado com $v$ graus de liberdade. Assim, $\\mathrm{E(X)} = v$ e $\\mathrm{Var(X)} = 2v$.<br>\n",
    "<img src='4.png'/> Sejam $X$ e $Y$ duas variáveis aleatórias independentes, cada uma com $v_1$ e $v_2$ graus de liberdade, respectivamente. A variável aleatória definida como $K = \\frac{\\left(\\frac{X}{v_1}\\right)}{\\left(\\frac{Y}{v_2}\\right)}$ possui $\\mathrm{E(K)} = \\frac{v_2}{v_2-2}$ e $\\mathrm{Var(K)} = \\frac{2v_2\\left(v_1+v_2-2\\right)}{v_2\\left(v_1-2\\right)^2\\left(v_2-4\\right)}$"
   ]
  },
  {
   "cell_type": "markdown",
   "metadata": {},
   "source": [
    "<b>QUESTÃO 5</b><br>"
   ]
  },
  {
   "cell_type": "markdown",
   "metadata": {},
   "source": [
    "<br>Julgue os itens a seguir:"
   ]
  },
  {
   "cell_type": "markdown",
   "metadata": {},
   "source": [
    "<img src='0.png'/> O Índice de Laspeyres de Preço utiliza a quantidade no período corrente como fator de ponderação.<br>\n",
    "<img src='1.png'/> O Índice de Paasche não é considerado um índice de base móvel.<br>\n",
    "<img src='2.png'/> O Índice de Laspeyres pode ser interpretado como uma média harmônica dos preços relativos, de modo que os pesos são definidos como o percentual que cada bem representa no gasto total, para o período base.<br>\n",
    "<img src='3.png'/> Considere o coeficiente de correlação entre preços e quantidades $\\rho_{pq}$ e os Índices de Paasche (P) e Laspeyres (L). Se $\\rho_{pq}>0$ então $L>P$; por outro lado, $\\rho_{pq} <0$ implica que $L<P$.<br>\n",
    "<img src='4.png'/> O Índice de Fisher é a raiz quadrada dos índices de Laspeyres e Paasche.<br>"
   ]
  },
  {
   "cell_type": "markdown",
   "metadata": {},
   "source": [
    "<b>QUESTÃO 6</b><br>"
   ]
  },
  {
   "cell_type": "markdown",
   "metadata": {},
   "source": [
    "<br>Considere o vetor aleatório com distribuição conjunta de acordo com a tabela abaixo:"
   ]
  },
  {
   "cell_type": "markdown",
   "metadata": {},
   "source": [
    "<table style=\"width:40%\">\n",
    "  <tr>\n",
    "    <th></th>\n",
    "    <th></th>\n",
    "    <th></th>\n",
    "    <th></th>\n",
    "  </tr>\n",
    "  <tr>\n",
    "    <td><b>X,Y</b></td>\n",
    "    <td><b>0</b></td>\n",
    "    <td><b>1</b></td>\n",
    "    <td><b>2</b></td>\n",
    "    <td><b>3</b></td>\n",
    "  </tr>\n",
    "  <tr>\n",
    "    <td><b>0</b></td>\n",
    "    <td>1/27</td>\n",
    "    <td>4/27</td>\n",
    "    <td>4/27</td>\n",
    "    <td>0</td>\n",
    "  </tr>\n",
    "  <tr>\n",
    "    <td><b>1</b></td>\n",
    "    <td>0</td>\n",
    "    <td>2/27</td>\n",
    "    <td>8/27</td>\n",
    "    <td>8/27</td>\n",
    "  </tr>\n",
    "</table>"
   ]
  },
  {
   "cell_type": "markdown",
   "metadata": {},
   "source": [
    "Calcule $\\mathrm{Var(X+Y)}$ e multiplique seu resultado final por 9."
   ]
  },
  {
   "cell_type": "markdown",
   "metadata": {},
   "source": [
    "<b>QUESTÃO 7</b><br>"
   ]
  },
  {
   "cell_type": "markdown",
   "metadata": {},
   "source": [
    "<br>Sobre inferência estatística é corretor afirmar:"
   ]
  },
  {
   "cell_type": "markdown",
   "metadata": {},
   "source": [
    "<img src='0.png'/> Sejam $\\hat{\\theta}_1$ e $\\hat{\\theta}_2$ estimadores para os parâmetros populacionais $\\theta_1$ e $\\theta_2$, respectivamente. Então, se $\\hat{\\theta}_1$ possui menor erro quadrático médio do que $\\hat{\\theta}_2$, então $\\hat{\\theta}_1$ é relativamente mais eficiente que $\\hat{\\theta}_2$.<br>\n",
    "<img src='1.png'/> O erro quadrático médio de um estimador é definido como a soma do viés com a variância.<br>\n",
    "<img src='2.png'/> Um estimador BLUE deve possuir as seguintes propriedades:ser não viesado; ser linear; apresentar a menor variância entre os estimadores não viesados. <br>\n",
    "<img src='3.png'/> $S^2 = \\sum_{i=1}^{n}\\left(X_i-\\overline{X}\\right)^2n^{-1}$ é um estimador não viesado para a variância populacional $\\sigma^2$.<br>\n",
    "<img src='4.png'/> $\\overline{X} = \\sum_{i=1}^{n} X_i n^{-1}$ é um estimador não viesado para a média populacional $\\mu$.<br>"
   ]
  },
  {
   "cell_type": "markdown",
   "metadata": {},
   "source": [
    "<b>QUESTÃO 8</b><br>"
   ]
  },
  {
   "cell_type": "markdown",
   "metadata": {},
   "source": [
    "<br>A tabela a seguir evidencia os preços e quantidades de uma cesta de produtos em 2 períodos distintos. Com base nestas informações julgue os itens a seguir:"
   ]
  },
  {
   "cell_type": "markdown",
   "metadata": {},
   "source": [
    "<table style=\"width:50%\">\n",
    "  <tr>\n",
    "    <th></th>\n",
    "    <th>Perído 1</th>\n",
    "    <th></th>\n",
    "    <th>Período 2</th>\n",
    "    <th></th>\n",
    "  </tr>\n",
    "  <tr>\n",
    "    <td>Produto</td>\n",
    "    <td>Preço</td>\n",
    "    <td>Quantidade (Kg)</td>\n",
    "    <td>Preço</td>\n",
    "    <td>Quantidade (Kg)</td>\n",
    "  </tr>\n",
    "  <tr>\n",
    "    <td>A</td>\n",
    "    <td>3,0</td>\n",
    "    <td>1,0</td>\n",
    "    <td>1,0</td>\n",
    "    <td>2,0</td>\n",
    "  </tr>\n",
    "  <tr>\n",
    "    <td>B</td>\n",
    "    <td>1,0</td>\n",
    "    <td>3,0</td>\n",
    "    <td>1,0</td>\n",
    "    <td>2,0</td>\n",
    "  </tr>\n",
    "  <tr>\n",
    "    <td>C</td>\n",
    "    <td>2,0</td>\n",
    "    <td>5,0</td>\n",
    "    <td>3,0</td>\n",
    "    <td>4,0</td>\n",
    "  </tr>\n",
    "  <tr>\n",
    "    <td>D</td>\n",
    "    <td>2,0</td>\n",
    "    <td>4,0</td>\n",
    "    <td>1,0</td>\n",
    "    <td>8,0</td>\n",
    "  </tr>\n",
    "  <tr>\n",
    "    <td>E</td>\n",
    "    <td>2,0</td>\n",
    "    <td>4,0</td>\n",
    "    <td>1,0</td>\n",
    "    <td>8,0</td>\n",
    "  </tr>\n",
    "  <tr>\n",
    "    <td>F</td>\n",
    "    <td>2,0</td>\n",
    "    <td>4,0</td>\n",
    "    <td>1,0</td>\n",
    "    <td>8,0</td>\n",
    "  </tr>\n",
    "</table>"
   ]
  },
  {
   "cell_type": "markdown",
   "metadata": {},
   "source": [
    "<img src='0.png'/> O Índice de Paasche de preço do período 2 em relação ao período 1 é $\\frac{67}{113}$.<br> \n",
    "<img src='1.png'/> O Índice de Laspeyres de quantidade do período 2 em relação ao período 1 é $\\frac{60}{53}$.<br>\n",
    "<img src='2.png'/> O Índice de Paasche de quantidade do período 2 em relação ao período 1 é $\\frac{68}{51}$.<br>\n",
    "<img src='3.png'/> O Índice de Laspeyres de preço do período 2 em relação ao período 1 é $\\frac{51}{63}$.<br>\n",
    "<img src='4.png'/> O Índice de Fisher de quantidade é calculado a partir dos índices de preço de Paasche e quantidade de Laspeyres.<br>"
   ]
  },
  {
   "cell_type": "markdown",
   "metadata": {},
   "source": [
    "<b>QUESTÃO 9</b><br>"
   ]
  },
  {
   "cell_type": "markdown",
   "metadata": {},
   "source": [
    "<br>Sejam $X$ e $Y$ variáveis aleatórias e a e b constantes reais.Sobre esperança matemática, variância e covariância é correto afirmar:<br>\n",
    "<img src='0.png'/> $\\mathrm{E(a X +b)} = a \\mathrm{E(X)}$<br>\n",
    "<img src='1.png' /> $\\mathrm{E(a X + b Y)} = a \\mathrm{E(X)}+b\\mathrm{E(Y)}$<br>\n",
    "<img src='2.png'/> $\\mathrm{E(XY)} = \\mathrm{E(X)E(Y)}$<br>\n",
    "<img src='3.png'/> $\\mathrm{cov(a X,b Y)} = \\frac{a b}{\\mathrm{cov(X,Y)}}$<br>\n",
    "<img src='4.png'/> $\\mathrm{Var(a X+b Y+c)} = a^2 \\mathrm{Var(X)}+b^2\\mathrm{Var(Y)}+2ab\\mathrm{cov(X,Y)}$<br>"
   ]
  },
  {
   "cell_type": "markdown",
   "metadata": {},
   "source": [
    "<b>QUESTÃO 10</b><br>"
   ]
  },
  {
   "cell_type": "markdown",
   "metadata": {},
   "source": [
    "<br>Uma v.a. tem distribuição normal com parâmetros $\\mu$ e $\\sigma^2$, ${-\\infty}<\\mu<{+\\infty}$ e $0<\\sigma^2<{\\infty}$ se sua densidade é dada por:"
   ]
  },
  {
   "cell_type": "markdown",
   "metadata": {},
   "source": [
    "$$f(X;\\mu,\\sigma^2) = \\dfrac{1}{\\sigma\\sqrt{2\\pi}}e^{-\\left(X-\\mu\\right)^2/2\\sigma^2}, {-\\infty}<X<{+\\infty}$$ "
   ]
  },
  {
   "cell_type": "markdown",
   "metadata": {},
   "source": [
    "Uma distribuição $X \\sim N\\left(\\mu, \\sigma^2 \\right)$ possui seguintes propriedades:"
   ]
  },
  {
   "cell_type": "markdown",
   "metadata": {},
   "source": [
    "<img src='0.png'/> Sejam $Y_1 \\sim N (\\mu_1, \\sigma_1^2), Y_2 \\sim N (\\mu_2, \\sigma_2^2), \\dots, Y_k \\sim N (\\mu_k, \\sigma_k^2)$ $k$ variáveis aleatórias independentes com distribuição normal e um vetor de constantes $\\mathbf{a} = \\left(a_1, a_2, \\dots, a_k\\right), a_k \\in \\mathbb{R}$. Seja $Y$ uma combinação linear das variáveis $Y_1, \\dots, Y_k$, tal que $Y = a_1Y_1a_2Y_2+\\dots+a_kY_k$. A média e a variância de $Y$ são, respectivamente: $\\mu_{Y} = a_1\\mu_1+a_2\\mu_2+a_3\\mu_3+\\dots+a_k\\mu_k$ e $\\sigma^2_{Y} = a_1^2\\sigma_1^2+a_2^2\\sigma_2^2+a_3^2\\sigma_3^2+\\dots+a_k^2\\sigma_k^2$.  <br>\n",
    "<img src='1.png'/> A média, a mediana e a moda coincidem, pois a distribuição normal é simétrica. <br>\n",
    "<img src='2.png'/> A função densidade de probabilidade tem ponto máximo $x = \\sigma$.<br>\n",
    "<img src='3.png'/> $\\int_{-\\infty}^{+\\infty}f(X;\\mu,\\sigma^2)dx \\geq 1$<br>\n",
    "<img src='4.png'/> $\\mu+\\sigma$ e $\\mu-\\sigma$ são pontos de inflexão da curva normal.<br>"
   ]
  },
  {
   "cell_type": "markdown",
   "metadata": {},
   "source": [
    "<b>QUESTÃO 11</b><br>"
   ]
  },
  {
   "cell_type": "markdown",
   "metadata": {},
   "source": [
    "<br>Um economista elaborou uma função densidade de probabilidade para descrever o comportamento da demanda de um produto $X$, como segue:"
   ]
  },
  {
   "cell_type": "markdown",
   "metadata": {},
   "source": [
    "$f(X) = \n",
    "\\begin{cases}\n",
    "kx-k, \\;1<x<2 \\\\\n",
    "0, \\;\\textrm{ caso contrário} \\\\\n",
    "\\end{cases}\n",
    "$"
   ]
  },
  {
   "cell_type": "markdown",
   "metadata": {},
   "source": [
    "Calcule $\\mathrm{Var(X)} \\times 18$."
   ]
  },
  {
   "cell_type": "markdown",
   "metadata": {},
   "source": [
    "<b>QUESTÃO 12</b><br>"
   ]
  },
  {
   "cell_type": "markdown",
   "metadata": {},
   "source": [
    "<br>Considere a função abaixo:"
   ]
  },
  {
   "cell_type": "markdown",
   "metadata": {},
   "source": [
    "$f(x,y) = \n",
    "\\begin{cases}\n",
    "cx^2y, \\;x^2\\leq y \\leq 1 \\\\\n",
    "0, \\;\\textrm{ caso contrário} \\\\\n",
    "\\end{cases}\n",
    "$"
   ]
  },
  {
   "cell_type": "markdown",
   "metadata": {},
   "source": [
    "Julgue os itens a seguir:"
   ]
  },
  {
   "cell_type": "markdown",
   "metadata": {},
   "source": [
    "<img src='0.png'/> Para que a função seja uma função densidade de probabilidade conjunta devemos ter $c = \\dfrac{2}{7}$.<br>\n",
    "<img src='1.png'/> A densidade marginal de $X$ é $f_{X}(X) = \\dfrac{2}{7}x^2\\left(1-x^4\\right)$<br>\n",
    "<img src='2.png'/> $X$ e $Y$ não são variáveis aleatórias independentes.<br>\n",
    "<img src='3.png'/> $f_{y|x}\\left(y|x\\right) = \\dfrac{y}{1-x^4}$<br>\n",
    "<img src='4.png'/> $P(Y \\geq \\frac{3}{4}|x = \\frac{1}{2}) = \\frac{7}{2}$<br>"
   ]
  },
  {
   "cell_type": "markdown",
   "metadata": {},
   "source": [
    "<b>QUESTÃO 13</b><br>"
   ]
  },
  {
   "cell_type": "markdown",
   "metadata": {},
   "source": [
    "<br>Julgue os itens a seguir:"
   ]
  },
  {
   "cell_type": "markdown",
   "metadata": {},
   "source": [
    "<img src='0.png' /> Se $A_1,A_2,\\ldots,A_n,\\ldots$ forem eventos, dois a dois, eventos mutuamente excludentes então: \n",
    " $P\\left(\\bigcup_{i=1}^{\\infty}A_i\\right) = P\\left(A_1\\right)+P\\left(A_2\\right)+\\ldots+P\\left(A_n\\right)+\\ldots$.<br>\n",
    "<img src='1.png'/> Sejam A, B e C três eventos, então $P\\left(A \\cup B \\cup C\\right) = P(A)+P(B)+P(C)$.<br>\n",
    "<img src='2.png'/> A probabilidade condicional de $B$ dado $A$ é definida como $P(B|A) = \\frac{P(A \\cap B)}{P(A)}$. <br>\n",
    "<img src='3.png' /> O evento $B$ é dito independente do evento $A$ se $P(B|A) = P(B)$. <br>\n",
    "<img src='4.png' /> $A$ e $B$ são dois eventos mutuamente excludentes, então $P(B|A) \\neq 0$.<br>"
   ]
  },
  {
   "cell_type": "markdown",
   "metadata": {},
   "source": [
    "<b>QUESTÃO 14</b><br>"
   ]
  },
  {
   "cell_type": "markdown",
   "metadata": {},
   "source": [
    "<br>Julgue os itens a seguir:"
   ]
  },
  {
   "cell_type": "markdown",
   "metadata": {},
   "source": [
    "<img src='0.png' /> Considere uma amostra aleatória $X_1, X_2, X_3$ de uma variável aleatória $X$, em que $\\mathrm{E(X)} = \\theta$ e $\\mathrm{Var(X)} = 1$. Dois estimadores são considerados: $\\hat{\\theta}_1 = \\frac{X_1+X_2+X_3}{3}$ e $\\hat{\\theta}_2 = \\frac{1}{2}X_1+\\frac{1}{4}X_2+\\frac{1}{4}X_3$. Pode-se afirmar que o estimador $\\hat{\\theta}_1$ é não viciado para a média, enquanto que o estimador $\\hat{\\theta}_2$ é um estimador viciado.<br>\n",
    "<img src='1.png'/> Ainda sobre o item anterior, podemos afirmar $\\mathrm{Var(\\hat{\\theta}_1)} < \\mathrm{Var(\\hat{\\theta}_2)}$.<br>\n",
    "<img src='2.png'/> Estimadores de máxima verossimilhança são sempre não viesados. <br>\n",
    "<img src='3.png' /> Estimadores de máxima verossimilhança são sempre consistentes.<br>\n",
    "<img src='4.png'/> Estimadores de máxima verossimilhança têm distribuição assintótica normal."
   ]
  },
  {
   "cell_type": "markdown",
   "metadata": {},
   "source": [
    "<b>QUESTÃO 15</b><br>"
   ]
  },
  {
   "cell_type": "markdown",
   "metadata": {},
   "source": [
    "<br>Um estatístico foi contratado para analisar uma variáveal aleatória $X$ com média $\\mu$ e variância $\\sigma^2$. Na pesquisa foram definidos os seguintes estimadores para a média:"
   ]
  },
  {
   "cell_type": "markdown",
   "metadata": {},
   "source": [
    "$\\hat{\\theta}_1 = \\dfrac{X_1+2X_2}{4}$<br><br>\n",
    "$\\hat{\\theta}_2 = \\dfrac{3X_1+4X_2}{7}$<br><br>\n",
    "$\\hat{\\theta}_3 = \\dfrac{\\sum_{i=1}^{n}X_i}{n-2}$<br><br>\n",
    "$\\hat{\\theta}_4 = \\dfrac{1}{2}X_1+\\dfrac{\\sum_{i=2}^{n}X_i}{n-1}$"
   ]
  },
  {
   "cell_type": "markdown",
   "metadata": {},
   "source": [
    "É correto afirmar:"
   ]
  },
  {
   "cell_type": "markdown",
   "metadata": {},
   "source": [
    "<img src='0.png' /> $\\text{viés}\\left(\\hat{\\theta_1}\\right) = \\dfrac{3\\mu}{4}$ e $\\text{viés}\\left(\\hat{\\theta_2}\\right) =0 $<br><br>\n",
    "<img src='1.png'/> $EQM\\left(\\hat{\\theta_1}\\right) = \\dfrac{5\\sigma^2+\\mu^2}{16}$ e $EQM\\left(\\hat{\\theta_2}\\right) = \\dfrac{\\sigma^2+\\mu^2}{7}$<br><br>\n",
    "<img src='2.png'/> $\\text{viés}\\left(\\hat{\\theta_3}\\right) = \\dfrac{2\\mu}{n-2}$ e $\\text{viés}\\left(\\hat{\\theta_4}\\right) = \\dfrac{\\mu}{3}$<br><br>\n",
    "<img src='3.png' /> $EQM\\left(\\hat{\\theta_3}\\right) = \\dfrac{4\\mu^2+n\\sigma^2}{\\left(n-2\\right)^2}$ e $EQM\\left(\\hat{\\theta_4}\\right) = \\sigma^2\\left[\\dfrac{1}{4}+\\dfrac{2}{(n-1)}\\right]+\\dfrac{\\mu^2}{9}$<br><br>\n",
    "<img src='4.png' /> Considere $n=1$ e $\\mu = 0$. Pode-se afirmar que o estimador $\\hat{\\theta_3}$ é relativamente mais eficiente que o estimador $\\hat{\\theta_4}$.<br>"
   ]
  }
 ],
 "metadata": {
  "kernelspec": {
   "display_name": "Python 3",
   "language": "python",
   "name": "python3"
  },
  "language_info": {
   "codemirror_mode": {
    "name": "ipython",
    "version": 3
   },
   "file_extension": ".py",
   "mimetype": "text/x-python",
   "name": "python",
   "nbconvert_exporter": "python",
   "pygments_lexer": "ipython3",
   "version": "3.8.5"
  }
 },
 "nbformat": 4,
 "nbformat_minor": 4
}
